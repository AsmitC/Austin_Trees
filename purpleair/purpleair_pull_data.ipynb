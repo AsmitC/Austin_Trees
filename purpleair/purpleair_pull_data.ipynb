{
 "cells": [
  {
   "cell_type": "code",
   "execution_count": 1,
   "id": "cc38ff683f459091",
   "metadata": {
    "collapsed": false,
    "ExecuteTime": {
     "end_time": "2024-11-11T03:22:27.491924Z",
     "start_time": "2024-11-11T03:22:25.088774Z"
    }
   },
   "outputs": [],
   "source": [
    "import requests\n",
    "import json\n",
    "import pandas as pd\n",
    "\n",
    "with open('api_key.txt') as f:\n",
    "    api = f.read()\n",
    "\n",
    "headers= {'X-API-Key': api}"
   ]
  },
  {
   "cell_type": "code",
   "outputs": [
    {
     "name": "stdout",
     "output_type": "stream",
     "text": [
      "Status Code:  200\n"
     ]
    },
    {
     "data": {
      "text/plain": "     sensor_index   latitude  longitude  altitude\n0            2796  30.276873 -97.837310       726\n1            2806  30.483000 -97.848500       984\n2            2862  30.366156 -97.765290       899\n3            4041  30.306090 -97.726930       618\n4           14983  30.130820 -97.844330       662\n..            ...        ...        ...       ...\n186        213765  30.307280 -97.826090       828\n187        213789  30.228407 -97.754230       664\n188        222223  30.308128 -97.801890       611\n189        236401  30.337454 -97.711580       712\n190        244811  30.333090 -97.735214       672\n\n[191 rows x 4 columns]",
      "text/html": "<div>\n<style scoped>\n    .dataframe tbody tr th:only-of-type {\n        vertical-align: middle;\n    }\n\n    .dataframe tbody tr th {\n        vertical-align: top;\n    }\n\n    .dataframe thead th {\n        text-align: right;\n    }\n</style>\n<table border=\"1\" class=\"dataframe\">\n  <thead>\n    <tr style=\"text-align: right;\">\n      <th></th>\n      <th>sensor_index</th>\n      <th>latitude</th>\n      <th>longitude</th>\n      <th>altitude</th>\n    </tr>\n  </thead>\n  <tbody>\n    <tr>\n      <th>0</th>\n      <td>2796</td>\n      <td>30.276873</td>\n      <td>-97.837310</td>\n      <td>726</td>\n    </tr>\n    <tr>\n      <th>1</th>\n      <td>2806</td>\n      <td>30.483000</td>\n      <td>-97.848500</td>\n      <td>984</td>\n    </tr>\n    <tr>\n      <th>2</th>\n      <td>2862</td>\n      <td>30.366156</td>\n      <td>-97.765290</td>\n      <td>899</td>\n    </tr>\n    <tr>\n      <th>3</th>\n      <td>4041</td>\n      <td>30.306090</td>\n      <td>-97.726930</td>\n      <td>618</td>\n    </tr>\n    <tr>\n      <th>4</th>\n      <td>14983</td>\n      <td>30.130820</td>\n      <td>-97.844330</td>\n      <td>662</td>\n    </tr>\n    <tr>\n      <th>...</th>\n      <td>...</td>\n      <td>...</td>\n      <td>...</td>\n      <td>...</td>\n    </tr>\n    <tr>\n      <th>186</th>\n      <td>213765</td>\n      <td>30.307280</td>\n      <td>-97.826090</td>\n      <td>828</td>\n    </tr>\n    <tr>\n      <th>187</th>\n      <td>213789</td>\n      <td>30.228407</td>\n      <td>-97.754230</td>\n      <td>664</td>\n    </tr>\n    <tr>\n      <th>188</th>\n      <td>222223</td>\n      <td>30.308128</td>\n      <td>-97.801890</td>\n      <td>611</td>\n    </tr>\n    <tr>\n      <th>189</th>\n      <td>236401</td>\n      <td>30.337454</td>\n      <td>-97.711580</td>\n      <td>712</td>\n    </tr>\n    <tr>\n      <th>190</th>\n      <td>244811</td>\n      <td>30.333090</td>\n      <td>-97.735214</td>\n      <td>672</td>\n    </tr>\n  </tbody>\n</table>\n<p>191 rows × 4 columns</p>\n</div>"
     },
     "execution_count": 46,
     "metadata": {},
     "output_type": "execute_result"
    }
   ],
   "source": [
    "# get list of sensors within lat/long bounding box (defined by NW/SE corners)\n",
    "# \n",
    "# NWlng = -98\n",
    "# NWlat = 30.5\n",
    "# \n",
    "# SElng = -97.5\n",
    "# SElat = 30\n",
    "# \n",
    "# url = f'https://api.purpleair.com/v1/sensors?fields=latitude,longitude,altitude&location_type=0&modified_since=0&max_age=0&nwlng={NWlng}&nwlat={NWlat}&selng={SElng}&selat={SElat}'\n",
    "# \n",
    "# response = requests.get(url, headers=headers)\n",
    "# print(\"Status Code: \", response.status_code)\n",
    "# \n",
    "# content = json.loads(response.content)\n",
    "# data = content[\"data\"]\n",
    "# columns = content[\"fields\"]\n",
    "# \n",
    "# df = pd.DataFrame(data, columns=columns)\n",
    "# df"
   ],
   "metadata": {
    "collapsed": true,
    "ExecuteTime": {
     "end_time": "2024-11-11T03:04:16.433965Z",
     "start_time": "2024-11-11T03:04:16.086379Z"
    }
   },
   "id": "initial_id",
   "execution_count": 46
  },
  {
   "cell_type": "code",
   "outputs": [],
   "source": [
    "# df.to_csv('austin_sensors.csv', index=False)"
   ],
   "metadata": {
    "collapsed": false,
    "ExecuteTime": {
     "end_time": "2024-11-11T03:04:33.148192Z",
     "start_time": "2024-11-11T03:04:33.135467Z"
    }
   },
   "id": "151416db205cf3c1",
   "execution_count": 47
  },
  {
   "cell_type": "code",
   "outputs": [
    {
     "data": {
      "text/plain": "(191, 4)"
     },
     "execution_count": 13,
     "metadata": {},
     "output_type": "execute_result"
    }
   ],
   "source": [
    "sensors = pd.read_csv('austin_sensors.csv')\n",
    "# Should have 191 rows\n",
    "sensors.shape"
   ],
   "metadata": {
    "collapsed": false,
    "ExecuteTime": {
     "end_time": "2024-11-11T03:56:25.408042Z",
     "start_time": "2024-11-11T03:56:25.396513Z"
    }
   },
   "id": "35e6a6401685c14",
   "execution_count": 13
  },
  {
   "cell_type": "code",
   "outputs": [],
   "source": [
    "# For testing\n",
    "# sensors = sensors.iloc[:3]"
   ],
   "metadata": {
    "collapsed": false,
    "ExecuteTime": {
     "end_time": "2024-11-11T03:23:27.728717Z",
     "start_time": "2024-11-11T03:23:27.715097Z"
    }
   },
   "id": "2b8dda68f0210303",
   "execution_count": 3
  },
  {
   "cell_type": "code",
   "outputs": [
    {
     "name": "stdout",
     "output_type": "stream",
     "text": [
      "Pulling data for sensor 2806 failed\n",
      "{'api_version': 'V1.0.14-0.0.58', 'time_stamp': 1731297393, 'error': 'RateLimitExceededError', 'description': 'Available API call limit exceeded, please try later.'}\n",
      "Pulling data for sensor 2862 failed\n",
      "{'api_version': 'V1.0.14-0.0.58', 'time_stamp': 1731297393, 'error': 'RateLimitExceededError', 'description': 'Available API call limit exceeded, please try later.'}\n"
     ]
    },
    {
     "name": "stderr",
     "output_type": "stream",
     "text": [
      "C:\\Users\\Victor Nguyen\\AppData\\Local\\Temp\\ipykernel_19760\\518916972.py:23: FutureWarning: The behavior of DataFrame concatenation with empty or all-NA entries is deprecated. In a future version, this will no longer exclude empty or all-NA columns when determining the result dtypes. To retain the old behavior, exclude the relevant entries before the concat operation.\n",
      "  df = pd.concat([df, new_df])\n",
      "C:\\Users\\Victor Nguyen\\AppData\\Local\\Temp\\ipykernel_19760\\518916972.py:23: FutureWarning: The behavior of DataFrame concatenation with empty or all-NA entries is deprecated. In a future version, this will no longer exclude empty or all-NA columns when determining the result dtypes. To retain the old behavior, exclude the relevant entries before the concat operation.\n",
      "  df = pd.concat([df, new_df])\n",
      "C:\\Users\\Victor Nguyen\\AppData\\Local\\Temp\\ipykernel_19760\\518916972.py:23: FutureWarning: The behavior of DataFrame concatenation with empty or all-NA entries is deprecated. In a future version, this will no longer exclude empty or all-NA columns when determining the result dtypes. To retain the old behavior, exclude the relevant entries before the concat operation.\n",
      "  df = pd.concat([df, new_df])\n"
     ]
    }
   ],
   "source": [
    "# pm2.5, humidity, temp, pressure\n",
    "fields = ['humidity', 'temperature', 'pressure', 'pm2.5_alt', 'pm2.5_atm']\n",
    "# UTC time\n",
    "start_timestamp = '2024-11-09T06:00:00.000Z'\n",
    "end_timestamp = '2024-11-10T06:00:00.000Z'\n",
    "# Average over 6-hour intervals\n",
    "average = 360\n",
    "\n",
    "df = pd.DataFrame()\n",
    "for si in sensors['sensor_index']:\n",
    "    url = f'https://api.purpleair.com/v1/sensors/{si}/history?average={average}&start_timestamp={start_timestamp}&end_timestamp={end_timestamp}&fields={\",\".join(fields)}'\n",
    "    response = requests.get(url, headers=headers)\n",
    "    content = json.loads(response.content)\n",
    "    if response.status_code != 200:\n",
    "        print(f'Pulling data for sensor {si} failed')\n",
    "        print(content)\n",
    "        continue\n",
    "    data = content[\"data\"]\n",
    "    columns = content[\"fields\"]\n",
    "    new_df = pd.DataFrame(data, columns=columns)\n",
    "    new_df['sensor_index'] = content['sensor_index']\n",
    "    if new_df.shape[0] > 0:\n",
    "        df = pd.concat([df, new_df])"
   ],
   "metadata": {
    "collapsed": false,
    "ExecuteTime": {
     "end_time": "2024-11-11T04:00:39.101531Z",
     "start_time": "2024-11-11T03:56:32.298847Z"
    }
   },
   "id": "957237286e9aacea",
   "execution_count": 14
  },
  {
   "cell_type": "code",
   "outputs": [],
   "source": [
    "df_merged = pd.merge(df, sensors, on='sensor_index', how='left')\n",
    "df_merged.to_csv('purpleair_data.csv', index=False)"
   ],
   "metadata": {
    "collapsed": false,
    "ExecuteTime": {
     "end_time": "2024-11-11T03:36:55.307936Z",
     "start_time": "2024-11-11T03:36:55.288929Z"
    }
   },
   "id": "a6bb66181761a0f2",
   "execution_count": 11
  },
  {
   "cell_type": "code",
   "outputs": [
    {
     "data": {
      "text/plain": "              time_stamp  humidity  temperature  pressure  pm2.5_alt  \\\n0   2024-11-10T00:00:00Z    44.783       72.711   987.648        2.2   \n1   2024-11-09T18:00:00Z    23.922       84.833   986.684        0.6   \n2   2024-11-09T12:00:00Z    36.322       77.217   990.065        0.5   \n3   2024-11-09T06:00:00Z    47.261       71.806   989.291        1.1   \n4   2024-11-09T18:00:00Z    25.339       88.089   977.836        0.8   \n5   2024-11-09T06:00:00Z    48.456       70.033   980.419        2.5   \n6   2024-11-10T00:00:00Z    40.700       74.505   978.822        5.7   \n7   2024-11-09T12:00:00Z    40.294       73.528   981.061        0.6   \n8   2024-11-09T12:00:00Z    39.234       70.756   983.949        0.5   \n9   2024-11-09T18:00:00Z    23.900       82.317   980.713        0.5   \n10  2024-11-09T06:00:00Z    45.306       70.489   983.226        1.3   \n11  2024-11-10T00:00:00Z    34.222       74.817   981.644        2.5   \n\n    pm2.5_atm  sensor_index   latitude  longitude  altitude  \n0      2.9750          2796  30.276873  -97.83731       726  \n1      0.3160          2796  30.276873  -97.83731       726  \n2      0.0870          2796  30.276873  -97.83731       726  \n3      1.0275          2796  30.276873  -97.83731       726  \n4      0.5555          2806  30.483000  -97.84850       984  \n5      3.6105          2806  30.483000  -97.84850       984  \n6      9.6880          2806  30.483000  -97.84850       984  \n7      0.2530          2806  30.483000  -97.84850       984  \n8      0.1045          2862  30.366156  -97.76529       899  \n9      0.1210          2862  30.366156  -97.76529       899  \n10     1.2635          2862  30.366156  -97.76529       899  \n11     3.5645          2862  30.366156  -97.76529       899  ",
      "text/html": "<div>\n<style scoped>\n    .dataframe tbody tr th:only-of-type {\n        vertical-align: middle;\n    }\n\n    .dataframe tbody tr th {\n        vertical-align: top;\n    }\n\n    .dataframe thead th {\n        text-align: right;\n    }\n</style>\n<table border=\"1\" class=\"dataframe\">\n  <thead>\n    <tr style=\"text-align: right;\">\n      <th></th>\n      <th>time_stamp</th>\n      <th>humidity</th>\n      <th>temperature</th>\n      <th>pressure</th>\n      <th>pm2.5_alt</th>\n      <th>pm2.5_atm</th>\n      <th>sensor_index</th>\n      <th>latitude</th>\n      <th>longitude</th>\n      <th>altitude</th>\n    </tr>\n  </thead>\n  <tbody>\n    <tr>\n      <th>0</th>\n      <td>2024-11-10T00:00:00Z</td>\n      <td>44.783</td>\n      <td>72.711</td>\n      <td>987.648</td>\n      <td>2.2</td>\n      <td>2.9750</td>\n      <td>2796</td>\n      <td>30.276873</td>\n      <td>-97.83731</td>\n      <td>726</td>\n    </tr>\n    <tr>\n      <th>1</th>\n      <td>2024-11-09T18:00:00Z</td>\n      <td>23.922</td>\n      <td>84.833</td>\n      <td>986.684</td>\n      <td>0.6</td>\n      <td>0.3160</td>\n      <td>2796</td>\n      <td>30.276873</td>\n      <td>-97.83731</td>\n      <td>726</td>\n    </tr>\n    <tr>\n      <th>2</th>\n      <td>2024-11-09T12:00:00Z</td>\n      <td>36.322</td>\n      <td>77.217</td>\n      <td>990.065</td>\n      <td>0.5</td>\n      <td>0.0870</td>\n      <td>2796</td>\n      <td>30.276873</td>\n      <td>-97.83731</td>\n      <td>726</td>\n    </tr>\n    <tr>\n      <th>3</th>\n      <td>2024-11-09T06:00:00Z</td>\n      <td>47.261</td>\n      <td>71.806</td>\n      <td>989.291</td>\n      <td>1.1</td>\n      <td>1.0275</td>\n      <td>2796</td>\n      <td>30.276873</td>\n      <td>-97.83731</td>\n      <td>726</td>\n    </tr>\n    <tr>\n      <th>4</th>\n      <td>2024-11-09T18:00:00Z</td>\n      <td>25.339</td>\n      <td>88.089</td>\n      <td>977.836</td>\n      <td>0.8</td>\n      <td>0.5555</td>\n      <td>2806</td>\n      <td>30.483000</td>\n      <td>-97.84850</td>\n      <td>984</td>\n    </tr>\n    <tr>\n      <th>5</th>\n      <td>2024-11-09T06:00:00Z</td>\n      <td>48.456</td>\n      <td>70.033</td>\n      <td>980.419</td>\n      <td>2.5</td>\n      <td>3.6105</td>\n      <td>2806</td>\n      <td>30.483000</td>\n      <td>-97.84850</td>\n      <td>984</td>\n    </tr>\n    <tr>\n      <th>6</th>\n      <td>2024-11-10T00:00:00Z</td>\n      <td>40.700</td>\n      <td>74.505</td>\n      <td>978.822</td>\n      <td>5.7</td>\n      <td>9.6880</td>\n      <td>2806</td>\n      <td>30.483000</td>\n      <td>-97.84850</td>\n      <td>984</td>\n    </tr>\n    <tr>\n      <th>7</th>\n      <td>2024-11-09T12:00:00Z</td>\n      <td>40.294</td>\n      <td>73.528</td>\n      <td>981.061</td>\n      <td>0.6</td>\n      <td>0.2530</td>\n      <td>2806</td>\n      <td>30.483000</td>\n      <td>-97.84850</td>\n      <td>984</td>\n    </tr>\n    <tr>\n      <th>8</th>\n      <td>2024-11-09T12:00:00Z</td>\n      <td>39.234</td>\n      <td>70.756</td>\n      <td>983.949</td>\n      <td>0.5</td>\n      <td>0.1045</td>\n      <td>2862</td>\n      <td>30.366156</td>\n      <td>-97.76529</td>\n      <td>899</td>\n    </tr>\n    <tr>\n      <th>9</th>\n      <td>2024-11-09T18:00:00Z</td>\n      <td>23.900</td>\n      <td>82.317</td>\n      <td>980.713</td>\n      <td>0.5</td>\n      <td>0.1210</td>\n      <td>2862</td>\n      <td>30.366156</td>\n      <td>-97.76529</td>\n      <td>899</td>\n    </tr>\n    <tr>\n      <th>10</th>\n      <td>2024-11-09T06:00:00Z</td>\n      <td>45.306</td>\n      <td>70.489</td>\n      <td>983.226</td>\n      <td>1.3</td>\n      <td>1.2635</td>\n      <td>2862</td>\n      <td>30.366156</td>\n      <td>-97.76529</td>\n      <td>899</td>\n    </tr>\n    <tr>\n      <th>11</th>\n      <td>2024-11-10T00:00:00Z</td>\n      <td>34.222</td>\n      <td>74.817</td>\n      <td>981.644</td>\n      <td>2.5</td>\n      <td>3.5645</td>\n      <td>2862</td>\n      <td>30.366156</td>\n      <td>-97.76529</td>\n      <td>899</td>\n    </tr>\n  </tbody>\n</table>\n</div>"
     },
     "execution_count": 12,
     "metadata": {},
     "output_type": "execute_result"
    }
   ],
   "source": [
    "df_merged"
   ],
   "metadata": {
    "collapsed": false,
    "ExecuteTime": {
     "end_time": "2024-11-11T03:36:59.804464Z",
     "start_time": "2024-11-11T03:36:59.777461Z"
    }
   },
   "id": "c20f174de6de8e2f",
   "execution_count": 12
  },
  {
   "cell_type": "code",
   "outputs": [],
   "source": [],
   "metadata": {
    "collapsed": false
   },
   "id": "61e5f5f014c9e4b1"
  }
 ],
 "metadata": {
  "kernelspec": {
   "display_name": "Python 3",
   "language": "python",
   "name": "python3"
  },
  "language_info": {
   "codemirror_mode": {
    "name": "ipython",
    "version": 2
   },
   "file_extension": ".py",
   "mimetype": "text/x-python",
   "name": "python",
   "nbconvert_exporter": "python",
   "pygments_lexer": "ipython2",
   "version": "2.7.6"
  }
 },
 "nbformat": 4,
 "nbformat_minor": 5
}
