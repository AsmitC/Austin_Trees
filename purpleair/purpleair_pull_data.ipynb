{
 "cells": [
  {
   "cell_type": "code",
   "execution_count": 45,
   "id": "cc38ff683f459091",
   "metadata": {
    "collapsed": false,
    "ExecuteTime": {
     "end_time": "2024-11-11T03:04:13.579321Z",
     "start_time": "2024-11-11T03:04:13.560313Z"
    }
   },
   "outputs": [],
   "source": [
    "import requests\n",
    "import json\n",
    "import pandas as pd\n",
    "\n",
    "with open('api_key.txt') as f:\n",
    "    api = f.read()\n",
    "\n",
    "headers= {'X-API-Key': api}"
   ]
  },
  {
   "cell_type": "code",
   "outputs": [
    {
     "name": "stdout",
     "output_type": "stream",
     "text": [
      "Status Code:  200\n"
     ]
    },
    {
     "data": {
      "text/plain": "     sensor_index   latitude  longitude  altitude\n0            2796  30.276873 -97.837310       726\n1            2806  30.483000 -97.848500       984\n2            2862  30.366156 -97.765290       899\n3            4041  30.306090 -97.726930       618\n4           14983  30.130820 -97.844330       662\n..            ...        ...        ...       ...\n186        213765  30.307280 -97.826090       828\n187        213789  30.228407 -97.754230       664\n188        222223  30.308128 -97.801890       611\n189        236401  30.337454 -97.711580       712\n190        244811  30.333090 -97.735214       672\n\n[191 rows x 4 columns]",
      "text/html": "<div>\n<style scoped>\n    .dataframe tbody tr th:only-of-type {\n        vertical-align: middle;\n    }\n\n    .dataframe tbody tr th {\n        vertical-align: top;\n    }\n\n    .dataframe thead th {\n        text-align: right;\n    }\n</style>\n<table border=\"1\" class=\"dataframe\">\n  <thead>\n    <tr style=\"text-align: right;\">\n      <th></th>\n      <th>sensor_index</th>\n      <th>latitude</th>\n      <th>longitude</th>\n      <th>altitude</th>\n    </tr>\n  </thead>\n  <tbody>\n    <tr>\n      <th>0</th>\n      <td>2796</td>\n      <td>30.276873</td>\n      <td>-97.837310</td>\n      <td>726</td>\n    </tr>\n    <tr>\n      <th>1</th>\n      <td>2806</td>\n      <td>30.483000</td>\n      <td>-97.848500</td>\n      <td>984</td>\n    </tr>\n    <tr>\n      <th>2</th>\n      <td>2862</td>\n      <td>30.366156</td>\n      <td>-97.765290</td>\n      <td>899</td>\n    </tr>\n    <tr>\n      <th>3</th>\n      <td>4041</td>\n      <td>30.306090</td>\n      <td>-97.726930</td>\n      <td>618</td>\n    </tr>\n    <tr>\n      <th>4</th>\n      <td>14983</td>\n      <td>30.130820</td>\n      <td>-97.844330</td>\n      <td>662</td>\n    </tr>\n    <tr>\n      <th>...</th>\n      <td>...</td>\n      <td>...</td>\n      <td>...</td>\n      <td>...</td>\n    </tr>\n    <tr>\n      <th>186</th>\n      <td>213765</td>\n      <td>30.307280</td>\n      <td>-97.826090</td>\n      <td>828</td>\n    </tr>\n    <tr>\n      <th>187</th>\n      <td>213789</td>\n      <td>30.228407</td>\n      <td>-97.754230</td>\n      <td>664</td>\n    </tr>\n    <tr>\n      <th>188</th>\n      <td>222223</td>\n      <td>30.308128</td>\n      <td>-97.801890</td>\n      <td>611</td>\n    </tr>\n    <tr>\n      <th>189</th>\n      <td>236401</td>\n      <td>30.337454</td>\n      <td>-97.711580</td>\n      <td>712</td>\n    </tr>\n    <tr>\n      <th>190</th>\n      <td>244811</td>\n      <td>30.333090</td>\n      <td>-97.735214</td>\n      <td>672</td>\n    </tr>\n  </tbody>\n</table>\n<p>191 rows × 4 columns</p>\n</div>"
     },
     "execution_count": 46,
     "metadata": {},
     "output_type": "execute_result"
    }
   ],
   "source": [
    "# get list of sensors within lat/long bounding box (defined by NW/SE corners)\n",
    "# \n",
    "# NWlng = -98\n",
    "# NWlat = 30.5\n",
    "# \n",
    "# SElng = -97.5\n",
    "# SElat = 30\n",
    "# \n",
    "# url = f'https://api.purpleair.com/v1/sensors?fields=latitude,longitude,altitude&location_type=0&modified_since=0&max_age=0&nwlng={NWlng}&nwlat={NWlat}&selng={SElng}&selat={SElat}'\n",
    "# \n",
    "# response = requests.get(url, headers=headers)\n",
    "# print(\"Status Code: \", response.status_code)\n",
    "# \n",
    "# content = json.loads(response.content)\n",
    "# data = content[\"data\"]\n",
    "# columns = content[\"fields\"]\n",
    "# \n",
    "# df = pd.DataFrame(data, columns=columns)\n",
    "# df"
   ],
   "metadata": {
    "collapsed": true,
    "ExecuteTime": {
     "end_time": "2024-11-11T03:04:16.433965Z",
     "start_time": "2024-11-11T03:04:16.086379Z"
    }
   },
   "id": "initial_id",
   "execution_count": 46
  },
  {
   "cell_type": "code",
   "outputs": [],
   "source": [
    "# df.to_csv('austin_sensors.csv', index=False)"
   ],
   "metadata": {
    "collapsed": false,
    "ExecuteTime": {
     "end_time": "2024-11-11T03:04:33.148192Z",
     "start_time": "2024-11-11T03:04:33.135467Z"
    }
   },
   "id": "151416db205cf3c1",
   "execution_count": 47
  },
  {
   "cell_type": "code",
   "outputs": [
    {
     "data": {
      "text/plain": "(191,)"
     },
     "execution_count": 48,
     "metadata": {},
     "output_type": "execute_result"
    }
   ],
   "source": [
    "sensors = pd.read_csv('austin_sensors.csv')['sensor_index']\n",
    "# Should be (191,)\n",
    "sensors.shape"
   ],
   "metadata": {
    "collapsed": false,
    "ExecuteTime": {
     "end_time": "2024-11-11T03:04:35.530314Z",
     "start_time": "2024-11-11T03:04:35.519798Z"
    }
   },
   "id": "35e6a6401685c14",
   "execution_count": 48
  },
  {
   "cell_type": "code",
   "outputs": [],
   "source": [
    "# For testing\n",
    "# sensors = sensors.iloc[:1]"
   ],
   "metadata": {
    "collapsed": false,
    "ExecuteTime": {
     "end_time": "2024-11-11T02:43:03.443534Z",
     "start_time": "2024-11-11T02:43:03.429528Z"
    }
   },
   "id": "2b8dda68f0210303",
   "execution_count": 30
  },
  {
   "cell_type": "code",
   "outputs": [
    {
     "name": "stderr",
     "output_type": "stream",
     "text": [
      "C:\\Users\\Victor Nguyen\\AppData\\Local\\Temp\\ipykernel_13176\\2286905578.py:19: FutureWarning: The behavior of DataFrame concatenation with empty or all-NA entries is deprecated. In a future version, this will no longer exclude empty or all-NA columns when determining the result dtypes. To retain the old behavior, exclude the relevant entries before the concat operation.\n",
      "  df = pd.concat([df, new_df])\n",
      "C:\\Users\\Victor Nguyen\\AppData\\Local\\Temp\\ipykernel_13176\\2286905578.py:19: FutureWarning: The behavior of DataFrame concatenation with empty or all-NA entries is deprecated. In a future version, this will no longer exclude empty or all-NA columns when determining the result dtypes. To retain the old behavior, exclude the relevant entries before the concat operation.\n",
      "  df = pd.concat([df, new_df])\n",
      "C:\\Users\\Victor Nguyen\\AppData\\Local\\Temp\\ipykernel_13176\\2286905578.py:19: FutureWarning: The behavior of DataFrame concatenation with empty or all-NA entries is deprecated. In a future version, this will no longer exclude empty or all-NA columns when determining the result dtypes. To retain the old behavior, exclude the relevant entries before the concat operation.\n",
      "  df = pd.concat([df, new_df])\n",
      "C:\\Users\\Victor Nguyen\\AppData\\Local\\Temp\\ipykernel_13176\\2286905578.py:19: FutureWarning: The behavior of DataFrame concatenation with empty or all-NA entries is deprecated. In a future version, this will no longer exclude empty or all-NA columns when determining the result dtypes. To retain the old behavior, exclude the relevant entries before the concat operation.\n",
      "  df = pd.concat([df, new_df])\n",
      "C:\\Users\\Victor Nguyen\\AppData\\Local\\Temp\\ipykernel_13176\\2286905578.py:19: FutureWarning: The behavior of DataFrame concatenation with empty or all-NA entries is deprecated. In a future version, this will no longer exclude empty or all-NA columns when determining the result dtypes. To retain the old behavior, exclude the relevant entries before the concat operation.\n",
      "  df = pd.concat([df, new_df])\n",
      "C:\\Users\\Victor Nguyen\\AppData\\Local\\Temp\\ipykernel_13176\\2286905578.py:19: FutureWarning: The behavior of DataFrame concatenation with empty or all-NA entries is deprecated. In a future version, this will no longer exclude empty or all-NA columns when determining the result dtypes. To retain the old behavior, exclude the relevant entries before the concat operation.\n",
      "  df = pd.concat([df, new_df])\n",
      "C:\\Users\\Victor Nguyen\\AppData\\Local\\Temp\\ipykernel_13176\\2286905578.py:19: FutureWarning: The behavior of DataFrame concatenation with empty or all-NA entries is deprecated. In a future version, this will no longer exclude empty or all-NA columns when determining the result dtypes. To retain the old behavior, exclude the relevant entries before the concat operation.\n",
      "  df = pd.concat([df, new_df])\n",
      "C:\\Users\\Victor Nguyen\\AppData\\Local\\Temp\\ipykernel_13176\\2286905578.py:19: FutureWarning: The behavior of DataFrame concatenation with empty or all-NA entries is deprecated. In a future version, this will no longer exclude empty or all-NA columns when determining the result dtypes. To retain the old behavior, exclude the relevant entries before the concat operation.\n",
      "  df = pd.concat([df, new_df])\n",
      "C:\\Users\\Victor Nguyen\\AppData\\Local\\Temp\\ipykernel_13176\\2286905578.py:19: FutureWarning: The behavior of DataFrame concatenation with empty or all-NA entries is deprecated. In a future version, this will no longer exclude empty or all-NA columns when determining the result dtypes. To retain the old behavior, exclude the relevant entries before the concat operation.\n",
      "  df = pd.concat([df, new_df])\n",
      "C:\\Users\\Victor Nguyen\\AppData\\Local\\Temp\\ipykernel_13176\\2286905578.py:19: FutureWarning: The behavior of DataFrame concatenation with empty or all-NA entries is deprecated. In a future version, this will no longer exclude empty or all-NA columns when determining the result dtypes. To retain the old behavior, exclude the relevant entries before the concat operation.\n",
      "  df = pd.concat([df, new_df])\n",
      "C:\\Users\\Victor Nguyen\\AppData\\Local\\Temp\\ipykernel_13176\\2286905578.py:19: FutureWarning: The behavior of DataFrame concatenation with empty or all-NA entries is deprecated. In a future version, this will no longer exclude empty or all-NA columns when determining the result dtypes. To retain the old behavior, exclude the relevant entries before the concat operation.\n",
      "  df = pd.concat([df, new_df])\n",
      "C:\\Users\\Victor Nguyen\\AppData\\Local\\Temp\\ipykernel_13176\\2286905578.py:19: FutureWarning: The behavior of DataFrame concatenation with empty or all-NA entries is deprecated. In a future version, this will no longer exclude empty or all-NA columns when determining the result dtypes. To retain the old behavior, exclude the relevant entries before the concat operation.\n",
      "  df = pd.concat([df, new_df])\n",
      "C:\\Users\\Victor Nguyen\\AppData\\Local\\Temp\\ipykernel_13176\\2286905578.py:19: FutureWarning: The behavior of DataFrame concatenation with empty or all-NA entries is deprecated. In a future version, this will no longer exclude empty or all-NA columns when determining the result dtypes. To retain the old behavior, exclude the relevant entries before the concat operation.\n",
      "  df = pd.concat([df, new_df])\n",
      "C:\\Users\\Victor Nguyen\\AppData\\Local\\Temp\\ipykernel_13176\\2286905578.py:19: FutureWarning: The behavior of DataFrame concatenation with empty or all-NA entries is deprecated. In a future version, this will no longer exclude empty or all-NA columns when determining the result dtypes. To retain the old behavior, exclude the relevant entries before the concat operation.\n",
      "  df = pd.concat([df, new_df])\n",
      "C:\\Users\\Victor Nguyen\\AppData\\Local\\Temp\\ipykernel_13176\\2286905578.py:19: FutureWarning: The behavior of DataFrame concatenation with empty or all-NA entries is deprecated. In a future version, this will no longer exclude empty or all-NA columns when determining the result dtypes. To retain the old behavior, exclude the relevant entries before the concat operation.\n",
      "  df = pd.concat([df, new_df])\n",
      "C:\\Users\\Victor Nguyen\\AppData\\Local\\Temp\\ipykernel_13176\\2286905578.py:19: FutureWarning: The behavior of DataFrame concatenation with empty or all-NA entries is deprecated. In a future version, this will no longer exclude empty or all-NA columns when determining the result dtypes. To retain the old behavior, exclude the relevant entries before the concat operation.\n",
      "  df = pd.concat([df, new_df])\n",
      "C:\\Users\\Victor Nguyen\\AppData\\Local\\Temp\\ipykernel_13176\\2286905578.py:19: FutureWarning: The behavior of DataFrame concatenation with empty or all-NA entries is deprecated. In a future version, this will no longer exclude empty or all-NA columns when determining the result dtypes. To retain the old behavior, exclude the relevant entries before the concat operation.\n",
      "  df = pd.concat([df, new_df])\n",
      "C:\\Users\\Victor Nguyen\\AppData\\Local\\Temp\\ipykernel_13176\\2286905578.py:19: FutureWarning: The behavior of DataFrame concatenation with empty or all-NA entries is deprecated. In a future version, this will no longer exclude empty or all-NA columns when determining the result dtypes. To retain the old behavior, exclude the relevant entries before the concat operation.\n",
      "  df = pd.concat([df, new_df])\n",
      "C:\\Users\\Victor Nguyen\\AppData\\Local\\Temp\\ipykernel_13176\\2286905578.py:19: FutureWarning: The behavior of DataFrame concatenation with empty or all-NA entries is deprecated. In a future version, this will no longer exclude empty or all-NA columns when determining the result dtypes. To retain the old behavior, exclude the relevant entries before the concat operation.\n",
      "  df = pd.concat([df, new_df])\n",
      "C:\\Users\\Victor Nguyen\\AppData\\Local\\Temp\\ipykernel_13176\\2286905578.py:19: FutureWarning: The behavior of DataFrame concatenation with empty or all-NA entries is deprecated. In a future version, this will no longer exclude empty or all-NA columns when determining the result dtypes. To retain the old behavior, exclude the relevant entries before the concat operation.\n",
      "  df = pd.concat([df, new_df])\n",
      "C:\\Users\\Victor Nguyen\\AppData\\Local\\Temp\\ipykernel_13176\\2286905578.py:19: FutureWarning: The behavior of DataFrame concatenation with empty or all-NA entries is deprecated. In a future version, this will no longer exclude empty or all-NA columns when determining the result dtypes. To retain the old behavior, exclude the relevant entries before the concat operation.\n",
      "  df = pd.concat([df, new_df])\n",
      "C:\\Users\\Victor Nguyen\\AppData\\Local\\Temp\\ipykernel_13176\\2286905578.py:19: FutureWarning: The behavior of DataFrame concatenation with empty or all-NA entries is deprecated. In a future version, this will no longer exclude empty or all-NA columns when determining the result dtypes. To retain the old behavior, exclude the relevant entries before the concat operation.\n",
      "  df = pd.concat([df, new_df])\n",
      "C:\\Users\\Victor Nguyen\\AppData\\Local\\Temp\\ipykernel_13176\\2286905578.py:19: FutureWarning: The behavior of DataFrame concatenation with empty or all-NA entries is deprecated. In a future version, this will no longer exclude empty or all-NA columns when determining the result dtypes. To retain the old behavior, exclude the relevant entries before the concat operation.\n",
      "  df = pd.concat([df, new_df])\n",
      "C:\\Users\\Victor Nguyen\\AppData\\Local\\Temp\\ipykernel_13176\\2286905578.py:19: FutureWarning: The behavior of DataFrame concatenation with empty or all-NA entries is deprecated. In a future version, this will no longer exclude empty or all-NA columns when determining the result dtypes. To retain the old behavior, exclude the relevant entries before the concat operation.\n",
      "  df = pd.concat([df, new_df])\n",
      "C:\\Users\\Victor Nguyen\\AppData\\Local\\Temp\\ipykernel_13176\\2286905578.py:19: FutureWarning: The behavior of DataFrame concatenation with empty or all-NA entries is deprecated. In a future version, this will no longer exclude empty or all-NA columns when determining the result dtypes. To retain the old behavior, exclude the relevant entries before the concat operation.\n",
      "  df = pd.concat([df, new_df])\n",
      "C:\\Users\\Victor Nguyen\\AppData\\Local\\Temp\\ipykernel_13176\\2286905578.py:19: FutureWarning: The behavior of DataFrame concatenation with empty or all-NA entries is deprecated. In a future version, this will no longer exclude empty or all-NA columns when determining the result dtypes. To retain the old behavior, exclude the relevant entries before the concat operation.\n",
      "  df = pd.concat([df, new_df])\n",
      "C:\\Users\\Victor Nguyen\\AppData\\Local\\Temp\\ipykernel_13176\\2286905578.py:19: FutureWarning: The behavior of DataFrame concatenation with empty or all-NA entries is deprecated. In a future version, this will no longer exclude empty or all-NA columns when determining the result dtypes. To retain the old behavior, exclude the relevant entries before the concat operation.\n",
      "  df = pd.concat([df, new_df])\n",
      "C:\\Users\\Victor Nguyen\\AppData\\Local\\Temp\\ipykernel_13176\\2286905578.py:19: FutureWarning: The behavior of DataFrame concatenation with empty or all-NA entries is deprecated. In a future version, this will no longer exclude empty or all-NA columns when determining the result dtypes. To retain the old behavior, exclude the relevant entries before the concat operation.\n",
      "  df = pd.concat([df, new_df])\n",
      "C:\\Users\\Victor Nguyen\\AppData\\Local\\Temp\\ipykernel_13176\\2286905578.py:19: FutureWarning: The behavior of DataFrame concatenation with empty or all-NA entries is deprecated. In a future version, this will no longer exclude empty or all-NA columns when determining the result dtypes. To retain the old behavior, exclude the relevant entries before the concat operation.\n",
      "  df = pd.concat([df, new_df])\n",
      "C:\\Users\\Victor Nguyen\\AppData\\Local\\Temp\\ipykernel_13176\\2286905578.py:19: FutureWarning: The behavior of DataFrame concatenation with empty or all-NA entries is deprecated. In a future version, this will no longer exclude empty or all-NA columns when determining the result dtypes. To retain the old behavior, exclude the relevant entries before the concat operation.\n",
      "  df = pd.concat([df, new_df])\n",
      "C:\\Users\\Victor Nguyen\\AppData\\Local\\Temp\\ipykernel_13176\\2286905578.py:19: FutureWarning: The behavior of DataFrame concatenation with empty or all-NA entries is deprecated. In a future version, this will no longer exclude empty or all-NA columns when determining the result dtypes. To retain the old behavior, exclude the relevant entries before the concat operation.\n",
      "  df = pd.concat([df, new_df])\n",
      "C:\\Users\\Victor Nguyen\\AppData\\Local\\Temp\\ipykernel_13176\\2286905578.py:19: FutureWarning: The behavior of DataFrame concatenation with empty or all-NA entries is deprecated. In a future version, this will no longer exclude empty or all-NA columns when determining the result dtypes. To retain the old behavior, exclude the relevant entries before the concat operation.\n",
      "  df = pd.concat([df, new_df])\n",
      "C:\\Users\\Victor Nguyen\\AppData\\Local\\Temp\\ipykernel_13176\\2286905578.py:19: FutureWarning: The behavior of DataFrame concatenation with empty or all-NA entries is deprecated. In a future version, this will no longer exclude empty or all-NA columns when determining the result dtypes. To retain the old behavior, exclude the relevant entries before the concat operation.\n",
      "  df = pd.concat([df, new_df])\n",
      "C:\\Users\\Victor Nguyen\\AppData\\Local\\Temp\\ipykernel_13176\\2286905578.py:19: FutureWarning: The behavior of DataFrame concatenation with empty or all-NA entries is deprecated. In a future version, this will no longer exclude empty or all-NA columns when determining the result dtypes. To retain the old behavior, exclude the relevant entries before the concat operation.\n",
      "  df = pd.concat([df, new_df])\n",
      "C:\\Users\\Victor Nguyen\\AppData\\Local\\Temp\\ipykernel_13176\\2286905578.py:19: FutureWarning: The behavior of DataFrame concatenation with empty or all-NA entries is deprecated. In a future version, this will no longer exclude empty or all-NA columns when determining the result dtypes. To retain the old behavior, exclude the relevant entries before the concat operation.\n",
      "  df = pd.concat([df, new_df])\n",
      "C:\\Users\\Victor Nguyen\\AppData\\Local\\Temp\\ipykernel_13176\\2286905578.py:19: FutureWarning: The behavior of DataFrame concatenation with empty or all-NA entries is deprecated. In a future version, this will no longer exclude empty or all-NA columns when determining the result dtypes. To retain the old behavior, exclude the relevant entries before the concat operation.\n",
      "  df = pd.concat([df, new_df])\n",
      "C:\\Users\\Victor Nguyen\\AppData\\Local\\Temp\\ipykernel_13176\\2286905578.py:19: FutureWarning: The behavior of DataFrame concatenation with empty or all-NA entries is deprecated. In a future version, this will no longer exclude empty or all-NA columns when determining the result dtypes. To retain the old behavior, exclude the relevant entries before the concat operation.\n",
      "  df = pd.concat([df, new_df])\n",
      "C:\\Users\\Victor Nguyen\\AppData\\Local\\Temp\\ipykernel_13176\\2286905578.py:19: FutureWarning: The behavior of DataFrame concatenation with empty or all-NA entries is deprecated. In a future version, this will no longer exclude empty or all-NA columns when determining the result dtypes. To retain the old behavior, exclude the relevant entries before the concat operation.\n",
      "  df = pd.concat([df, new_df])\n",
      "C:\\Users\\Victor Nguyen\\AppData\\Local\\Temp\\ipykernel_13176\\2286905578.py:19: FutureWarning: The behavior of DataFrame concatenation with empty or all-NA entries is deprecated. In a future version, this will no longer exclude empty or all-NA columns when determining the result dtypes. To retain the old behavior, exclude the relevant entries before the concat operation.\n",
      "  df = pd.concat([df, new_df])\n",
      "C:\\Users\\Victor Nguyen\\AppData\\Local\\Temp\\ipykernel_13176\\2286905578.py:19: FutureWarning: The behavior of DataFrame concatenation with empty or all-NA entries is deprecated. In a future version, this will no longer exclude empty or all-NA columns when determining the result dtypes. To retain the old behavior, exclude the relevant entries before the concat operation.\n",
      "  df = pd.concat([df, new_df])\n",
      "C:\\Users\\Victor Nguyen\\AppData\\Local\\Temp\\ipykernel_13176\\2286905578.py:19: FutureWarning: The behavior of DataFrame concatenation with empty or all-NA entries is deprecated. In a future version, this will no longer exclude empty or all-NA columns when determining the result dtypes. To retain the old behavior, exclude the relevant entries before the concat operation.\n",
      "  df = pd.concat([df, new_df])\n",
      "C:\\Users\\Victor Nguyen\\AppData\\Local\\Temp\\ipykernel_13176\\2286905578.py:19: FutureWarning: The behavior of DataFrame concatenation with empty or all-NA entries is deprecated. In a future version, this will no longer exclude empty or all-NA columns when determining the result dtypes. To retain the old behavior, exclude the relevant entries before the concat operation.\n",
      "  df = pd.concat([df, new_df])\n",
      "C:\\Users\\Victor Nguyen\\AppData\\Local\\Temp\\ipykernel_13176\\2286905578.py:19: FutureWarning: The behavior of DataFrame concatenation with empty or all-NA entries is deprecated. In a future version, this will no longer exclude empty or all-NA columns when determining the result dtypes. To retain the old behavior, exclude the relevant entries before the concat operation.\n",
      "  df = pd.concat([df, new_df])\n",
      "C:\\Users\\Victor Nguyen\\AppData\\Local\\Temp\\ipykernel_13176\\2286905578.py:19: FutureWarning: The behavior of DataFrame concatenation with empty or all-NA entries is deprecated. In a future version, this will no longer exclude empty or all-NA columns when determining the result dtypes. To retain the old behavior, exclude the relevant entries before the concat operation.\n",
      "  df = pd.concat([df, new_df])\n",
      "C:\\Users\\Victor Nguyen\\AppData\\Local\\Temp\\ipykernel_13176\\2286905578.py:19: FutureWarning: The behavior of DataFrame concatenation with empty or all-NA entries is deprecated. In a future version, this will no longer exclude empty or all-NA columns when determining the result dtypes. To retain the old behavior, exclude the relevant entries before the concat operation.\n",
      "  df = pd.concat([df, new_df])\n",
      "C:\\Users\\Victor Nguyen\\AppData\\Local\\Temp\\ipykernel_13176\\2286905578.py:19: FutureWarning: The behavior of DataFrame concatenation with empty or all-NA entries is deprecated. In a future version, this will no longer exclude empty or all-NA columns when determining the result dtypes. To retain the old behavior, exclude the relevant entries before the concat operation.\n",
      "  df = pd.concat([df, new_df])\n",
      "C:\\Users\\Victor Nguyen\\AppData\\Local\\Temp\\ipykernel_13176\\2286905578.py:19: FutureWarning: The behavior of DataFrame concatenation with empty or all-NA entries is deprecated. In a future version, this will no longer exclude empty or all-NA columns when determining the result dtypes. To retain the old behavior, exclude the relevant entries before the concat operation.\n",
      "  df = pd.concat([df, new_df])\n",
      "C:\\Users\\Victor Nguyen\\AppData\\Local\\Temp\\ipykernel_13176\\2286905578.py:19: FutureWarning: The behavior of DataFrame concatenation with empty or all-NA entries is deprecated. In a future version, this will no longer exclude empty or all-NA columns when determining the result dtypes. To retain the old behavior, exclude the relevant entries before the concat operation.\n",
      "  df = pd.concat([df, new_df])\n",
      "C:\\Users\\Victor Nguyen\\AppData\\Local\\Temp\\ipykernel_13176\\2286905578.py:19: FutureWarning: The behavior of DataFrame concatenation with empty or all-NA entries is deprecated. In a future version, this will no longer exclude empty or all-NA columns when determining the result dtypes. To retain the old behavior, exclude the relevant entries before the concat operation.\n",
      "  df = pd.concat([df, new_df])\n",
      "C:\\Users\\Victor Nguyen\\AppData\\Local\\Temp\\ipykernel_13176\\2286905578.py:19: FutureWarning: The behavior of DataFrame concatenation with empty or all-NA entries is deprecated. In a future version, this will no longer exclude empty or all-NA columns when determining the result dtypes. To retain the old behavior, exclude the relevant entries before the concat operation.\n",
      "  df = pd.concat([df, new_df])\n",
      "C:\\Users\\Victor Nguyen\\AppData\\Local\\Temp\\ipykernel_13176\\2286905578.py:19: FutureWarning: The behavior of DataFrame concatenation with empty or all-NA entries is deprecated. In a future version, this will no longer exclude empty or all-NA columns when determining the result dtypes. To retain the old behavior, exclude the relevant entries before the concat operation.\n",
      "  df = pd.concat([df, new_df])\n",
      "C:\\Users\\Victor Nguyen\\AppData\\Local\\Temp\\ipykernel_13176\\2286905578.py:19: FutureWarning: The behavior of DataFrame concatenation with empty or all-NA entries is deprecated. In a future version, this will no longer exclude empty or all-NA columns when determining the result dtypes. To retain the old behavior, exclude the relevant entries before the concat operation.\n",
      "  df = pd.concat([df, new_df])\n",
      "C:\\Users\\Victor Nguyen\\AppData\\Local\\Temp\\ipykernel_13176\\2286905578.py:19: FutureWarning: The behavior of DataFrame concatenation with empty or all-NA entries is deprecated. In a future version, this will no longer exclude empty or all-NA columns when determining the result dtypes. To retain the old behavior, exclude the relevant entries before the concat operation.\n",
      "  df = pd.concat([df, new_df])\n",
      "C:\\Users\\Victor Nguyen\\AppData\\Local\\Temp\\ipykernel_13176\\2286905578.py:19: FutureWarning: The behavior of DataFrame concatenation with empty or all-NA entries is deprecated. In a future version, this will no longer exclude empty or all-NA columns when determining the result dtypes. To retain the old behavior, exclude the relevant entries before the concat operation.\n",
      "  df = pd.concat([df, new_df])\n",
      "C:\\Users\\Victor Nguyen\\AppData\\Local\\Temp\\ipykernel_13176\\2286905578.py:19: FutureWarning: The behavior of DataFrame concatenation with empty or all-NA entries is deprecated. In a future version, this will no longer exclude empty or all-NA columns when determining the result dtypes. To retain the old behavior, exclude the relevant entries before the concat operation.\n",
      "  df = pd.concat([df, new_df])\n",
      "C:\\Users\\Victor Nguyen\\AppData\\Local\\Temp\\ipykernel_13176\\2286905578.py:19: FutureWarning: The behavior of DataFrame concatenation with empty or all-NA entries is deprecated. In a future version, this will no longer exclude empty or all-NA columns when determining the result dtypes. To retain the old behavior, exclude the relevant entries before the concat operation.\n",
      "  df = pd.concat([df, new_df])\n",
      "C:\\Users\\Victor Nguyen\\AppData\\Local\\Temp\\ipykernel_13176\\2286905578.py:19: FutureWarning: The behavior of DataFrame concatenation with empty or all-NA entries is deprecated. In a future version, this will no longer exclude empty or all-NA columns when determining the result dtypes. To retain the old behavior, exclude the relevant entries before the concat operation.\n",
      "  df = pd.concat([df, new_df])\n",
      "C:\\Users\\Victor Nguyen\\AppData\\Local\\Temp\\ipykernel_13176\\2286905578.py:19: FutureWarning: The behavior of DataFrame concatenation with empty or all-NA entries is deprecated. In a future version, this will no longer exclude empty or all-NA columns when determining the result dtypes. To retain the old behavior, exclude the relevant entries before the concat operation.\n",
      "  df = pd.concat([df, new_df])\n",
      "C:\\Users\\Victor Nguyen\\AppData\\Local\\Temp\\ipykernel_13176\\2286905578.py:19: FutureWarning: The behavior of DataFrame concatenation with empty or all-NA entries is deprecated. In a future version, this will no longer exclude empty or all-NA columns when determining the result dtypes. To retain the old behavior, exclude the relevant entries before the concat operation.\n",
      "  df = pd.concat([df, new_df])\n",
      "C:\\Users\\Victor Nguyen\\AppData\\Local\\Temp\\ipykernel_13176\\2286905578.py:19: FutureWarning: The behavior of DataFrame concatenation with empty or all-NA entries is deprecated. In a future version, this will no longer exclude empty or all-NA columns when determining the result dtypes. To retain the old behavior, exclude the relevant entries before the concat operation.\n",
      "  df = pd.concat([df, new_df])\n",
      "C:\\Users\\Victor Nguyen\\AppData\\Local\\Temp\\ipykernel_13176\\2286905578.py:19: FutureWarning: The behavior of DataFrame concatenation with empty or all-NA entries is deprecated. In a future version, this will no longer exclude empty or all-NA columns when determining the result dtypes. To retain the old behavior, exclude the relevant entries before the concat operation.\n",
      "  df = pd.concat([df, new_df])\n",
      "C:\\Users\\Victor Nguyen\\AppData\\Local\\Temp\\ipykernel_13176\\2286905578.py:19: FutureWarning: The behavior of DataFrame concatenation with empty or all-NA entries is deprecated. In a future version, this will no longer exclude empty or all-NA columns when determining the result dtypes. To retain the old behavior, exclude the relevant entries before the concat operation.\n",
      "  df = pd.concat([df, new_df])\n",
      "C:\\Users\\Victor Nguyen\\AppData\\Local\\Temp\\ipykernel_13176\\2286905578.py:19: FutureWarning: The behavior of DataFrame concatenation with empty or all-NA entries is deprecated. In a future version, this will no longer exclude empty or all-NA columns when determining the result dtypes. To retain the old behavior, exclude the relevant entries before the concat operation.\n",
      "  df = pd.concat([df, new_df])\n",
      "C:\\Users\\Victor Nguyen\\AppData\\Local\\Temp\\ipykernel_13176\\2286905578.py:19: FutureWarning: The behavior of DataFrame concatenation with empty or all-NA entries is deprecated. In a future version, this will no longer exclude empty or all-NA columns when determining the result dtypes. To retain the old behavior, exclude the relevant entries before the concat operation.\n",
      "  df = pd.concat([df, new_df])\n",
      "C:\\Users\\Victor Nguyen\\AppData\\Local\\Temp\\ipykernel_13176\\2286905578.py:19: FutureWarning: The behavior of DataFrame concatenation with empty or all-NA entries is deprecated. In a future version, this will no longer exclude empty or all-NA columns when determining the result dtypes. To retain the old behavior, exclude the relevant entries before the concat operation.\n",
      "  df = pd.concat([df, new_df])\n",
      "C:\\Users\\Victor Nguyen\\AppData\\Local\\Temp\\ipykernel_13176\\2286905578.py:19: FutureWarning: The behavior of DataFrame concatenation with empty or all-NA entries is deprecated. In a future version, this will no longer exclude empty or all-NA columns when determining the result dtypes. To retain the old behavior, exclude the relevant entries before the concat operation.\n",
      "  df = pd.concat([df, new_df])\n",
      "C:\\Users\\Victor Nguyen\\AppData\\Local\\Temp\\ipykernel_13176\\2286905578.py:19: FutureWarning: The behavior of DataFrame concatenation with empty or all-NA entries is deprecated. In a future version, this will no longer exclude empty or all-NA columns when determining the result dtypes. To retain the old behavior, exclude the relevant entries before the concat operation.\n",
      "  df = pd.concat([df, new_df])\n",
      "C:\\Users\\Victor Nguyen\\AppData\\Local\\Temp\\ipykernel_13176\\2286905578.py:19: FutureWarning: The behavior of DataFrame concatenation with empty or all-NA entries is deprecated. In a future version, this will no longer exclude empty or all-NA columns when determining the result dtypes. To retain the old behavior, exclude the relevant entries before the concat operation.\n",
      "  df = pd.concat([df, new_df])\n",
      "C:\\Users\\Victor Nguyen\\AppData\\Local\\Temp\\ipykernel_13176\\2286905578.py:19: FutureWarning: The behavior of DataFrame concatenation with empty or all-NA entries is deprecated. In a future version, this will no longer exclude empty or all-NA columns when determining the result dtypes. To retain the old behavior, exclude the relevant entries before the concat operation.\n",
      "  df = pd.concat([df, new_df])\n",
      "C:\\Users\\Victor Nguyen\\AppData\\Local\\Temp\\ipykernel_13176\\2286905578.py:19: FutureWarning: The behavior of DataFrame concatenation with empty or all-NA entries is deprecated. In a future version, this will no longer exclude empty or all-NA columns when determining the result dtypes. To retain the old behavior, exclude the relevant entries before the concat operation.\n",
      "  df = pd.concat([df, new_df])\n",
      "C:\\Users\\Victor Nguyen\\AppData\\Local\\Temp\\ipykernel_13176\\2286905578.py:19: FutureWarning: The behavior of DataFrame concatenation with empty or all-NA entries is deprecated. In a future version, this will no longer exclude empty or all-NA columns when determining the result dtypes. To retain the old behavior, exclude the relevant entries before the concat operation.\n",
      "  df = pd.concat([df, new_df])\n",
      "C:\\Users\\Victor Nguyen\\AppData\\Local\\Temp\\ipykernel_13176\\2286905578.py:19: FutureWarning: The behavior of DataFrame concatenation with empty or all-NA entries is deprecated. In a future version, this will no longer exclude empty or all-NA columns when determining the result dtypes. To retain the old behavior, exclude the relevant entries before the concat operation.\n",
      "  df = pd.concat([df, new_df])\n",
      "C:\\Users\\Victor Nguyen\\AppData\\Local\\Temp\\ipykernel_13176\\2286905578.py:19: FutureWarning: The behavior of DataFrame concatenation with empty or all-NA entries is deprecated. In a future version, this will no longer exclude empty or all-NA columns when determining the result dtypes. To retain the old behavior, exclude the relevant entries before the concat operation.\n",
      "  df = pd.concat([df, new_df])\n",
      "C:\\Users\\Victor Nguyen\\AppData\\Local\\Temp\\ipykernel_13176\\2286905578.py:19: FutureWarning: The behavior of DataFrame concatenation with empty or all-NA entries is deprecated. In a future version, this will no longer exclude empty or all-NA columns when determining the result dtypes. To retain the old behavior, exclude the relevant entries before the concat operation.\n",
      "  df = pd.concat([df, new_df])\n",
      "C:\\Users\\Victor Nguyen\\AppData\\Local\\Temp\\ipykernel_13176\\2286905578.py:19: FutureWarning: The behavior of DataFrame concatenation with empty or all-NA entries is deprecated. In a future version, this will no longer exclude empty or all-NA columns when determining the result dtypes. To retain the old behavior, exclude the relevant entries before the concat operation.\n",
      "  df = pd.concat([df, new_df])\n",
      "C:\\Users\\Victor Nguyen\\AppData\\Local\\Temp\\ipykernel_13176\\2286905578.py:19: FutureWarning: The behavior of DataFrame concatenation with empty or all-NA entries is deprecated. In a future version, this will no longer exclude empty or all-NA columns when determining the result dtypes. To retain the old behavior, exclude the relevant entries before the concat operation.\n",
      "  df = pd.concat([df, new_df])\n",
      "C:\\Users\\Victor Nguyen\\AppData\\Local\\Temp\\ipykernel_13176\\2286905578.py:19: FutureWarning: The behavior of DataFrame concatenation with empty or all-NA entries is deprecated. In a future version, this will no longer exclude empty or all-NA columns when determining the result dtypes. To retain the old behavior, exclude the relevant entries before the concat operation.\n",
      "  df = pd.concat([df, new_df])\n",
      "C:\\Users\\Victor Nguyen\\AppData\\Local\\Temp\\ipykernel_13176\\2286905578.py:19: FutureWarning: The behavior of DataFrame concatenation with empty or all-NA entries is deprecated. In a future version, this will no longer exclude empty or all-NA columns when determining the result dtypes. To retain the old behavior, exclude the relevant entries before the concat operation.\n",
      "  df = pd.concat([df, new_df])\n",
      "C:\\Users\\Victor Nguyen\\AppData\\Local\\Temp\\ipykernel_13176\\2286905578.py:19: FutureWarning: The behavior of DataFrame concatenation with empty or all-NA entries is deprecated. In a future version, this will no longer exclude empty or all-NA columns when determining the result dtypes. To retain the old behavior, exclude the relevant entries before the concat operation.\n",
      "  df = pd.concat([df, new_df])\n",
      "C:\\Users\\Victor Nguyen\\AppData\\Local\\Temp\\ipykernel_13176\\2286905578.py:19: FutureWarning: The behavior of DataFrame concatenation with empty or all-NA entries is deprecated. In a future version, this will no longer exclude empty or all-NA columns when determining the result dtypes. To retain the old behavior, exclude the relevant entries before the concat operation.\n",
      "  df = pd.concat([df, new_df])\n",
      "C:\\Users\\Victor Nguyen\\AppData\\Local\\Temp\\ipykernel_13176\\2286905578.py:19: FutureWarning: The behavior of DataFrame concatenation with empty or all-NA entries is deprecated. In a future version, this will no longer exclude empty or all-NA columns when determining the result dtypes. To retain the old behavior, exclude the relevant entries before the concat operation.\n",
      "  df = pd.concat([df, new_df])\n",
      "C:\\Users\\Victor Nguyen\\AppData\\Local\\Temp\\ipykernel_13176\\2286905578.py:19: FutureWarning: The behavior of DataFrame concatenation with empty or all-NA entries is deprecated. In a future version, this will no longer exclude empty or all-NA columns when determining the result dtypes. To retain the old behavior, exclude the relevant entries before the concat operation.\n",
      "  df = pd.concat([df, new_df])\n",
      "C:\\Users\\Victor Nguyen\\AppData\\Local\\Temp\\ipykernel_13176\\2286905578.py:19: FutureWarning: The behavior of DataFrame concatenation with empty or all-NA entries is deprecated. In a future version, this will no longer exclude empty or all-NA columns when determining the result dtypes. To retain the old behavior, exclude the relevant entries before the concat operation.\n",
      "  df = pd.concat([df, new_df])\n",
      "C:\\Users\\Victor Nguyen\\AppData\\Local\\Temp\\ipykernel_13176\\2286905578.py:19: FutureWarning: The behavior of DataFrame concatenation with empty or all-NA entries is deprecated. In a future version, this will no longer exclude empty or all-NA columns when determining the result dtypes. To retain the old behavior, exclude the relevant entries before the concat operation.\n",
      "  df = pd.concat([df, new_df])\n",
      "C:\\Users\\Victor Nguyen\\AppData\\Local\\Temp\\ipykernel_13176\\2286905578.py:19: FutureWarning: The behavior of DataFrame concatenation with empty or all-NA entries is deprecated. In a future version, this will no longer exclude empty or all-NA columns when determining the result dtypes. To retain the old behavior, exclude the relevant entries before the concat operation.\n",
      "  df = pd.concat([df, new_df])\n",
      "C:\\Users\\Victor Nguyen\\AppData\\Local\\Temp\\ipykernel_13176\\2286905578.py:19: FutureWarning: The behavior of DataFrame concatenation with empty or all-NA entries is deprecated. In a future version, this will no longer exclude empty or all-NA columns when determining the result dtypes. To retain the old behavior, exclude the relevant entries before the concat operation.\n",
      "  df = pd.concat([df, new_df])\n",
      "C:\\Users\\Victor Nguyen\\AppData\\Local\\Temp\\ipykernel_13176\\2286905578.py:19: FutureWarning: The behavior of DataFrame concatenation with empty or all-NA entries is deprecated. In a future version, this will no longer exclude empty or all-NA columns when determining the result dtypes. To retain the old behavior, exclude the relevant entries before the concat operation.\n",
      "  df = pd.concat([df, new_df])\n",
      "C:\\Users\\Victor Nguyen\\AppData\\Local\\Temp\\ipykernel_13176\\2286905578.py:19: FutureWarning: The behavior of DataFrame concatenation with empty or all-NA entries is deprecated. In a future version, this will no longer exclude empty or all-NA columns when determining the result dtypes. To retain the old behavior, exclude the relevant entries before the concat operation.\n",
      "  df = pd.concat([df, new_df])\n",
      "C:\\Users\\Victor Nguyen\\AppData\\Local\\Temp\\ipykernel_13176\\2286905578.py:19: FutureWarning: The behavior of DataFrame concatenation with empty or all-NA entries is deprecated. In a future version, this will no longer exclude empty or all-NA columns when determining the result dtypes. To retain the old behavior, exclude the relevant entries before the concat operation.\n",
      "  df = pd.concat([df, new_df])\n",
      "C:\\Users\\Victor Nguyen\\AppData\\Local\\Temp\\ipykernel_13176\\2286905578.py:19: FutureWarning: The behavior of DataFrame concatenation with empty or all-NA entries is deprecated. In a future version, this will no longer exclude empty or all-NA columns when determining the result dtypes. To retain the old behavior, exclude the relevant entries before the concat operation.\n",
      "  df = pd.concat([df, new_df])\n",
      "C:\\Users\\Victor Nguyen\\AppData\\Local\\Temp\\ipykernel_13176\\2286905578.py:19: FutureWarning: The behavior of DataFrame concatenation with empty or all-NA entries is deprecated. In a future version, this will no longer exclude empty or all-NA columns when determining the result dtypes. To retain the old behavior, exclude the relevant entries before the concat operation.\n",
      "  df = pd.concat([df, new_df])\n",
      "C:\\Users\\Victor Nguyen\\AppData\\Local\\Temp\\ipykernel_13176\\2286905578.py:19: FutureWarning: The behavior of DataFrame concatenation with empty or all-NA entries is deprecated. In a future version, this will no longer exclude empty or all-NA columns when determining the result dtypes. To retain the old behavior, exclude the relevant entries before the concat operation.\n",
      "  df = pd.concat([df, new_df])\n",
      "C:\\Users\\Victor Nguyen\\AppData\\Local\\Temp\\ipykernel_13176\\2286905578.py:19: FutureWarning: The behavior of DataFrame concatenation with empty or all-NA entries is deprecated. In a future version, this will no longer exclude empty or all-NA columns when determining the result dtypes. To retain the old behavior, exclude the relevant entries before the concat operation.\n",
      "  df = pd.concat([df, new_df])\n",
      "C:\\Users\\Victor Nguyen\\AppData\\Local\\Temp\\ipykernel_13176\\2286905578.py:19: FutureWarning: The behavior of DataFrame concatenation with empty or all-NA entries is deprecated. In a future version, this will no longer exclude empty or all-NA columns when determining the result dtypes. To retain the old behavior, exclude the relevant entries before the concat operation.\n",
      "  df = pd.concat([df, new_df])\n",
      "C:\\Users\\Victor Nguyen\\AppData\\Local\\Temp\\ipykernel_13176\\2286905578.py:19: FutureWarning: The behavior of DataFrame concatenation with empty or all-NA entries is deprecated. In a future version, this will no longer exclude empty or all-NA columns when determining the result dtypes. To retain the old behavior, exclude the relevant entries before the concat operation.\n",
      "  df = pd.concat([df, new_df])\n",
      "C:\\Users\\Victor Nguyen\\AppData\\Local\\Temp\\ipykernel_13176\\2286905578.py:19: FutureWarning: The behavior of DataFrame concatenation with empty or all-NA entries is deprecated. In a future version, this will no longer exclude empty or all-NA columns when determining the result dtypes. To retain the old behavior, exclude the relevant entries before the concat operation.\n",
      "  df = pd.concat([df, new_df])\n",
      "C:\\Users\\Victor Nguyen\\AppData\\Local\\Temp\\ipykernel_13176\\2286905578.py:19: FutureWarning: The behavior of DataFrame concatenation with empty or all-NA entries is deprecated. In a future version, this will no longer exclude empty or all-NA columns when determining the result dtypes. To retain the old behavior, exclude the relevant entries before the concat operation.\n",
      "  df = pd.concat([df, new_df])\n",
      "C:\\Users\\Victor Nguyen\\AppData\\Local\\Temp\\ipykernel_13176\\2286905578.py:19: FutureWarning: The behavior of DataFrame concatenation with empty or all-NA entries is deprecated. In a future version, this will no longer exclude empty or all-NA columns when determining the result dtypes. To retain the old behavior, exclude the relevant entries before the concat operation.\n",
      "  df = pd.concat([df, new_df])\n",
      "C:\\Users\\Victor Nguyen\\AppData\\Local\\Temp\\ipykernel_13176\\2286905578.py:19: FutureWarning: The behavior of DataFrame concatenation with empty or all-NA entries is deprecated. In a future version, this will no longer exclude empty or all-NA columns when determining the result dtypes. To retain the old behavior, exclude the relevant entries before the concat operation.\n",
      "  df = pd.concat([df, new_df])\n",
      "C:\\Users\\Victor Nguyen\\AppData\\Local\\Temp\\ipykernel_13176\\2286905578.py:19: FutureWarning: The behavior of DataFrame concatenation with empty or all-NA entries is deprecated. In a future version, this will no longer exclude empty or all-NA columns when determining the result dtypes. To retain the old behavior, exclude the relevant entries before the concat operation.\n",
      "  df = pd.concat([df, new_df])\n",
      "C:\\Users\\Victor Nguyen\\AppData\\Local\\Temp\\ipykernel_13176\\2286905578.py:19: FutureWarning: The behavior of DataFrame concatenation with empty or all-NA entries is deprecated. In a future version, this will no longer exclude empty or all-NA columns when determining the result dtypes. To retain the old behavior, exclude the relevant entries before the concat operation.\n",
      "  df = pd.concat([df, new_df])\n",
      "C:\\Users\\Victor Nguyen\\AppData\\Local\\Temp\\ipykernel_13176\\2286905578.py:19: FutureWarning: The behavior of DataFrame concatenation with empty or all-NA entries is deprecated. In a future version, this will no longer exclude empty or all-NA columns when determining the result dtypes. To retain the old behavior, exclude the relevant entries before the concat operation.\n",
      "  df = pd.concat([df, new_df])\n",
      "C:\\Users\\Victor Nguyen\\AppData\\Local\\Temp\\ipykernel_13176\\2286905578.py:19: FutureWarning: The behavior of DataFrame concatenation with empty or all-NA entries is deprecated. In a future version, this will no longer exclude empty or all-NA columns when determining the result dtypes. To retain the old behavior, exclude the relevant entries before the concat operation.\n",
      "  df = pd.concat([df, new_df])\n",
      "C:\\Users\\Victor Nguyen\\AppData\\Local\\Temp\\ipykernel_13176\\2286905578.py:19: FutureWarning: The behavior of DataFrame concatenation with empty or all-NA entries is deprecated. In a future version, this will no longer exclude empty or all-NA columns when determining the result dtypes. To retain the old behavior, exclude the relevant entries before the concat operation.\n",
      "  df = pd.concat([df, new_df])\n",
      "C:\\Users\\Victor Nguyen\\AppData\\Local\\Temp\\ipykernel_13176\\2286905578.py:19: FutureWarning: The behavior of DataFrame concatenation with empty or all-NA entries is deprecated. In a future version, this will no longer exclude empty or all-NA columns when determining the result dtypes. To retain the old behavior, exclude the relevant entries before the concat operation.\n",
      "  df = pd.concat([df, new_df])\n",
      "C:\\Users\\Victor Nguyen\\AppData\\Local\\Temp\\ipykernel_13176\\2286905578.py:19: FutureWarning: The behavior of DataFrame concatenation with empty or all-NA entries is deprecated. In a future version, this will no longer exclude empty or all-NA columns when determining the result dtypes. To retain the old behavior, exclude the relevant entries before the concat operation.\n",
      "  df = pd.concat([df, new_df])\n",
      "C:\\Users\\Victor Nguyen\\AppData\\Local\\Temp\\ipykernel_13176\\2286905578.py:19: FutureWarning: The behavior of DataFrame concatenation with empty or all-NA entries is deprecated. In a future version, this will no longer exclude empty or all-NA columns when determining the result dtypes. To retain the old behavior, exclude the relevant entries before the concat operation.\n",
      "  df = pd.concat([df, new_df])\n",
      "C:\\Users\\Victor Nguyen\\AppData\\Local\\Temp\\ipykernel_13176\\2286905578.py:19: FutureWarning: The behavior of DataFrame concatenation with empty or all-NA entries is deprecated. In a future version, this will no longer exclude empty or all-NA columns when determining the result dtypes. To retain the old behavior, exclude the relevant entries before the concat operation.\n",
      "  df = pd.concat([df, new_df])\n",
      "C:\\Users\\Victor Nguyen\\AppData\\Local\\Temp\\ipykernel_13176\\2286905578.py:19: FutureWarning: The behavior of DataFrame concatenation with empty or all-NA entries is deprecated. In a future version, this will no longer exclude empty or all-NA columns when determining the result dtypes. To retain the old behavior, exclude the relevant entries before the concat operation.\n",
      "  df = pd.concat([df, new_df])\n",
      "C:\\Users\\Victor Nguyen\\AppData\\Local\\Temp\\ipykernel_13176\\2286905578.py:19: FutureWarning: The behavior of DataFrame concatenation with empty or all-NA entries is deprecated. In a future version, this will no longer exclude empty or all-NA columns when determining the result dtypes. To retain the old behavior, exclude the relevant entries before the concat operation.\n",
      "  df = pd.concat([df, new_df])\n",
      "C:\\Users\\Victor Nguyen\\AppData\\Local\\Temp\\ipykernel_13176\\2286905578.py:19: FutureWarning: The behavior of DataFrame concatenation with empty or all-NA entries is deprecated. In a future version, this will no longer exclude empty or all-NA columns when determining the result dtypes. To retain the old behavior, exclude the relevant entries before the concat operation.\n",
      "  df = pd.concat([df, new_df])\n",
      "C:\\Users\\Victor Nguyen\\AppData\\Local\\Temp\\ipykernel_13176\\2286905578.py:19: FutureWarning: The behavior of DataFrame concatenation with empty or all-NA entries is deprecated. In a future version, this will no longer exclude empty or all-NA columns when determining the result dtypes. To retain the old behavior, exclude the relevant entries before the concat operation.\n",
      "  df = pd.concat([df, new_df])\n",
      "C:\\Users\\Victor Nguyen\\AppData\\Local\\Temp\\ipykernel_13176\\2286905578.py:19: FutureWarning: The behavior of DataFrame concatenation with empty or all-NA entries is deprecated. In a future version, this will no longer exclude empty or all-NA columns when determining the result dtypes. To retain the old behavior, exclude the relevant entries before the concat operation.\n",
      "  df = pd.concat([df, new_df])\n",
      "C:\\Users\\Victor Nguyen\\AppData\\Local\\Temp\\ipykernel_13176\\2286905578.py:19: FutureWarning: The behavior of DataFrame concatenation with empty or all-NA entries is deprecated. In a future version, this will no longer exclude empty or all-NA columns when determining the result dtypes. To retain the old behavior, exclude the relevant entries before the concat operation.\n",
      "  df = pd.concat([df, new_df])\n",
      "C:\\Users\\Victor Nguyen\\AppData\\Local\\Temp\\ipykernel_13176\\2286905578.py:19: FutureWarning: The behavior of DataFrame concatenation with empty or all-NA entries is deprecated. In a future version, this will no longer exclude empty or all-NA columns when determining the result dtypes. To retain the old behavior, exclude the relevant entries before the concat operation.\n",
      "  df = pd.concat([df, new_df])\n",
      "C:\\Users\\Victor Nguyen\\AppData\\Local\\Temp\\ipykernel_13176\\2286905578.py:19: FutureWarning: The behavior of DataFrame concatenation with empty or all-NA entries is deprecated. In a future version, this will no longer exclude empty or all-NA columns when determining the result dtypes. To retain the old behavior, exclude the relevant entries before the concat operation.\n",
      "  df = pd.concat([df, new_df])\n",
      "C:\\Users\\Victor Nguyen\\AppData\\Local\\Temp\\ipykernel_13176\\2286905578.py:19: FutureWarning: The behavior of DataFrame concatenation with empty or all-NA entries is deprecated. In a future version, this will no longer exclude empty or all-NA columns when determining the result dtypes. To retain the old behavior, exclude the relevant entries before the concat operation.\n",
      "  df = pd.concat([df, new_df])\n",
      "C:\\Users\\Victor Nguyen\\AppData\\Local\\Temp\\ipykernel_13176\\2286905578.py:19: FutureWarning: The behavior of DataFrame concatenation with empty or all-NA entries is deprecated. In a future version, this will no longer exclude empty or all-NA columns when determining the result dtypes. To retain the old behavior, exclude the relevant entries before the concat operation.\n",
      "  df = pd.concat([df, new_df])\n",
      "C:\\Users\\Victor Nguyen\\AppData\\Local\\Temp\\ipykernel_13176\\2286905578.py:19: FutureWarning: The behavior of DataFrame concatenation with empty or all-NA entries is deprecated. In a future version, this will no longer exclude empty or all-NA columns when determining the result dtypes. To retain the old behavior, exclude the relevant entries before the concat operation.\n",
      "  df = pd.concat([df, new_df])\n",
      "C:\\Users\\Victor Nguyen\\AppData\\Local\\Temp\\ipykernel_13176\\2286905578.py:19: FutureWarning: The behavior of DataFrame concatenation with empty or all-NA entries is deprecated. In a future version, this will no longer exclude empty or all-NA columns when determining the result dtypes. To retain the old behavior, exclude the relevant entries before the concat operation.\n",
      "  df = pd.concat([df, new_df])\n",
      "C:\\Users\\Victor Nguyen\\AppData\\Local\\Temp\\ipykernel_13176\\2286905578.py:19: FutureWarning: The behavior of DataFrame concatenation with empty or all-NA entries is deprecated. In a future version, this will no longer exclude empty or all-NA columns when determining the result dtypes. To retain the old behavior, exclude the relevant entries before the concat operation.\n",
      "  df = pd.concat([df, new_df])\n",
      "C:\\Users\\Victor Nguyen\\AppData\\Local\\Temp\\ipykernel_13176\\2286905578.py:19: FutureWarning: The behavior of DataFrame concatenation with empty or all-NA entries is deprecated. In a future version, this will no longer exclude empty or all-NA columns when determining the result dtypes. To retain the old behavior, exclude the relevant entries before the concat operation.\n",
      "  df = pd.concat([df, new_df])\n",
      "C:\\Users\\Victor Nguyen\\AppData\\Local\\Temp\\ipykernel_13176\\2286905578.py:19: FutureWarning: The behavior of DataFrame concatenation with empty or all-NA entries is deprecated. In a future version, this will no longer exclude empty or all-NA columns when determining the result dtypes. To retain the old behavior, exclude the relevant entries before the concat operation.\n",
      "  df = pd.concat([df, new_df])\n",
      "C:\\Users\\Victor Nguyen\\AppData\\Local\\Temp\\ipykernel_13176\\2286905578.py:19: FutureWarning: The behavior of DataFrame concatenation with empty or all-NA entries is deprecated. In a future version, this will no longer exclude empty or all-NA columns when determining the result dtypes. To retain the old behavior, exclude the relevant entries before the concat operation.\n",
      "  df = pd.concat([df, new_df])\n",
      "C:\\Users\\Victor Nguyen\\AppData\\Local\\Temp\\ipykernel_13176\\2286905578.py:19: FutureWarning: The behavior of DataFrame concatenation with empty or all-NA entries is deprecated. In a future version, this will no longer exclude empty or all-NA columns when determining the result dtypes. To retain the old behavior, exclude the relevant entries before the concat operation.\n",
      "  df = pd.concat([df, new_df])\n",
      "C:\\Users\\Victor Nguyen\\AppData\\Local\\Temp\\ipykernel_13176\\2286905578.py:19: FutureWarning: The behavior of DataFrame concatenation with empty or all-NA entries is deprecated. In a future version, this will no longer exclude empty or all-NA columns when determining the result dtypes. To retain the old behavior, exclude the relevant entries before the concat operation.\n",
      "  df = pd.concat([df, new_df])\n",
      "C:\\Users\\Victor Nguyen\\AppData\\Local\\Temp\\ipykernel_13176\\2286905578.py:19: FutureWarning: The behavior of DataFrame concatenation with empty or all-NA entries is deprecated. In a future version, this will no longer exclude empty or all-NA columns when determining the result dtypes. To retain the old behavior, exclude the relevant entries before the concat operation.\n",
      "  df = pd.concat([df, new_df])\n",
      "C:\\Users\\Victor Nguyen\\AppData\\Local\\Temp\\ipykernel_13176\\2286905578.py:19: FutureWarning: The behavior of DataFrame concatenation with empty or all-NA entries is deprecated. In a future version, this will no longer exclude empty or all-NA columns when determining the result dtypes. To retain the old behavior, exclude the relevant entries before the concat operation.\n",
      "  df = pd.concat([df, new_df])\n",
      "C:\\Users\\Victor Nguyen\\AppData\\Local\\Temp\\ipykernel_13176\\2286905578.py:19: FutureWarning: The behavior of DataFrame concatenation with empty or all-NA entries is deprecated. In a future version, this will no longer exclude empty or all-NA columns when determining the result dtypes. To retain the old behavior, exclude the relevant entries before the concat operation.\n",
      "  df = pd.concat([df, new_df])\n",
      "C:\\Users\\Victor Nguyen\\AppData\\Local\\Temp\\ipykernel_13176\\2286905578.py:19: FutureWarning: The behavior of DataFrame concatenation with empty or all-NA entries is deprecated. In a future version, this will no longer exclude empty or all-NA columns when determining the result dtypes. To retain the old behavior, exclude the relevant entries before the concat operation.\n",
      "  df = pd.concat([df, new_df])\n",
      "C:\\Users\\Victor Nguyen\\AppData\\Local\\Temp\\ipykernel_13176\\2286905578.py:19: FutureWarning: The behavior of DataFrame concatenation with empty or all-NA entries is deprecated. In a future version, this will no longer exclude empty or all-NA columns when determining the result dtypes. To retain the old behavior, exclude the relevant entries before the concat operation.\n",
      "  df = pd.concat([df, new_df])\n",
      "C:\\Users\\Victor Nguyen\\AppData\\Local\\Temp\\ipykernel_13176\\2286905578.py:19: FutureWarning: The behavior of DataFrame concatenation with empty or all-NA entries is deprecated. In a future version, this will no longer exclude empty or all-NA columns when determining the result dtypes. To retain the old behavior, exclude the relevant entries before the concat operation.\n",
      "  df = pd.concat([df, new_df])\n",
      "C:\\Users\\Victor Nguyen\\AppData\\Local\\Temp\\ipykernel_13176\\2286905578.py:19: FutureWarning: The behavior of DataFrame concatenation with empty or all-NA entries is deprecated. In a future version, this will no longer exclude empty or all-NA columns when determining the result dtypes. To retain the old behavior, exclude the relevant entries before the concat operation.\n",
      "  df = pd.concat([df, new_df])\n",
      "C:\\Users\\Victor Nguyen\\AppData\\Local\\Temp\\ipykernel_13176\\2286905578.py:19: FutureWarning: The behavior of DataFrame concatenation with empty or all-NA entries is deprecated. In a future version, this will no longer exclude empty or all-NA columns when determining the result dtypes. To retain the old behavior, exclude the relevant entries before the concat operation.\n",
      "  df = pd.concat([df, new_df])\n",
      "C:\\Users\\Victor Nguyen\\AppData\\Local\\Temp\\ipykernel_13176\\2286905578.py:19: FutureWarning: The behavior of DataFrame concatenation with empty or all-NA entries is deprecated. In a future version, this will no longer exclude empty or all-NA columns when determining the result dtypes. To retain the old behavior, exclude the relevant entries before the concat operation.\n",
      "  df = pd.concat([df, new_df])\n",
      "C:\\Users\\Victor Nguyen\\AppData\\Local\\Temp\\ipykernel_13176\\2286905578.py:19: FutureWarning: The behavior of DataFrame concatenation with empty or all-NA entries is deprecated. In a future version, this will no longer exclude empty or all-NA columns when determining the result dtypes. To retain the old behavior, exclude the relevant entries before the concat operation.\n",
      "  df = pd.concat([df, new_df])\n",
      "C:\\Users\\Victor Nguyen\\AppData\\Local\\Temp\\ipykernel_13176\\2286905578.py:19: FutureWarning: The behavior of DataFrame concatenation with empty or all-NA entries is deprecated. In a future version, this will no longer exclude empty or all-NA columns when determining the result dtypes. To retain the old behavior, exclude the relevant entries before the concat operation.\n",
      "  df = pd.concat([df, new_df])\n"
     ]
    }
   ],
   "source": [
    "# pm2.5, humidity, temp, pressure\n",
    "fields = ['humidity', 'temperature', 'pressure', 'pm2.5_alt', 'pm2.5_atm']\n",
    "# UTC time\n",
    "start_timestamp = '2024-11-09T06:00:00.000Z'\n",
    "end_timestamp = '2024-11-10T06:00:00.000Z'\n",
    "# Average over 30-min intervals\n",
    "average = 30\n",
    "\n",
    "df = pd.DataFrame()\n",
    "for si in sensors:\n",
    "    url = f'https://api.purpleair.com/v1/sensors/{si}/history?average={average}&start_timestamp={start_timestamp}&end_timestamp={end_timestamp}&fields={\",\".join(fields)}'\n",
    "    response = requests.get(url, headers=headers)\n",
    "    if response.status_code != 200:\n",
    "        print(f'Pulling data for sensor {si} failed')\n",
    "        continue\n",
    "    content = json.loads(response.content)\n",
    "    data = content[\"data\"]\n",
    "    columns = content[\"fields\"]\n",
    "    new_df = pd.DataFrame(data, columns=columns)\n",
    "    new_df['sensor_index'] = content['sensor_index']\n",
    "    if new_df.shape[0] > 0:\n",
    "        df = pd.concat([df, new_df])"
   ],
   "metadata": {
    "collapsed": false,
    "ExecuteTime": {
     "end_time": "2024-11-11T02:55:12.151615Z",
     "start_time": "2024-11-11T02:51:08.257040Z"
    }
   },
   "id": "957237286e9aacea",
   "execution_count": 41
  },
  {
   "cell_type": "code",
   "outputs": [],
   "source": [
    "df.to_csv('purpleair_data.csv', index=False)"
   ],
   "metadata": {
    "collapsed": false,
    "ExecuteTime": {
     "end_time": "2024-11-11T02:40:24.342572Z",
     "start_time": "2024-11-11T02:40:24.322572Z"
    }
   },
   "id": "a6bb66181761a0f2",
   "execution_count": 25
  },
  {
   "cell_type": "code",
   "outputs": [
    {
     "data": {
      "text/plain": "              time_stamp  humidity  temperature  pressure  pm2.5_alt  \\\n0   2024-11-10T02:30:00Z    46.533       71.400   987.641        1.9   \n1   2024-11-10T01:30:00Z    42.867       73.467   987.401        3.3   \n2   2024-11-09T16:30:00Z    27.467       81.467   989.887        0.4   \n3   2024-11-09T07:00:00Z    48.200       72.000   989.408        1.6   \n4   2024-11-09T13:30:00Z    43.533       73.133   990.133        0.6   \n..                   ...       ...          ...       ...        ...   \n43  2024-11-09T10:00:00Z    34.467       71.267   993.003        0.4   \n44  2024-11-10T02:00:00Z    30.067       76.467   991.444        6.5   \n45  2024-11-09T17:30:00Z    21.000       79.800   993.109        0.4   \n46  2024-11-09T17:00:00Z    22.200       77.400   993.474        0.4   \n47  2024-11-09T19:00:00Z    17.333       82.533   990.959        0.4   \n\n    pm2.5_atm  sensor_index  \n0      2.4970          2796  \n1      5.1585          2796  \n2      0.0075          2796  \n3      1.7990          2796  \n4      0.0995          2796  \n..        ...           ...  \n43     0.0085        244811  \n44    10.3985        244811  \n45     0.0170        244811  \n46     0.0165        244811  \n47     0.0275        244811  \n\n[2708 rows x 7 columns]",
      "text/html": "<div>\n<style scoped>\n    .dataframe tbody tr th:only-of-type {\n        vertical-align: middle;\n    }\n\n    .dataframe tbody tr th {\n        vertical-align: top;\n    }\n\n    .dataframe thead th {\n        text-align: right;\n    }\n</style>\n<table border=\"1\" class=\"dataframe\">\n  <thead>\n    <tr style=\"text-align: right;\">\n      <th></th>\n      <th>time_stamp</th>\n      <th>humidity</th>\n      <th>temperature</th>\n      <th>pressure</th>\n      <th>pm2.5_alt</th>\n      <th>pm2.5_atm</th>\n      <th>sensor_index</th>\n    </tr>\n  </thead>\n  <tbody>\n    <tr>\n      <th>0</th>\n      <td>2024-11-10T02:30:00Z</td>\n      <td>46.533</td>\n      <td>71.400</td>\n      <td>987.641</td>\n      <td>1.9</td>\n      <td>2.4970</td>\n      <td>2796</td>\n    </tr>\n    <tr>\n      <th>1</th>\n      <td>2024-11-10T01:30:00Z</td>\n      <td>42.867</td>\n      <td>73.467</td>\n      <td>987.401</td>\n      <td>3.3</td>\n      <td>5.1585</td>\n      <td>2796</td>\n    </tr>\n    <tr>\n      <th>2</th>\n      <td>2024-11-09T16:30:00Z</td>\n      <td>27.467</td>\n      <td>81.467</td>\n      <td>989.887</td>\n      <td>0.4</td>\n      <td>0.0075</td>\n      <td>2796</td>\n    </tr>\n    <tr>\n      <th>3</th>\n      <td>2024-11-09T07:00:00Z</td>\n      <td>48.200</td>\n      <td>72.000</td>\n      <td>989.408</td>\n      <td>1.6</td>\n      <td>1.7990</td>\n      <td>2796</td>\n    </tr>\n    <tr>\n      <th>4</th>\n      <td>2024-11-09T13:30:00Z</td>\n      <td>43.533</td>\n      <td>73.133</td>\n      <td>990.133</td>\n      <td>0.6</td>\n      <td>0.0995</td>\n      <td>2796</td>\n    </tr>\n    <tr>\n      <th>...</th>\n      <td>...</td>\n      <td>...</td>\n      <td>...</td>\n      <td>...</td>\n      <td>...</td>\n      <td>...</td>\n      <td>...</td>\n    </tr>\n    <tr>\n      <th>43</th>\n      <td>2024-11-09T10:00:00Z</td>\n      <td>34.467</td>\n      <td>71.267</td>\n      <td>993.003</td>\n      <td>0.4</td>\n      <td>0.0085</td>\n      <td>244811</td>\n    </tr>\n    <tr>\n      <th>44</th>\n      <td>2024-11-10T02:00:00Z</td>\n      <td>30.067</td>\n      <td>76.467</td>\n      <td>991.444</td>\n      <td>6.5</td>\n      <td>10.3985</td>\n      <td>244811</td>\n    </tr>\n    <tr>\n      <th>45</th>\n      <td>2024-11-09T17:30:00Z</td>\n      <td>21.000</td>\n      <td>79.800</td>\n      <td>993.109</td>\n      <td>0.4</td>\n      <td>0.0170</td>\n      <td>244811</td>\n    </tr>\n    <tr>\n      <th>46</th>\n      <td>2024-11-09T17:00:00Z</td>\n      <td>22.200</td>\n      <td>77.400</td>\n      <td>993.474</td>\n      <td>0.4</td>\n      <td>0.0165</td>\n      <td>244811</td>\n    </tr>\n    <tr>\n      <th>47</th>\n      <td>2024-11-09T19:00:00Z</td>\n      <td>17.333</td>\n      <td>82.533</td>\n      <td>990.959</td>\n      <td>0.4</td>\n      <td>0.0275</td>\n      <td>244811</td>\n    </tr>\n  </tbody>\n</table>\n<p>2708 rows × 7 columns</p>\n</div>"
     },
     "execution_count": 42,
     "metadata": {},
     "output_type": "execute_result"
    }
   ],
   "source": [
    "df"
   ],
   "metadata": {
    "collapsed": false,
    "ExecuteTime": {
     "end_time": "2024-11-11T02:55:31.443405Z",
     "start_time": "2024-11-11T02:55:31.422405Z"
    }
   },
   "id": "c20f174de6de8e2f",
   "execution_count": 42
  }
 ],
 "metadata": {
  "kernelspec": {
   "display_name": "Python 3",
   "language": "python",
   "name": "python3"
  },
  "language_info": {
   "codemirror_mode": {
    "name": "ipython",
    "version": 2
   },
   "file_extension": ".py",
   "mimetype": "text/x-python",
   "name": "python",
   "nbconvert_exporter": "python",
   "pygments_lexer": "ipython2",
   "version": "2.7.6"
  }
 },
 "nbformat": 4,
 "nbformat_minor": 5
}
