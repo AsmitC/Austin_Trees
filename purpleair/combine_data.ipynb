{
 "cells": [
  {
   "cell_type": "code",
   "outputs": [],
   "source": [
    "import pandas as pd\n",
    "import glob\n",
    "import os\n",
    "\n",
    "# Define the folder path and pattern for CSV files\n",
    "folder_path = './data'\n",
    "file_pattern = os.path.join(folder_path, '*.csv')\n",
    "\n",
    "# Use glob to get a list of all CSV files in the folder\n",
    "csv_files = glob.glob(file_pattern)\n",
    "\n",
    "# Read and concatenate all CSV files into a single DataFrame\n",
    "combined_df = pd.concat((pd.read_csv(file) for file in csv_files), ignore_index=True)\n",
    "\n",
    "# Save the concatenated DataFrame to a new CSV file\n",
    "combined_df.to_csv('purpleair_data_combined.csv', index=False)"
   ],
   "metadata": {
    "collapsed": false,
    "ExecuteTime": {
     "end_time": "2024-11-11T20:24:22.460037Z",
     "start_time": "2024-11-11T20:24:17.905229Z"
    }
   },
   "id": "75f2472d3a9e1cdd",
   "execution_count": 2
  },
  {
   "cell_type": "code",
   "outputs": [],
   "source": [],
   "metadata": {
    "collapsed": false
   },
   "id": "5467c725724cb288"
  }
 ],
 "metadata": {
  "kernelspec": {
   "display_name": "Python 3",
   "language": "python",
   "name": "python3"
  },
  "language_info": {
   "codemirror_mode": {
    "name": "ipython",
    "version": 2
   },
   "file_extension": ".py",
   "mimetype": "text/x-python",
   "name": "python",
   "nbconvert_exporter": "python",
   "pygments_lexer": "ipython2",
   "version": "2.7.6"
  }
 },
 "nbformat": 4,
 "nbformat_minor": 5
}
