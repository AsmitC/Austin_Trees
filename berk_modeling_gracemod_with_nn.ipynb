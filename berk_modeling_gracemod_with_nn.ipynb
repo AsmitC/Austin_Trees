{
 "cells": [
  {
   "cell_type": "code",
   "execution_count": 51,
   "metadata": {
    "id": "hgCekUESX1n7",
    "ExecuteTime": {
     "end_time": "2024-10-30T01:14:44.406237Z",
     "start_time": "2024-10-30T01:14:44.392227Z"
    }
   },
   "outputs": [],
   "source": [
    "# libraries\n",
    "import pandas as pd\n",
    "from sklearn.model_selection import train_test_split\n",
    "from sklearn.tree import DecisionTreeClassifier\n",
    "from sklearn.metrics import accuracy_score"
   ]
  },
  {
   "cell_type": "code",
   "execution_count": 52,
   "metadata": {
    "id": "TTz1roYNX1n_",
    "ExecuteTime": {
     "end_time": "2024-10-30T01:14:45.133169Z",
     "start_time": "2024-10-30T01:14:45.050169Z"
    }
   },
   "outputs": [],
   "source": [
    "# read data\n",
    "business_data = pd.read_csv('business_coordinates.csv')\n",
    "tree_data = pd.read_csv('tree_inventory.csv')"
   ]
  },
  {
   "cell_type": "markdown",
   "metadata": {
    "id": "LBP6NK2uX1oA"
   },
   "source": [
    "Clean up tree data for processing and rename some columns (longitude) and drop some unnecessary / repetitive ones:"
   ]
  },
  {
   "cell_type": "code",
   "execution_count": 16,
   "metadata": {
    "colab": {
     "base_uri": "https://localhost:8080/",
     "height": 206
    },
    "id": "VEs6c90WX1oC",
    "outputId": "b894cb9c-5206-4ff9-8885-a3a9e0a7284d"
   },
   "outputs": [
    {
     "output_type": "execute_result",
     "data": {
      "text/plain": [
       "                                        GEOMETRY       SPECIES  DIAMETER  \\\n",
       "0   POINT (-97.73398904092146 30.25239671647407)      Live Oak      20.0   \n",
       "1   POINT (-97.77949770772025 30.20704479399738)  Ashe Juniper       8.0   \n",
       "2  POINT (-97.73408544155564 30.252389392695715)      Live Oak      31.0   \n",
       "3  POINT (-97.73392463841283 30.252384583450418)      Live Oak      21.0   \n",
       "4  POINT (-97.73385944263053 30.252313660255723)      Live Oak      20.0   \n",
       "\n",
       "    LATITUDE  LONGITUDE  \n",
       "0  30.252397 -97.733989  \n",
       "1  30.207045 -97.779498  \n",
       "2  30.252389 -97.734085  \n",
       "3  30.252385 -97.733925  \n",
       "4  30.252314 -97.733859  "
      ],
      "text/html": [
       "\n",
       "  <div id=\"df-d1ef036b-e985-445d-962b-c7ced50cabbe\" class=\"colab-df-container\">\n",
       "    <div>\n",
       "<style scoped>\n",
       "    .dataframe tbody tr th:only-of-type {\n",
       "        vertical-align: middle;\n",
       "    }\n",
       "\n",
       "    .dataframe tbody tr th {\n",
       "        vertical-align: top;\n",
       "    }\n",
       "\n",
       "    .dataframe thead th {\n",
       "        text-align: right;\n",
       "    }\n",
       "</style>\n",
       "<table border=\"1\" class=\"dataframe\">\n",
       "  <thead>\n",
       "    <tr style=\"text-align: right;\">\n",
       "      <th></th>\n",
       "      <th>GEOMETRY</th>\n",
       "      <th>SPECIES</th>\n",
       "      <th>DIAMETER</th>\n",
       "      <th>LATITUDE</th>\n",
       "      <th>LONGITUDE</th>\n",
       "    </tr>\n",
       "  </thead>\n",
       "  <tbody>\n",
       "    <tr>\n",
       "      <th>0</th>\n",
       "      <td>POINT (-97.73398904092146 30.25239671647407)</td>\n",
       "      <td>Live Oak</td>\n",
       "      <td>20.0</td>\n",
       "      <td>30.252397</td>\n",
       "      <td>-97.733989</td>\n",
       "    </tr>\n",
       "    <tr>\n",
       "      <th>1</th>\n",
       "      <td>POINT (-97.77949770772025 30.20704479399738)</td>\n",
       "      <td>Ashe Juniper</td>\n",
       "      <td>8.0</td>\n",
       "      <td>30.207045</td>\n",
       "      <td>-97.779498</td>\n",
       "    </tr>\n",
       "    <tr>\n",
       "      <th>2</th>\n",
       "      <td>POINT (-97.73408544155564 30.252389392695715)</td>\n",
       "      <td>Live Oak</td>\n",
       "      <td>31.0</td>\n",
       "      <td>30.252389</td>\n",
       "      <td>-97.734085</td>\n",
       "    </tr>\n",
       "    <tr>\n",
       "      <th>3</th>\n",
       "      <td>POINT (-97.73392463841283 30.252384583450418)</td>\n",
       "      <td>Live Oak</td>\n",
       "      <td>21.0</td>\n",
       "      <td>30.252385</td>\n",
       "      <td>-97.733925</td>\n",
       "    </tr>\n",
       "    <tr>\n",
       "      <th>4</th>\n",
       "      <td>POINT (-97.73385944263053 30.252313660255723)</td>\n",
       "      <td>Live Oak</td>\n",
       "      <td>20.0</td>\n",
       "      <td>30.252314</td>\n",
       "      <td>-97.733859</td>\n",
       "    </tr>\n",
       "  </tbody>\n",
       "</table>\n",
       "</div>\n",
       "    <div class=\"colab-df-buttons\">\n",
       "\n",
       "  <div class=\"colab-df-container\">\n",
       "    <button class=\"colab-df-convert\" onclick=\"convertToInteractive('df-d1ef036b-e985-445d-962b-c7ced50cabbe')\"\n",
       "            title=\"Convert this dataframe to an interactive table.\"\n",
       "            style=\"display:none;\">\n",
       "\n",
       "  <svg xmlns=\"http://www.w3.org/2000/svg\" height=\"24px\" viewBox=\"0 -960 960 960\">\n",
       "    <path d=\"M120-120v-720h720v720H120Zm60-500h600v-160H180v160Zm220 220h160v-160H400v160Zm0 220h160v-160H400v160ZM180-400h160v-160H180v160Zm440 0h160v-160H620v160ZM180-180h160v-160H180v160Zm440 0h160v-160H620v160Z\"/>\n",
       "  </svg>\n",
       "    </button>\n",
       "\n",
       "  <style>\n",
       "    .colab-df-container {\n",
       "      display:flex;\n",
       "      gap: 12px;\n",
       "    }\n",
       "\n",
       "    .colab-df-convert {\n",
       "      background-color: #E8F0FE;\n",
       "      border: none;\n",
       "      border-radius: 50%;\n",
       "      cursor: pointer;\n",
       "      display: none;\n",
       "      fill: #1967D2;\n",
       "      height: 32px;\n",
       "      padding: 0 0 0 0;\n",
       "      width: 32px;\n",
       "    }\n",
       "\n",
       "    .colab-df-convert:hover {\n",
       "      background-color: #E2EBFA;\n",
       "      box-shadow: 0px 1px 2px rgba(60, 64, 67, 0.3), 0px 1px 3px 1px rgba(60, 64, 67, 0.15);\n",
       "      fill: #174EA6;\n",
       "    }\n",
       "\n",
       "    .colab-df-buttons div {\n",
       "      margin-bottom: 4px;\n",
       "    }\n",
       "\n",
       "    [theme=dark] .colab-df-convert {\n",
       "      background-color: #3B4455;\n",
       "      fill: #D2E3FC;\n",
       "    }\n",
       "\n",
       "    [theme=dark] .colab-df-convert:hover {\n",
       "      background-color: #434B5C;\n",
       "      box-shadow: 0px 1px 3px 1px rgba(0, 0, 0, 0.15);\n",
       "      filter: drop-shadow(0px 1px 2px rgba(0, 0, 0, 0.3));\n",
       "      fill: #FFFFFF;\n",
       "    }\n",
       "  </style>\n",
       "\n",
       "    <script>\n",
       "      const buttonEl =\n",
       "        document.querySelector('#df-d1ef036b-e985-445d-962b-c7ced50cabbe button.colab-df-convert');\n",
       "      buttonEl.style.display =\n",
       "        google.colab.kernel.accessAllowed ? 'block' : 'none';\n",
       "\n",
       "      async function convertToInteractive(key) {\n",
       "        const element = document.querySelector('#df-d1ef036b-e985-445d-962b-c7ced50cabbe');\n",
       "        const dataTable =\n",
       "          await google.colab.kernel.invokeFunction('convertToInteractive',\n",
       "                                                    [key], {});\n",
       "        if (!dataTable) return;\n",
       "\n",
       "        const docLinkHtml = 'Like what you see? Visit the ' +\n",
       "          '<a target=\"_blank\" href=https://colab.research.google.com/notebooks/data_table.ipynb>data table notebook</a>'\n",
       "          + ' to learn more about interactive tables.';\n",
       "        element.innerHTML = '';\n",
       "        dataTable['output_type'] = 'display_data';\n",
       "        await google.colab.output.renderOutput(dataTable, element);\n",
       "        const docLink = document.createElement('div');\n",
       "        docLink.innerHTML = docLinkHtml;\n",
       "        element.appendChild(docLink);\n",
       "      }\n",
       "    </script>\n",
       "  </div>\n",
       "\n",
       "\n",
       "<div id=\"df-99cb0597-c9e9-4fcf-a7ca-6e2fd713340f\">\n",
       "  <button class=\"colab-df-quickchart\" onclick=\"quickchart('df-99cb0597-c9e9-4fcf-a7ca-6e2fd713340f')\"\n",
       "            title=\"Suggest charts\"\n",
       "            style=\"display:none;\">\n",
       "\n",
       "<svg xmlns=\"http://www.w3.org/2000/svg\" height=\"24px\"viewBox=\"0 0 24 24\"\n",
       "     width=\"24px\">\n",
       "    <g>\n",
       "        <path d=\"M19 3H5c-1.1 0-2 .9-2 2v14c0 1.1.9 2 2 2h14c1.1 0 2-.9 2-2V5c0-1.1-.9-2-2-2zM9 17H7v-7h2v7zm4 0h-2V7h2v10zm4 0h-2v-4h2v4z\"/>\n",
       "    </g>\n",
       "</svg>\n",
       "  </button>\n",
       "\n",
       "<style>\n",
       "  .colab-df-quickchart {\n",
       "      --bg-color: #E8F0FE;\n",
       "      --fill-color: #1967D2;\n",
       "      --hover-bg-color: #E2EBFA;\n",
       "      --hover-fill-color: #174EA6;\n",
       "      --disabled-fill-color: #AAA;\n",
       "      --disabled-bg-color: #DDD;\n",
       "  }\n",
       "\n",
       "  [theme=dark] .colab-df-quickchart {\n",
       "      --bg-color: #3B4455;\n",
       "      --fill-color: #D2E3FC;\n",
       "      --hover-bg-color: #434B5C;\n",
       "      --hover-fill-color: #FFFFFF;\n",
       "      --disabled-bg-color: #3B4455;\n",
       "      --disabled-fill-color: #666;\n",
       "  }\n",
       "\n",
       "  .colab-df-quickchart {\n",
       "    background-color: var(--bg-color);\n",
       "    border: none;\n",
       "    border-radius: 50%;\n",
       "    cursor: pointer;\n",
       "    display: none;\n",
       "    fill: var(--fill-color);\n",
       "    height: 32px;\n",
       "    padding: 0;\n",
       "    width: 32px;\n",
       "  }\n",
       "\n",
       "  .colab-df-quickchart:hover {\n",
       "    background-color: var(--hover-bg-color);\n",
       "    box-shadow: 0 1px 2px rgba(60, 64, 67, 0.3), 0 1px 3px 1px rgba(60, 64, 67, 0.15);\n",
       "    fill: var(--button-hover-fill-color);\n",
       "  }\n",
       "\n",
       "  .colab-df-quickchart-complete:disabled,\n",
       "  .colab-df-quickchart-complete:disabled:hover {\n",
       "    background-color: var(--disabled-bg-color);\n",
       "    fill: var(--disabled-fill-color);\n",
       "    box-shadow: none;\n",
       "  }\n",
       "\n",
       "  .colab-df-spinner {\n",
       "    border: 2px solid var(--fill-color);\n",
       "    border-color: transparent;\n",
       "    border-bottom-color: var(--fill-color);\n",
       "    animation:\n",
       "      spin 1s steps(1) infinite;\n",
       "  }\n",
       "\n",
       "  @keyframes spin {\n",
       "    0% {\n",
       "      border-color: transparent;\n",
       "      border-bottom-color: var(--fill-color);\n",
       "      border-left-color: var(--fill-color);\n",
       "    }\n",
       "    20% {\n",
       "      border-color: transparent;\n",
       "      border-left-color: var(--fill-color);\n",
       "      border-top-color: var(--fill-color);\n",
       "    }\n",
       "    30% {\n",
       "      border-color: transparent;\n",
       "      border-left-color: var(--fill-color);\n",
       "      border-top-color: var(--fill-color);\n",
       "      border-right-color: var(--fill-color);\n",
       "    }\n",
       "    40% {\n",
       "      border-color: transparent;\n",
       "      border-right-color: var(--fill-color);\n",
       "      border-top-color: var(--fill-color);\n",
       "    }\n",
       "    60% {\n",
       "      border-color: transparent;\n",
       "      border-right-color: var(--fill-color);\n",
       "    }\n",
       "    80% {\n",
       "      border-color: transparent;\n",
       "      border-right-color: var(--fill-color);\n",
       "      border-bottom-color: var(--fill-color);\n",
       "    }\n",
       "    90% {\n",
       "      border-color: transparent;\n",
       "      border-bottom-color: var(--fill-color);\n",
       "    }\n",
       "  }\n",
       "</style>\n",
       "\n",
       "  <script>\n",
       "    async function quickchart(key) {\n",
       "      const quickchartButtonEl =\n",
       "        document.querySelector('#' + key + ' button');\n",
       "      quickchartButtonEl.disabled = true;  // To prevent multiple clicks.\n",
       "      quickchartButtonEl.classList.add('colab-df-spinner');\n",
       "      try {\n",
       "        const charts = await google.colab.kernel.invokeFunction(\n",
       "            'suggestCharts', [key], {});\n",
       "      } catch (error) {\n",
       "        console.error('Error during call to suggestCharts:', error);\n",
       "      }\n",
       "      quickchartButtonEl.classList.remove('colab-df-spinner');\n",
       "      quickchartButtonEl.classList.add('colab-df-quickchart-complete');\n",
       "    }\n",
       "    (() => {\n",
       "      let quickchartButtonEl =\n",
       "        document.querySelector('#df-99cb0597-c9e9-4fcf-a7ca-6e2fd713340f button');\n",
       "      quickchartButtonEl.style.display =\n",
       "        google.colab.kernel.accessAllowed ? 'block' : 'none';\n",
       "    })();\n",
       "  </script>\n",
       "</div>\n",
       "\n",
       "    </div>\n",
       "  </div>\n"
      ],
      "application/vnd.google.colaboratory.intrinsic+json": {
       "type": "dataframe",
       "variable_name": "tree_data",
       "summary": "{\n  \"name\": \"tree_data\",\n  \"rows\": 62274,\n  \"fields\": [\n    {\n      \"column\": \"GEOMETRY\",\n      \"properties\": {\n        \"dtype\": \"string\",\n        \"num_unique_values\": 62027,\n        \"samples\": [\n          \"POINT (-97.72772729239166 30.248324198209982)\",\n          \"POINT (-97.70014530749457 30.368554928992584)\",\n          \"POINT (-97.76465213683029 30.303591597330662)\"\n        ],\n        \"semantic_type\": \"\",\n        \"description\": \"\"\n      }\n    },\n    {\n      \"column\": \"SPECIES\",\n      \"properties\": {\n        \"dtype\": \"category\",\n        \"num_unique_values\": 482,\n        \"samples\": [\n          \"Eastern cottonwood\",\n          \"Rose-of-Sharon\",\n          \"Oak, Texas Live (Escarpment)\"\n        ],\n        \"semantic_type\": \"\",\n        \"description\": \"\"\n      }\n    },\n    {\n      \"column\": \"DIAMETER\",\n      \"properties\": {\n        \"dtype\": \"number\",\n        \"std\": 9.003321416476371,\n        \"min\": 0.0,\n        \"max\": 111.0,\n        \"num_unique_values\": 210,\n        \"samples\": [\n          34.0,\n          13.6,\n          51.0\n        ],\n        \"semantic_type\": \"\",\n        \"description\": \"\"\n      }\n    },\n    {\n      \"column\": \"LATITUDE\",\n      \"properties\": {\n        \"dtype\": \"number\",\n        \"std\": 0.05661642138515404,\n        \"min\": 30.140307408731747,\n        \"max\": 30.46821207260656,\n        \"num_unique_values\": 62027,\n        \"samples\": [\n          30.248324198209982,\n          30.368554928992584,\n          30.303591597330662\n        ],\n        \"semantic_type\": \"\",\n        \"description\": \"\"\n      }\n    },\n    {\n      \"column\": \"LONGITUDE\",\n      \"properties\": {\n        \"dtype\": \"number\",\n        \"std\": 0.052843259468805914,\n        \"min\": -97.92458821419288,\n        \"max\": -97.36976200004659,\n        \"num_unique_values\": 62027,\n        \"samples\": [\n          -97.72772729239166,\n          -97.70014530749457,\n          -97.76465213683029\n        ],\n        \"semantic_type\": \"\",\n        \"description\": \"\"\n      }\n    }\n  ]\n}"
      }
     },
     "metadata": {},
     "execution_count": 16
    }
   ],
   "source": [
    "# # Process tree data csv\n",
    "# tree_data = tree_df\n",
    "# \n",
    "# # get proper latitude and longitude data\n",
    "# from shapely.wkt import loads\n",
    "# \n",
    "# # Convert WKT to shapely Point and extract latitude and longitude\n",
    "# tree_data['geometry'] = tree_data['GEOMETRY'].apply(loads)\n",
    "# tree_data['LATITUDE'] = tree_data['geometry'].apply(lambda point: point.y)\n",
    "# tree_data['LONGITUDE'] = tree_data['geometry'].apply(lambda point: point.x)\n",
    "# \n",
    "# # drop unnecessary columns\n",
    "# tree_data = tree_data.drop(columns=['geometry', 'LONGTITUDE', 'New Georeferenced Column'])\n",
    "# tree_data['SPECIES'] = tree_data['SPECIES'].astype(str)\n",
    "# \n",
    "# tree_data.head()"
   ]
  },
  {
   "cell_type": "markdown",
   "metadata": {
    "id": "15fgB_WCX1oC"
   },
   "source": [
    "Getting the trees within a specified radius (set in kilometers) for each business - this one is slow"
   ]
  },
  {
   "cell_type": "code",
   "execution_count": 53,
   "metadata": {
    "id": "-7i85mIuX1oD",
    "colab": {
     "base_uri": "https://localhost:8080/",
     "height": 382
    },
    "outputId": "f4677650-c3c8-4ea4-a7d6-6bfbe302457d",
    "ExecuteTime": {
     "end_time": "2024-10-30T01:15:09.296315Z",
     "start_time": "2024-10-30T01:14:49.578586Z"
    }
   },
   "outputs": [
    {
     "name": "stdout",
     "output_type": "stream",
     "text": [
      "Processed business 1 of 2808\n"
     ]
    },
    {
     "ename": "KeyboardInterrupt",
     "evalue": "",
     "output_type": "error",
     "traceback": [
      "\u001B[1;31m---------------------------------------------------------------------------\u001B[0m",
      "\u001B[1;31mKeyboardInterrupt\u001B[0m                         Traceback (most recent call last)",
      "Cell \u001B[1;32mIn[53], line 19\u001B[0m\n\u001B[0;32m     17\u001B[0m \u001B[38;5;28;01mfor\u001B[39;00m _, tree_row \u001B[38;5;129;01min\u001B[39;00m tree_data\u001B[38;5;241m.\u001B[39miterrows():\n\u001B[0;32m     18\u001B[0m     tree_location \u001B[38;5;241m=\u001B[39m (tree_row[\u001B[38;5;124m'\u001B[39m\u001B[38;5;124mLATITUDE\u001B[39m\u001B[38;5;124m'\u001B[39m], tree_row[\u001B[38;5;124m'\u001B[39m\u001B[38;5;124mLONGITUDE\u001B[39m\u001B[38;5;124m'\u001B[39m])\n\u001B[1;32m---> 19\u001B[0m     distance \u001B[38;5;241m=\u001B[39m geodesic(business_location, tree_location)\u001B[38;5;241m.\u001B[39mkm\n\u001B[0;32m     21\u001B[0m     \u001B[38;5;66;03m# append within radius\u001B[39;00m\n\u001B[0;32m     22\u001B[0m     \u001B[38;5;28;01mif\u001B[39;00m distance \u001B[38;5;241m<\u001B[39m\u001B[38;5;241m=\u001B[39m radius:\n",
      "File \u001B[1;32m~\\AppData\\Local\\Programs\\Python\\Python310\\lib\\site-packages\\geopy\\distance.py:540\u001B[0m, in \u001B[0;36mgeodesic.__init__\u001B[1;34m(self, *args, **kwargs)\u001B[0m\n\u001B[0;32m    538\u001B[0m \u001B[38;5;28mself\u001B[39m\u001B[38;5;241m.\u001B[39mset_ellipsoid(kwargs\u001B[38;5;241m.\u001B[39mpop(\u001B[38;5;124m'\u001B[39m\u001B[38;5;124mellipsoid\u001B[39m\u001B[38;5;124m'\u001B[39m, \u001B[38;5;124m'\u001B[39m\u001B[38;5;124mWGS-84\u001B[39m\u001B[38;5;124m'\u001B[39m))\n\u001B[0;32m    539\u001B[0m major, minor, f \u001B[38;5;241m=\u001B[39m \u001B[38;5;28mself\u001B[39m\u001B[38;5;241m.\u001B[39mELLIPSOID\n\u001B[1;32m--> 540\u001B[0m \u001B[38;5;28msuper\u001B[39m()\u001B[38;5;241m.\u001B[39m\u001B[38;5;21m__init__\u001B[39m(\u001B[38;5;241m*\u001B[39margs, \u001B[38;5;241m*\u001B[39m\u001B[38;5;241m*\u001B[39mkwargs)\n",
      "File \u001B[1;32m~\\AppData\\Local\\Programs\\Python\\Python310\\lib\\site-packages\\geopy\\distance.py:276\u001B[0m, in \u001B[0;36mDistance.__init__\u001B[1;34m(self, *args, **kwargs)\u001B[0m\n\u001B[0;32m    274\u001B[0m \u001B[38;5;28;01melif\u001B[39;00m \u001B[38;5;28mlen\u001B[39m(args) \u001B[38;5;241m>\u001B[39m \u001B[38;5;241m1\u001B[39m:\n\u001B[0;32m    275\u001B[0m     \u001B[38;5;28;01mfor\u001B[39;00m a, b \u001B[38;5;129;01min\u001B[39;00m util\u001B[38;5;241m.\u001B[39mpairwise(args):\n\u001B[1;32m--> 276\u001B[0m         kilometers \u001B[38;5;241m+\u001B[39m\u001B[38;5;241m=\u001B[39m \u001B[38;5;28;43mself\u001B[39;49m\u001B[38;5;241;43m.\u001B[39;49m\u001B[43mmeasure\u001B[49m\u001B[43m(\u001B[49m\u001B[43ma\u001B[49m\u001B[43m,\u001B[49m\u001B[43m \u001B[49m\u001B[43mb\u001B[49m\u001B[43m)\u001B[49m\n\u001B[0;32m    278\u001B[0m kilometers \u001B[38;5;241m+\u001B[39m\u001B[38;5;241m=\u001B[39m units\u001B[38;5;241m.\u001B[39mkilometers(\u001B[38;5;241m*\u001B[39m\u001B[38;5;241m*\u001B[39mkwargs)\n\u001B[0;32m    279\u001B[0m \u001B[38;5;28mself\u001B[39m\u001B[38;5;241m.\u001B[39m__kilometers \u001B[38;5;241m=\u001B[39m kilometers\n",
      "File \u001B[1;32m~\\AppData\\Local\\Programs\\Python\\Python310\\lib\\site-packages\\geopy\\distance.py:566\u001B[0m, in \u001B[0;36mgeodesic.measure\u001B[1;34m(self, a, b)\u001B[0m\n\u001B[0;32m    561\u001B[0m \u001B[38;5;28;01mif\u001B[39;00m \u001B[38;5;129;01mnot\u001B[39;00m (\u001B[38;5;28misinstance\u001B[39m(\u001B[38;5;28mself\u001B[39m\u001B[38;5;241m.\u001B[39mgeod, Geodesic) \u001B[38;5;129;01mand\u001B[39;00m\n\u001B[0;32m    562\u001B[0m         \u001B[38;5;28mself\u001B[39m\u001B[38;5;241m.\u001B[39mgeod\u001B[38;5;241m.\u001B[39ma \u001B[38;5;241m==\u001B[39m \u001B[38;5;28mself\u001B[39m\u001B[38;5;241m.\u001B[39mELLIPSOID[\u001B[38;5;241m0\u001B[39m] \u001B[38;5;129;01mand\u001B[39;00m\n\u001B[0;32m    563\u001B[0m         \u001B[38;5;28mself\u001B[39m\u001B[38;5;241m.\u001B[39mgeod\u001B[38;5;241m.\u001B[39mf \u001B[38;5;241m==\u001B[39m \u001B[38;5;28mself\u001B[39m\u001B[38;5;241m.\u001B[39mELLIPSOID[\u001B[38;5;241m2\u001B[39m]):\n\u001B[0;32m    564\u001B[0m     \u001B[38;5;28mself\u001B[39m\u001B[38;5;241m.\u001B[39mgeod \u001B[38;5;241m=\u001B[39m Geodesic(\u001B[38;5;28mself\u001B[39m\u001B[38;5;241m.\u001B[39mELLIPSOID[\u001B[38;5;241m0\u001B[39m], \u001B[38;5;28mself\u001B[39m\u001B[38;5;241m.\u001B[39mELLIPSOID[\u001B[38;5;241m2\u001B[39m])\n\u001B[1;32m--> 566\u001B[0m s12 \u001B[38;5;241m=\u001B[39m \u001B[38;5;28;43mself\u001B[39;49m\u001B[38;5;241;43m.\u001B[39;49m\u001B[43mgeod\u001B[49m\u001B[38;5;241;43m.\u001B[39;49m\u001B[43mInverse\u001B[49m\u001B[43m(\u001B[49m\u001B[43mlat1\u001B[49m\u001B[43m,\u001B[49m\u001B[43m \u001B[49m\u001B[43mlon1\u001B[49m\u001B[43m,\u001B[49m\u001B[43m \u001B[49m\u001B[43mlat2\u001B[49m\u001B[43m,\u001B[49m\u001B[43m \u001B[49m\u001B[43mlon2\u001B[49m\u001B[43m,\u001B[49m\n\u001B[0;32m    567\u001B[0m \u001B[43m                        \u001B[49m\u001B[43mGeodesic\u001B[49m\u001B[38;5;241;43m.\u001B[39;49m\u001B[43mDISTANCE\u001B[49m\u001B[43m)\u001B[49m[\u001B[38;5;124m'\u001B[39m\u001B[38;5;124ms12\u001B[39m\u001B[38;5;124m'\u001B[39m]\n\u001B[0;32m    569\u001B[0m \u001B[38;5;28;01mreturn\u001B[39;00m s12\n",
      "File \u001B[1;32m~\\AppData\\Local\\Programs\\Python\\Python310\\lib\\site-packages\\geographiclib\\geodesic.py:1030\u001B[0m, in \u001B[0;36mGeodesic.Inverse\u001B[1;34m(self, lat1, lon1, lat2, lon2, outmask)\u001B[0m\n\u001B[0;32m   1012\u001B[0m \u001B[38;5;28;01mdef\u001B[39;00m \u001B[38;5;21mInverse\u001B[39m(\u001B[38;5;28mself\u001B[39m, lat1, lon1, lat2, lon2,\n\u001B[0;32m   1013\u001B[0m             outmask \u001B[38;5;241m=\u001B[39m GeodesicCapability\u001B[38;5;241m.\u001B[39mSTANDARD):\n\u001B[0;32m   1014\u001B[0m   \u001B[38;5;124;03m\"\"\"Solve the inverse geodesic problem\u001B[39;00m\n\u001B[0;32m   1015\u001B[0m \n\u001B[0;32m   1016\u001B[0m \u001B[38;5;124;03m  :param lat1: latitude of the first point in degrees\u001B[39;00m\n\u001B[1;32m   (...)\u001B[0m\n\u001B[0;32m   1027\u001B[0m \n\u001B[0;32m   1028\u001B[0m \u001B[38;5;124;03m  \"\"\"\u001B[39;00m\n\u001B[1;32m-> 1030\u001B[0m   a12, s12, salp1,calp1, salp2,calp2, m12, M12, M21, S12 \u001B[38;5;241m=\u001B[39m \u001B[38;5;28;43mself\u001B[39;49m\u001B[38;5;241;43m.\u001B[39;49m\u001B[43m_GenInverse\u001B[49m\u001B[43m(\u001B[49m\n\u001B[0;32m   1031\u001B[0m \u001B[43m    \u001B[49m\u001B[43mlat1\u001B[49m\u001B[43m,\u001B[49m\u001B[43m \u001B[49m\u001B[43mlon1\u001B[49m\u001B[43m,\u001B[49m\u001B[43m \u001B[49m\u001B[43mlat2\u001B[49m\u001B[43m,\u001B[49m\u001B[43m \u001B[49m\u001B[43mlon2\u001B[49m\u001B[43m,\u001B[49m\u001B[43m \u001B[49m\u001B[43moutmask\u001B[49m\u001B[43m)\u001B[49m\n\u001B[0;32m   1032\u001B[0m   outmask \u001B[38;5;241m&\u001B[39m\u001B[38;5;241m=\u001B[39m Geodesic\u001B[38;5;241m.\u001B[39mOUT_MASK\n\u001B[0;32m   1033\u001B[0m   \u001B[38;5;28;01mif\u001B[39;00m outmask \u001B[38;5;241m&\u001B[39m Geodesic\u001B[38;5;241m.\u001B[39mLONG_UNROLL:\n",
      "File \u001B[1;32m~\\AppData\\Local\\Programs\\Python\\Python310\\lib\\site-packages\\geographiclib\\geodesic.py:876\u001B[0m, in \u001B[0;36mGeodesic._GenInverse\u001B[1;34m(self, lat1, lon1, lat2, lon2, outmask)\u001B[0m\n\u001B[0;32m    870\u001B[0m salp1b \u001B[38;5;241m=\u001B[39m Geodesic\u001B[38;5;241m.\u001B[39mtiny_; calp1b \u001B[38;5;241m=\u001B[39m \u001B[38;5;241m-\u001B[39m\u001B[38;5;241m1.0\u001B[39m\n\u001B[0;32m    872\u001B[0m \u001B[38;5;28;01mwhile\u001B[39;00m numit \u001B[38;5;241m<\u001B[39m Geodesic\u001B[38;5;241m.\u001B[39mmaxit2_:\n\u001B[0;32m    873\u001B[0m   \u001B[38;5;66;03m# the WGS84 test set: mean = 1.47, sd = 1.25, max = 16\u001B[39;00m\n\u001B[0;32m    874\u001B[0m   \u001B[38;5;66;03m# WGS84 and random input: mean = 2.85, sd = 0.60\u001B[39;00m\n\u001B[0;32m    875\u001B[0m   (v, salp2, calp2, sig12, ssig1, csig1, ssig2, csig2,\n\u001B[1;32m--> 876\u001B[0m    eps, domg12, dv) \u001B[38;5;241m=\u001B[39m \u001B[38;5;28;43mself\u001B[39;49m\u001B[38;5;241;43m.\u001B[39;49m\u001B[43m_Lambda12\u001B[49m\u001B[43m(\u001B[49m\n\u001B[0;32m    877\u001B[0m \u001B[43m     \u001B[49m\u001B[43msbet1\u001B[49m\u001B[43m,\u001B[49m\u001B[43m \u001B[49m\u001B[43mcbet1\u001B[49m\u001B[43m,\u001B[49m\u001B[43m \u001B[49m\u001B[43mdn1\u001B[49m\u001B[43m,\u001B[49m\u001B[43m \u001B[49m\u001B[43msbet2\u001B[49m\u001B[43m,\u001B[49m\u001B[43m \u001B[49m\u001B[43mcbet2\u001B[49m\u001B[43m,\u001B[49m\u001B[43m \u001B[49m\u001B[43mdn2\u001B[49m\u001B[43m,\u001B[49m\n\u001B[0;32m    878\u001B[0m \u001B[43m     \u001B[49m\u001B[43msalp1\u001B[49m\u001B[43m,\u001B[49m\u001B[43m \u001B[49m\u001B[43mcalp1\u001B[49m\u001B[43m,\u001B[49m\u001B[43m \u001B[49m\u001B[43mslam12\u001B[49m\u001B[43m,\u001B[49m\u001B[43m \u001B[49m\u001B[43mclam12\u001B[49m\u001B[43m,\u001B[49m\u001B[43m \u001B[49m\u001B[43mnumit\u001B[49m\u001B[43m \u001B[49m\u001B[38;5;241;43m<\u001B[39;49m\u001B[43m \u001B[49m\u001B[43mGeodesic\u001B[49m\u001B[38;5;241;43m.\u001B[39;49m\u001B[43mmaxit1_\u001B[49m\u001B[43m,\u001B[49m\n\u001B[0;32m    879\u001B[0m \u001B[43m     \u001B[49m\u001B[43mC1a\u001B[49m\u001B[43m,\u001B[49m\u001B[43m \u001B[49m\u001B[43mC2a\u001B[49m\u001B[43m,\u001B[49m\u001B[43m \u001B[49m\u001B[43mC3a\u001B[49m\u001B[43m)\u001B[49m\n\u001B[0;32m    880\u001B[0m   \u001B[38;5;66;03m# Reversed test to allow escape with NaNs\u001B[39;00m\n\u001B[0;32m    881\u001B[0m   \u001B[38;5;28;01mif\u001B[39;00m tripb \u001B[38;5;129;01mor\u001B[39;00m \u001B[38;5;129;01mnot\u001B[39;00m (\u001B[38;5;28mabs\u001B[39m(v) \u001B[38;5;241m>\u001B[39m\u001B[38;5;241m=\u001B[39m (\u001B[38;5;241m8\u001B[39m \u001B[38;5;28;01mif\u001B[39;00m tripn \u001B[38;5;28;01melse\u001B[39;00m \u001B[38;5;241m1\u001B[39m) \u001B[38;5;241m*\u001B[39m Geodesic\u001B[38;5;241m.\u001B[39mtol0_):\n",
      "File \u001B[1;32m~\\AppData\\Local\\Programs\\Python\\Python310\\lib\\site-packages\\geographiclib\\geodesic.py:655\u001B[0m, in \u001B[0;36mGeodesic._Lambda12\u001B[1;34m(self, sbet1, cbet1, dn1, sbet2, cbet2, dn2, salp1, calp1, slam120, clam120, diffp, C1a, C2a, C3a)\u001B[0m\n\u001B[0;32m    650\u001B[0m salp2 \u001B[38;5;241m=\u001B[39m salp0 \u001B[38;5;241m/\u001B[39m cbet2 \u001B[38;5;28;01mif\u001B[39;00m cbet2 \u001B[38;5;241m!=\u001B[39m cbet1 \u001B[38;5;28;01melse\u001B[39;00m salp1\n\u001B[0;32m    651\u001B[0m \u001B[38;5;66;03m# calp2 = sqrt(1 - sq(salp2))\u001B[39;00m\n\u001B[0;32m    652\u001B[0m \u001B[38;5;66;03m#       = sqrt(sq(calp0) - sq(sbet2)) / cbet2\u001B[39;00m\n\u001B[0;32m    653\u001B[0m \u001B[38;5;66;03m# and subst for calp0 and rearrange to give (choose positive sqrt\u001B[39;00m\n\u001B[0;32m    654\u001B[0m \u001B[38;5;66;03m# to give alp2 in [0, pi/2]).\u001B[39;00m\n\u001B[1;32m--> 655\u001B[0m calp2 \u001B[38;5;241m=\u001B[39m (math\u001B[38;5;241m.\u001B[39msqrt(\u001B[43mMath\u001B[49m\u001B[38;5;241;43m.\u001B[39;49m\u001B[43msq\u001B[49m\u001B[43m(\u001B[49m\u001B[43mcalp1\u001B[49m\u001B[43m \u001B[49m\u001B[38;5;241;43m*\u001B[39;49m\u001B[43m \u001B[49m\u001B[43mcbet1\u001B[49m\u001B[43m)\u001B[49m \u001B[38;5;241m+\u001B[39m\n\u001B[0;32m    656\u001B[0m                    ((cbet2 \u001B[38;5;241m-\u001B[39m cbet1) \u001B[38;5;241m*\u001B[39m (cbet1 \u001B[38;5;241m+\u001B[39m cbet2) \u001B[38;5;28;01mif\u001B[39;00m cbet1 \u001B[38;5;241m<\u001B[39m \u001B[38;5;241m-\u001B[39msbet1\n\u001B[0;32m    657\u001B[0m                     \u001B[38;5;28;01melse\u001B[39;00m (sbet1 \u001B[38;5;241m-\u001B[39m sbet2) \u001B[38;5;241m*\u001B[39m (sbet1 \u001B[38;5;241m+\u001B[39m sbet2))) \u001B[38;5;241m/\u001B[39m cbet2\n\u001B[0;32m    658\u001B[0m          \u001B[38;5;28;01mif\u001B[39;00m cbet2 \u001B[38;5;241m!=\u001B[39m cbet1 \u001B[38;5;129;01mor\u001B[39;00m \u001B[38;5;28mabs\u001B[39m(sbet2) \u001B[38;5;241m!=\u001B[39m \u001B[38;5;241m-\u001B[39msbet1 \u001B[38;5;28;01melse\u001B[39;00m \u001B[38;5;28mabs\u001B[39m(calp1))\n\u001B[0;32m    659\u001B[0m \u001B[38;5;66;03m# tan(bet2) = tan(sig2) * cos(alp2)\u001B[39;00m\n\u001B[0;32m    660\u001B[0m \u001B[38;5;66;03m# tan(omg2) = sin(alp0) * tan(sig2).\u001B[39;00m\n\u001B[0;32m    661\u001B[0m ssig2 \u001B[38;5;241m=\u001B[39m sbet2; somg2 \u001B[38;5;241m=\u001B[39m salp0 \u001B[38;5;241m*\u001B[39m sbet2\n",
      "File \u001B[1;32m~\\AppData\\Local\\Programs\\Python\\Python310\\lib\\site-packages\\geographiclib\\geomath.py:22\u001B[0m, in \u001B[0;36mMath.sq\u001B[1;34m(x)\u001B[0m\n\u001B[0;32m     17\u001B[0m \u001B[38;5;28;01mclass\u001B[39;00m \u001B[38;5;21;01mMath\u001B[39;00m:\n\u001B[0;32m     18\u001B[0m   \u001B[38;5;124;03m\"\"\"\u001B[39;00m\n\u001B[0;32m     19\u001B[0m \u001B[38;5;124;03m  Additional math routines for GeographicLib.\u001B[39;00m\n\u001B[0;32m     20\u001B[0m \u001B[38;5;124;03m  \"\"\"\u001B[39;00m\n\u001B[1;32m---> 22\u001B[0m   \u001B[38;5;129m@staticmethod\u001B[39m\n\u001B[0;32m     23\u001B[0m   \u001B[38;5;28;01mdef\u001B[39;00m \u001B[38;5;21msq\u001B[39m(x):\n\u001B[0;32m     24\u001B[0m     \u001B[38;5;124;03m\"\"\"Square a number\"\"\"\u001B[39;00m\n\u001B[0;32m     26\u001B[0m     \u001B[38;5;28;01mreturn\u001B[39;00m x \u001B[38;5;241m*\u001B[39m x\n",
      "\u001B[1;31mKeyboardInterrupt\u001B[0m: "
     ]
    }
   ],
   "source": [
    "# Set radius for businesses to find local trees\n",
    "from geopy.distance import geodesic\n",
    "total_businesses = len(business_data)\n",
    "\n",
    "radius = 1 # 1 km or other distance\n",
    "\n",
    "# for each business, use the coordinates to get nearby trees within the specified radius\n",
    "for idx, business_row in business_data.iterrows():\n",
    "\n",
    "    # get location of business\n",
    "    business_location = (business_row['lat'], business_row['long'])\n",
    "\n",
    "    # initialize tree list for each business\n",
    "    nearby_trees = []\n",
    "\n",
    "    # for each tree, check if it is within the radius\n",
    "    for _, tree_row in tree_data.iterrows():\n",
    "        tree_location = (tree_row['LATITUDE'], tree_row['LONGITUDE'])\n",
    "        distance = geodesic(business_location, tree_location).km\n",
    "\n",
    "        # append within radius\n",
    "        if distance <= radius:\n",
    "            nearby_trees.append(tree_row['SPECIES'])\n",
    "\n",
    "    # Store species of nearby trees\n",
    "    business_data.at[idx, 'NearbyTreeSpecies'] = ', '.join(nearby_trees)\n",
    "\n",
    "    # Print progress\n",
    "    print(f\"Processed business {idx + 1} of {total_businesses}\")\n"
   ]
  },
  {
   "cell_type": "markdown",
   "metadata": {
    "id": "F9L8s5x0X1oE"
   },
   "source": [
    "Faster way to get distances by converting stuff to radians?"
   ]
  },
  {
   "cell_type": "code",
   "execution_count": 54,
   "metadata": {
    "id": "gJ0hupioX1oE",
    "outputId": "e7ac1594-60a7-4b34-8dd7-6f063145ebc8",
    "colab": {
     "base_uri": "https://localhost:8080/"
    },
    "ExecuteTime": {
     "end_time": "2024-10-30T01:15:15.831235Z",
     "start_time": "2024-10-30T01:15:14.426182Z"
    }
   },
   "outputs": [
    {
     "name": "stdout",
     "output_type": "stream",
     "text": [
      "Completed processing for all businesses.\n"
     ]
    }
   ],
   "source": [
    "from sklearn.neighbors import BallTree\n",
    "import numpy as np\n",
    "\n",
    "# Radius in kilometers\n",
    "radius = 1.0 / 6371.0  # Earth radius in km for haversine\n",
    "\n",
    "# Prepare data for BallTree in radians\n",
    "business_coords = np.radians(business_data[['lat', 'long']].values)\n",
    "tree_coords = np.radians(tree_data[['LATITUDE', 'LONGITUDE']].values)\n",
    "\n",
    "# Create BallTree for the tree locations\n",
    "tree_ball_tree = BallTree(tree_coords, metric='haversine')\n",
    "\n",
    "# Function to find nearby tree species for each business\n",
    "def find_nearby_trees_for_business(business_location):\n",
    "    # Query the tree BallTree for points within the radius\n",
    "    indices = tree_ball_tree.query_radius([business_location], r=radius)[0]\n",
    "    nearby_trees = tree_data.iloc[indices]['SPECIES'].tolist()\n",
    "    return ', '.join(nearby_trees)\n",
    "\n",
    "# Apply the function to each business\n",
    "business_data['NearbyTreeSpecies'] = [find_nearby_trees_for_business(loc) for loc in business_coords]\n",
    "\n",
    "# Optional: Print progress\n",
    "print(\"Completed processing for all businesses.\")\n"
   ]
  },
  {
   "cell_type": "code",
   "source": [
    "from sklearn.neighbors import BallTree\n",
    "import numpy as np\n",
    "\n",
    "# Radius in kilometers\n",
    "radius = 1.0 / 6371.0  # Earth radius in km for haversine\n",
    "\n",
    "# Prepare data for BallTree in radians\n",
    "business_coords = np.radians(business_data[['lat', 'long']].values)\n",
    "tree_coords = np.radians(tree_data[['LATITUDE', 'LONGITUDE']].values)\n",
    "\n",
    "# Create BallTree for the tree locations\n",
    "tree_ball_tree = BallTree(tree_coords, metric='haversine')\n",
    "\n",
    "def find_nearby_trees_for_business(business_location):\n",
    "    # Query the tree BallTree for points within the radius\n",
    "    indices = tree_ball_tree.query_radius([business_location], r=radius)[0]\n",
    "\n",
    "    # If no nearby trees are found within the radius, find the closest tree\n",
    "    if len(indices) == 0:\n",
    "        # Use the query method to find the nearest tree outside the radius\n",
    "        nearest_index = tree_ball_tree.query([business_location], k=1)[1][0][0]\n",
    "        nearest_tree = tree_data.iloc[nearest_index]['SPECIES']\n",
    "        return f\"{nearest_tree}\"\n",
    "\n",
    "    # Get species of nearby trees found within the radius\n",
    "    nearby_trees = tree_data.iloc[indices]['SPECIES'].dropna().tolist()  # Remove NaNs if any\n",
    "    return ', '.join([species for species in nearby_trees if species.strip()])  # Remove empty strings\n",
    "\n",
    "# Apply the function to each business\n",
    "business_data['NearbyTreeSpecies'] = [find_nearby_trees_for_business(loc) for loc in business_coords]"
   ],
   "metadata": {
    "id": "6-X7HGivdrG0",
    "ExecuteTime": {
     "end_time": "2024-10-30T01:15:30.746752Z",
     "start_time": "2024-10-30T01:15:28.912463Z"
    }
   },
   "execution_count": 55,
   "outputs": []
  },
  {
   "cell_type": "markdown",
   "metadata": {
    "id": "BLjbrRhxX1oG"
   },
   "source": [
    "Save as csv if necessary"
   ]
  },
  {
   "cell_type": "code",
   "execution_count": 56,
   "metadata": {
    "id": "93P0BXELX1oG",
    "ExecuteTime": {
     "end_time": "2024-10-30T01:15:39.575339Z",
     "start_time": "2024-10-30T01:15:39.313252Z"
    }
   },
   "outputs": [],
   "source": [
    "# save as csv\n",
    "business_data.to_csv('business_trees_1km.csv', index=False)"
   ]
  },
  {
   "cell_type": "markdown",
   "metadata": {
    "id": "nxq5Pv--X1oH"
   },
   "source": [
    "Decision Tree Era"
   ]
  },
  {
   "cell_type": "code",
   "execution_count": 57,
   "metadata": {
    "colab": {
     "base_uri": "https://localhost:8080/",
     "height": 551
    },
    "id": "l2n7J6gbX1oH",
    "outputId": "d3615679-a4f1-4cba-e510-a1f0d7df3b2d",
    "ExecuteTime": {
     "end_time": "2024-10-30T01:19:58.515629Z",
     "start_time": "2024-10-30T01:19:58.186672Z"
    }
   },
   "outputs": [
    {
     "data": {
      "text/plain": "   Unnamed: 0  Reported.Year Property.ID..  \\\n0           1         2017.0        187746   \n1           2         2017.0        230740   \n2           3         2017.0        729528   \n3           5         2017.0        526381   \n4           6         2017.0        200001   \n\n  Commercial.Property..Property.Street.Address  \\\n0                      5126 E 5 ST, AUSTIN TX,   \n1         2500 RIDGEPOINT DR, AUSTIN TX, 78728   \n2  1700 S PLEASANT VALLEY RD, AUSTIN TX, 78741   \n3           2011 W RUNDBERG LN Austin TX 78758   \n4                202 W 17 ST, AUSTIN TX, 78701   \n\n                                 Building.Name  Total.SqFt  \\\n0                      5126 E 5 ST, AUSTIN TX,      7419.0   \n1         2500 RIDGEPOINT DR, AUSTIN TX, 78728     49024.0   \n2  1700 S PLEASANT VALLEY RD, AUSTIN TX, 78741    101953.0   \n3           2011 W RUNDBERG LN Austin TX 78758    146142.0   \n4                202 W 17 ST, AUSTIN TX, 78701     15350.0   \n\n                     Category Year.Built  kWh.sqft  Percentile.Rank  ...  \\\n0                         NaN       1940     0.000              NaN  ...   \n1     INDUSTRIAL (W/sqft > 3)       1983    15.580            39.58  ...   \n2  STORE\\GROCERY (W/sqft > 5)       2009    32.063            76.26  ...   \n3           OFFICE LG > 35000       1999     8.049             4.79  ...   \n4            OFFICE MED 10-35       1998   100.129              NaN  ...   \n\n  Total.Green.House.Gas.Emissions..MtCO2e.  Portfolio.Manager.Organization  \\\n0                                      NaN                             NaN   \n1                                      NaN                             NaN   \n2                                      NaN                             NaN   \n3                                      NaN                             NaN   \n4                                      NaN                             NaN   \n\n                                         GeoLocation  \\\n0  5126 E 5 ST\\r\\nAUSTIN, TX\\r\\n(30.251707, -97.6...   \n1  2500 RIDGEPOINT DR\\r\\nAUSTIN, TX 78728\\r\\n(30....   \n2  1700 S PLEASANT VALLEY RD\\r\\nAUSTIN, TX 78741\\...   \n3  2011 W RUNDBERG LN\\r\\nAustin, TX 78758\\r\\n(30....   \n4  202 W 17 ST\\r\\nAUSTIN, TX 78701\\r\\n(30.279196,...   \n\n   Submitted.Name.of.Organization      GeoLocation_clean        lat  \\\n0                    Pantur, Inc.  30.251707, -97.697313  30.251707   \n1     Equitable Commercial Realty  30.328069, -97.672401  30.328069   \n2                     Mimco, Inc.  30.236494, -97.721013  30.236494   \n3                            AISD  30.373732, -97.719236  30.373732   \n4          Charter Communications  30.279196, -97.740475  30.279196   \n\n        long                                  NearbyTreeSpecies  cluster  \\\n0 -97.697313  Hackberry, Hackberry, Oak, Oak, Oak, Mesquite,...        2   \n1 -97.672401                                                Oak        2   \n2 -97.721013  Oak, Mulberry, Chinaberry, Chinaberry, Chinabe...        1   \n3 -97.719236  Oak, Oak, Pecan, Pecan, Sycamore, Pear, Pear, ...        2   \n4 -97.740475  Loquat, Pecan, Crape Myrtle, Crape Myrtle, Oak...        2   \n\n   BestTreeSpecies  \n0            Pecan  \n1              Oak  \n2              Oak  \n3              Oak  \n4              Oak  \n\n[5 rows x 23 columns]",
      "text/html": "<div>\n<style scoped>\n    .dataframe tbody tr th:only-of-type {\n        vertical-align: middle;\n    }\n\n    .dataframe tbody tr th {\n        vertical-align: top;\n    }\n\n    .dataframe thead th {\n        text-align: right;\n    }\n</style>\n<table border=\"1\" class=\"dataframe\">\n  <thead>\n    <tr style=\"text-align: right;\">\n      <th></th>\n      <th>Unnamed: 0</th>\n      <th>Reported.Year</th>\n      <th>Property.ID..</th>\n      <th>Commercial.Property..Property.Street.Address</th>\n      <th>Building.Name</th>\n      <th>Total.SqFt</th>\n      <th>Category</th>\n      <th>Year.Built</th>\n      <th>kWh.sqft</th>\n      <th>Percentile.Rank</th>\n      <th>...</th>\n      <th>Total.Green.House.Gas.Emissions..MtCO2e.</th>\n      <th>Portfolio.Manager.Organization</th>\n      <th>GeoLocation</th>\n      <th>Submitted.Name.of.Organization</th>\n      <th>GeoLocation_clean</th>\n      <th>lat</th>\n      <th>long</th>\n      <th>NearbyTreeSpecies</th>\n      <th>cluster</th>\n      <th>BestTreeSpecies</th>\n    </tr>\n  </thead>\n  <tbody>\n    <tr>\n      <th>0</th>\n      <td>1</td>\n      <td>2017.0</td>\n      <td>187746</td>\n      <td>5126 E 5 ST, AUSTIN TX,</td>\n      <td>5126 E 5 ST, AUSTIN TX,</td>\n      <td>7419.0</td>\n      <td>NaN</td>\n      <td>1940</td>\n      <td>0.000</td>\n      <td>NaN</td>\n      <td>...</td>\n      <td>NaN</td>\n      <td>NaN</td>\n      <td>5126 E 5 ST\\r\\nAUSTIN, TX\\r\\n(30.251707, -97.6...</td>\n      <td>Pantur, Inc.</td>\n      <td>30.251707, -97.697313</td>\n      <td>30.251707</td>\n      <td>-97.697313</td>\n      <td>Hackberry, Hackberry, Oak, Oak, Oak, Mesquite,...</td>\n      <td>2</td>\n      <td>Pecan</td>\n    </tr>\n    <tr>\n      <th>1</th>\n      <td>2</td>\n      <td>2017.0</td>\n      <td>230740</td>\n      <td>2500 RIDGEPOINT DR, AUSTIN TX, 78728</td>\n      <td>2500 RIDGEPOINT DR, AUSTIN TX, 78728</td>\n      <td>49024.0</td>\n      <td>INDUSTRIAL (W/sqft &gt; 3)</td>\n      <td>1983</td>\n      <td>15.580</td>\n      <td>39.58</td>\n      <td>...</td>\n      <td>NaN</td>\n      <td>NaN</td>\n      <td>2500 RIDGEPOINT DR\\r\\nAUSTIN, TX 78728\\r\\n(30....</td>\n      <td>Equitable Commercial Realty</td>\n      <td>30.328069, -97.672401</td>\n      <td>30.328069</td>\n      <td>-97.672401</td>\n      <td>Oak</td>\n      <td>2</td>\n      <td>Oak</td>\n    </tr>\n    <tr>\n      <th>2</th>\n      <td>3</td>\n      <td>2017.0</td>\n      <td>729528</td>\n      <td>1700 S PLEASANT VALLEY RD, AUSTIN TX, 78741</td>\n      <td>1700 S PLEASANT VALLEY RD, AUSTIN TX, 78741</td>\n      <td>101953.0</td>\n      <td>STORE\\GROCERY (W/sqft &gt; 5)</td>\n      <td>2009</td>\n      <td>32.063</td>\n      <td>76.26</td>\n      <td>...</td>\n      <td>NaN</td>\n      <td>NaN</td>\n      <td>1700 S PLEASANT VALLEY RD\\r\\nAUSTIN, TX 78741\\...</td>\n      <td>Mimco, Inc.</td>\n      <td>30.236494, -97.721013</td>\n      <td>30.236494</td>\n      <td>-97.721013</td>\n      <td>Oak, Mulberry, Chinaberry, Chinaberry, Chinabe...</td>\n      <td>1</td>\n      <td>Oak</td>\n    </tr>\n    <tr>\n      <th>3</th>\n      <td>5</td>\n      <td>2017.0</td>\n      <td>526381</td>\n      <td>2011 W RUNDBERG LN Austin TX 78758</td>\n      <td>2011 W RUNDBERG LN Austin TX 78758</td>\n      <td>146142.0</td>\n      <td>OFFICE LG &gt; 35000</td>\n      <td>1999</td>\n      <td>8.049</td>\n      <td>4.79</td>\n      <td>...</td>\n      <td>NaN</td>\n      <td>NaN</td>\n      <td>2011 W RUNDBERG LN\\r\\nAustin, TX 78758\\r\\n(30....</td>\n      <td>AISD</td>\n      <td>30.373732, -97.719236</td>\n      <td>30.373732</td>\n      <td>-97.719236</td>\n      <td>Oak, Oak, Pecan, Pecan, Sycamore, Pear, Pear, ...</td>\n      <td>2</td>\n      <td>Oak</td>\n    </tr>\n    <tr>\n      <th>4</th>\n      <td>6</td>\n      <td>2017.0</td>\n      <td>200001</td>\n      <td>202 W 17 ST, AUSTIN TX, 78701</td>\n      <td>202 W 17 ST, AUSTIN TX, 78701</td>\n      <td>15350.0</td>\n      <td>OFFICE MED 10-35</td>\n      <td>1998</td>\n      <td>100.129</td>\n      <td>NaN</td>\n      <td>...</td>\n      <td>NaN</td>\n      <td>NaN</td>\n      <td>202 W 17 ST\\r\\nAUSTIN, TX 78701\\r\\n(30.279196,...</td>\n      <td>Charter Communications</td>\n      <td>30.279196, -97.740475</td>\n      <td>30.279196</td>\n      <td>-97.740475</td>\n      <td>Loquat, Pecan, Crape Myrtle, Crape Myrtle, Oak...</td>\n      <td>2</td>\n      <td>Oak</td>\n    </tr>\n  </tbody>\n</table>\n<p>5 rows × 23 columns</p>\n</div>"
     },
     "execution_count": 57,
     "metadata": {},
     "output_type": "execute_result"
    }
   ],
   "source": [
    "from collections import Counter\n",
    "\n",
    "# read data (if necessary) and make sure list is string\n",
    "data = pd.read_csv('business_trees_1km_with_weather_clusters.csv')\n",
    "data['NearbyTreeSpecies'] = data['NearbyTreeSpecies'].astype(str)\n",
    "\n",
    "# Function to find the most common species\n",
    "def get_most_common_species(nearby_species):\n",
    "    if ', ' not in nearby_species:\n",
    "        return nearby_species  # If there's only one species, return it\n",
    "    species_list = nearby_species.split(', ')  # Split the string into a list of species\n",
    "    species_counts = Counter(species_list)  # Count occurrences of each species\n",
    "    most_common_species, _ = species_counts.most_common(1)[0]  # Get the most common species\n",
    "    return most_common_species\n",
    "\n",
    "# Apply the function to create a new column for the predicted species\n",
    "data['BestTreeSpecies'] = data['NearbyTreeSpecies'].apply(get_most_common_species)\n",
    "\n",
    "data.head()"
   ]
  },
  {
   "cell_type": "markdown",
   "metadata": {
    "id": "6qPopXFJX1oI"
   },
   "source": [
    "encode for categories"
   ]
  },
  {
   "cell_type": "code",
   "execution_count": 58,
   "metadata": {
    "colab": {
     "base_uri": "https://localhost:8080/",
     "height": 551
    },
    "id": "tBOZOW-3X1oI",
    "outputId": "334fd679-5a67-49db-cae7-184b36d10e38",
    "ExecuteTime": {
     "end_time": "2024-10-30T01:20:24.402409Z",
     "start_time": "2024-10-30T01:20:24.367694Z"
    }
   },
   "outputs": [
    {
     "data": {
      "text/plain": "   Unnamed: 0  Reported.Year Property.ID..  \\\n0           1         2017.0        187746   \n1           2         2017.0        230740   \n2           3         2017.0        729528   \n3           5         2017.0        526381   \n4           6         2017.0        200001   \n\n  Commercial.Property..Property.Street.Address  \\\n0                      5126 E 5 ST, AUSTIN TX,   \n1         2500 RIDGEPOINT DR, AUSTIN TX, 78728   \n2  1700 S PLEASANT VALLEY RD, AUSTIN TX, 78741   \n3           2011 W RUNDBERG LN Austin TX 78758   \n4                202 W 17 ST, AUSTIN TX, 78701   \n\n                                 Building.Name  Total.SqFt  \\\n0                      5126 E 5 ST, AUSTIN TX,      7419.0   \n1         2500 RIDGEPOINT DR, AUSTIN TX, 78728     49024.0   \n2  1700 S PLEASANT VALLEY RD, AUSTIN TX, 78741    101953.0   \n3           2011 W RUNDBERG LN Austin TX 78758    146142.0   \n4                202 W 17 ST, AUSTIN TX, 78701     15350.0   \n\n                     Category Year.Built  kWh.sqft  Percentile.Rank  ...  \\\n0                         NaN       1940     0.000              NaN  ...   \n1     INDUSTRIAL (W/sqft > 3)       1983    15.580            39.58  ...   \n2  STORE\\GROCERY (W/sqft > 5)       2009    32.063            76.26  ...   \n3           OFFICE LG > 35000       1999     8.049             4.79  ...   \n4            OFFICE MED 10-35       1998   100.129              NaN  ...   \n\n                                         GeoLocation  \\\n0  5126 E 5 ST\\r\\nAUSTIN, TX\\r\\n(30.251707, -97.6...   \n1  2500 RIDGEPOINT DR\\r\\nAUSTIN, TX 78728\\r\\n(30....   \n2  1700 S PLEASANT VALLEY RD\\r\\nAUSTIN, TX 78741\\...   \n3  2011 W RUNDBERG LN\\r\\nAustin, TX 78758\\r\\n(30....   \n4  202 W 17 ST\\r\\nAUSTIN, TX 78701\\r\\n(30.279196,...   \n\n   Submitted.Name.of.Organization      GeoLocation_clean        lat  \\\n0                    Pantur, Inc.  30.251707, -97.697313  30.251707   \n1     Equitable Commercial Realty  30.328069, -97.672401  30.328069   \n2                     Mimco, Inc.  30.236494, -97.721013  30.236494   \n3                            AISD  30.373732, -97.719236  30.373732   \n4          Charter Communications  30.279196, -97.740475  30.279196   \n\n        long                                  NearbyTreeSpecies cluster  \\\n0 -97.697313  Hackberry, Hackberry, Oak, Oak, Oak, Mesquite,...       2   \n1 -97.672401                                                Oak       2   \n2 -97.721013  Oak, Mulberry, Chinaberry, Chinaberry, Chinabe...       1   \n3 -97.719236  Oak, Oak, Pecan, Pecan, Sycamore, Pear, Pear, ...       2   \n4 -97.740475  Loquat, Pecan, Crape Myrtle, Crape Myrtle, Oak...       2   \n\n  BestTreeSpecies  Category_encoded  BestTreeSpecies_encoded  \n0           Pecan                27                       20  \n1             Oak                10                       18  \n2             Oak                24                       18  \n3             Oak                16                       18  \n4             Oak                18                       18  \n\n[5 rows x 25 columns]",
      "text/html": "<div>\n<style scoped>\n    .dataframe tbody tr th:only-of-type {\n        vertical-align: middle;\n    }\n\n    .dataframe tbody tr th {\n        vertical-align: top;\n    }\n\n    .dataframe thead th {\n        text-align: right;\n    }\n</style>\n<table border=\"1\" class=\"dataframe\">\n  <thead>\n    <tr style=\"text-align: right;\">\n      <th></th>\n      <th>Unnamed: 0</th>\n      <th>Reported.Year</th>\n      <th>Property.ID..</th>\n      <th>Commercial.Property..Property.Street.Address</th>\n      <th>Building.Name</th>\n      <th>Total.SqFt</th>\n      <th>Category</th>\n      <th>Year.Built</th>\n      <th>kWh.sqft</th>\n      <th>Percentile.Rank</th>\n      <th>...</th>\n      <th>GeoLocation</th>\n      <th>Submitted.Name.of.Organization</th>\n      <th>GeoLocation_clean</th>\n      <th>lat</th>\n      <th>long</th>\n      <th>NearbyTreeSpecies</th>\n      <th>cluster</th>\n      <th>BestTreeSpecies</th>\n      <th>Category_encoded</th>\n      <th>BestTreeSpecies_encoded</th>\n    </tr>\n  </thead>\n  <tbody>\n    <tr>\n      <th>0</th>\n      <td>1</td>\n      <td>2017.0</td>\n      <td>187746</td>\n      <td>5126 E 5 ST, AUSTIN TX,</td>\n      <td>5126 E 5 ST, AUSTIN TX,</td>\n      <td>7419.0</td>\n      <td>NaN</td>\n      <td>1940</td>\n      <td>0.000</td>\n      <td>NaN</td>\n      <td>...</td>\n      <td>5126 E 5 ST\\r\\nAUSTIN, TX\\r\\n(30.251707, -97.6...</td>\n      <td>Pantur, Inc.</td>\n      <td>30.251707, -97.697313</td>\n      <td>30.251707</td>\n      <td>-97.697313</td>\n      <td>Hackberry, Hackberry, Oak, Oak, Oak, Mesquite,...</td>\n      <td>2</td>\n      <td>Pecan</td>\n      <td>27</td>\n      <td>20</td>\n    </tr>\n    <tr>\n      <th>1</th>\n      <td>2</td>\n      <td>2017.0</td>\n      <td>230740</td>\n      <td>2500 RIDGEPOINT DR, AUSTIN TX, 78728</td>\n      <td>2500 RIDGEPOINT DR, AUSTIN TX, 78728</td>\n      <td>49024.0</td>\n      <td>INDUSTRIAL (W/sqft &gt; 3)</td>\n      <td>1983</td>\n      <td>15.580</td>\n      <td>39.58</td>\n      <td>...</td>\n      <td>2500 RIDGEPOINT DR\\r\\nAUSTIN, TX 78728\\r\\n(30....</td>\n      <td>Equitable Commercial Realty</td>\n      <td>30.328069, -97.672401</td>\n      <td>30.328069</td>\n      <td>-97.672401</td>\n      <td>Oak</td>\n      <td>2</td>\n      <td>Oak</td>\n      <td>10</td>\n      <td>18</td>\n    </tr>\n    <tr>\n      <th>2</th>\n      <td>3</td>\n      <td>2017.0</td>\n      <td>729528</td>\n      <td>1700 S PLEASANT VALLEY RD, AUSTIN TX, 78741</td>\n      <td>1700 S PLEASANT VALLEY RD, AUSTIN TX, 78741</td>\n      <td>101953.0</td>\n      <td>STORE\\GROCERY (W/sqft &gt; 5)</td>\n      <td>2009</td>\n      <td>32.063</td>\n      <td>76.26</td>\n      <td>...</td>\n      <td>1700 S PLEASANT VALLEY RD\\r\\nAUSTIN, TX 78741\\...</td>\n      <td>Mimco, Inc.</td>\n      <td>30.236494, -97.721013</td>\n      <td>30.236494</td>\n      <td>-97.721013</td>\n      <td>Oak, Mulberry, Chinaberry, Chinaberry, Chinabe...</td>\n      <td>1</td>\n      <td>Oak</td>\n      <td>24</td>\n      <td>18</td>\n    </tr>\n    <tr>\n      <th>3</th>\n      <td>5</td>\n      <td>2017.0</td>\n      <td>526381</td>\n      <td>2011 W RUNDBERG LN Austin TX 78758</td>\n      <td>2011 W RUNDBERG LN Austin TX 78758</td>\n      <td>146142.0</td>\n      <td>OFFICE LG &gt; 35000</td>\n      <td>1999</td>\n      <td>8.049</td>\n      <td>4.79</td>\n      <td>...</td>\n      <td>2011 W RUNDBERG LN\\r\\nAustin, TX 78758\\r\\n(30....</td>\n      <td>AISD</td>\n      <td>30.373732, -97.719236</td>\n      <td>30.373732</td>\n      <td>-97.719236</td>\n      <td>Oak, Oak, Pecan, Pecan, Sycamore, Pear, Pear, ...</td>\n      <td>2</td>\n      <td>Oak</td>\n      <td>16</td>\n      <td>18</td>\n    </tr>\n    <tr>\n      <th>4</th>\n      <td>6</td>\n      <td>2017.0</td>\n      <td>200001</td>\n      <td>202 W 17 ST, AUSTIN TX, 78701</td>\n      <td>202 W 17 ST, AUSTIN TX, 78701</td>\n      <td>15350.0</td>\n      <td>OFFICE MED 10-35</td>\n      <td>1998</td>\n      <td>100.129</td>\n      <td>NaN</td>\n      <td>...</td>\n      <td>202 W 17 ST\\r\\nAUSTIN, TX 78701\\r\\n(30.279196,...</td>\n      <td>Charter Communications</td>\n      <td>30.279196, -97.740475</td>\n      <td>30.279196</td>\n      <td>-97.740475</td>\n      <td>Loquat, Pecan, Crape Myrtle, Crape Myrtle, Oak...</td>\n      <td>2</td>\n      <td>Oak</td>\n      <td>18</td>\n      <td>18</td>\n    </tr>\n  </tbody>\n</table>\n<p>5 rows × 25 columns</p>\n</div>"
     },
     "execution_count": 58,
     "metadata": {},
     "output_type": "execute_result"
    }
   ],
   "source": [
    "from sklearn.model_selection import train_test_split\n",
    "from sklearn.tree import DecisionTreeClassifier\n",
    "from sklearn.preprocessing import LabelEncoder\n",
    "\n",
    "\n",
    "# Encode categorical features, including the target if it's categorical\n",
    "encoder = LabelEncoder()\n",
    "data['Category_encoded'] = encoder.fit_transform(data['Category'])\n",
    "data['BestTreeSpecies_encoded'] = encoder.fit_transform(data['BestTreeSpecies'])\n",
    "data.head()"
   ]
  },
  {
   "cell_type": "markdown",
   "metadata": {
    "id": "ohrJ1JHqX1oI"
   },
   "source": [
    "fix na's (right now it's just removing but maybe later imputing would be better)"
   ]
  },
  {
   "cell_type": "code",
   "execution_count": 59,
   "metadata": {
    "colab": {
     "base_uri": "https://localhost:8080/"
    },
    "id": "RXqjZuKlX1oI",
    "outputId": "d27282ac-e26f-4bb5-9708-cb48c132815c",
    "ExecuteTime": {
     "end_time": "2024-10-30T01:20:28.394563Z",
     "start_time": "2024-10-30T01:20:28.366769Z"
    }
   },
   "outputs": [
    {
     "name": "stdout",
     "output_type": "stream",
     "text": [
      "Total.SqFt                   6\n",
      "Category_encoded             0\n",
      "Year.Built                  64\n",
      "kWh.sqft                   827\n",
      "lat                          0\n",
      "long                         0\n",
      "BestTreeSpecies_encoded      0\n",
      "cluster                      0\n",
      "dtype: int64\n",
      "Total.SqFt                 0.002137\n",
      "Category_encoded           0.000000\n",
      "Year.Built                 0.022792\n",
      "kWh.sqft                   0.294516\n",
      "lat                        0.000000\n",
      "long                       0.000000\n",
      "BestTreeSpecies_encoded    0.000000\n",
      "cluster                    0.000000\n",
      "dtype: float64\n",
      "Total.SqFt                 0\n",
      "Category_encoded           0\n",
      "Year.Built                 0\n",
      "kWh.sqft                   0\n",
      "lat                        0\n",
      "long                       0\n",
      "BestTreeSpecies_encoded    0\n",
      "cluster                    0\n",
      "dtype: int64\n",
      "Total.SqFt                 0.0\n",
      "Category_encoded           0.0\n",
      "Year.Built                 0.0\n",
      "kWh.sqft                   0.0\n",
      "lat                        0.0\n",
      "long                       0.0\n",
      "BestTreeSpecies_encoded    0.0\n",
      "cluster                    0.0\n",
      "dtype: float64\n"
     ]
    }
   ],
   "source": [
    "data.head()\n",
    "\n",
    "# get number and proportion of nas in the features and targets\n",
    "print(data[['Total.SqFt', 'Category_encoded', 'Year.Built', 'kWh.sqft', 'lat', 'long', 'BestTreeSpecies_encoded', 'cluster']].isna().sum())\n",
    "print(data[['Total.SqFt', 'Category_encoded', 'Year.Built', 'kWh.sqft', 'lat', 'long', 'BestTreeSpecies_encoded', 'cluster']].isna().mean())\n",
    "\n",
    "# maybe a future improvement is imputing kWH.sqft but for now i'm just dropping the rows with nas\n",
    "data = data.dropna(subset=['Total.SqFt', 'Category_encoded', 'Year.Built', 'kWh.sqft', 'lat', 'long', 'BestTreeSpecies_encoded', 'cluster'])\n",
    "print(data[['Total.SqFt', 'Category_encoded', 'Year.Built', 'kWh.sqft', 'lat', 'long', 'BestTreeSpecies_encoded', 'cluster']].isna().sum())\n",
    "print(data[['Total.SqFt', 'Category_encoded', 'Year.Built', 'kWh.sqft', 'lat', 'long', 'BestTreeSpecies_encoded', 'cluster']].isna().mean())"
   ]
  },
  {
   "cell_type": "code",
   "execution_count": 60,
   "metadata": {
    "colab": {
     "base_uri": "https://localhost:8080/"
    },
    "id": "3oaWbNHnX1oJ",
    "outputId": "548e2f19-28a4-4eee-8d3c-39c36a7600f5",
    "ExecuteTime": {
     "end_time": "2024-10-30T01:20:33.672709Z",
     "start_time": "2024-10-30T01:20:33.622709Z"
    }
   },
   "outputs": [
    {
     "name": "stdout",
     "output_type": "stream",
     "text": [
      "Decision Tree (gini) Accuracy: 80.76%\n",
      "Decision Tree (entropy) Accuracy: 82.30%\n"
     ]
    }
   ],
   "source": [
    "# Define features and target\n",
    "features = data[['Total.SqFt', 'Category_encoded', 'Year.Built', 'kWh.sqft', 'lat', 'long', 'cluster']]\n",
    "target = data['BestTreeSpecies_encoded']\n",
    "\n",
    "# convert to numeric for modeling purposes (will have to change the year back later)\n",
    "features = features.apply(pd.to_numeric, errors='coerce')\n",
    "\n",
    "# Split data into training and test sets\n",
    "X_train, X_test, y_train, y_test = train_test_split(features, target, test_size=0.3, random_state=42)\n",
    "\n",
    "# Initialize and train the decision tree (gini)\n",
    "clf_gini = DecisionTreeClassifier(criterion='gini')  # Use 'entropy' if you'd like to try that\n",
    "clf_gini.fit(X_train, y_train)\n",
    "\n",
    "# Initialize and train the decision tree (entropy)\n",
    "clf_ent = DecisionTreeClassifier(criterion='entropy')  # Use 'entropy' if you'd like to try that\n",
    "clf_ent.fit(X_train, y_train)\n",
    "\n",
    "# Evaluate accuracy\n",
    "accuracy_gini = clf_gini.score(X_test, y_test)\n",
    "print(f\"Decision Tree (gini) Accuracy: {accuracy_gini * 100:.2f}%\")\n",
    "\n",
    "accuracy_ent = clf_ent.score(X_test, y_test)\n",
    "print(f\"Decision Tree (entropy) Accuracy: {accuracy_ent * 100:.2f}%\")\n"
   ]
  },
  {
   "cell_type": "code",
   "source": [
    "import pandas as pd\n",
    "import numpy as np\n",
    "from sklearn.model_selection import train_test_split\n",
    "from sklearn.tree import DecisionTreeClassifier\n",
    "\n",
    "# Assuming 'data' is already defined and cleaned\n",
    "\n",
    "# Define features and target\n",
    "features = data[['Total.SqFt', 'Category_encoded', 'Year.Built', 'kWh.sqft', 'lat', 'long']]\n",
    "target = data['BestTreeSpecies_encoded']\n",
    "\n",
    "# Convert to numeric for modeling purposes\n",
    "features = features.apply(pd.to_numeric, errors='coerce')\n",
    "\n",
    "# Initialize lists to store accuracy scores\n",
    "gini_accuracies = []\n",
    "entropy_accuracies = []\n",
    "num_runs = 50  # Number of times to run the model\n",
    "\n",
    "# Run multiple times to evaluate convergence\n",
    "for i in range(num_runs):\n",
    "    # Split data into training and test sets\n",
    "    X_train, X_test, y_train, y_test = train_test_split(features, target, test_size=0.3, random_state=i)\n",
    "\n",
    "    # Initialize and train the decision tree (Gini)\n",
    "    clf_gini = DecisionTreeClassifier(criterion='gini')\n",
    "    clf_gini.fit(X_train, y_train)\n",
    "\n",
    "    # Evaluate accuracy for Gini\n",
    "    accuracy_gini = clf_gini.score(X_test, y_test)\n",
    "    gini_accuracies.append(accuracy_gini)\n",
    "\n",
    "    # Initialize and train the decision tree (Entropy)\n",
    "    clf_ent = DecisionTreeClassifier(criterion='entropy')\n",
    "    clf_ent.fit(X_train, y_train)\n",
    "\n",
    "    # Evaluate accuracy for Entropy\n",
    "    accuracy_ent = clf_ent.score(X_test, y_test)\n",
    "    entropy_accuracies.append(accuracy_ent)\n",
    "\n",
    "# Calculate average accuracies\n",
    "avg_gini_accuracy = np.mean(gini_accuracies)\n",
    "avg_entropy_accuracy = np.mean(entropy_accuracies)\n",
    "\n",
    "# Display results\n",
    "print(f\"Average Decision Tree (gini) Accuracy over {num_runs} runs: {avg_gini_accuracy * 100:.2f}%\")\n",
    "print(f\"Average Decision Tree (entropy) Accuracy over {num_runs} runs: {avg_entropy_accuracy * 100:.2f}%\")"
   ],
   "metadata": {
    "colab": {
     "base_uri": "https://localhost:8080/"
    },
    "id": "10_tzK9Mk3fU",
    "outputId": "aeab85a7-7de3-4743-bfb6-d2dd75a4048e",
    "ExecuteTime": {
     "end_time": "2024-10-30T01:20:37.789909Z",
     "start_time": "2024-10-30T01:20:34.985848Z"
    }
   },
   "execution_count": 61,
   "outputs": [
    {
     "name": "stdout",
     "output_type": "stream",
     "text": [
      "Average Decision Tree (gini) Accuracy over 50 runs: 77.82%\n",
      "Average Decision Tree (entropy) Accuracy over 50 runs: 80.47%\n"
     ]
    }
   ]
  },
  {
   "cell_type": "markdown",
   "source": [
    "# NN"
   ],
   "metadata": {
    "collapsed": false
   }
  },
  {
   "cell_type": "code",
   "outputs": [
    {
     "name": "stdout",
     "output_type": "stream",
     "text": [
      "{'.', '1995-2001'}\n"
     ]
    }
   ],
   "source": [
    "def find_non_integer_values(column):\n",
    "    # Use a try-except block to catch conversion errors\n",
    "    non_integers = []\n",
    "    for value in column:\n",
    "        try:\n",
    "            # Attempt to convert to integer\n",
    "            int(value)\n",
    "        except (ValueError, TypeError):\n",
    "            # If conversion fails, add to the list\n",
    "            non_integers.append(value)\n",
    "    return non_integers\n",
    "\n",
    "# Finding non-integer values in 'Year.Built'\n",
    "non_integer_values = find_non_integer_values(data['Year.Built'])\n",
    "print(set(non_integer_values))"
   ],
   "metadata": {
    "collapsed": false,
    "ExecuteTime": {
     "end_time": "2024-10-30T01:21:49.862147Z",
     "start_time": "2024-10-30T01:21:49.854148Z"
    }
   },
   "execution_count": 62
  },
  {
   "cell_type": "code",
   "outputs": [],
   "source": [
    "data['Year.Built'] = data['Year.Built'].replace('.', np.nan)\n",
    "data['Year.Built'] = data['Year.Built'].replace('1995-2001', np.nan)\n",
    "data = data.dropna(subset=['Year.Built'])\n",
    "data['Year.Built'] = data['Year.Built'].astype(int)\n",
    "\n",
    "features = data[['Total.SqFt', 'Category_encoded', 'Year.Built', 'kWh.sqft', 'lat', 'long', 'cluster']]\n",
    "target = data['BestTreeSpecies_encoded']"
   ],
   "metadata": {
    "collapsed": false,
    "ExecuteTime": {
     "end_time": "2024-10-30T01:21:54.909155Z",
     "start_time": "2024-10-30T01:21:54.890158Z"
    }
   },
   "execution_count": 63
  },
  {
   "cell_type": "code",
   "outputs": [
    {
     "name": "stderr",
     "output_type": "stream",
     "text": [
      "C:\\Users\\Victor Nguyen\\AppData\\Local\\Programs\\Python\\Python310\\lib\\site-packages\\sklearn\\model_selection\\_split.py:776: UserWarning: The least populated class in y has only 1 members, which is less than n_splits=5.\n",
      "  warnings.warn(\n"
     ]
    },
    {
     "name": "stdout",
     "output_type": "stream",
     "text": [
      "Cross-Validation Accuracy Scores: [0.66937669 0.65582656 0.6875     0.7173913  0.68478261]\n",
      "Mean Cross-Validation Accuracy: 0.6829754330151998\n",
      "Standard Deviation of Cross-Validation Accuracy: 0.02064062450235686\n"
     ]
    }
   ],
   "source": [
    "import pandas as pd\n",
    "from sklearn.model_selection import train_test_split, cross_val_score\n",
    "from sklearn.pipeline import Pipeline\n",
    "from sklearn.preprocessing import StandardScaler\n",
    "from sklearn.neural_network import MLPClassifier\n",
    "from sklearn.metrics import classification_report, accuracy_score\n",
    "\n",
    "# Creating the pipeline\n",
    "pipeline = Pipeline([\n",
    "    ('scaler', StandardScaler()),  # Step 1: Standardize features\n",
    "    ('mlp', MLPClassifier(hidden_layer_sizes=(128, 64, 32, 16, 8), activation='relu', solver='adam', max_iter=500, random_state=42))  # Step 2: MLP Classifier\n",
    "])\n",
    "\n",
    "# Performing cross-validation\n",
    "cv_scores = cross_val_score(pipeline, features, target, cv=5, scoring='accuracy')  # Use 5-fold cross-validation\n",
    "\n",
    "# Output the cross-validation scores\n",
    "print(f'Cross-Validation Accuracy Scores: {cv_scores}')\n",
    "print(f'Mean Cross-Validation Accuracy: {cv_scores.mean()}')\n",
    "print(f'Standard Deviation of Cross-Validation Accuracy: {cv_scores.std()}')"
   ],
   "metadata": {
    "collapsed": false,
    "ExecuteTime": {
     "end_time": "2024-10-30T01:22:33.389114Z",
     "start_time": "2024-10-30T01:21:55.816398Z"
    }
   },
   "execution_count": 64
  },
  {
   "cell_type": "code",
   "outputs": [],
   "source": [],
   "metadata": {
    "collapsed": false
   }
  }
 ],
 "metadata": {
  "colab": {
   "provenance": []
  },
  "kernelspec": {
   "display_name": "venv",
   "language": "python",
   "name": "python3"
  },
  "language_info": {
   "codemirror_mode": {
    "name": "ipython",
    "version": 3
   },
   "file_extension": ".py",
   "mimetype": "text/x-python",
   "name": "python",
   "nbconvert_exporter": "python",
   "pygments_lexer": "ipython3",
   "version": "3.11.1"
  }
 },
 "nbformat": 4,
 "nbformat_minor": 0
}
