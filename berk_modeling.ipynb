{
 "cells": [
  {
   "cell_type": "code",
   "execution_count": 2,
   "metadata": {},
   "outputs": [],
   "source": [
    "# libraries\n",
    "import pandas as pd\n",
    "from sklearn.model_selection import train_test_split\n",
    "from sklearn.tree import DecisionTreeClassifier\n",
    "from sklearn.metrics import accuracy_score"
   ]
  },
  {
   "cell_type": "code",
   "execution_count": 10,
   "metadata": {},
   "outputs": [],
   "source": [
    "# read data\n",
    "business_data = pd.read_csv('business_coordinates.csv')\n",
    "tree_df = pd.read_csv('Tree_Inventory_20240929.csv')"
   ]
  },
  {
   "cell_type": "markdown",
   "metadata": {},
   "source": [
    "Clean up tree data for processing and rename some columns (longitude) and drop some unnecessary / repetitive ones:"
   ]
  },
  {
   "cell_type": "code",
   "execution_count": 11,
   "metadata": {},
   "outputs": [],
   "source": [
    "# Process tree data csv\n",
    "tree_data = tree_df\n",
    "\n",
    "# get proper latitude and longitude data\n",
    "from shapely.wkt import loads\n",
    "\n",
    "# Convert WKT to shapely Point and extract latitude and longitude\n",
    "tree_data['geometry'] = tree_data['GEOMETRY'].apply(loads)\n",
    "tree_data['LATITUDE'] = tree_data['geometry'].apply(lambda point: point.y)\n",
    "tree_data['LONGITUDE'] = tree_data['geometry'].apply(lambda point: point.x)\n",
    "\n",
    "# drop unnecessary columns\n",
    "tree_data = tree_data.drop(columns=['geometry', 'LONGTITUDE', 'New Georeferenced Column'])\n",
    "tree_data['SPECIES'] = tree_data['SPECIES'].astype(str)\n",
    "\n",
    "tree_data.head()"
   ]
  },
  {
   "cell_type": "markdown",
   "metadata": {},
   "source": [
    "Getting the trees within a specified radius (set in kilometers) for each business - this one is slow"
   ]
  },
  {
   "cell_type": "code",
   "execution_count": null,
   "metadata": {},
   "outputs": [],
   "source": [
    "# Set radius for businesses to find local trees\n",
    "from geopy.distance import geodesic\n",
    "total_businesses = len(business_data)\n",
    "\n",
    "radius = 1 # 1 km or other distance\n",
    "\n",
    "# for each business, use the coordinates to get nearby trees within the specified radius\n",
    "for idx, business_row in business_data.iterrows():\n",
    "\n",
    "    # get location of business\n",
    "    business_location = (business_row['lat'], business_row['long'])\n",
    "    \n",
    "    # initialize tree list for each business\n",
    "    nearby_trees = []\n",
    "\n",
    "    # for each tree, check if it is within the radius\n",
    "    for _, tree_row in tree_data.iterrows():\n",
    "        tree_location = (tree_row['LATITUDE'], tree_row['LONGITUDE'])\n",
    "        distance = geodesic(business_location, tree_location).km\n",
    "\n",
    "        # append within radius\n",
    "        if distance <= radius:\n",
    "            nearby_trees.append(tree_row['SPECIES'])\n",
    "            \n",
    "    # Store species of nearby trees\n",
    "    business_data.at[idx, 'NearbyTreeSpecies'] = ', '.join(nearby_trees)\n",
    "\n",
    "    # Print progress\n",
    "    print(f\"Processed business {idx + 1} of {total_businesses}\")\n"
   ]
  },
  {
   "cell_type": "markdown",
   "metadata": {},
   "source": [
    "Faster way to get distances by converting stuff to radians? "
   ]
  },
  {
   "cell_type": "code",
   "execution_count": 23,
   "metadata": {},
   "outputs": [
    {
     "name": "stdout",
     "output_type": "stream",
     "text": [
      "Completed processing for all businesses.\n"
     ]
    }
   ],
   "source": [
    "from sklearn.neighbors import BallTree\n",
    "import numpy as np\n",
    "\n",
    "# Radius in kilometers\n",
    "radius = 1.0 / 6371.0  # Earth radius in km for haversine\n",
    "\n",
    "# Prepare data for BallTree in radians\n",
    "business_coords = np.radians(business_data[['lat', 'long']].values)\n",
    "tree_coords = np.radians(tree_data[['LATITUDE', 'LONGITUDE']].values)\n",
    "\n",
    "# Create BallTree for the tree locations\n",
    "tree_ball_tree = BallTree(tree_coords, metric='haversine')\n",
    "\n",
    "# Function to find nearby tree species for each business\n",
    "def find_nearby_trees_for_business(business_location):\n",
    "    # Query the tree BallTree for points within the radius\n",
    "    indices = tree_ball_tree.query_radius([business_location], r=radius)[0]\n",
    "    nearby_trees = tree_data.iloc[indices]['SPECIES'].tolist()\n",
    "    return ', '.join(nearby_trees)\n",
    "\n",
    "# Apply the function to each business\n",
    "business_data['NearbyTreeSpecies'] = [find_nearby_trees_for_business(loc) for loc in business_coords]\n",
    "\n",
    "# Optional: Print progress\n",
    "print(\"Completed processing for all businesses.\")\n"
   ]
  },
  {
   "cell_type": "markdown",
   "metadata": {},
   "source": [
    "Save as csv if necessary"
   ]
  },
  {
   "cell_type": "code",
   "execution_count": 25,
   "metadata": {},
   "outputs": [],
   "source": [
    "# save as csv\n",
    "# business_data.to_csv('business_trees.csv', index=False)"
   ]
  }
 ],
 "metadata": {
  "kernelspec": {
   "display_name": "venv",
   "language": "python",
   "name": "python3"
  },
  "language_info": {
   "codemirror_mode": {
    "name": "ipython",
    "version": 3
   },
   "file_extension": ".py",
   "mimetype": "text/x-python",
   "name": "python",
   "nbconvert_exporter": "python",
   "pygments_lexer": "ipython3",
   "version": "3.11.1"
  }
 },
 "nbformat": 4,
 "nbformat_minor": 2
}
