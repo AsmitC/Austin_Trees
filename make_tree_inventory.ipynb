{
 "cells": [
  {
   "cell_type": "code",
   "execution_count": 42,
   "id": "initial_id",
   "metadata": {
    "collapsed": true,
    "ExecuteTime": {
     "end_time": "2024-10-30T02:58:57.074226Z",
     "start_time": "2024-10-30T02:58:57.056135Z"
    }
   },
   "outputs": [],
   "source": [
    "import pandas as pd\n",
    "import numpy as np\n",
    "import re"
   ]
  },
  {
   "cell_type": "code",
   "outputs": [
    {
     "data": {
      "text/plain": "(62274, 6)"
     },
     "execution_count": 43,
     "metadata": {},
     "output_type": "execute_result"
    }
   ],
   "source": [
    "tree_inv = pd.read_csv('Tree_Inventory_20240929.csv')\n",
    "\n",
    "tree_inv.shape"
   ],
   "metadata": {
    "collapsed": false,
    "ExecuteTime": {
     "end_time": "2024-10-30T02:58:57.485382Z",
     "start_time": "2024-10-30T02:58:57.301141Z"
    }
   },
   "id": "44083fff9e391a35",
   "execution_count": 43
  },
  {
   "cell_type": "code",
   "outputs": [
    {
     "data": {
      "text/plain": "                                        GEOMETRY       SPECIES  DIAMETER  \\\n0   POINT (-97.73398904092146 30.25239671647407)      Live Oak      20.0   \n1   POINT (-97.77949770772025 30.20704479399738)  Ashe Juniper       8.0   \n2  POINT (-97.73408544155564 30.252389392695715)      Live Oak      31.0   \n3  POINT (-97.73392463841283 30.252384583450418)      Live Oak      21.0   \n4  POINT (-97.73385944263053 30.252313660255723)      Live Oak      20.0   \n\n    LATITUDE  LONGTITUDE              New Georeferenced Column  \n0  30.252397  -97.733989  POINT (-97.7339890409 30.2523967165)  \n1  30.207050  -97.779505  POINT (-97.7795053399 30.2070499964)  \n2  30.252389  -97.734085  POINT (-97.7340854416 30.2523893927)  \n3  30.252385  -97.733925  POINT (-97.7339246384 30.2523845835)  \n4  30.252314  -97.733859  POINT (-97.7338594426 30.2523136603)  ",
      "text/html": "<div>\n<style scoped>\n    .dataframe tbody tr th:only-of-type {\n        vertical-align: middle;\n    }\n\n    .dataframe tbody tr th {\n        vertical-align: top;\n    }\n\n    .dataframe thead th {\n        text-align: right;\n    }\n</style>\n<table border=\"1\" class=\"dataframe\">\n  <thead>\n    <tr style=\"text-align: right;\">\n      <th></th>\n      <th>GEOMETRY</th>\n      <th>SPECIES</th>\n      <th>DIAMETER</th>\n      <th>LATITUDE</th>\n      <th>LONGTITUDE</th>\n      <th>New Georeferenced Column</th>\n    </tr>\n  </thead>\n  <tbody>\n    <tr>\n      <th>0</th>\n      <td>POINT (-97.73398904092146 30.25239671647407)</td>\n      <td>Live Oak</td>\n      <td>20.0</td>\n      <td>30.252397</td>\n      <td>-97.733989</td>\n      <td>POINT (-97.7339890409 30.2523967165)</td>\n    </tr>\n    <tr>\n      <th>1</th>\n      <td>POINT (-97.77949770772025 30.20704479399738)</td>\n      <td>Ashe Juniper</td>\n      <td>8.0</td>\n      <td>30.207050</td>\n      <td>-97.779505</td>\n      <td>POINT (-97.7795053399 30.2070499964)</td>\n    </tr>\n    <tr>\n      <th>2</th>\n      <td>POINT (-97.73408544155564 30.252389392695715)</td>\n      <td>Live Oak</td>\n      <td>31.0</td>\n      <td>30.252389</td>\n      <td>-97.734085</td>\n      <td>POINT (-97.7340854416 30.2523893927)</td>\n    </tr>\n    <tr>\n      <th>3</th>\n      <td>POINT (-97.73392463841283 30.252384583450418)</td>\n      <td>Live Oak</td>\n      <td>21.0</td>\n      <td>30.252385</td>\n      <td>-97.733925</td>\n      <td>POINT (-97.7339246384 30.2523845835)</td>\n    </tr>\n    <tr>\n      <th>4</th>\n      <td>POINT (-97.73385944263053 30.252313660255723)</td>\n      <td>Live Oak</td>\n      <td>20.0</td>\n      <td>30.252314</td>\n      <td>-97.733859</td>\n      <td>POINT (-97.7338594426 30.2523136603)</td>\n    </tr>\n  </tbody>\n</table>\n</div>"
     },
     "execution_count": 44,
     "metadata": {},
     "output_type": "execute_result"
    }
   ],
   "source": [
    "tree_inv.head()"
   ],
   "metadata": {
    "collapsed": false,
    "ExecuteTime": {
     "end_time": "2024-10-30T02:58:57.642885Z",
     "start_time": "2024-10-30T02:58:57.623886Z"
    }
   },
   "id": "e79d19d628910c2c",
   "execution_count": 44
  },
  {
   "cell_type": "code",
   "outputs": [
    {
     "name": "stdout",
     "output_type": "stream",
     "text": [
      "<class 'pandas.core.frame.DataFrame'>\n",
      "RangeIndex: 62274 entries, 0 to 62273\n",
      "Data columns (total 6 columns):\n",
      " #   Column                    Non-Null Count  Dtype  \n",
      "---  ------                    --------------  -----  \n",
      " 0   GEOMETRY                  62274 non-null  object \n",
      " 1   SPECIES                   62210 non-null  object \n",
      " 2   DIAMETER                  62274 non-null  float64\n",
      " 3   LATITUDE                  62274 non-null  float64\n",
      " 4   LONGTITUDE                62274 non-null  float64\n",
      " 5   New Georeferenced Column  62274 non-null  object \n",
      "dtypes: float64(3), object(3)\n",
      "memory usage: 2.9+ MB\n"
     ]
    }
   ],
   "source": [
    "tree_inv.info()"
   ],
   "metadata": {
    "collapsed": false,
    "ExecuteTime": {
     "end_time": "2024-10-30T02:58:57.877909Z",
     "start_time": "2024-10-30T02:58:57.848905Z"
    }
   },
   "id": "fe0210bd8d2d243d",
   "execution_count": 45
  },
  {
   "cell_type": "code",
   "outputs": [
    {
     "name": "stderr",
     "output_type": "stream",
     "text": [
      "C:\\Users\\Victor Nguyen\\AppData\\Local\\Temp\\ipykernel_28520\\769198315.py:1: FutureWarning: A value is trying to be set on a copy of a DataFrame or Series through chained assignment using an inplace method.\n",
      "The behavior will change in pandas 3.0. This inplace method will never work because the intermediate object on which we are setting values always behaves as a copy.\n",
      "\n",
      "For example, when doing 'df[col].method(value, inplace=True)', try using 'df.method({col: value}, inplace=True)' or df[col] = df[col].method(value) instead, to perform the operation inplace on the original object.\n",
      "\n",
      "\n",
      "  tree_inv['SPECIES'].fillna('Unknown', inplace=True)\n"
     ]
    }
   ],
   "source": [
    "tree_inv['SPECIES'].fillna('Unknown', inplace=True)\n",
    "tree_inv.rename(columns={'LONGTITUDE': 'LONGITUDE'}, inplace=True)\n",
    "\n",
    "def get_long_lat(geometry):\n",
    "    pattern = r'POINT \\((-?\\d+\\.\\d+) (-?\\d+\\.\\d+)\\)'\n",
    "    grouping = re.fullmatch(pattern, geometry)\n",
    "    return pd.Series([float(grouping.group(1)), float(grouping.group(2))])\n",
    "\n",
    "tree_inv[['LONGITUDE', 'LATITUDE']] = tree_inv['GEOMETRY'].apply(get_long_lat)\n",
    "\n",
    "tree_inv = tree_inv[['SPECIES', 'DIAMETER', 'LONGITUDE', 'LATITUDE']]"
   ],
   "metadata": {
    "collapsed": false,
    "ExecuteTime": {
     "end_time": "2024-10-30T02:59:04.947251Z",
     "start_time": "2024-10-30T02:58:58.180362Z"
    }
   },
   "id": "b65465ae2d7b6319",
   "execution_count": 46
  },
  {
   "cell_type": "code",
   "outputs": [
    {
     "name": "stdout",
     "output_type": "stream",
     "text": [
      "<class 'pandas.core.frame.DataFrame'>\n",
      "RangeIndex: 62274 entries, 0 to 62273\n",
      "Data columns (total 4 columns):\n",
      " #   Column     Non-Null Count  Dtype  \n",
      "---  ------     --------------  -----  \n",
      " 0   SPECIES    62274 non-null  object \n",
      " 1   DIAMETER   62274 non-null  float64\n",
      " 2   LONGITUDE  62274 non-null  float64\n",
      " 3   LATITUDE   62274 non-null  float64\n",
      "dtypes: float64(3), object(1)\n",
      "memory usage: 1.9+ MB\n"
     ]
    }
   ],
   "source": [
    "tree_inv.info()"
   ],
   "metadata": {
    "collapsed": false,
    "ExecuteTime": {
     "end_time": "2024-10-30T02:59:04.962620Z",
     "start_time": "2024-10-30T02:59:04.949245Z"
    }
   },
   "id": "961617dd9c3173d1",
   "execution_count": 47
  },
  {
   "cell_type": "code",
   "outputs": [],
   "source": [
    "tree_inv['SPECIES'] = tree_inv['SPECIES'].apply(str.lower)\n",
    "\n",
    "with open('repeat_species.txt', 'r') as f:\n",
    "    new_name_dict = {}\n",
    "    for l in f.readlines():\n",
    "        split1 = l.strip().split('=')\n",
    "        new_name = split1[0]\n",
    "        # print(new_name)\n",
    "        split_old_names = split1[1].split(';')\n",
    "        # print(split_old_names)\n",
    "        for on in split_old_names:\n",
    "            new_name_dict[on] = new_name"
   ],
   "metadata": {
    "collapsed": false,
    "ExecuteTime": {
     "end_time": "2024-10-30T02:59:04.994620Z",
     "start_time": "2024-10-30T02:59:04.964611Z"
    }
   },
   "id": "7dcaf2ffb40798c6",
   "execution_count": 48
  },
  {
   "cell_type": "code",
   "outputs": [],
   "source": [
    "# For new data set\n",
    "tree_inv['SPECIES'] = tree_inv['SPECIES'].apply(lambda x: new_name_dict.get(x, x).title())\n",
    "tree_inv['SPECIES'].replace('Unknown', np.nan)\n",
    "species_to_be_removed = ['Vacant Site', 'Stump', 'Tbd', 'Tbd Shade', 'Tbd Ornamental', 'Tbd - Shade', 'Tbd - Ornamental']\n",
    "tree_inv = tree_inv[~tree_inv['SPECIES'].isin(species_to_be_removed)]\n",
    "tree_inv.to_csv('tree_inventory.csv', index=False)"
   ],
   "metadata": {
    "collapsed": false,
    "ExecuteTime": {
     "end_time": "2024-10-30T02:59:13.521247Z",
     "start_time": "2024-10-30T02:59:13.242397Z"
    }
   },
   "id": "9cf1f55abd3209b5",
   "execution_count": 50
  },
  {
   "cell_type": "code",
   "outputs": [],
   "source": [],
   "metadata": {
    "collapsed": false
   },
   "id": "9a47c2b390c389c3"
  }
 ],
 "metadata": {
  "kernelspec": {
   "display_name": "Python 3",
   "language": "python",
   "name": "python3"
  },
  "language_info": {
   "codemirror_mode": {
    "name": "ipython",
    "version": 2
   },
   "file_extension": ".py",
   "mimetype": "text/x-python",
   "name": "python",
   "nbconvert_exporter": "python",
   "pygments_lexer": "ipython2",
   "version": "2.7.6"
  }
 },
 "nbformat": 4,
 "nbformat_minor": 5
}
