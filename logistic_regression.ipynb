{
 "cells": [
  {
   "cell_type": "code",
   "execution_count": 1,
   "id": "267f8631-a25a-4694-a49a-c8fa77fdc8e9",
   "metadata": {},
   "outputs": [],
   "source": [
    "# load libraries\n",
    "import pandas as pd\n",
    "import numpy as np\n",
    "from sklearn.linear_model import LogisticRegression\n",
    "from sklearn.model_selection import train_test_split\n",
    "from sklearn.metrics import accuracy_score"
   ]
  },
  {
   "cell_type": "code",
   "execution_count": 2,
   "id": "03f713f2-864b-43e1-a912-808460409c25",
   "metadata": {},
   "outputs": [],
   "source": [
    "# load data and view\n",
    "data = pd.read_csv('modeling_data.csv', index_col=0)\n",
    "#data.head()"
   ]
  },
  {
   "cell_type": "code",
   "execution_count": 3,
   "id": "642c4ae5-98a2-4bb4-9aac-d531620dbe92",
   "metadata": {},
   "outputs": [],
   "source": [
    "# Define features and target - update these based on the structure of modeling_data.csv\n",
    "features = data[['Total.SqFt', 'Category_encoded', 'Year.Built', 'kWh.sqft', 'lat', 'long']]  # Modify if there are additional or better features\n",
    "target = data['BestTreeSpecies_encoded']\n",
    "\n",
    "# convert to numeric\n",
    "features = features.apply(pd.to_numeric)"
   ]
  },
  {
   "cell_type": "code",
   "execution_count": 4,
   "id": "4abd13e3-20b2-4a6b-a9f2-9ca70cf9f412",
   "metadata": {},
   "outputs": [
    {
     "data": {
      "text/html": [
       "<div>\n",
       "<style scoped>\n",
       "    .dataframe tbody tr th:only-of-type {\n",
       "        vertical-align: middle;\n",
       "    }\n",
       "\n",
       "    .dataframe tbody tr th {\n",
       "        vertical-align: top;\n",
       "    }\n",
       "\n",
       "    .dataframe thead th {\n",
       "        text-align: right;\n",
       "    }\n",
       "</style>\n",
       "<table border=\"1\" class=\"dataframe\">\n",
       "  <thead>\n",
       "    <tr style=\"text-align: right;\">\n",
       "      <th></th>\n",
       "      <th>Total.SqFt</th>\n",
       "      <th>Category_encoded</th>\n",
       "      <th>Year.Built</th>\n",
       "      <th>kWh.sqft</th>\n",
       "      <th>lat</th>\n",
       "      <th>long</th>\n",
       "    </tr>\n",
       "  </thead>\n",
       "  <tbody>\n",
       "    <tr>\n",
       "      <th>0</th>\n",
       "      <td>7419.0</td>\n",
       "      <td>27</td>\n",
       "      <td>1940</td>\n",
       "      <td>0.000</td>\n",
       "      <td>30.251707</td>\n",
       "      <td>-97.697313</td>\n",
       "    </tr>\n",
       "    <tr>\n",
       "      <th>1</th>\n",
       "      <td>49024.0</td>\n",
       "      <td>10</td>\n",
       "      <td>1983</td>\n",
       "      <td>15.580</td>\n",
       "      <td>30.328069</td>\n",
       "      <td>-97.672401</td>\n",
       "    </tr>\n",
       "    <tr>\n",
       "      <th>2</th>\n",
       "      <td>101953.0</td>\n",
       "      <td>24</td>\n",
       "      <td>2009</td>\n",
       "      <td>32.063</td>\n",
       "      <td>30.236494</td>\n",
       "      <td>-97.721013</td>\n",
       "    </tr>\n",
       "    <tr>\n",
       "      <th>3</th>\n",
       "      <td>146142.0</td>\n",
       "      <td>16</td>\n",
       "      <td>1999</td>\n",
       "      <td>8.049</td>\n",
       "      <td>30.373732</td>\n",
       "      <td>-97.719236</td>\n",
       "    </tr>\n",
       "    <tr>\n",
       "      <th>4</th>\n",
       "      <td>15350.0</td>\n",
       "      <td>18</td>\n",
       "      <td>1998</td>\n",
       "      <td>100.129</td>\n",
       "      <td>30.279196</td>\n",
       "      <td>-97.740475</td>\n",
       "    </tr>\n",
       "  </tbody>\n",
       "</table>\n",
       "</div>"
      ],
      "text/plain": [
       "   Total.SqFt  Category_encoded  Year.Built  kWh.sqft        lat       long\n",
       "0      7419.0                27        1940     0.000  30.251707 -97.697313\n",
       "1     49024.0                10        1983    15.580  30.328069 -97.672401\n",
       "2    101953.0                24        2009    32.063  30.236494 -97.721013\n",
       "3    146142.0                16        1999     8.049  30.373732 -97.719236\n",
       "4     15350.0                18        1998   100.129  30.279196 -97.740475"
      ]
     },
     "execution_count": 4,
     "metadata": {},
     "output_type": "execute_result"
    }
   ],
   "source": [
    "features.head()"
   ]
  },
  {
   "cell_type": "code",
   "execution_count": 5,
   "id": "2b1fa099-cb4b-4acc-824e-401a43ef501b",
   "metadata": {},
   "outputs": [
    {
     "data": {
      "text/plain": [
       "Total.SqFt          0\n",
       "Category_encoded    0\n",
       "Year.Built          0\n",
       "kWh.sqft            0\n",
       "lat                 0\n",
       "long                0\n",
       "dtype: int64"
      ]
     },
     "execution_count": 5,
     "metadata": {},
     "output_type": "execute_result"
    }
   ],
   "source": [
    "# check for NA values\n",
    "features.isna().sum()"
   ]
  },
  {
   "cell_type": "code",
   "execution_count": 6,
   "id": "b5027046-e9d8-4400-9a3b-65611cbe8551",
   "metadata": {},
   "outputs": [],
   "source": [
    "# Split data into training and test sets\n",
    "X_train, X_test, y_train, y_test = train_test_split(features, target, test_size=0.3, random_state=42)"
   ]
  },
  {
   "cell_type": "code",
   "execution_count": 7,
   "id": "8e5c69b5-7448-42a2-938c-4e6583e4ad20",
   "metadata": {},
   "outputs": [
    {
     "data": {
      "text/plain": [
       "LogisticRegression(max_iter=5000)"
      ]
     },
     "execution_count": 7,
     "metadata": {},
     "output_type": "execute_result"
    }
   ],
   "source": [
    "model = LogisticRegression(max_iter = 5000)\n",
    "model.fit(X_train, y_train)"
   ]
  },
  {
   "cell_type": "code",
   "execution_count": 8,
   "id": "ffd46c67-3938-469b-8016-f5a575fb4142",
   "metadata": {},
   "outputs": [],
   "source": [
    "y_pred = model.predict(X_test)"
   ]
  },
  {
   "cell_type": "code",
   "execution_count": 9,
   "id": "b0c85d14-c07c-4bd3-9ad7-7aeefbb8f564",
   "metadata": {},
   "outputs": [
    {
     "name": "stdout",
     "output_type": "stream",
     "text": [
      "Random Forest Accuracy: 69.65%\n"
     ]
    }
   ],
   "source": [
    "accuracy = accuracy_score(y_test, y_pred)\n",
    "print(f\"Random Forest Accuracy: {accuracy * 100:.2f}%\")"
   ]
  },
  {
   "cell_type": "code",
   "execution_count": null,
   "id": "d2c969ea-95f0-41b1-8a46-9c84ea536860",
   "metadata": {},
   "outputs": [],
   "source": []
  }
 ],
 "metadata": {
  "kernelspec": {
   "display_name": "Python 3 (ipykernel)",
   "language": "python",
   "name": "python3"
  },
  "language_info": {
   "codemirror_mode": {
    "name": "ipython",
    "version": 3
   },
   "file_extension": ".py",
   "mimetype": "text/x-python",
   "name": "python",
   "nbconvert_exporter": "python",
   "pygments_lexer": "ipython3",
   "version": "3.9.13"
  }
 },
 "nbformat": 4,
 "nbformat_minor": 5
}
