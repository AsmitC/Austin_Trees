{
 "cells": [
  {
   "cell_type": "code",
   "execution_count": 51,
   "metadata": {
    "id": "hgCekUESX1n7",
    "ExecuteTime": {
     "end_time": "2024-10-30T01:14:44.406237Z",
     "start_time": "2024-10-30T01:14:44.392227Z"
    }
   },
   "outputs": [],
   "source": [
    "# libraries\n",
    "import pandas as pd\n",
    "from sklearn.model_selection import train_test_split\n",
    "from sklearn.tree import DecisionTreeClassifier\n",
    "from sklearn.metrics import accuracy_score"
   ]
  },
  {
   "cell_type": "markdown",
   "metadata": {
    "id": "nxq5Pv--X1oH"
   },
   "source": [
    "Decision Tree Era"
   ]
  },
  {
   "cell_type": "code",
   "execution_count": 57,
   "metadata": {
    "colab": {
     "base_uri": "https://localhost:8080/",
     "height": 551
    },
    "id": "l2n7J6gbX1oH",
    "outputId": "d3615679-a4f1-4cba-e510-a1f0d7df3b2d",
    "ExecuteTime": {
     "end_time": "2024-10-30T01:19:58.515629Z",
     "start_time": "2024-10-30T01:19:58.186672Z"
    }
   },
   "outputs": [
    {
     "data": {
      "text/plain": "   Unnamed: 0  Reported.Year Property.ID..  \\\n0           1         2017.0        187746   \n1           2         2017.0        230740   \n2           3         2017.0        729528   \n3           5         2017.0        526381   \n4           6         2017.0        200001   \n\n  Commercial.Property..Property.Street.Address  \\\n0                      5126 E 5 ST, AUSTIN TX,   \n1         2500 RIDGEPOINT DR, AUSTIN TX, 78728   \n2  1700 S PLEASANT VALLEY RD, AUSTIN TX, 78741   \n3           2011 W RUNDBERG LN Austin TX 78758   \n4                202 W 17 ST, AUSTIN TX, 78701   \n\n                                 Building.Name  Total.SqFt  \\\n0                      5126 E 5 ST, AUSTIN TX,      7419.0   \n1         2500 RIDGEPOINT DR, AUSTIN TX, 78728     49024.0   \n2  1700 S PLEASANT VALLEY RD, AUSTIN TX, 78741    101953.0   \n3           2011 W RUNDBERG LN Austin TX 78758    146142.0   \n4                202 W 17 ST, AUSTIN TX, 78701     15350.0   \n\n                     Category Year.Built  kWh.sqft  Percentile.Rank  ...  \\\n0                         NaN       1940     0.000              NaN  ...   \n1     INDUSTRIAL (W/sqft > 3)       1983    15.580            39.58  ...   \n2  STORE\\GROCERY (W/sqft > 5)       2009    32.063            76.26  ...   \n3           OFFICE LG > 35000       1999     8.049             4.79  ...   \n4            OFFICE MED 10-35       1998   100.129              NaN  ...   \n\n  Total.Green.House.Gas.Emissions..MtCO2e.  Portfolio.Manager.Organization  \\\n0                                      NaN                             NaN   \n1                                      NaN                             NaN   \n2                                      NaN                             NaN   \n3                                      NaN                             NaN   \n4                                      NaN                             NaN   \n\n                                         GeoLocation  \\\n0  5126 E 5 ST\\r\\nAUSTIN, TX\\r\\n(30.251707, -97.6...   \n1  2500 RIDGEPOINT DR\\r\\nAUSTIN, TX 78728\\r\\n(30....   \n2  1700 S PLEASANT VALLEY RD\\r\\nAUSTIN, TX 78741\\...   \n3  2011 W RUNDBERG LN\\r\\nAustin, TX 78758\\r\\n(30....   \n4  202 W 17 ST\\r\\nAUSTIN, TX 78701\\r\\n(30.279196,...   \n\n   Submitted.Name.of.Organization      GeoLocation_clean        lat  \\\n0                    Pantur, Inc.  30.251707, -97.697313  30.251707   \n1     Equitable Commercial Realty  30.328069, -97.672401  30.328069   \n2                     Mimco, Inc.  30.236494, -97.721013  30.236494   \n3                            AISD  30.373732, -97.719236  30.373732   \n4          Charter Communications  30.279196, -97.740475  30.279196   \n\n        long                                  NearbyTreeSpecies  cluster  \\\n0 -97.697313  Hackberry, Hackberry, Oak, Oak, Oak, Mesquite,...        2   \n1 -97.672401                                                Oak        2   \n2 -97.721013  Oak, Mulberry, Chinaberry, Chinaberry, Chinabe...        1   \n3 -97.719236  Oak, Oak, Pecan, Pecan, Sycamore, Pear, Pear, ...        2   \n4 -97.740475  Loquat, Pecan, Crape Myrtle, Crape Myrtle, Oak...        2   \n\n   BestTreeSpecies  \n0            Pecan  \n1              Oak  \n2              Oak  \n3              Oak  \n4              Oak  \n\n[5 rows x 23 columns]",
      "text/html": "<div>\n<style scoped>\n    .dataframe tbody tr th:only-of-type {\n        vertical-align: middle;\n    }\n\n    .dataframe tbody tr th {\n        vertical-align: top;\n    }\n\n    .dataframe thead th {\n        text-align: right;\n    }\n</style>\n<table border=\"1\" class=\"dataframe\">\n  <thead>\n    <tr style=\"text-align: right;\">\n      <th></th>\n      <th>Unnamed: 0</th>\n      <th>Reported.Year</th>\n      <th>Property.ID..</th>\n      <th>Commercial.Property..Property.Street.Address</th>\n      <th>Building.Name</th>\n      <th>Total.SqFt</th>\n      <th>Category</th>\n      <th>Year.Built</th>\n      <th>kWh.sqft</th>\n      <th>Percentile.Rank</th>\n      <th>...</th>\n      <th>Total.Green.House.Gas.Emissions..MtCO2e.</th>\n      <th>Portfolio.Manager.Organization</th>\n      <th>GeoLocation</th>\n      <th>Submitted.Name.of.Organization</th>\n      <th>GeoLocation_clean</th>\n      <th>lat</th>\n      <th>long</th>\n      <th>NearbyTreeSpecies</th>\n      <th>cluster</th>\n      <th>BestTreeSpecies</th>\n    </tr>\n  </thead>\n  <tbody>\n    <tr>\n      <th>0</th>\n      <td>1</td>\n      <td>2017.0</td>\n      <td>187746</td>\n      <td>5126 E 5 ST, AUSTIN TX,</td>\n      <td>5126 E 5 ST, AUSTIN TX,</td>\n      <td>7419.0</td>\n      <td>NaN</td>\n      <td>1940</td>\n      <td>0.000</td>\n      <td>NaN</td>\n      <td>...</td>\n      <td>NaN</td>\n      <td>NaN</td>\n      <td>5126 E 5 ST\\r\\nAUSTIN, TX\\r\\n(30.251707, -97.6...</td>\n      <td>Pantur, Inc.</td>\n      <td>30.251707, -97.697313</td>\n      <td>30.251707</td>\n      <td>-97.697313</td>\n      <td>Hackberry, Hackberry, Oak, Oak, Oak, Mesquite,...</td>\n      <td>2</td>\n      <td>Pecan</td>\n    </tr>\n    <tr>\n      <th>1</th>\n      <td>2</td>\n      <td>2017.0</td>\n      <td>230740</td>\n      <td>2500 RIDGEPOINT DR, AUSTIN TX, 78728</td>\n      <td>2500 RIDGEPOINT DR, AUSTIN TX, 78728</td>\n      <td>49024.0</td>\n      <td>INDUSTRIAL (W/sqft &gt; 3)</td>\n      <td>1983</td>\n      <td>15.580</td>\n      <td>39.58</td>\n      <td>...</td>\n      <td>NaN</td>\n      <td>NaN</td>\n      <td>2500 RIDGEPOINT DR\\r\\nAUSTIN, TX 78728\\r\\n(30....</td>\n      <td>Equitable Commercial Realty</td>\n      <td>30.328069, -97.672401</td>\n      <td>30.328069</td>\n      <td>-97.672401</td>\n      <td>Oak</td>\n      <td>2</td>\n      <td>Oak</td>\n    </tr>\n    <tr>\n      <th>2</th>\n      <td>3</td>\n      <td>2017.0</td>\n      <td>729528</td>\n      <td>1700 S PLEASANT VALLEY RD, AUSTIN TX, 78741</td>\n      <td>1700 S PLEASANT VALLEY RD, AUSTIN TX, 78741</td>\n      <td>101953.0</td>\n      <td>STORE\\GROCERY (W/sqft &gt; 5)</td>\n      <td>2009</td>\n      <td>32.063</td>\n      <td>76.26</td>\n      <td>...</td>\n      <td>NaN</td>\n      <td>NaN</td>\n      <td>1700 S PLEASANT VALLEY RD\\r\\nAUSTIN, TX 78741\\...</td>\n      <td>Mimco, Inc.</td>\n      <td>30.236494, -97.721013</td>\n      <td>30.236494</td>\n      <td>-97.721013</td>\n      <td>Oak, Mulberry, Chinaberry, Chinaberry, Chinabe...</td>\n      <td>1</td>\n      <td>Oak</td>\n    </tr>\n    <tr>\n      <th>3</th>\n      <td>5</td>\n      <td>2017.0</td>\n      <td>526381</td>\n      <td>2011 W RUNDBERG LN Austin TX 78758</td>\n      <td>2011 W RUNDBERG LN Austin TX 78758</td>\n      <td>146142.0</td>\n      <td>OFFICE LG &gt; 35000</td>\n      <td>1999</td>\n      <td>8.049</td>\n      <td>4.79</td>\n      <td>...</td>\n      <td>NaN</td>\n      <td>NaN</td>\n      <td>2011 W RUNDBERG LN\\r\\nAustin, TX 78758\\r\\n(30....</td>\n      <td>AISD</td>\n      <td>30.373732, -97.719236</td>\n      <td>30.373732</td>\n      <td>-97.719236</td>\n      <td>Oak, Oak, Pecan, Pecan, Sycamore, Pear, Pear, ...</td>\n      <td>2</td>\n      <td>Oak</td>\n    </tr>\n    <tr>\n      <th>4</th>\n      <td>6</td>\n      <td>2017.0</td>\n      <td>200001</td>\n      <td>202 W 17 ST, AUSTIN TX, 78701</td>\n      <td>202 W 17 ST, AUSTIN TX, 78701</td>\n      <td>15350.0</td>\n      <td>OFFICE MED 10-35</td>\n      <td>1998</td>\n      <td>100.129</td>\n      <td>NaN</td>\n      <td>...</td>\n      <td>NaN</td>\n      <td>NaN</td>\n      <td>202 W 17 ST\\r\\nAUSTIN, TX 78701\\r\\n(30.279196,...</td>\n      <td>Charter Communications</td>\n      <td>30.279196, -97.740475</td>\n      <td>30.279196</td>\n      <td>-97.740475</td>\n      <td>Loquat, Pecan, Crape Myrtle, Crape Myrtle, Oak...</td>\n      <td>2</td>\n      <td>Oak</td>\n    </tr>\n  </tbody>\n</table>\n<p>5 rows × 23 columns</p>\n</div>"
     },
     "execution_count": 57,
     "metadata": {},
     "output_type": "execute_result"
    }
   ],
   "source": [
    "from collections import Counter\n",
    "\n",
    "# read data (if necessary) and make sure list is string\n",
    "data = pd.read_csv('business_trees_1km_with_weather_clusters.csv')\n",
    "data['NearbyTreeSpecies'] = data['NearbyTreeSpecies'].astype(str)\n",
    "\n",
    "# Function to find the most common species\n",
    "def get_most_common_species(nearby_species):\n",
    "    if ', ' not in nearby_species:\n",
    "        return nearby_species  # If there's only one species, return it\n",
    "    species_list = nearby_species.split(', ')  # Split the string into a list of species\n",
    "    species_counts = Counter(species_list)  # Count occurrences of each species\n",
    "    most_common_species, _ = species_counts.most_common(1)[0]  # Get the most common species\n",
    "    return most_common_species\n",
    "\n",
    "# Apply the function to create a new column for the predicted species\n",
    "data['BestTreeSpecies'] = data['NearbyTreeSpecies'].apply(get_most_common_species)\n",
    "\n",
    "data.head()"
   ]
  },
  {
   "cell_type": "markdown",
   "metadata": {
    "id": "6qPopXFJX1oI"
   },
   "source": [
    "encode for categories"
   ]
  },
  {
   "cell_type": "code",
   "execution_count": 58,
   "metadata": {
    "colab": {
     "base_uri": "https://localhost:8080/",
     "height": 551
    },
    "id": "tBOZOW-3X1oI",
    "outputId": "334fd679-5a67-49db-cae7-184b36d10e38",
    "ExecuteTime": {
     "end_time": "2024-10-30T01:20:24.402409Z",
     "start_time": "2024-10-30T01:20:24.367694Z"
    }
   },
   "outputs": [
    {
     "data": {
      "text/plain": "   Unnamed: 0  Reported.Year Property.ID..  \\\n0           1         2017.0        187746   \n1           2         2017.0        230740   \n2           3         2017.0        729528   \n3           5         2017.0        526381   \n4           6         2017.0        200001   \n\n  Commercial.Property..Property.Street.Address  \\\n0                      5126 E 5 ST, AUSTIN TX,   \n1         2500 RIDGEPOINT DR, AUSTIN TX, 78728   \n2  1700 S PLEASANT VALLEY RD, AUSTIN TX, 78741   \n3           2011 W RUNDBERG LN Austin TX 78758   \n4                202 W 17 ST, AUSTIN TX, 78701   \n\n                                 Building.Name  Total.SqFt  \\\n0                      5126 E 5 ST, AUSTIN TX,      7419.0   \n1         2500 RIDGEPOINT DR, AUSTIN TX, 78728     49024.0   \n2  1700 S PLEASANT VALLEY RD, AUSTIN TX, 78741    101953.0   \n3           2011 W RUNDBERG LN Austin TX 78758    146142.0   \n4                202 W 17 ST, AUSTIN TX, 78701     15350.0   \n\n                     Category Year.Built  kWh.sqft  Percentile.Rank  ...  \\\n0                         NaN       1940     0.000              NaN  ...   \n1     INDUSTRIAL (W/sqft > 3)       1983    15.580            39.58  ...   \n2  STORE\\GROCERY (W/sqft > 5)       2009    32.063            76.26  ...   \n3           OFFICE LG > 35000       1999     8.049             4.79  ...   \n4            OFFICE MED 10-35       1998   100.129              NaN  ...   \n\n                                         GeoLocation  \\\n0  5126 E 5 ST\\r\\nAUSTIN, TX\\r\\n(30.251707, -97.6...   \n1  2500 RIDGEPOINT DR\\r\\nAUSTIN, TX 78728\\r\\n(30....   \n2  1700 S PLEASANT VALLEY RD\\r\\nAUSTIN, TX 78741\\...   \n3  2011 W RUNDBERG LN\\r\\nAustin, TX 78758\\r\\n(30....   \n4  202 W 17 ST\\r\\nAUSTIN, TX 78701\\r\\n(30.279196,...   \n\n   Submitted.Name.of.Organization      GeoLocation_clean        lat  \\\n0                    Pantur, Inc.  30.251707, -97.697313  30.251707   \n1     Equitable Commercial Realty  30.328069, -97.672401  30.328069   \n2                     Mimco, Inc.  30.236494, -97.721013  30.236494   \n3                            AISD  30.373732, -97.719236  30.373732   \n4          Charter Communications  30.279196, -97.740475  30.279196   \n\n        long                                  NearbyTreeSpecies cluster  \\\n0 -97.697313  Hackberry, Hackberry, Oak, Oak, Oak, Mesquite,...       2   \n1 -97.672401                                                Oak       2   \n2 -97.721013  Oak, Mulberry, Chinaberry, Chinaberry, Chinabe...       1   \n3 -97.719236  Oak, Oak, Pecan, Pecan, Sycamore, Pear, Pear, ...       2   \n4 -97.740475  Loquat, Pecan, Crape Myrtle, Crape Myrtle, Oak...       2   \n\n  BestTreeSpecies  Category_encoded  BestTreeSpecies_encoded  \n0           Pecan                27                       20  \n1             Oak                10                       18  \n2             Oak                24                       18  \n3             Oak                16                       18  \n4             Oak                18                       18  \n\n[5 rows x 25 columns]",
      "text/html": "<div>\n<style scoped>\n    .dataframe tbody tr th:only-of-type {\n        vertical-align: middle;\n    }\n\n    .dataframe tbody tr th {\n        vertical-align: top;\n    }\n\n    .dataframe thead th {\n        text-align: right;\n    }\n</style>\n<table border=\"1\" class=\"dataframe\">\n  <thead>\n    <tr style=\"text-align: right;\">\n      <th></th>\n      <th>Unnamed: 0</th>\n      <th>Reported.Year</th>\n      <th>Property.ID..</th>\n      <th>Commercial.Property..Property.Street.Address</th>\n      <th>Building.Name</th>\n      <th>Total.SqFt</th>\n      <th>Category</th>\n      <th>Year.Built</th>\n      <th>kWh.sqft</th>\n      <th>Percentile.Rank</th>\n      <th>...</th>\n      <th>GeoLocation</th>\n      <th>Submitted.Name.of.Organization</th>\n      <th>GeoLocation_clean</th>\n      <th>lat</th>\n      <th>long</th>\n      <th>NearbyTreeSpecies</th>\n      <th>cluster</th>\n      <th>BestTreeSpecies</th>\n      <th>Category_encoded</th>\n      <th>BestTreeSpecies_encoded</th>\n    </tr>\n  </thead>\n  <tbody>\n    <tr>\n      <th>0</th>\n      <td>1</td>\n      <td>2017.0</td>\n      <td>187746</td>\n      <td>5126 E 5 ST, AUSTIN TX,</td>\n      <td>5126 E 5 ST, AUSTIN TX,</td>\n      <td>7419.0</td>\n      <td>NaN</td>\n      <td>1940</td>\n      <td>0.000</td>\n      <td>NaN</td>\n      <td>...</td>\n      <td>5126 E 5 ST\\r\\nAUSTIN, TX\\r\\n(30.251707, -97.6...</td>\n      <td>Pantur, Inc.</td>\n      <td>30.251707, -97.697313</td>\n      <td>30.251707</td>\n      <td>-97.697313</td>\n      <td>Hackberry, Hackberry, Oak, Oak, Oak, Mesquite,...</td>\n      <td>2</td>\n      <td>Pecan</td>\n      <td>27</td>\n      <td>20</td>\n    </tr>\n    <tr>\n      <th>1</th>\n      <td>2</td>\n      <td>2017.0</td>\n      <td>230740</td>\n      <td>2500 RIDGEPOINT DR, AUSTIN TX, 78728</td>\n      <td>2500 RIDGEPOINT DR, AUSTIN TX, 78728</td>\n      <td>49024.0</td>\n      <td>INDUSTRIAL (W/sqft &gt; 3)</td>\n      <td>1983</td>\n      <td>15.580</td>\n      <td>39.58</td>\n      <td>...</td>\n      <td>2500 RIDGEPOINT DR\\r\\nAUSTIN, TX 78728\\r\\n(30....</td>\n      <td>Equitable Commercial Realty</td>\n      <td>30.328069, -97.672401</td>\n      <td>30.328069</td>\n      <td>-97.672401</td>\n      <td>Oak</td>\n      <td>2</td>\n      <td>Oak</td>\n      <td>10</td>\n      <td>18</td>\n    </tr>\n    <tr>\n      <th>2</th>\n      <td>3</td>\n      <td>2017.0</td>\n      <td>729528</td>\n      <td>1700 S PLEASANT VALLEY RD, AUSTIN TX, 78741</td>\n      <td>1700 S PLEASANT VALLEY RD, AUSTIN TX, 78741</td>\n      <td>101953.0</td>\n      <td>STORE\\GROCERY (W/sqft &gt; 5)</td>\n      <td>2009</td>\n      <td>32.063</td>\n      <td>76.26</td>\n      <td>...</td>\n      <td>1700 S PLEASANT VALLEY RD\\r\\nAUSTIN, TX 78741\\...</td>\n      <td>Mimco, Inc.</td>\n      <td>30.236494, -97.721013</td>\n      <td>30.236494</td>\n      <td>-97.721013</td>\n      <td>Oak, Mulberry, Chinaberry, Chinaberry, Chinabe...</td>\n      <td>1</td>\n      <td>Oak</td>\n      <td>24</td>\n      <td>18</td>\n    </tr>\n    <tr>\n      <th>3</th>\n      <td>5</td>\n      <td>2017.0</td>\n      <td>526381</td>\n      <td>2011 W RUNDBERG LN Austin TX 78758</td>\n      <td>2011 W RUNDBERG LN Austin TX 78758</td>\n      <td>146142.0</td>\n      <td>OFFICE LG &gt; 35000</td>\n      <td>1999</td>\n      <td>8.049</td>\n      <td>4.79</td>\n      <td>...</td>\n      <td>2011 W RUNDBERG LN\\r\\nAustin, TX 78758\\r\\n(30....</td>\n      <td>AISD</td>\n      <td>30.373732, -97.719236</td>\n      <td>30.373732</td>\n      <td>-97.719236</td>\n      <td>Oak, Oak, Pecan, Pecan, Sycamore, Pear, Pear, ...</td>\n      <td>2</td>\n      <td>Oak</td>\n      <td>16</td>\n      <td>18</td>\n    </tr>\n    <tr>\n      <th>4</th>\n      <td>6</td>\n      <td>2017.0</td>\n      <td>200001</td>\n      <td>202 W 17 ST, AUSTIN TX, 78701</td>\n      <td>202 W 17 ST, AUSTIN TX, 78701</td>\n      <td>15350.0</td>\n      <td>OFFICE MED 10-35</td>\n      <td>1998</td>\n      <td>100.129</td>\n      <td>NaN</td>\n      <td>...</td>\n      <td>202 W 17 ST\\r\\nAUSTIN, TX 78701\\r\\n(30.279196,...</td>\n      <td>Charter Communications</td>\n      <td>30.279196, -97.740475</td>\n      <td>30.279196</td>\n      <td>-97.740475</td>\n      <td>Loquat, Pecan, Crape Myrtle, Crape Myrtle, Oak...</td>\n      <td>2</td>\n      <td>Oak</td>\n      <td>18</td>\n      <td>18</td>\n    </tr>\n  </tbody>\n</table>\n<p>5 rows × 25 columns</p>\n</div>"
     },
     "execution_count": 58,
     "metadata": {},
     "output_type": "execute_result"
    }
   ],
   "source": [
    "from sklearn.model_selection import train_test_split\n",
    "from sklearn.tree import DecisionTreeClassifier\n",
    "from sklearn.preprocessing import LabelEncoder\n",
    "\n",
    "\n",
    "# Encode categorical features, including the target if it's categorical\n",
    "encoder = LabelEncoder()\n",
    "data['Category_encoded'] = encoder.fit_transform(data['Category'])\n",
    "data['BestTreeSpecies_encoded'] = encoder.fit_transform(data['BestTreeSpecies'])\n",
    "data.head()"
   ]
  },
  {
   "cell_type": "markdown",
   "metadata": {
    "id": "ohrJ1JHqX1oI"
   },
   "source": [
    "fix na's (right now it's just removing but maybe later imputing would be better)"
   ]
  },
  {
   "cell_type": "code",
   "execution_count": 59,
   "metadata": {
    "colab": {
     "base_uri": "https://localhost:8080/"
    },
    "id": "RXqjZuKlX1oI",
    "outputId": "d27282ac-e26f-4bb5-9708-cb48c132815c",
    "ExecuteTime": {
     "end_time": "2024-10-30T01:20:28.394563Z",
     "start_time": "2024-10-30T01:20:28.366769Z"
    }
   },
   "outputs": [
    {
     "name": "stdout",
     "output_type": "stream",
     "text": [
      "Total.SqFt                   6\n",
      "Category_encoded             0\n",
      "Year.Built                  64\n",
      "kWh.sqft                   827\n",
      "lat                          0\n",
      "long                         0\n",
      "BestTreeSpecies_encoded      0\n",
      "cluster                      0\n",
      "dtype: int64\n",
      "Total.SqFt                 0.002137\n",
      "Category_encoded           0.000000\n",
      "Year.Built                 0.022792\n",
      "kWh.sqft                   0.294516\n",
      "lat                        0.000000\n",
      "long                       0.000000\n",
      "BestTreeSpecies_encoded    0.000000\n",
      "cluster                    0.000000\n",
      "dtype: float64\n",
      "Total.SqFt                 0\n",
      "Category_encoded           0\n",
      "Year.Built                 0\n",
      "kWh.sqft                   0\n",
      "lat                        0\n",
      "long                       0\n",
      "BestTreeSpecies_encoded    0\n",
      "cluster                    0\n",
      "dtype: int64\n",
      "Total.SqFt                 0.0\n",
      "Category_encoded           0.0\n",
      "Year.Built                 0.0\n",
      "kWh.sqft                   0.0\n",
      "lat                        0.0\n",
      "long                       0.0\n",
      "BestTreeSpecies_encoded    0.0\n",
      "cluster                    0.0\n",
      "dtype: float64\n"
     ]
    }
   ],
   "source": [
    "data.head()\n",
    "\n",
    "# get number and proportion of nas in the features and targets\n",
    "print(data[['Total.SqFt', 'Category_encoded', 'Year.Built', 'kWh.sqft', 'lat', 'long', 'BestTreeSpecies_encoded', 'cluster']].isna().sum())\n",
    "print(data[['Total.SqFt', 'Category_encoded', 'Year.Built', 'kWh.sqft', 'lat', 'long', 'BestTreeSpecies_encoded', 'cluster']].isna().mean())\n",
    "\n",
    "# maybe a future improvement is imputing kWH.sqft but for now i'm just dropping the rows with nas\n",
    "data = data.dropna(subset=['Total.SqFt', 'Category_encoded', 'Year.Built', 'kWh.sqft', 'lat', 'long', 'BestTreeSpecies_encoded', 'cluster'])\n",
    "print(data[['Total.SqFt', 'Category_encoded', 'Year.Built', 'kWh.sqft', 'lat', 'long', 'BestTreeSpecies_encoded', 'cluster']].isna().sum())\n",
    "print(data[['Total.SqFt', 'Category_encoded', 'Year.Built', 'kWh.sqft', 'lat', 'long', 'BestTreeSpecies_encoded', 'cluster']].isna().mean())"
   ]
  },
  {
   "cell_type": "code",
   "execution_count": 60,
   "metadata": {
    "colab": {
     "base_uri": "https://localhost:8080/"
    },
    "id": "3oaWbNHnX1oJ",
    "outputId": "548e2f19-28a4-4eee-8d3c-39c36a7600f5",
    "ExecuteTime": {
     "end_time": "2024-10-30T01:20:33.672709Z",
     "start_time": "2024-10-30T01:20:33.622709Z"
    }
   },
   "outputs": [
    {
     "name": "stdout",
     "output_type": "stream",
     "text": [
      "Decision Tree (gini) Accuracy: 80.76%\n",
      "Decision Tree (entropy) Accuracy: 82.30%\n"
     ]
    }
   ],
   "source": [
    "# Define features and target\n",
    "features = data[['Total.SqFt', 'Category_encoded', 'Year.Built', 'kWh.sqft', 'lat', 'long', 'cluster']]\n",
    "target = data['BestTreeSpecies_encoded']\n",
    "\n",
    "# convert to numeric for modeling purposes (will have to change the year back later)\n",
    "features = features.apply(pd.to_numeric, errors='coerce')\n",
    "\n",
    "# Split data into training and test sets\n",
    "X_train, X_test, y_train, y_test = train_test_split(features, target, test_size=0.3, random_state=42)\n",
    "\n",
    "# Initialize and train the decision tree (gini)\n",
    "clf_gini = DecisionTreeClassifier(criterion='gini')  # Use 'entropy' if you'd like to try that\n",
    "clf_gini.fit(X_train, y_train)\n",
    "\n",
    "# Initialize and train the decision tree (entropy)\n",
    "clf_ent = DecisionTreeClassifier(criterion='entropy')  # Use 'entropy' if you'd like to try that\n",
    "clf_ent.fit(X_train, y_train)\n",
    "\n",
    "# Evaluate accuracy\n",
    "accuracy_gini = clf_gini.score(X_test, y_test)\n",
    "print(f\"Decision Tree (gini) Accuracy: {accuracy_gini * 100:.2f}%\")\n",
    "\n",
    "accuracy_ent = clf_ent.score(X_test, y_test)\n",
    "print(f\"Decision Tree (entropy) Accuracy: {accuracy_ent * 100:.2f}%\")\n"
   ]
  },
  {
   "cell_type": "code",
   "source": [
    "import pandas as pd\n",
    "import numpy as np\n",
    "from sklearn.model_selection import train_test_split\n",
    "from sklearn.tree import DecisionTreeClassifier\n",
    "\n",
    "# Assuming 'data' is already defined and cleaned\n",
    "\n",
    "# Define features and target\n",
    "features = data[['Total.SqFt', 'Category_encoded', 'Year.Built', 'kWh.sqft', 'lat', 'long']]\n",
    "target = data['BestTreeSpecies_encoded']\n",
    "\n",
    "# Convert to numeric for modeling purposes\n",
    "features = features.apply(pd.to_numeric, errors='coerce')\n",
    "\n",
    "# Initialize lists to store accuracy scores\n",
    "gini_accuracies = []\n",
    "entropy_accuracies = []\n",
    "num_runs = 50  # Number of times to run the model\n",
    "\n",
    "# Run multiple times to evaluate convergence\n",
    "for i in range(num_runs):\n",
    "    # Split data into training and test sets\n",
    "    X_train, X_test, y_train, y_test = train_test_split(features, target, test_size=0.3, random_state=i)\n",
    "\n",
    "    # Initialize and train the decision tree (Gini)\n",
    "    clf_gini = DecisionTreeClassifier(criterion='gini')\n",
    "    clf_gini.fit(X_train, y_train)\n",
    "\n",
    "    # Evaluate accuracy for Gini\n",
    "    accuracy_gini = clf_gini.score(X_test, y_test)\n",
    "    gini_accuracies.append(accuracy_gini)\n",
    "\n",
    "    # Initialize and train the decision tree (Entropy)\n",
    "    clf_ent = DecisionTreeClassifier(criterion='entropy')\n",
    "    clf_ent.fit(X_train, y_train)\n",
    "\n",
    "    # Evaluate accuracy for Entropy\n",
    "    accuracy_ent = clf_ent.score(X_test, y_test)\n",
    "    entropy_accuracies.append(accuracy_ent)\n",
    "\n",
    "# Calculate average accuracies\n",
    "avg_gini_accuracy = np.mean(gini_accuracies)\n",
    "avg_entropy_accuracy = np.mean(entropy_accuracies)\n",
    "\n",
    "# Display results\n",
    "print(f\"Average Decision Tree (gini) Accuracy over {num_runs} runs: {avg_gini_accuracy * 100:.2f}%\")\n",
    "print(f\"Average Decision Tree (entropy) Accuracy over {num_runs} runs: {avg_entropy_accuracy * 100:.2f}%\")"
   ],
   "metadata": {
    "colab": {
     "base_uri": "https://localhost:8080/"
    },
    "id": "10_tzK9Mk3fU",
    "outputId": "aeab85a7-7de3-4743-bfb6-d2dd75a4048e",
    "ExecuteTime": {
     "end_time": "2024-10-30T01:20:37.789909Z",
     "start_time": "2024-10-30T01:20:34.985848Z"
    }
   },
   "execution_count": 61,
   "outputs": [
    {
     "name": "stdout",
     "output_type": "stream",
     "text": [
      "Average Decision Tree (gini) Accuracy over 50 runs: 77.82%\n",
      "Average Decision Tree (entropy) Accuracy over 50 runs: 80.47%\n"
     ]
    }
   ]
  },
  {
   "cell_type": "markdown",
   "source": [
    "# NN"
   ],
   "metadata": {
    "collapsed": false
   }
  },
  {
   "cell_type": "code",
   "outputs": [
    {
     "name": "stdout",
     "output_type": "stream",
     "text": [
      "{'.', '1995-2001'}\n"
     ]
    }
   ],
   "source": [
    "def find_non_integer_values(column):\n",
    "    # Use a try-except block to catch conversion errors\n",
    "    non_integers = []\n",
    "    for value in column:\n",
    "        try:\n",
    "            # Attempt to convert to integer\n",
    "            int(value)\n",
    "        except (ValueError, TypeError):\n",
    "            # If conversion fails, add to the list\n",
    "            non_integers.append(value)\n",
    "    return non_integers\n",
    "\n",
    "# Finding non-integer values in 'Year.Built'\n",
    "non_integer_values = find_non_integer_values(data['Year.Built'])\n",
    "print(set(non_integer_values))"
   ],
   "metadata": {
    "collapsed": false,
    "ExecuteTime": {
     "end_time": "2024-10-30T01:21:49.862147Z",
     "start_time": "2024-10-30T01:21:49.854148Z"
    }
   },
   "execution_count": 62
  },
  {
   "cell_type": "code",
   "outputs": [],
   "source": [
    "data['Year.Built'] = data['Year.Built'].replace('.', np.nan)\n",
    "data['Year.Built'] = data['Year.Built'].replace('1995-2001', np.nan)\n",
    "data = data.dropna(subset=['Year.Built'])\n",
    "data['Year.Built'] = data['Year.Built'].astype(int)\n",
    "\n",
    "features = data[['Total.SqFt', 'Category_encoded', 'Year.Built', 'kWh.sqft', 'lat', 'long', 'cluster']]\n",
    "target = data['BestTreeSpecies_encoded']"
   ],
   "metadata": {
    "collapsed": false,
    "ExecuteTime": {
     "end_time": "2024-10-30T01:21:54.909155Z",
     "start_time": "2024-10-30T01:21:54.890158Z"
    }
   },
   "execution_count": 63
  },
  {
   "cell_type": "code",
   "outputs": [
    {
     "name": "stderr",
     "output_type": "stream",
     "text": [
      "C:\\Users\\Victor Nguyen\\AppData\\Local\\Programs\\Python\\Python310\\lib\\site-packages\\sklearn\\model_selection\\_split.py:776: UserWarning: The least populated class in y has only 1 members, which is less than n_splits=5.\n",
      "  warnings.warn(\n"
     ]
    },
    {
     "name": "stdout",
     "output_type": "stream",
     "text": [
      "Cross-Validation Accuracy Scores: [0.66937669 0.65582656 0.6875     0.7173913  0.68478261]\n",
      "Mean Cross-Validation Accuracy: 0.6829754330151998\n",
      "Standard Deviation of Cross-Validation Accuracy: 0.02064062450235686\n"
     ]
    }
   ],
   "source": [
    "import pandas as pd\n",
    "from sklearn.model_selection import train_test_split, cross_val_score\n",
    "from sklearn.pipeline import Pipeline\n",
    "from sklearn.preprocessing import StandardScaler\n",
    "from sklearn.neural_network import MLPClassifier\n",
    "from sklearn.metrics import classification_report, accuracy_score\n",
    "\n",
    "# Creating the pipeline\n",
    "pipeline = Pipeline([\n",
    "    ('scaler', StandardScaler()),  # Step 1: Standardize features\n",
    "    ('mlp', MLPClassifier(hidden_layer_sizes=(128, 64, 32, 16, 8), activation='relu', solver='adam', max_iter=500, random_state=42))  # Step 2: MLP Classifier\n",
    "])\n",
    "\n",
    "# Performing cross-validation\n",
    "cv_scores = cross_val_score(pipeline, features, target, cv=5, scoring='accuracy')  # Use 5-fold cross-validation\n",
    "\n",
    "# Output the cross-validation scores\n",
    "print(f'Cross-Validation Accuracy Scores: {cv_scores}')\n",
    "print(f'Mean Cross-Validation Accuracy: {cv_scores.mean()}')\n",
    "print(f'Standard Deviation of Cross-Validation Accuracy: {cv_scores.std()}')"
   ],
   "metadata": {
    "collapsed": false,
    "ExecuteTime": {
     "end_time": "2024-10-30T01:22:33.389114Z",
     "start_time": "2024-10-30T01:21:55.816398Z"
    }
   },
   "execution_count": 64
  },
  {
   "cell_type": "code",
   "outputs": [],
   "source": [],
   "metadata": {
    "collapsed": false
   }
  }
 ],
 "metadata": {
  "colab": {
   "provenance": []
  },
  "kernelspec": {
   "display_name": "venv",
   "language": "python",
   "name": "python3"
  },
  "language_info": {
   "codemirror_mode": {
    "name": "ipython",
    "version": 3
   },
   "file_extension": ".py",
   "mimetype": "text/x-python",
   "name": "python",
   "nbconvert_exporter": "python",
   "pygments_lexer": "ipython3",
   "version": "3.11.1"
  }
 },
 "nbformat": 4,
 "nbformat_minor": 0
}
