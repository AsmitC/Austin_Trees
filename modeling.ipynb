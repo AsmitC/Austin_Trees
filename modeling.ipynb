{
 "cells": [
  {
   "cell_type": "code",
   "execution_count": 51,
   "metadata": {
    "id": "hgCekUESX1n7",
    "ExecuteTime": {
     "end_time": "2024-10-30T01:14:44.406237Z",
     "start_time": "2024-10-30T01:14:44.392227Z"
    }
   },
   "outputs": [],
   "source": [
    "# libraries\n",
    "import pandas as pd\n",
    "from sklearn.model_selection import train_test_split\n",
    "from sklearn.tree import DecisionTreeClassifier\n",
    "from sklearn.metrics import accuracy_score"
   ]
  },
  {
   "cell_type": "code",
   "outputs": [],
   "source": [
    "import pandas as pd\n",
    "\n",
    "data = pd.read_csv('modeling_data.csv')"
   ],
   "metadata": {
    "collapsed": false,
    "ExecuteTime": {
     "end_time": "2024-10-30T18:24:19.673630Z",
     "start_time": "2024-10-30T18:24:19.546835Z"
    }
   },
   "execution_count": 12
  },
  {
   "cell_type": "code",
   "outputs": [
    {
     "name": "stderr",
     "output_type": "stream",
     "text": [
      "C:\\Users\\Victor Nguyen\\AppData\\Local\\Programs\\Python\\Python310\\lib\\site-packages\\sklearn\\model_selection\\_split.py:776: UserWarning: The least populated class in y has only 4 members, which is less than n_splits=5.\n",
      "  warnings.warn(\n"
     ]
    },
    {
     "name": "stdout",
     "output_type": "stream",
     "text": [
      "Average Decision Tree (gini) Accuracy: 81.42%\n",
      "Average Decision Tree (entropy) Accuracy: 83.03%\n",
      "Average NN1 Accuracy: 73.93%\n"
     ]
    }
   ],
   "source": [
    "from sklearn.tree import DecisionTreeClassifier\n",
    "from sklearn.model_selection import StratifiedKFold, train_test_split\n",
    "from sklearn.metrics import accuracy_score\n",
    "import numpy as np\n",
    "import pandas as pd\n",
    "from sklearn.pipeline import Pipeline\n",
    "from sklearn.preprocessing import StandardScaler\n",
    "from sklearn.neural_network import MLPClassifier\n",
    "\n",
    "# Define features and target\n",
    "X = data[['Total.SqFt', 'Category_encoded', 'Year.Built', 'kWh.sqft', 'lat', 'long', 'cluster']]\n",
    "y = data['BestTreeSpecies_encoded']\n",
    "\n",
    "# Convert to numeric for modeling purposes (if necessary)\n",
    "X = X.apply(pd.to_numeric, errors='coerce').to_numpy()\n",
    "y = y.to_numpy()\n",
    "\n",
    "X_train_val, X_test, y_train_val, y_test = train_test_split(X, y, test_size=0.2, stratify=y, random_state=42)\n",
    "\n",
    "# Initialize StratifiedKFold with desired number of splits\n",
    "n_splits = 5\n",
    "skf = StratifiedKFold(n_splits=n_splits, shuffle=True, random_state=42)\n",
    "\n",
    "# Initialize lists to store accuracies for each fold\n",
    "accuracy_gini_scores = []\n",
    "accuracy_ent_scores = []\n",
    "accuracy_nn1_scores = []\n",
    "\n",
    "# Perform Stratified K-Fold Cross-Validation\n",
    "for train_index, val_index in skf.split(X_train_val, y_train_val):\n",
    "    X_train, X_val = X[train_index], X[val_index]\n",
    "    y_train, y_val = y[train_index], y[val_index]\n",
    "\n",
    "    # Initialize and train the decision tree (gini)\n",
    "    clf_gini = DecisionTreeClassifier(criterion='gini', random_state=42)\n",
    "    clf_gini.fit(X_train, y_train)\n",
    "    y_pred_gini = clf_gini.predict(X_val)\n",
    "    accuracy_gini = accuracy_score(y_val, y_pred_gini)\n",
    "    accuracy_gini_scores.append(accuracy_gini)\n",
    "\n",
    "    # Initialize and train the decision tree (entropy)\n",
    "    clf_ent = DecisionTreeClassifier(criterion='entropy', random_state=42)\n",
    "    clf_ent.fit(X_train, y_train)\n",
    "    y_pred_ent = clf_ent.predict(X_val)\n",
    "    accuracy_ent = accuracy_score(y_val, y_pred_ent)\n",
    "    accuracy_ent_scores.append(accuracy_ent)\n",
    "\n",
    "    nn1 = Pipeline([\n",
    "        ('scaler', StandardScaler()),  # Step 1: Standardize features\n",
    "        ('mlp', MLPClassifier(hidden_layer_sizes=(128, 64, 32, 16, 8), activation='relu', solver='adam', max_iter=500, random_state=42))  # Step 2: MLP Classifier\n",
    "    ])\n",
    "    nn1.fit(X_train, y_train)\n",
    "    y_pred_nn1 = nn1.predict(X_val)\n",
    "    accuracy_nn1 = accuracy_score(y_val, y_pred_nn1)\n",
    "    accuracy_nn1_scores.append(accuracy_nn1)\n",
    "\n",
    "# Calculate and print average accuracy for each criterion\n",
    "print(f\"Average Decision Tree (gini) Accuracy: {np.mean(accuracy_gini_scores) * 100:.2f}%\")\n",
    "print(f\"Average Decision Tree (entropy) Accuracy: {np.mean(accuracy_ent_scores) * 100:.2f}%\")\n",
    "print(f\"Average NN1 Accuracy: {np.mean(accuracy_nn1_scores) * 100:.2f}%\")"
   ],
   "metadata": {
    "collapsed": false,
    "ExecuteTime": {
     "end_time": "2024-10-30T18:24:52.841506Z",
     "start_time": "2024-10-30T18:24:21.417667Z"
    }
   },
   "execution_count": 13
  },
  {
   "cell_type": "markdown",
   "source": [
    "# NN"
   ],
   "metadata": {
    "collapsed": false
   }
  },
  {
   "cell_type": "code",
   "outputs": [],
   "source": [
    "data['Year.Built'] = data['Year.Built'].replace('.', np.nan)\n",
    "data['Year.Built'] = data['Year.Built'].replace('1995-2001', np.nan)\n",
    "data = data.dropna(subset=['Year.Built'])\n",
    "data['Year.Built'] = data['Year.Built'].astype(int)\n",
    "\n",
    "features = data[['Total.SqFt', 'Category_encoded', 'Year.Built', 'kWh.sqft', 'lat', 'long', 'cluster']]\n",
    "target = data['BestTreeSpecies_encoded']"
   ],
   "metadata": {
    "collapsed": false,
    "ExecuteTime": {
     "end_time": "2024-10-30T01:21:54.909155Z",
     "start_time": "2024-10-30T01:21:54.890158Z"
    }
   },
   "execution_count": 63
  },
  {
   "cell_type": "code",
   "outputs": [
    {
     "name": "stderr",
     "output_type": "stream",
     "text": [
      "C:\\Users\\Victor Nguyen\\AppData\\Local\\Programs\\Python\\Python310\\lib\\site-packages\\sklearn\\model_selection\\_split.py:776: UserWarning: The least populated class in y has only 1 members, which is less than n_splits=5.\n",
      "  warnings.warn(\n"
     ]
    },
    {
     "name": "stdout",
     "output_type": "stream",
     "text": [
      "Cross-Validation Accuracy Scores: [0.66937669 0.65582656 0.6875     0.7173913  0.68478261]\n",
      "Mean Cross-Validation Accuracy: 0.6829754330151998\n",
      "Standard Deviation of Cross-Validation Accuracy: 0.02064062450235686\n"
     ]
    }
   ],
   "source": [
    "import pandas as pd\n",
    "from sklearn.model_selection import train_test_split, cross_val_score\n",
    "from sklearn.pipeline import Pipeline\n",
    "from sklearn.preprocessing import StandardScaler\n",
    "from sklearn.neural_network import MLPClassifier\n",
    "from sklearn.metrics import classification_report, accuracy_score\n",
    "\n",
    "# Creating the pipeline\n",
    "pipeline = Pipeline([\n",
    "    ('scaler', StandardScaler()),  # Step 1: Standardize features\n",
    "    ('mlp', MLPClassifier(hidden_layer_sizes=(128, 64, 32, 16, 8), activation='relu', solver='adam', max_iter=500, random_state=42))  # Step 2: MLP Classifier\n",
    "])\n",
    "\n",
    "# Performing cross-validation\n",
    "cv_scores = cross_val_score(pipeline, features, target, cv=5, scoring='accuracy')  # Use 5-fold cross-validation\n",
    "\n",
    "# Output the cross-validation scores\n",
    "print(f'Cross-Validation Accuracy Scores: {cv_scores}')\n",
    "print(f'Mean Cross-Validation Accuracy: {cv_scores.mean()}')\n",
    "print(f'Standard Deviation of Cross-Validation Accuracy: {cv_scores.std()}')"
   ],
   "metadata": {
    "collapsed": false,
    "ExecuteTime": {
     "end_time": "2024-10-30T01:22:33.389114Z",
     "start_time": "2024-10-30T01:21:55.816398Z"
    }
   },
   "execution_count": 64
  },
  {
   "cell_type": "code",
   "outputs": [],
   "source": [],
   "metadata": {
    "collapsed": false
   }
  }
 ],
 "metadata": {
  "colab": {
   "provenance": []
  },
  "kernelspec": {
   "display_name": "venv",
   "language": "python",
   "name": "python3"
  },
  "language_info": {
   "codemirror_mode": {
    "name": "ipython",
    "version": 3
   },
   "file_extension": ".py",
   "mimetype": "text/x-python",
   "name": "python",
   "nbconvert_exporter": "python",
   "pygments_lexer": "ipython3",
   "version": "3.11.1"
  }
 },
 "nbformat": 4,
 "nbformat_minor": 0
}
