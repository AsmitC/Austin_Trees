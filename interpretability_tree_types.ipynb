{
 "cells": [
  {
   "cell_type": "markdown",
   "id": "abeb99bb-2a60-48b4-849c-ab10d386992b",
   "metadata": {},
   "source": [
    "# Modeling"
   ]
  },
  {
   "cell_type": "markdown",
   "id": "d4f496a6-7975-47ef-8371-decd3dee6dad",
   "metadata": {},
   "source": [
    "## Import data"
   ]
  },
  {
   "cell_type": "code",
   "execution_count": 1,
   "id": "3a29eec4-238f-40bc-ad17-014f8281073c",
   "metadata": {
    "ExecuteTime": {
     "end_time": "2024-12-02T22:02:55.551920Z",
     "start_time": "2024-12-02T22:02:50.729021Z"
    }
   },
   "outputs": [],
   "source": [
    "import torch\n",
    "import torch.nn as nn\n",
    "import torch.optim as optim\n",
    "from torch.utils.data import DataLoader, TensorDataset\n",
    "import gpytorch\n",
    "from gpytorch.models import ExactGP\n",
    "from gpytorch.likelihoods import GaussianLikelihood\n",
    "from pytorch_tcn import TCN\n",
    "import numpy as np\n",
    "import pandas as pd\n",
    "import matplotlib.pyplot as plt\n",
    "import xgboost as xgb\n",
    "from tqdm import tqdm\n",
    "from sklearn.preprocessing import StandardScaler\n",
    "from sklearn.ensemble import RandomForestRegressor\n",
    "from sklearn.metrics import mean_squared_error, mean_absolute_error, r2_score\n",
    "from sklearn.model_selection import train_test_split, GridSearchCV\n",
    "from datetime import datetime\n",
    "import joblib"
   ]
  },
  {
   "cell_type": "code",
   "execution_count": 2,
   "id": "3f15a247-c53d-4655-b6c7-f81c97e6c9eb",
   "metadata": {
    "ExecuteTime": {
     "end_time": "2024-12-02T22:02:57.633535Z",
     "start_time": "2024-12-02T22:02:55.553920Z"
    }
   },
   "outputs": [
    {
     "name": "stdout",
     "output_type": "stream",
     "text": [
      "Shape: (121625, 25)\n"
     ]
    },
    {
     "data": {
      "text/plain": "                  time_stamp  humidity  temperature  pressure  pm2.5_alt  \\\n0  2024-10-24 18:00:00+00:00    35.447       92.044   981.676        2.5   \n1  2024-10-24 06:00:00+00:00    61.950       78.405   984.603        3.6   \n2  2024-10-24 00:00:00+00:00    45.133       83.672   985.485        3.1   \n3  2024-10-23 00:00:00+00:00    48.216       83.123   986.001        2.6   \n4  2024-10-23 18:00:00+00:00    33.578       93.095   985.318        2.5   \n\n   pm2.5_atm  sensor_index   latitude  longitude  altitude  ...  other  \\\n0     3.2195          2862  30.366156  -97.76529     899.0  ...    130   \n1     5.6470          2862  30.366156  -97.76529     899.0  ...    130   \n2     4.7600          2862  30.366156  -97.76529     899.0  ...    130   \n3     3.9515          2862  30.366156  -97.76529     899.0  ...    130   \n4     3.2565          2862  30.366156  -97.76529     899.0  ...    130   \n\n   total_diameter  canopy_coverage_percentage  PRCP  year_month  cluster  \\\n0         22595.5                   66.596351   0.0     2024-10        0   \n1         22595.5                   66.596351   0.0     2024-10        0   \n2         22595.5                   66.596351   0.0     2024-10        0   \n3         22595.5                   66.596351   0.0     2024-10        0   \n4         22595.5                   66.596351   0.0     2024-10        0   \n\n   season_Fall  season_Spring  season_Summer season_Winter  \n0         True          False          False         False  \n1         True          False          False         False  \n2         True          False          False         False  \n3         True          False          False         False  \n4         True          False          False         False  \n\n[5 rows x 25 columns]",
      "text/html": "<div>\n<style scoped>\n    .dataframe tbody tr th:only-of-type {\n        vertical-align: middle;\n    }\n\n    .dataframe tbody tr th {\n        vertical-align: top;\n    }\n\n    .dataframe thead th {\n        text-align: right;\n    }\n</style>\n<table border=\"1\" class=\"dataframe\">\n  <thead>\n    <tr style=\"text-align: right;\">\n      <th></th>\n      <th>time_stamp</th>\n      <th>humidity</th>\n      <th>temperature</th>\n      <th>pressure</th>\n      <th>pm2.5_alt</th>\n      <th>pm2.5_atm</th>\n      <th>sensor_index</th>\n      <th>latitude</th>\n      <th>longitude</th>\n      <th>altitude</th>\n      <th>...</th>\n      <th>other</th>\n      <th>total_diameter</th>\n      <th>canopy_coverage_percentage</th>\n      <th>PRCP</th>\n      <th>year_month</th>\n      <th>cluster</th>\n      <th>season_Fall</th>\n      <th>season_Spring</th>\n      <th>season_Summer</th>\n      <th>season_Winter</th>\n    </tr>\n  </thead>\n  <tbody>\n    <tr>\n      <th>0</th>\n      <td>2024-10-24 18:00:00+00:00</td>\n      <td>35.447</td>\n      <td>92.044</td>\n      <td>981.676</td>\n      <td>2.5</td>\n      <td>3.2195</td>\n      <td>2862</td>\n      <td>30.366156</td>\n      <td>-97.76529</td>\n      <td>899.0</td>\n      <td>...</td>\n      <td>130</td>\n      <td>22595.5</td>\n      <td>66.596351</td>\n      <td>0.0</td>\n      <td>2024-10</td>\n      <td>0</td>\n      <td>True</td>\n      <td>False</td>\n      <td>False</td>\n      <td>False</td>\n    </tr>\n    <tr>\n      <th>1</th>\n      <td>2024-10-24 06:00:00+00:00</td>\n      <td>61.950</td>\n      <td>78.405</td>\n      <td>984.603</td>\n      <td>3.6</td>\n      <td>5.6470</td>\n      <td>2862</td>\n      <td>30.366156</td>\n      <td>-97.76529</td>\n      <td>899.0</td>\n      <td>...</td>\n      <td>130</td>\n      <td>22595.5</td>\n      <td>66.596351</td>\n      <td>0.0</td>\n      <td>2024-10</td>\n      <td>0</td>\n      <td>True</td>\n      <td>False</td>\n      <td>False</td>\n      <td>False</td>\n    </tr>\n    <tr>\n      <th>2</th>\n      <td>2024-10-24 00:00:00+00:00</td>\n      <td>45.133</td>\n      <td>83.672</td>\n      <td>985.485</td>\n      <td>3.1</td>\n      <td>4.7600</td>\n      <td>2862</td>\n      <td>30.366156</td>\n      <td>-97.76529</td>\n      <td>899.0</td>\n      <td>...</td>\n      <td>130</td>\n      <td>22595.5</td>\n      <td>66.596351</td>\n      <td>0.0</td>\n      <td>2024-10</td>\n      <td>0</td>\n      <td>True</td>\n      <td>False</td>\n      <td>False</td>\n      <td>False</td>\n    </tr>\n    <tr>\n      <th>3</th>\n      <td>2024-10-23 00:00:00+00:00</td>\n      <td>48.216</td>\n      <td>83.123</td>\n      <td>986.001</td>\n      <td>2.6</td>\n      <td>3.9515</td>\n      <td>2862</td>\n      <td>30.366156</td>\n      <td>-97.76529</td>\n      <td>899.0</td>\n      <td>...</td>\n      <td>130</td>\n      <td>22595.5</td>\n      <td>66.596351</td>\n      <td>0.0</td>\n      <td>2024-10</td>\n      <td>0</td>\n      <td>True</td>\n      <td>False</td>\n      <td>False</td>\n      <td>False</td>\n    </tr>\n    <tr>\n      <th>4</th>\n      <td>2024-10-23 18:00:00+00:00</td>\n      <td>33.578</td>\n      <td>93.095</td>\n      <td>985.318</td>\n      <td>2.5</td>\n      <td>3.2565</td>\n      <td>2862</td>\n      <td>30.366156</td>\n      <td>-97.76529</td>\n      <td>899.0</td>\n      <td>...</td>\n      <td>130</td>\n      <td>22595.5</td>\n      <td>66.596351</td>\n      <td>0.0</td>\n      <td>2024-10</td>\n      <td>0</td>\n      <td>True</td>\n      <td>False</td>\n      <td>False</td>\n      <td>False</td>\n    </tr>\n  </tbody>\n</table>\n<p>5 rows × 25 columns</p>\n</div>"
     },
     "execution_count": 2,
     "metadata": {},
     "output_type": "execute_result"
    }
   ],
   "source": [
    "url = \"https://raw.githubusercontent.com/AsmitC/Austin_Trees/refs/heads/victournguyen/purpleair-pull-data/cleaned_data.csv\"\n",
    "df = pd.read_csv(url)\n",
    "print(f'Shape: {df.shape}')\n",
    "df.head()"
   ]
  },
  {
   "cell_type": "code",
   "execution_count": 3,
   "id": "1621dd68",
   "metadata": {
    "ExecuteTime": {
     "end_time": "2024-12-02T22:02:57.665075Z",
     "start_time": "2024-12-02T22:02:57.635531Z"
    }
   },
   "outputs": [
    {
     "data": {
      "text/plain": "                  time_stamp  humidity  temperature  pressure  pm2.5_alt  \\\n0  2024-10-24 18:00:00+00:00    35.447       92.044   981.676        2.5   \n1  2024-10-24 06:00:00+00:00    61.950       78.405   984.603        3.6   \n2  2024-10-24 00:00:00+00:00    45.133       83.672   985.485        3.1   \n3  2024-10-23 00:00:00+00:00    48.216       83.123   986.001        2.6   \n4  2024-10-23 18:00:00+00:00    33.578       93.095   985.318        2.5   \n\n   pm2.5_atm  sensor_index   latitude  longitude  altitude  ...  other  \\\n0     3.2195          2862  30.366156  -97.76529     899.0  ...    130   \n1     5.6470          2862  30.366156  -97.76529     899.0  ...    130   \n2     4.7600          2862  30.366156  -97.76529     899.0  ...    130   \n3     3.9515          2862  30.366156  -97.76529     899.0  ...    130   \n4     3.2565          2862  30.366156  -97.76529     899.0  ...    130   \n\n   total_diameter  canopy_coverage_percentage  PRCP  year_month  cluster  \\\n0         22595.5                   66.596351   0.0     2024-10        0   \n1         22595.5                   66.596351   0.0     2024-10        0   \n2         22595.5                   66.596351   0.0     2024-10        0   \n3         22595.5                   66.596351   0.0     2024-10        0   \n4         22595.5                   66.596351   0.0     2024-10        0   \n\n   season_Fall  season_Spring  season_Summer season_Winter  \n0            1              0              0             0  \n1            1              0              0             0  \n2            1              0              0             0  \n3            1              0              0             0  \n4            1              0              0             0  \n\n[5 rows x 25 columns]",
      "text/html": "<div>\n<style scoped>\n    .dataframe tbody tr th:only-of-type {\n        vertical-align: middle;\n    }\n\n    .dataframe tbody tr th {\n        vertical-align: top;\n    }\n\n    .dataframe thead th {\n        text-align: right;\n    }\n</style>\n<table border=\"1\" class=\"dataframe\">\n  <thead>\n    <tr style=\"text-align: right;\">\n      <th></th>\n      <th>time_stamp</th>\n      <th>humidity</th>\n      <th>temperature</th>\n      <th>pressure</th>\n      <th>pm2.5_alt</th>\n      <th>pm2.5_atm</th>\n      <th>sensor_index</th>\n      <th>latitude</th>\n      <th>longitude</th>\n      <th>altitude</th>\n      <th>...</th>\n      <th>other</th>\n      <th>total_diameter</th>\n      <th>canopy_coverage_percentage</th>\n      <th>PRCP</th>\n      <th>year_month</th>\n      <th>cluster</th>\n      <th>season_Fall</th>\n      <th>season_Spring</th>\n      <th>season_Summer</th>\n      <th>season_Winter</th>\n    </tr>\n  </thead>\n  <tbody>\n    <tr>\n      <th>0</th>\n      <td>2024-10-24 18:00:00+00:00</td>\n      <td>35.447</td>\n      <td>92.044</td>\n      <td>981.676</td>\n      <td>2.5</td>\n      <td>3.2195</td>\n      <td>2862</td>\n      <td>30.366156</td>\n      <td>-97.76529</td>\n      <td>899.0</td>\n      <td>...</td>\n      <td>130</td>\n      <td>22595.5</td>\n      <td>66.596351</td>\n      <td>0.0</td>\n      <td>2024-10</td>\n      <td>0</td>\n      <td>1</td>\n      <td>0</td>\n      <td>0</td>\n      <td>0</td>\n    </tr>\n    <tr>\n      <th>1</th>\n      <td>2024-10-24 06:00:00+00:00</td>\n      <td>61.950</td>\n      <td>78.405</td>\n      <td>984.603</td>\n      <td>3.6</td>\n      <td>5.6470</td>\n      <td>2862</td>\n      <td>30.366156</td>\n      <td>-97.76529</td>\n      <td>899.0</td>\n      <td>...</td>\n      <td>130</td>\n      <td>22595.5</td>\n      <td>66.596351</td>\n      <td>0.0</td>\n      <td>2024-10</td>\n      <td>0</td>\n      <td>1</td>\n      <td>0</td>\n      <td>0</td>\n      <td>0</td>\n    </tr>\n    <tr>\n      <th>2</th>\n      <td>2024-10-24 00:00:00+00:00</td>\n      <td>45.133</td>\n      <td>83.672</td>\n      <td>985.485</td>\n      <td>3.1</td>\n      <td>4.7600</td>\n      <td>2862</td>\n      <td>30.366156</td>\n      <td>-97.76529</td>\n      <td>899.0</td>\n      <td>...</td>\n      <td>130</td>\n      <td>22595.5</td>\n      <td>66.596351</td>\n      <td>0.0</td>\n      <td>2024-10</td>\n      <td>0</td>\n      <td>1</td>\n      <td>0</td>\n      <td>0</td>\n      <td>0</td>\n    </tr>\n    <tr>\n      <th>3</th>\n      <td>2024-10-23 00:00:00+00:00</td>\n      <td>48.216</td>\n      <td>83.123</td>\n      <td>986.001</td>\n      <td>2.6</td>\n      <td>3.9515</td>\n      <td>2862</td>\n      <td>30.366156</td>\n      <td>-97.76529</td>\n      <td>899.0</td>\n      <td>...</td>\n      <td>130</td>\n      <td>22595.5</td>\n      <td>66.596351</td>\n      <td>0.0</td>\n      <td>2024-10</td>\n      <td>0</td>\n      <td>1</td>\n      <td>0</td>\n      <td>0</td>\n      <td>0</td>\n    </tr>\n    <tr>\n      <th>4</th>\n      <td>2024-10-23 18:00:00+00:00</td>\n      <td>33.578</td>\n      <td>93.095</td>\n      <td>985.318</td>\n      <td>2.5</td>\n      <td>3.2565</td>\n      <td>2862</td>\n      <td>30.366156</td>\n      <td>-97.76529</td>\n      <td>899.0</td>\n      <td>...</td>\n      <td>130</td>\n      <td>22595.5</td>\n      <td>66.596351</td>\n      <td>0.0</td>\n      <td>2024-10</td>\n      <td>0</td>\n      <td>1</td>\n      <td>0</td>\n      <td>0</td>\n      <td>0</td>\n    </tr>\n  </tbody>\n</table>\n<p>5 rows × 25 columns</p>\n</div>"
     },
     "execution_count": 3,
     "metadata": {},
     "output_type": "execute_result"
    }
   ],
   "source": [
    "df = df.astype({col: 'int' for col in df.select_dtypes(include='bool').columns})\n",
    "df.head()"
   ]
  },
  {
   "cell_type": "markdown",
   "id": "f3e80fcc-0ada-4e88-83d0-3574d91f99c8",
   "metadata": {},
   "source": [
    "## Preprocessing"
   ]
  },
  {
   "cell_type": "code",
   "execution_count": 4,
   "id": "31b291e4",
   "metadata": {
    "ExecuteTime": {
     "end_time": "2024-12-02T22:02:57.836425Z",
     "start_time": "2024-12-02T22:02:57.666068Z"
    }
   },
   "outputs": [
    {
     "data": {
      "text/plain": "                 time_stamp  humidity  temperature  pressure  pm2.5_alt  \\\n0 2024-10-24 18:00:00+00:00    35.447       92.044   981.676        2.5   \n1 2024-10-24 06:00:00+00:00    61.950       78.405   984.603        3.6   \n2 2024-10-24 00:00:00+00:00    45.133       83.672   985.485        3.1   \n3 2024-10-23 00:00:00+00:00    48.216       83.123   986.001        2.6   \n4 2024-10-23 18:00:00+00:00    33.578       93.095   985.318        2.5   \n\n   pm2.5_atm  sensor_index   latitude  longitude  altitude  ...  PRCP  \\\n0     3.2195          2862  30.366156  -97.76529     899.0  ...   0.0   \n1     5.6470          2862  30.366156  -97.76529     899.0  ...   0.0   \n2     4.7600          2862  30.366156  -97.76529     899.0  ...   0.0   \n3     3.9515          2862  30.366156  -97.76529     899.0  ...   0.0   \n4     3.2565          2862  30.366156  -97.76529     899.0  ...   0.0   \n\n   year_month  cluster  season_Fall  season_Spring  season_Summer  \\\n0     2024-10        0            1              0              0   \n1     2024-10        0            1              0              0   \n2     2024-10        0            1              0              0   \n3     2024-10        0            1              0              0   \n4     2024-10        0            1              0              0   \n\n   season_Winter  hour  day_of_week month  \n0              0    18            3    10  \n1              0     6            3    10  \n2              0     0            3    10  \n3              0     0            2    10  \n4              0    18            2    10  \n\n[5 rows x 28 columns]",
      "text/html": "<div>\n<style scoped>\n    .dataframe tbody tr th:only-of-type {\n        vertical-align: middle;\n    }\n\n    .dataframe tbody tr th {\n        vertical-align: top;\n    }\n\n    .dataframe thead th {\n        text-align: right;\n    }\n</style>\n<table border=\"1\" class=\"dataframe\">\n  <thead>\n    <tr style=\"text-align: right;\">\n      <th></th>\n      <th>time_stamp</th>\n      <th>humidity</th>\n      <th>temperature</th>\n      <th>pressure</th>\n      <th>pm2.5_alt</th>\n      <th>pm2.5_atm</th>\n      <th>sensor_index</th>\n      <th>latitude</th>\n      <th>longitude</th>\n      <th>altitude</th>\n      <th>...</th>\n      <th>PRCP</th>\n      <th>year_month</th>\n      <th>cluster</th>\n      <th>season_Fall</th>\n      <th>season_Spring</th>\n      <th>season_Summer</th>\n      <th>season_Winter</th>\n      <th>hour</th>\n      <th>day_of_week</th>\n      <th>month</th>\n    </tr>\n  </thead>\n  <tbody>\n    <tr>\n      <th>0</th>\n      <td>2024-10-24 18:00:00+00:00</td>\n      <td>35.447</td>\n      <td>92.044</td>\n      <td>981.676</td>\n      <td>2.5</td>\n      <td>3.2195</td>\n      <td>2862</td>\n      <td>30.366156</td>\n      <td>-97.76529</td>\n      <td>899.0</td>\n      <td>...</td>\n      <td>0.0</td>\n      <td>2024-10</td>\n      <td>0</td>\n      <td>1</td>\n      <td>0</td>\n      <td>0</td>\n      <td>0</td>\n      <td>18</td>\n      <td>3</td>\n      <td>10</td>\n    </tr>\n    <tr>\n      <th>1</th>\n      <td>2024-10-24 06:00:00+00:00</td>\n      <td>61.950</td>\n      <td>78.405</td>\n      <td>984.603</td>\n      <td>3.6</td>\n      <td>5.6470</td>\n      <td>2862</td>\n      <td>30.366156</td>\n      <td>-97.76529</td>\n      <td>899.0</td>\n      <td>...</td>\n      <td>0.0</td>\n      <td>2024-10</td>\n      <td>0</td>\n      <td>1</td>\n      <td>0</td>\n      <td>0</td>\n      <td>0</td>\n      <td>6</td>\n      <td>3</td>\n      <td>10</td>\n    </tr>\n    <tr>\n      <th>2</th>\n      <td>2024-10-24 00:00:00+00:00</td>\n      <td>45.133</td>\n      <td>83.672</td>\n      <td>985.485</td>\n      <td>3.1</td>\n      <td>4.7600</td>\n      <td>2862</td>\n      <td>30.366156</td>\n      <td>-97.76529</td>\n      <td>899.0</td>\n      <td>...</td>\n      <td>0.0</td>\n      <td>2024-10</td>\n      <td>0</td>\n      <td>1</td>\n      <td>0</td>\n      <td>0</td>\n      <td>0</td>\n      <td>0</td>\n      <td>3</td>\n      <td>10</td>\n    </tr>\n    <tr>\n      <th>3</th>\n      <td>2024-10-23 00:00:00+00:00</td>\n      <td>48.216</td>\n      <td>83.123</td>\n      <td>986.001</td>\n      <td>2.6</td>\n      <td>3.9515</td>\n      <td>2862</td>\n      <td>30.366156</td>\n      <td>-97.76529</td>\n      <td>899.0</td>\n      <td>...</td>\n      <td>0.0</td>\n      <td>2024-10</td>\n      <td>0</td>\n      <td>1</td>\n      <td>0</td>\n      <td>0</td>\n      <td>0</td>\n      <td>0</td>\n      <td>2</td>\n      <td>10</td>\n    </tr>\n    <tr>\n      <th>4</th>\n      <td>2024-10-23 18:00:00+00:00</td>\n      <td>33.578</td>\n      <td>93.095</td>\n      <td>985.318</td>\n      <td>2.5</td>\n      <td>3.2565</td>\n      <td>2862</td>\n      <td>30.366156</td>\n      <td>-97.76529</td>\n      <td>899.0</td>\n      <td>...</td>\n      <td>0.0</td>\n      <td>2024-10</td>\n      <td>0</td>\n      <td>1</td>\n      <td>0</td>\n      <td>0</td>\n      <td>0</td>\n      <td>18</td>\n      <td>2</td>\n      <td>10</td>\n    </tr>\n  </tbody>\n</table>\n<p>5 rows × 28 columns</p>\n</div>"
     },
     "execution_count": 4,
     "metadata": {},
     "output_type": "execute_result"
    }
   ],
   "source": [
    "# Extract time features\n",
    "df['time_stamp'] = pd.to_datetime(df['time_stamp'])\n",
    "df['hour'] = df['time_stamp'].dt.hour\n",
    "df['day_of_week'] = df['time_stamp'].dt.dayofweek\n",
    "df['month'] = df['time_stamp'].dt.month\n",
    "df.head()"
   ]
  },
  {
   "cell_type": "code",
   "execution_count": 5,
   "id": "b8d69527",
   "metadata": {
    "ExecuteTime": {
     "end_time": "2024-12-02T22:02:57.852422Z",
     "start_time": "2024-12-02T22:02:57.837424Z"
    }
   },
   "outputs": [
    {
     "data": {
      "text/plain": "Index(['time_stamp', 'humidity', 'temperature', 'pressure', 'pm2.5_alt',\n       'pm2.5_atm', 'sensor_index', 'latitude', 'longitude', 'altitude', 'Oak',\n       'Elm', 'Pecan', 'Crape Myrtle', 'Ashe Juniper', 'other',\n       'total_diameter', 'canopy_coverage_percentage', 'PRCP', 'year_month',\n       'cluster', 'season_Fall', 'season_Spring', 'season_Summer',\n       'season_Winter', 'hour', 'day_of_week', 'month'],\n      dtype='object')"
     },
     "execution_count": 5,
     "metadata": {},
     "output_type": "execute_result"
    }
   ],
   "source": [
    "df.columns"
   ]
  },
  {
   "cell_type": "code",
   "execution_count": 6,
   "id": "b90cbc7f-23a9-4c0c-8159-d456068e6d26",
   "metadata": {
    "ExecuteTime": {
     "end_time": "2024-12-02T22:02:57.899565Z",
     "start_time": "2024-12-02T22:02:57.853422Z"
    }
   },
   "outputs": [
    {
     "name": "stdout",
     "output_type": "stream",
     "text": [
      "Lost 1.61% of data by removing NA\n"
     ]
    }
   ],
   "source": [
    "# Define features and target\n",
    "features = ['humidity', 'temperature', 'pressure','altitude', 'Oak',\n",
    "       'Elm', 'Pecan', 'Crape Myrtle', 'Ashe Juniper', 'other',\n",
    "       'total_diameter', 'season_Fall', 'season_Spring', 'season_Summer',\n",
    "       'season_Winter', 'latitude', 'longitude', 'canopy_coverage_percentage',\n",
    "       'PRCP', 'hour', 'day_of_week', 'month']\n",
    "target = 'pm2.5_alt'\n",
    "\n",
    "# Drop NA values\n",
    "before_drop = df.shape[0]\n",
    "df = df.dropna(subset=features+[target])\n",
    "after_drop = df.shape[0]\n",
    "print(f'Lost {(before_drop-after_drop)/before_drop*100:0.2f}% of data by removing NA')"
   ]
  },
  {
   "cell_type": "code",
   "execution_count": 7,
   "id": "cbeb4e036152eab1",
   "metadata": {
    "collapsed": false,
    "ExecuteTime": {
     "end_time": "2024-12-02T22:02:57.962155Z",
     "start_time": "2024-12-02T22:02:57.901146Z"
    }
   },
   "outputs": [],
   "source": [
    "X = df[features]\n",
    "y = df[target]\n",
    "\n",
    "# Split df into training, val, and test sets\n",
    "X_train, X_test, y_train, y_test = train_test_split(X, y, test_size=0.2, random_state=42)"
   ]
  },
  {
   "cell_type": "markdown",
   "id": "53a417e5",
   "metadata": {},
   "source": [
    "# Random Forest"
   ]
  },
  {
   "cell_type": "code",
   "execution_count": 8,
   "id": "d22cdaab",
   "metadata": {
    "ExecuteTime": {
     "end_time": "2024-12-02T22:02:57.977229Z",
     "start_time": "2024-12-02T22:02:57.964152Z"
    }
   },
   "outputs": [],
   "source": [
    "# rf = RandomForestRegressor(\n",
    "#     n_estimators=250,         # Number of trees in the forest\n",
    "#     max_depth=20,           # Maximum depth of each tree\n",
    "#     min_samples_split=4,      # Minimum samples required to split a node\n",
    "#     min_samples_leaf=2,       # Minimum samples required at a leaf node\n",
    "#     random_state=42           # Ensures reproducibility\n",
    "# )\n",
    "# \n",
    "# # Step 2: Fit the model\n",
    "# rf.fit(X_train, y_train)\n",
    "# \n",
    "# joblib.dump(rf, \"./models/rf.pkl\", compress=3)\n",
    "# \n",
    "# # Step 3: Make predictions\n",
    "# y_pred = rf.predict(X_test)\n",
    "# \n",
    "# # Step 4: Evaluate the model\n",
    "# mse = mean_squared_error(y_test, y_pred)\n",
    "# mae = mean_absolute_error(y_test, y_pred)\n",
    "# r2 = r2_score(y_test, y_pred)\n",
    "# \n",
    "# print(f\"Mean Squared Error: {mse}\")\n",
    "# print(f\"Mean Absolute Error: {mae}\")\n",
    "# print(f\"R^2 Score: {r2}\")"
   ]
  },
  {
   "cell_type": "code",
   "outputs": [
    {
     "name": "stdout",
     "output_type": "stream",
     "text": [
      "Mean Squared Error: 16.134905371515597\n",
      "Mean Absolute Error: 2.509642410825538\n",
      "R^2 Score: 0.6184841865664898\n"
     ]
    }
   ],
   "source": [
    "rf = joblib.load(\"./models/rf.pkl\")\n",
    "\n",
    "y_pred = rf.predict(X_test)\n",
    "\n",
    "mse = mean_squared_error(y_test, y_pred)\n",
    "mae = mean_absolute_error(y_test, y_pred)\n",
    "r2 = r2_score(y_test, y_pred)\n",
    "\n",
    "print(f\"Mean Squared Error: {mse}\")\n",
    "print(f\"Mean Absolute Error: {mae}\")\n",
    "print(f\"R^2 Score: {r2}\")"
   ],
   "metadata": {
    "collapsed": false,
    "ExecuteTime": {
     "end_time": "2024-12-02T22:03:03.887743Z",
     "start_time": "2024-12-02T22:02:57.979394Z"
    }
   },
   "id": "c744a95d3ecb0c4e",
   "execution_count": 9
  },
  {
   "cell_type": "markdown",
   "id": "e4e863b8",
   "metadata": {},
   "source": [
    "# XGBoost"
   ]
  },
  {
   "cell_type": "code",
   "execution_count": 10,
   "id": "194e5572",
   "metadata": {
    "ExecuteTime": {
     "end_time": "2024-12-02T22:03:03.903837Z",
     "start_time": "2024-12-02T22:03:03.890128Z"
    }
   },
   "outputs": [],
   "source": [
    "# # Best parameters: {'colsample_bytree': 0.9, 'learning_rate': 0.04, 'max_depth': 11, 'n_estimators': 800, 'subsample': 0.9}\n",
    "# # Best mse: 12.872662893439998\n",
    "# best_xgb = xgb.XGBRegressor(\n",
    "#     objective='reg:squarederror',\n",
    "#     colsample_bytree=0.9,\n",
    "#     learning_rate=0.04,\n",
    "#     max_depth=11,\n",
    "#     n_estimators=800,\n",
    "#     subsample=0.9,\n",
    "#     random_state=42\n",
    "# )\n",
    "# best_xgb.fit(X_train, y_train)\n",
    "# \n",
    "# joblib.dump(best_xgb, \"./models/xgb.pkl\", compress=3)\n",
    "# \n",
    "# # Make predictions\n",
    "# y_pred_xgb = best_xgb.predict(X_test)\n",
    "# \n",
    "# # Evaluate the model\n",
    "# mse_xgb = mean_squared_error(y_test, y_pred_xgb)\n",
    "# mae_xgb = mean_absolute_error(y_test, y_pred_xgb)\n",
    "# r2_xgb = r2_score(y_test, y_pred_xgb)\n",
    "# \n",
    "# print(f\"Mean Squared Error: {mse_xgb}\")\n",
    "# print(f\"Mean Squared Error: {mae_xgb}\")\n",
    "# print(f\"R^2 Score: {r2_xgb}\")"
   ]
  },
  {
   "cell_type": "code",
   "outputs": [
    {
     "name": "stdout",
     "output_type": "stream",
     "text": [
      "Mean Squared Error: 12.876454219140593\n",
      "Mean Squared Error: 2.133582764030054\n",
      "R^2 Score: 0.6955314709048508\n"
     ]
    }
   ],
   "source": [
    "best_xgb = joblib.load(\"./models/xgb.pkl\")\n",
    "\n",
    "# Make predictions\n",
    "y_pred_xgb = best_xgb.predict(X_test)\n",
    "\n",
    "# Evaluate the model\n",
    "mse_xgb = mean_squared_error(y_test, y_pred_xgb)\n",
    "mae_xgb = mean_absolute_error(y_test, y_pred_xgb)\n",
    "r2_xgb = r2_score(y_test, y_pred_xgb)\n",
    "\n",
    "print(f\"Mean Squared Error: {mse_xgb}\")\n",
    "print(f\"Mean Squared Error: {mae_xgb}\")\n",
    "print(f\"R^2 Score: {r2_xgb}\")"
   ],
   "metadata": {
    "collapsed": false,
    "ExecuteTime": {
     "end_time": "2024-12-02T22:03:04.751741Z",
     "start_time": "2024-12-02T22:03:03.905839Z"
    }
   },
   "id": "aa8e594b3fd2c51c",
   "execution_count": 11
  },
  {
   "cell_type": "markdown",
   "id": "8731bfca16a5356c",
   "metadata": {
    "collapsed": false
   },
   "source": [
    "# Interpretability"
   ]
  },
  {
   "cell_type": "code",
   "execution_count": 12,
   "id": "b7b22afb2a8e9aad",
   "metadata": {
    "collapsed": false,
    "ExecuteTime": {
     "end_time": "2024-12-02T22:03:05.398801Z",
     "start_time": "2024-12-02T22:03:04.755748Z"
    }
   },
   "outputs": [],
   "source": [
    "import matplotlib.pyplot as plt\n",
    "import seaborn as sns\n",
    "from sklearn.inspection import PartialDependenceDisplay\n",
    "import shap\n",
    "\n",
    "models = [\n",
    "    ('Random Forest', rf),\n",
    "    ('XGBoost', best_xgb)\n",
    "]"
   ]
  },
  {
   "cell_type": "code",
   "outputs": [],
   "source": [
    "# n_shap = 100\n",
    "# shap_data_pts = X_train.sample(n=n_shap, random_state=42)\n",
    "# \n",
    "# for n, m in models:\n",
    "#     n_ = n.replace(' ', '')\n",
    "#     explainer = shap.Explainer(m)\n",
    "#     shap_values = explainer(shap_data_pts)\n",
    "#     joblib.dump(shap_values, f'./shap_values/shap_values_{n_}.pkl', compress=3)"
   ],
   "metadata": {
    "collapsed": false,
    "ExecuteTime": {
     "end_time": "2024-12-02T22:09:29.686286Z",
     "start_time": "2024-12-02T22:03:05.400795Z"
    }
   },
   "id": "f86676d148026da5",
   "execution_count": 13
  },
  {
   "cell_type": "code",
   "outputs": [],
   "source": [
    "shap_values_list = []\n",
    "\n",
    "for n, _ in models:\n",
    "    n_ = n.replace(' ', '')\n",
    "    shap_values_list.append(joblib.load(f'./shap_values/shap_values_{n_}.pkl'))"
   ],
   "metadata": {
    "collapsed": false,
    "ExecuteTime": {
     "end_time": "2024-12-02T22:09:29.732799Z",
     "start_time": "2024-12-02T22:09:29.693147Z"
    }
   },
   "id": "944e07344a2811d0",
   "execution_count": 14
  },
  {
   "cell_type": "code",
   "execution_count": 17,
   "id": "87ba985b7a1e3b2e",
   "metadata": {
    "collapsed": false,
    "ExecuteTime": {
     "end_time": "2024-12-02T23:28:44.327654Z",
     "start_time": "2024-12-02T23:21:55.156675Z"
    }
   },
   "outputs": [],
   "source": [
    "for (n, m), shap_values in zip(models, shap_values_list):\n",
    "    n_ = n.replace(' ', '')\n",
    "\n",
    "    # Residual plot\n",
    "    # y_pred = m.predict(X_test)\n",
    "    # residuals = y_test - y_pred\n",
    "    # sns.scatterplot(x=y_pred, y=residuals)\n",
    "    # plt.axhline(0, color='red', linestyle='--')\n",
    "    # plt.xlabel(\"Predicted PM2.5\")\n",
    "    # plt.ylabel(\"Residuals\")\n",
    "    # plt.title(f\"Residual Plot ({n})\")\n",
    "    # plt.savefig(f'./plots/residual_plot_{n_}.png', dpi=300, bbox_inches='tight')\n",
    "    # plt.close()\n",
    "\n",
    "    # PDP\n",
    "    tree_types = ['Oak', 'Elm', 'Pecan', 'Crape Myrtle', 'Ashe Juniper', 'other']\n",
    "    for ft in tree_types:\n",
    "        PartialDependenceDisplay.from_estimator(m, X, [ft], kind='average')\n",
    "        ft_ = ft.title()\n",
    "        plt.title(f'PDP for Number of {ft_} Trees ({n})')\n",
    "        ft_ = ft.replace(' ', '')\n",
    "        plt.savefig(f'./plots/pdp_{ft_}_{n_}.png', dpi=300, bbox_inches='tight')\n",
    "        plt.close()\n",
    "\n",
    "    # SHAP\n",
    "    # explainer = shap.Explainer(m)\n",
    "    # shap_values = explainer(shap_data_pts)\n",
    "    # shap.plots.waterfall(shap_values[2], show=False)\n",
    "    # plt.title(f'Example Shapley Value Waterfall Plot for {n}')\n",
    "    # plt.savefig(f'./plots/shap_waterfall_{n_}.png', dpi=300, bbox_inches='tight')\n",
    "    # plt.close()\n",
    "    # \n",
    "    # shap.plots.beeswarm(shap_values, show=False)\n",
    "    # plt.title(f'Shapley Value Beeswarm Plot for {n}')\n",
    "    # plt.savefig(f'./plots/shap_beeswarm_{n_}.png', dpi=300, bbox_inches='tight')\n",
    "    # plt.close()"
   ]
  },
  {
   "cell_type": "code",
   "execution_count": 15,
   "id": "19540eee41a069f3",
   "metadata": {
    "collapsed": false,
    "ExecuteTime": {
     "end_time": "2024-12-02T22:21:55.020119Z",
     "start_time": "2024-12-02T22:21:55.008540Z"
    }
   },
   "outputs": [],
   "source": []
  }
 ],
 "metadata": {
  "kernelspec": {
   "display_name": "Python 3 (ipykernel)",
   "language": "python",
   "name": "python3"
  },
  "language_info": {
   "codemirror_mode": {
    "name": "ipython",
    "version": 3
   },
   "file_extension": ".py",
   "mimetype": "text/x-python",
   "name": "python",
   "nbconvert_exporter": "python",
   "pygments_lexer": "ipython3",
   "version": "3.11.4"
  }
 },
 "nbformat": 4,
 "nbformat_minor": 5
}
