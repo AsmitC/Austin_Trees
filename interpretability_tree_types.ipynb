{
 "cells": [
  {
   "cell_type": "code",
   "execution_count": 11,
   "id": "0b1c174e",
   "metadata": {},
   "outputs": [
    {
     "name": "stdout",
     "output_type": "stream",
     "text": [
      "Requirement already satisfied: pandas in ./Trees/lib/python3.11/site-packages (from -r requirements.txt (line 1)) (2.2.3)\n",
      "Requirement already satisfied: numpy in ./Trees/lib/python3.11/site-packages (from -r requirements.txt (line 2)) (2.1.3)\n",
      "Requirement already satisfied: matplotlib in ./Trees/lib/python3.11/site-packages (from -r requirements.txt (line 3)) (3.9.2)\n",
      "Requirement already satisfied: scikit-learn in ./Trees/lib/python3.11/site-packages (from -r requirements.txt (line 4)) (1.5.2)\n",
      "Requirement already satisfied: seaborn in ./Trees/lib/python3.11/site-packages (from -r requirements.txt (line 5)) (0.13.2)\n",
      "Requirement already satisfied: scipy in ./Trees/lib/python3.11/site-packages (from -r requirements.txt (line 6)) (1.14.1)\n",
      "Requirement already satisfied: statsmodels in ./Trees/lib/python3.11/site-packages (from -r requirements.txt (line 7)) (0.14.4)\n",
      "Requirement already satisfied: geopy in ./Trees/lib/python3.11/site-packages (from -r requirements.txt (line 8)) (2.4.1)\n",
      "Requirement already satisfied: shapely in ./Trees/lib/python3.11/site-packages (from -r requirements.txt (line 9)) (2.0.6)\n",
      "Requirement already satisfied: xgboost in ./Trees/lib/python3.11/site-packages (from -r requirements.txt (line 10)) (2.1.3)\n",
      "Requirement already satisfied: tqdm in ./Trees/lib/python3.11/site-packages (from -r requirements.txt (line 11)) (4.67.1)\n",
      "Requirement already satisfied: pactools in ./Trees/lib/python3.11/site-packages (from -r requirements.txt (line 12)) (0.3.1)\n",
      "Requirement already satisfied: torch in ./Trees/lib/python3.11/site-packages (from -r requirements.txt (line 13)) (2.5.1)\n",
      "Requirement already satisfied: torchvision in ./Trees/lib/python3.11/site-packages (from -r requirements.txt (line 14)) (0.20.1)\n",
      "Requirement already satisfied: pytorch-tcn in ./Trees/lib/python3.11/site-packages (from -r requirements.txt (line 15)) (1.2.1)\n",
      "Requirement already satisfied: gpytorch in ./Trees/lib/python3.11/site-packages (from -r requirements.txt (line 16)) (1.13)\n",
      "Collecting pyro (from -r requirements.txt (line 17))\n",
      "  Using cached Pyro-3.16.tar.gz (298 kB)\n",
      "  Installing build dependencies ... \u001B[?25ldone\n",
      "\u001B[?25h  Getting requirements to build wheel ... \u001B[?25lerror\n",
      "  \u001B[1;31merror\u001B[0m: \u001B[1msubprocess-exited-with-error\u001B[0m\n",
      "  \n",
      "  \u001B[31m×\u001B[0m \u001B[32mGetting requirements to build wheel\u001B[0m did not run successfully.\n",
      "  \u001B[31m│\u001B[0m exit code: \u001B[1;36m1\u001B[0m\n",
      "  \u001B[31m╰─>\u001B[0m \u001B[31m[22 lines of output]\u001B[0m\n",
      "  \u001B[31m   \u001B[0m Traceback (most recent call last):\n",
      "  \u001B[31m   \u001B[0m   File \"/Users/asmit/Documents/Fall24_Classes/SDS336/Austin_Trees/Trees/lib/python3.11/site-packages/pip/_vendor/pyproject_hooks/_in_process/_in_process.py\", line 353, in <module>\n",
      "  \u001B[31m   \u001B[0m     main()\n",
      "  \u001B[31m   \u001B[0m   File \"/Users/asmit/Documents/Fall24_Classes/SDS336/Austin_Trees/Trees/lib/python3.11/site-packages/pip/_vendor/pyproject_hooks/_in_process/_in_process.py\", line 335, in main\n",
      "  \u001B[31m   \u001B[0m     json_out['return_val'] = hook(**hook_input['kwargs'])\n",
      "  \u001B[31m   \u001B[0m                              ^^^^^^^^^^^^^^^^^^^^^^^^^^^^\n",
      "  \u001B[31m   \u001B[0m   File \"/Users/asmit/Documents/Fall24_Classes/SDS336/Austin_Trees/Trees/lib/python3.11/site-packages/pip/_vendor/pyproject_hooks/_in_process/_in_process.py\", line 118, in get_requires_for_build_wheel\n",
      "  \u001B[31m   \u001B[0m     return hook(config_settings)\n",
      "  \u001B[31m   \u001B[0m            ^^^^^^^^^^^^^^^^^^^^^\n",
      "  \u001B[31m   \u001B[0m   File \"/private/var/folders/yk/4g22n5fx1m96780wglc148nh0000gn/T/pip-build-env-rdbfx28k/overlay/lib/python3.11/site-packages/setuptools/build_meta.py\", line 334, in get_requires_for_build_wheel\n",
      "  \u001B[31m   \u001B[0m     return self._get_build_requires(config_settings, requirements=[])\n",
      "  \u001B[31m   \u001B[0m            ^^^^^^^^^^^^^^^^^^^^^^^^^^^^^^^^^^^^^^^^^^^^^^^^^^^^^^^^^^\n",
      "  \u001B[31m   \u001B[0m   File \"/private/var/folders/yk/4g22n5fx1m96780wglc148nh0000gn/T/pip-build-env-rdbfx28k/overlay/lib/python3.11/site-packages/setuptools/build_meta.py\", line 304, in _get_build_requires\n",
      "  \u001B[31m   \u001B[0m     self.run_setup()\n",
      "  \u001B[31m   \u001B[0m   File \"/private/var/folders/yk/4g22n5fx1m96780wglc148nh0000gn/T/pip-build-env-rdbfx28k/overlay/lib/python3.11/site-packages/setuptools/build_meta.py\", line 522, in run_setup\n",
      "  \u001B[31m   \u001B[0m     super().run_setup(setup_script=setup_script)\n",
      "  \u001B[31m   \u001B[0m   File \"/private/var/folders/yk/4g22n5fx1m96780wglc148nh0000gn/T/pip-build-env-rdbfx28k/overlay/lib/python3.11/site-packages/setuptools/build_meta.py\", line 320, in run_setup\n",
      "  \u001B[31m   \u001B[0m     exec(code, locals())\n",
      "  \u001B[31m   \u001B[0m   File \"<string>\", line 23\n",
      "  \u001B[31m   \u001B[0m     exec code in constants\n",
      "  \u001B[31m   \u001B[0m     ^^^^^^^^^^^^^^^^^^^^^^\n",
      "  \u001B[31m   \u001B[0m SyntaxError: Missing parentheses in call to 'exec'. Did you mean exec(...)?\n",
      "  \u001B[31m   \u001B[0m \u001B[31m[end of output]\u001B[0m\n",
      "  \n",
      "  \u001B[1;35mnote\u001B[0m: This error originates from a subprocess, and is likely not a problem with pip.\n",
      "\u001B[?25h\u001B[1;31merror\u001B[0m: \u001B[1msubprocess-exited-with-error\u001B[0m\n",
      "\n",
      "\u001B[31m×\u001B[0m \u001B[32mGetting requirements to build wheel\u001B[0m did not run successfully.\n",
      "\u001B[31m│\u001B[0m exit code: \u001B[1;36m1\u001B[0m\n",
      "\u001B[31m╰─>\u001B[0m See above for output.\n",
      "\n",
      "\u001B[1;35mnote\u001B[0m: This error originates from a subprocess, and is likely not a problem with pip.\n",
      "\n",
      "\u001B[1m[\u001B[0m\u001B[34;49mnotice\u001B[0m\u001B[1;39;49m]\u001B[0m\u001B[39;49m A new release of pip is available: \u001B[0m\u001B[31;49m23.2.1\u001B[0m\u001B[39;49m -> \u001B[0m\u001B[32;49m24.3.1\u001B[0m\n",
      "\u001B[1m[\u001B[0m\u001B[34;49mnotice\u001B[0m\u001B[1;39;49m]\u001B[0m\u001B[39;49m To update, run: \u001B[0m\u001B[32;49mpip install --upgrade pip\u001B[0m\n",
      "Note: you may need to restart the kernel to use updated packages.\n"
     ]
    }
   ],
   "source": [
    "%pip install -r requirements.txt"
   ]
  },
  {
   "cell_type": "markdown",
   "id": "abeb99bb-2a60-48b4-849c-ab10d386992b",
   "metadata": {},
   "source": [
    "# Modeling"
   ]
  },
  {
   "cell_type": "markdown",
   "id": "d4f496a6-7975-47ef-8371-decd3dee6dad",
   "metadata": {},
   "source": [
    "## Import data"
   ]
  },
  {
   "cell_type": "code",
   "execution_count": 1,
   "id": "3a29eec4-238f-40bc-ad17-014f8281073c",
   "metadata": {
    "ExecuteTime": {
     "end_time": "2024-12-02T00:33:06.174233Z",
     "start_time": "2024-12-02T00:32:56.225811Z"
    }
   },
   "outputs": [],
   "source": [
    "import torch\n",
    "import torch.nn as nn\n",
    "import torch.optim as optim\n",
    "from torch.utils.data import DataLoader, TensorDataset\n",
    "import gpytorch\n",
    "from gpytorch.models import ExactGP\n",
    "from gpytorch.likelihoods import GaussianLikelihood\n",
    "from pytorch_tcn import TCN\n",
    "import numpy as np\n",
    "import pandas as pd\n",
    "import matplotlib.pyplot as plt\n",
    "import xgboost as xgb\n",
    "from tqdm import tqdm\n",
    "from sklearn.preprocessing import StandardScaler\n",
    "from sklearn.ensemble import RandomForestRegressor\n",
    "from sklearn.metrics import mean_squared_error, r2_score\n",
    "from sklearn.model_selection import train_test_split, GridSearchCV\n",
    "from datetime import datetime"
   ]
  },
  {
   "cell_type": "code",
   "execution_count": 2,
   "id": "3f15a247-c53d-4655-b6c7-f81c97e6c9eb",
   "metadata": {
    "ExecuteTime": {
     "end_time": "2024-12-02T00:33:08.761627Z",
     "start_time": "2024-12-02T00:33:06.176329Z"
    }
   },
   "outputs": [
    {
     "name": "stdout",
     "output_type": "stream",
     "text": [
      "Shape: (121625, 25)\n"
     ]
    },
    {
     "data": {
      "text/plain": "                  time_stamp  humidity  temperature  pressure  pm2.5_alt  \\\n0  2024-10-24 18:00:00+00:00    35.447       92.044   981.676        2.5   \n1  2024-10-24 06:00:00+00:00    61.950       78.405   984.603        3.6   \n2  2024-10-24 00:00:00+00:00    45.133       83.672   985.485        3.1   \n3  2024-10-23 00:00:00+00:00    48.216       83.123   986.001        2.6   \n4  2024-10-23 18:00:00+00:00    33.578       93.095   985.318        2.5   \n\n   pm2.5_atm  sensor_index   latitude  longitude  altitude  ...  other  \\\n0     3.2195          2862  30.366156  -97.76529     899.0  ...    130   \n1     5.6470          2862  30.366156  -97.76529     899.0  ...    130   \n2     4.7600          2862  30.366156  -97.76529     899.0  ...    130   \n3     3.9515          2862  30.366156  -97.76529     899.0  ...    130   \n4     3.2565          2862  30.366156  -97.76529     899.0  ...    130   \n\n   total_diameter  canopy_coverage_percentage  PRCP  year_month  cluster  \\\n0         22595.5                   66.596351   0.0     2024-10        0   \n1         22595.5                   66.596351   0.0     2024-10        0   \n2         22595.5                   66.596351   0.0     2024-10        0   \n3         22595.5                   66.596351   0.0     2024-10        0   \n4         22595.5                   66.596351   0.0     2024-10        0   \n\n   season_Fall  season_Spring  season_Summer season_Winter  \n0         True          False          False         False  \n1         True          False          False         False  \n2         True          False          False         False  \n3         True          False          False         False  \n4         True          False          False         False  \n\n[5 rows x 25 columns]",
      "text/html": "<div>\n<style scoped>\n    .dataframe tbody tr th:only-of-type {\n        vertical-align: middle;\n    }\n\n    .dataframe tbody tr th {\n        vertical-align: top;\n    }\n\n    .dataframe thead th {\n        text-align: right;\n    }\n</style>\n<table border=\"1\" class=\"dataframe\">\n  <thead>\n    <tr style=\"text-align: right;\">\n      <th></th>\n      <th>time_stamp</th>\n      <th>humidity</th>\n      <th>temperature</th>\n      <th>pressure</th>\n      <th>pm2.5_alt</th>\n      <th>pm2.5_atm</th>\n      <th>sensor_index</th>\n      <th>latitude</th>\n      <th>longitude</th>\n      <th>altitude</th>\n      <th>...</th>\n      <th>other</th>\n      <th>total_diameter</th>\n      <th>canopy_coverage_percentage</th>\n      <th>PRCP</th>\n      <th>year_month</th>\n      <th>cluster</th>\n      <th>season_Fall</th>\n      <th>season_Spring</th>\n      <th>season_Summer</th>\n      <th>season_Winter</th>\n    </tr>\n  </thead>\n  <tbody>\n    <tr>\n      <th>0</th>\n      <td>2024-10-24 18:00:00+00:00</td>\n      <td>35.447</td>\n      <td>92.044</td>\n      <td>981.676</td>\n      <td>2.5</td>\n      <td>3.2195</td>\n      <td>2862</td>\n      <td>30.366156</td>\n      <td>-97.76529</td>\n      <td>899.0</td>\n      <td>...</td>\n      <td>130</td>\n      <td>22595.5</td>\n      <td>66.596351</td>\n      <td>0.0</td>\n      <td>2024-10</td>\n      <td>0</td>\n      <td>True</td>\n      <td>False</td>\n      <td>False</td>\n      <td>False</td>\n    </tr>\n    <tr>\n      <th>1</th>\n      <td>2024-10-24 06:00:00+00:00</td>\n      <td>61.950</td>\n      <td>78.405</td>\n      <td>984.603</td>\n      <td>3.6</td>\n      <td>5.6470</td>\n      <td>2862</td>\n      <td>30.366156</td>\n      <td>-97.76529</td>\n      <td>899.0</td>\n      <td>...</td>\n      <td>130</td>\n      <td>22595.5</td>\n      <td>66.596351</td>\n      <td>0.0</td>\n      <td>2024-10</td>\n      <td>0</td>\n      <td>True</td>\n      <td>False</td>\n      <td>False</td>\n      <td>False</td>\n    </tr>\n    <tr>\n      <th>2</th>\n      <td>2024-10-24 00:00:00+00:00</td>\n      <td>45.133</td>\n      <td>83.672</td>\n      <td>985.485</td>\n      <td>3.1</td>\n      <td>4.7600</td>\n      <td>2862</td>\n      <td>30.366156</td>\n      <td>-97.76529</td>\n      <td>899.0</td>\n      <td>...</td>\n      <td>130</td>\n      <td>22595.5</td>\n      <td>66.596351</td>\n      <td>0.0</td>\n      <td>2024-10</td>\n      <td>0</td>\n      <td>True</td>\n      <td>False</td>\n      <td>False</td>\n      <td>False</td>\n    </tr>\n    <tr>\n      <th>3</th>\n      <td>2024-10-23 00:00:00+00:00</td>\n      <td>48.216</td>\n      <td>83.123</td>\n      <td>986.001</td>\n      <td>2.6</td>\n      <td>3.9515</td>\n      <td>2862</td>\n      <td>30.366156</td>\n      <td>-97.76529</td>\n      <td>899.0</td>\n      <td>...</td>\n      <td>130</td>\n      <td>22595.5</td>\n      <td>66.596351</td>\n      <td>0.0</td>\n      <td>2024-10</td>\n      <td>0</td>\n      <td>True</td>\n      <td>False</td>\n      <td>False</td>\n      <td>False</td>\n    </tr>\n    <tr>\n      <th>4</th>\n      <td>2024-10-23 18:00:00+00:00</td>\n      <td>33.578</td>\n      <td>93.095</td>\n      <td>985.318</td>\n      <td>2.5</td>\n      <td>3.2565</td>\n      <td>2862</td>\n      <td>30.366156</td>\n      <td>-97.76529</td>\n      <td>899.0</td>\n      <td>...</td>\n      <td>130</td>\n      <td>22595.5</td>\n      <td>66.596351</td>\n      <td>0.0</td>\n      <td>2024-10</td>\n      <td>0</td>\n      <td>True</td>\n      <td>False</td>\n      <td>False</td>\n      <td>False</td>\n    </tr>\n  </tbody>\n</table>\n<p>5 rows × 25 columns</p>\n</div>"
     },
     "execution_count": 2,
     "metadata": {},
     "output_type": "execute_result"
    }
   ],
   "source": [
    "url = \"https://raw.githubusercontent.com/AsmitC/Austin_Trees/refs/heads/victournguyen/purpleair-pull-data/cleaned_data.csv\"\n",
    "df = pd.read_csv(url)\n",
    "print(f'Shape: {df.shape}')\n",
    "df.head()"
   ]
  },
  {
   "cell_type": "code",
   "execution_count": 3,
   "id": "1621dd68",
   "metadata": {
    "ExecuteTime": {
     "end_time": "2024-12-02T00:33:08.793153Z",
     "start_time": "2024-12-02T00:33:08.764158Z"
    }
   },
   "outputs": [
    {
     "data": {
      "text/plain": "                  time_stamp  humidity  temperature  pressure  pm2.5_alt  \\\n0  2024-10-24 18:00:00+00:00    35.447       92.044   981.676        2.5   \n1  2024-10-24 06:00:00+00:00    61.950       78.405   984.603        3.6   \n2  2024-10-24 00:00:00+00:00    45.133       83.672   985.485        3.1   \n3  2024-10-23 00:00:00+00:00    48.216       83.123   986.001        2.6   \n4  2024-10-23 18:00:00+00:00    33.578       93.095   985.318        2.5   \n\n   pm2.5_atm  sensor_index   latitude  longitude  altitude  ...  other  \\\n0     3.2195          2862  30.366156  -97.76529     899.0  ...    130   \n1     5.6470          2862  30.366156  -97.76529     899.0  ...    130   \n2     4.7600          2862  30.366156  -97.76529     899.0  ...    130   \n3     3.9515          2862  30.366156  -97.76529     899.0  ...    130   \n4     3.2565          2862  30.366156  -97.76529     899.0  ...    130   \n\n   total_diameter  canopy_coverage_percentage  PRCP  year_month  cluster  \\\n0         22595.5                   66.596351   0.0     2024-10        0   \n1         22595.5                   66.596351   0.0     2024-10        0   \n2         22595.5                   66.596351   0.0     2024-10        0   \n3         22595.5                   66.596351   0.0     2024-10        0   \n4         22595.5                   66.596351   0.0     2024-10        0   \n\n   season_Fall  season_Spring  season_Summer season_Winter  \n0            1              0              0             0  \n1            1              0              0             0  \n2            1              0              0             0  \n3            1              0              0             0  \n4            1              0              0             0  \n\n[5 rows x 25 columns]",
      "text/html": "<div>\n<style scoped>\n    .dataframe tbody tr th:only-of-type {\n        vertical-align: middle;\n    }\n\n    .dataframe tbody tr th {\n        vertical-align: top;\n    }\n\n    .dataframe thead th {\n        text-align: right;\n    }\n</style>\n<table border=\"1\" class=\"dataframe\">\n  <thead>\n    <tr style=\"text-align: right;\">\n      <th></th>\n      <th>time_stamp</th>\n      <th>humidity</th>\n      <th>temperature</th>\n      <th>pressure</th>\n      <th>pm2.5_alt</th>\n      <th>pm2.5_atm</th>\n      <th>sensor_index</th>\n      <th>latitude</th>\n      <th>longitude</th>\n      <th>altitude</th>\n      <th>...</th>\n      <th>other</th>\n      <th>total_diameter</th>\n      <th>canopy_coverage_percentage</th>\n      <th>PRCP</th>\n      <th>year_month</th>\n      <th>cluster</th>\n      <th>season_Fall</th>\n      <th>season_Spring</th>\n      <th>season_Summer</th>\n      <th>season_Winter</th>\n    </tr>\n  </thead>\n  <tbody>\n    <tr>\n      <th>0</th>\n      <td>2024-10-24 18:00:00+00:00</td>\n      <td>35.447</td>\n      <td>92.044</td>\n      <td>981.676</td>\n      <td>2.5</td>\n      <td>3.2195</td>\n      <td>2862</td>\n      <td>30.366156</td>\n      <td>-97.76529</td>\n      <td>899.0</td>\n      <td>...</td>\n      <td>130</td>\n      <td>22595.5</td>\n      <td>66.596351</td>\n      <td>0.0</td>\n      <td>2024-10</td>\n      <td>0</td>\n      <td>1</td>\n      <td>0</td>\n      <td>0</td>\n      <td>0</td>\n    </tr>\n    <tr>\n      <th>1</th>\n      <td>2024-10-24 06:00:00+00:00</td>\n      <td>61.950</td>\n      <td>78.405</td>\n      <td>984.603</td>\n      <td>3.6</td>\n      <td>5.6470</td>\n      <td>2862</td>\n      <td>30.366156</td>\n      <td>-97.76529</td>\n      <td>899.0</td>\n      <td>...</td>\n      <td>130</td>\n      <td>22595.5</td>\n      <td>66.596351</td>\n      <td>0.0</td>\n      <td>2024-10</td>\n      <td>0</td>\n      <td>1</td>\n      <td>0</td>\n      <td>0</td>\n      <td>0</td>\n    </tr>\n    <tr>\n      <th>2</th>\n      <td>2024-10-24 00:00:00+00:00</td>\n      <td>45.133</td>\n      <td>83.672</td>\n      <td>985.485</td>\n      <td>3.1</td>\n      <td>4.7600</td>\n      <td>2862</td>\n      <td>30.366156</td>\n      <td>-97.76529</td>\n      <td>899.0</td>\n      <td>...</td>\n      <td>130</td>\n      <td>22595.5</td>\n      <td>66.596351</td>\n      <td>0.0</td>\n      <td>2024-10</td>\n      <td>0</td>\n      <td>1</td>\n      <td>0</td>\n      <td>0</td>\n      <td>0</td>\n    </tr>\n    <tr>\n      <th>3</th>\n      <td>2024-10-23 00:00:00+00:00</td>\n      <td>48.216</td>\n      <td>83.123</td>\n      <td>986.001</td>\n      <td>2.6</td>\n      <td>3.9515</td>\n      <td>2862</td>\n      <td>30.366156</td>\n      <td>-97.76529</td>\n      <td>899.0</td>\n      <td>...</td>\n      <td>130</td>\n      <td>22595.5</td>\n      <td>66.596351</td>\n      <td>0.0</td>\n      <td>2024-10</td>\n      <td>0</td>\n      <td>1</td>\n      <td>0</td>\n      <td>0</td>\n      <td>0</td>\n    </tr>\n    <tr>\n      <th>4</th>\n      <td>2024-10-23 18:00:00+00:00</td>\n      <td>33.578</td>\n      <td>93.095</td>\n      <td>985.318</td>\n      <td>2.5</td>\n      <td>3.2565</td>\n      <td>2862</td>\n      <td>30.366156</td>\n      <td>-97.76529</td>\n      <td>899.0</td>\n      <td>...</td>\n      <td>130</td>\n      <td>22595.5</td>\n      <td>66.596351</td>\n      <td>0.0</td>\n      <td>2024-10</td>\n      <td>0</td>\n      <td>1</td>\n      <td>0</td>\n      <td>0</td>\n      <td>0</td>\n    </tr>\n  </tbody>\n</table>\n<p>5 rows × 25 columns</p>\n</div>"
     },
     "execution_count": 3,
     "metadata": {},
     "output_type": "execute_result"
    }
   ],
   "source": [
    "df = df.astype({col: 'int' for col in df.select_dtypes(include='bool').columns})\n",
    "df.head()"
   ]
  },
  {
   "cell_type": "markdown",
   "id": "f3e80fcc-0ada-4e88-83d0-3574d91f99c8",
   "metadata": {},
   "source": [
    "## Preprocessing"
   ]
  },
  {
   "cell_type": "code",
   "execution_count": 4,
   "id": "31b291e4",
   "metadata": {
    "ExecuteTime": {
     "end_time": "2024-12-02T00:33:08.963936Z",
     "start_time": "2024-12-02T00:33:08.794153Z"
    }
   },
   "outputs": [
    {
     "data": {
      "text/plain": "                 time_stamp  humidity  temperature  pressure  pm2.5_alt  \\\n0 2024-10-24 18:00:00+00:00    35.447       92.044   981.676        2.5   \n1 2024-10-24 06:00:00+00:00    61.950       78.405   984.603        3.6   \n2 2024-10-24 00:00:00+00:00    45.133       83.672   985.485        3.1   \n3 2024-10-23 00:00:00+00:00    48.216       83.123   986.001        2.6   \n4 2024-10-23 18:00:00+00:00    33.578       93.095   985.318        2.5   \n\n   pm2.5_atm  sensor_index   latitude  longitude  altitude  ...  PRCP  \\\n0     3.2195          2862  30.366156  -97.76529     899.0  ...   0.0   \n1     5.6470          2862  30.366156  -97.76529     899.0  ...   0.0   \n2     4.7600          2862  30.366156  -97.76529     899.0  ...   0.0   \n3     3.9515          2862  30.366156  -97.76529     899.0  ...   0.0   \n4     3.2565          2862  30.366156  -97.76529     899.0  ...   0.0   \n\n   year_month  cluster  season_Fall  season_Spring  season_Summer  \\\n0     2024-10        0            1              0              0   \n1     2024-10        0            1              0              0   \n2     2024-10        0            1              0              0   \n3     2024-10        0            1              0              0   \n4     2024-10        0            1              0              0   \n\n   season_Winter  hour  day_of_week month  \n0              0    18            3    10  \n1              0     6            3    10  \n2              0     0            3    10  \n3              0     0            2    10  \n4              0    18            2    10  \n\n[5 rows x 28 columns]",
      "text/html": "<div>\n<style scoped>\n    .dataframe tbody tr th:only-of-type {\n        vertical-align: middle;\n    }\n\n    .dataframe tbody tr th {\n        vertical-align: top;\n    }\n\n    .dataframe thead th {\n        text-align: right;\n    }\n</style>\n<table border=\"1\" class=\"dataframe\">\n  <thead>\n    <tr style=\"text-align: right;\">\n      <th></th>\n      <th>time_stamp</th>\n      <th>humidity</th>\n      <th>temperature</th>\n      <th>pressure</th>\n      <th>pm2.5_alt</th>\n      <th>pm2.5_atm</th>\n      <th>sensor_index</th>\n      <th>latitude</th>\n      <th>longitude</th>\n      <th>altitude</th>\n      <th>...</th>\n      <th>PRCP</th>\n      <th>year_month</th>\n      <th>cluster</th>\n      <th>season_Fall</th>\n      <th>season_Spring</th>\n      <th>season_Summer</th>\n      <th>season_Winter</th>\n      <th>hour</th>\n      <th>day_of_week</th>\n      <th>month</th>\n    </tr>\n  </thead>\n  <tbody>\n    <tr>\n      <th>0</th>\n      <td>2024-10-24 18:00:00+00:00</td>\n      <td>35.447</td>\n      <td>92.044</td>\n      <td>981.676</td>\n      <td>2.5</td>\n      <td>3.2195</td>\n      <td>2862</td>\n      <td>30.366156</td>\n      <td>-97.76529</td>\n      <td>899.0</td>\n      <td>...</td>\n      <td>0.0</td>\n      <td>2024-10</td>\n      <td>0</td>\n      <td>1</td>\n      <td>0</td>\n      <td>0</td>\n      <td>0</td>\n      <td>18</td>\n      <td>3</td>\n      <td>10</td>\n    </tr>\n    <tr>\n      <th>1</th>\n      <td>2024-10-24 06:00:00+00:00</td>\n      <td>61.950</td>\n      <td>78.405</td>\n      <td>984.603</td>\n      <td>3.6</td>\n      <td>5.6470</td>\n      <td>2862</td>\n      <td>30.366156</td>\n      <td>-97.76529</td>\n      <td>899.0</td>\n      <td>...</td>\n      <td>0.0</td>\n      <td>2024-10</td>\n      <td>0</td>\n      <td>1</td>\n      <td>0</td>\n      <td>0</td>\n      <td>0</td>\n      <td>6</td>\n      <td>3</td>\n      <td>10</td>\n    </tr>\n    <tr>\n      <th>2</th>\n      <td>2024-10-24 00:00:00+00:00</td>\n      <td>45.133</td>\n      <td>83.672</td>\n      <td>985.485</td>\n      <td>3.1</td>\n      <td>4.7600</td>\n      <td>2862</td>\n      <td>30.366156</td>\n      <td>-97.76529</td>\n      <td>899.0</td>\n      <td>...</td>\n      <td>0.0</td>\n      <td>2024-10</td>\n      <td>0</td>\n      <td>1</td>\n      <td>0</td>\n      <td>0</td>\n      <td>0</td>\n      <td>0</td>\n      <td>3</td>\n      <td>10</td>\n    </tr>\n    <tr>\n      <th>3</th>\n      <td>2024-10-23 00:00:00+00:00</td>\n      <td>48.216</td>\n      <td>83.123</td>\n      <td>986.001</td>\n      <td>2.6</td>\n      <td>3.9515</td>\n      <td>2862</td>\n      <td>30.366156</td>\n      <td>-97.76529</td>\n      <td>899.0</td>\n      <td>...</td>\n      <td>0.0</td>\n      <td>2024-10</td>\n      <td>0</td>\n      <td>1</td>\n      <td>0</td>\n      <td>0</td>\n      <td>0</td>\n      <td>0</td>\n      <td>2</td>\n      <td>10</td>\n    </tr>\n    <tr>\n      <th>4</th>\n      <td>2024-10-23 18:00:00+00:00</td>\n      <td>33.578</td>\n      <td>93.095</td>\n      <td>985.318</td>\n      <td>2.5</td>\n      <td>3.2565</td>\n      <td>2862</td>\n      <td>30.366156</td>\n      <td>-97.76529</td>\n      <td>899.0</td>\n      <td>...</td>\n      <td>0.0</td>\n      <td>2024-10</td>\n      <td>0</td>\n      <td>1</td>\n      <td>0</td>\n      <td>0</td>\n      <td>0</td>\n      <td>18</td>\n      <td>2</td>\n      <td>10</td>\n    </tr>\n  </tbody>\n</table>\n<p>5 rows × 28 columns</p>\n</div>"
     },
     "execution_count": 4,
     "metadata": {},
     "output_type": "execute_result"
    }
   ],
   "source": [
    "# Extract time features\n",
    "df['time_stamp'] = pd.to_datetime(df['time_stamp'])\n",
    "df['hour'] = df['time_stamp'].dt.hour\n",
    "df['day_of_week'] = df['time_stamp'].dt.dayofweek\n",
    "df['month'] = df['time_stamp'].dt.month\n",
    "df.head()"
   ]
  },
  {
   "cell_type": "code",
   "execution_count": 5,
   "id": "b8d69527",
   "metadata": {
    "ExecuteTime": {
     "end_time": "2024-12-02T00:33:08.978940Z",
     "start_time": "2024-12-02T00:33:08.965944Z"
    }
   },
   "outputs": [
    {
     "data": {
      "text/plain": "Index(['time_stamp', 'humidity', 'temperature', 'pressure', 'pm2.5_alt',\n       'pm2.5_atm', 'sensor_index', 'latitude', 'longitude', 'altitude', 'Oak',\n       'Elm', 'Pecan', 'Crape Myrtle', 'Ashe Juniper', 'other',\n       'total_diameter', 'canopy_coverage_percentage', 'PRCP', 'year_month',\n       'cluster', 'season_Fall', 'season_Spring', 'season_Summer',\n       'season_Winter', 'hour', 'day_of_week', 'month'],\n      dtype='object')"
     },
     "execution_count": 5,
     "metadata": {},
     "output_type": "execute_result"
    }
   ],
   "source": [
    "df.columns"
   ]
  },
  {
   "cell_type": "code",
   "execution_count": 6,
   "id": "b90cbc7f-23a9-4c0c-8159-d456068e6d26",
   "metadata": {
    "ExecuteTime": {
     "end_time": "2024-12-02T00:33:09.026289Z",
     "start_time": "2024-12-02T00:33:08.980942Z"
    }
   },
   "outputs": [
    {
     "name": "stdout",
     "output_type": "stream",
     "text": [
      "Lost 1.61% of data by removing NA\n"
     ]
    }
   ],
   "source": [
    "# Define features and target\n",
    "features = ['humidity', 'temperature', 'pressure','altitude', 'Oak',\n",
    "       'Elm', 'Pecan', 'Crape Myrtle', 'Ashe Juniper', 'other',\n",
    "       'total_diameter', 'season_Fall', 'season_Spring', 'season_Summer',\n",
    "       'season_Winter', 'latitude', 'longitude', 'canopy_coverage_percentage',\n",
    "       'PRCP', 'hour', 'day_of_week', 'month']\n",
    "target = 'pm2.5_alt'\n",
    "\n",
    "# Drop NA values\n",
    "before_drop = df.shape[0]\n",
    "df = df.dropna(subset=features+[target])\n",
    "after_drop = df.shape[0]\n",
    "print(f'Lost {(before_drop-after_drop)/before_drop*100:0.2f}% of data by removing NA')"
   ]
  },
  {
   "cell_type": "code",
   "execution_count": 7,
   "id": "cbeb4e036152eab1",
   "metadata": {
    "collapsed": false,
    "ExecuteTime": {
     "end_time": "2024-12-02T00:33:09.088740Z",
     "start_time": "2024-12-02T00:33:09.028276Z"
    }
   },
   "outputs": [],
   "source": [
    "X = df[features]\n",
    "y = df[target]\n",
    "\n",
    "# Split df into training, val, and test sets\n",
    "X_train, X_test, y_train, y_test = train_test_split(X, y, test_size=0.2, random_state=42)"
   ]
  },
  {
   "cell_type": "markdown",
   "id": "27fca89c",
   "metadata": {},
   "source": [
    "Old:\n",
    "\n",
    "RF\n",
    "\n",
    "rf = RandomForestRegressor(\n",
    "    n_estimators=190,         # Number of trees in the forest\n",
    "    max_depth=15,             # Maximum depth of each tree\n",
    "    min_samples_split=3,      # Minimum samples required to split a node\n",
    "    min_samples_leaf=3,       # Minimum samples required at a leaf node\n",
    "    random_state=42           # Ensures reproducibility\n",
    ")\n",
    "\n",
    "Best score: 23.469028992220643\n",
    "\n",
    "XGBoost\n",
    "Best parameters: {'colsample_bytree': 0.8, 'learning_rate': 0.02, 'max_depth': 10, 'n_estimators': 600, 'subsample': 0.9}\n",
    "Best mse: 22.214858875924424\n",
    "\n",
    "TCN\n",
    "num_channels = [16, 32, 64, 128]  # Number of filters in each layer\n",
    "kernel_size = 5\n",
    "dropout = 0.3\n",
    "model = HybridTCN(input_size, output_size, num_channels, kernel_size, dropout)\n",
    "criterion = nn.MSELoss()\n",
    "optimizer = optim.Adam(model.parameters(), lr=0.001, weight_decay=1e-4)\n",
    "\n",
    "KNN\n",
    "Best Parameters: {'metric': 'manhattan', 'n_neighbors': 18, 'weights': 'distance'}\n",
    "Best KNN Test MSE: 29.4558"
   ]
  },
  {
   "cell_type": "markdown",
   "id": "53a417e5",
   "metadata": {},
   "source": [
    "# Random Forest"
   ]
  },
  {
   "cell_type": "code",
   "execution_count": 8,
   "id": "2ece2da2-d7b0-46bd-9297-e322f6e72e60",
   "metadata": {
    "ExecuteTime": {
     "end_time": "2024-12-02T00:33:09.103745Z",
     "start_time": "2024-12-02T00:33:09.090795Z"
    }
   },
   "outputs": [],
   "source": [
    "# param_grid = {\n",
    "#     'n_estimators': [_ for _ in range(150, 251, 25)],\n",
    "#     'max_depth': [_ for _ in range(10, 21)],\n",
    "#     'min_samples_split': [_ for _ in range(2, 5)],\n",
    "#     'min_samples_leaf': [_ for _ in range(2, 5)]\n",
    "# }\n",
    "# \n",
    "# # min_samples_split=3, min_samples_leaf=3, n_estimators=190\n",
    "# grid = GridSearchCV(RandomForestRegressor(), param_grid=param_grid,\n",
    "#                     n_jobs=-1, scoring='neg_mean_squared_error')\n",
    "# grid.fit(X_train, y_train)\n",
    "# \n",
    "# # Print best parameters and score from grid search\n",
    "# print(\"Best parameters:\", grid.best_params_)\n",
    "# print(\"Best mse:\", -grid.best_score_)\n",
    "# \n",
    "# # Get the best estimator\n",
    "# rf = grid.best_estimator_"
   ]
  },
  {
   "cell_type": "code",
   "execution_count": 9,
   "id": "d22cdaab",
   "metadata": {
    "ExecuteTime": {
     "end_time": "2024-12-02T00:37:41.796559Z",
     "start_time": "2024-12-02T00:33:09.105744Z"
    }
   },
   "outputs": [
    {
     "name": "stdout",
     "output_type": "stream",
     "text": [
      "Mean Squared Error: 16.134905371515597\n",
      "R^2 Score: 0.6184841865664898\n"
     ]
    }
   ],
   "source": [
    "rf_regressor = RandomForestRegressor(\n",
    "    n_estimators=250,         # Number of trees in the forest\n",
    "    max_depth=20,           # Maximum depth of each tree\n",
    "    min_samples_split=4,      # Minimum samples required to split a node\n",
    "    min_samples_leaf=2,       # Minimum samples required at a leaf node\n",
    "    random_state=42           # Ensures reproducibility\n",
    ")\n",
    "\n",
    "# Step 2: Fit the model\n",
    "rf_regressor.fit(X_train, y_train)\n",
    "\n",
    "# Step 3: Make predictions\n",
    "y_pred = rf_regressor.predict(X_test)\n",
    "\n",
    "\n",
    "# Step 4: Evaluate the model\n",
    "mse = mean_squared_error(y_test, y_pred)\n",
    "r2 = r2_score(y_test, y_pred)\n",
    "\n",
    "print(f\"Mean Squared Error: {mse}\")\n",
    "print(f\"R^2 Score: {r2}\")"
   ]
  },
  {
   "cell_type": "markdown",
   "id": "e4e863b8",
   "metadata": {},
   "source": [
    "# XGBoost"
   ]
  },
  {
   "cell_type": "code",
   "execution_count": 10,
   "id": "eb8f67a2",
   "metadata": {
    "ExecuteTime": {
     "end_time": "2024-12-02T00:37:41.811818Z",
     "start_time": "2024-12-02T00:37:41.798557Z"
    }
   },
   "outputs": [],
   "source": [
    "# # Define the parameter grid for XGBoost\n",
    "# param_grid = {\n",
    "#     'max_depth': [10, 11, 12], # 10\n",
    "#     'learning_rate': [0.01, 0.02, 0.03], # 0.02\n",
    "#     'n_estimators': [600, 700], # 600\n",
    "#     'subsample': [0.8, 0.85, 0.9], # 0.9\n",
    "#     'colsample_bytree': [0.8, 0.85, 0.9] # 0.8\n",
    "# }\n",
    "# \n",
    "# # Initialize the XGBoost regressor\n",
    "# xgb_ = xgb.XGBRegressor(objective='reg:squarederror', random_state=42)\n",
    "# \n",
    "# # CV\n",
    "# grid = GridSearchCV(estimator=xgb_, param_grid=param_grid, \n",
    "#                     scoring='neg_mean_squared_error', n_jobs=-1, cv=5, verbose=1)\n",
    "# \n",
    "# grid.fit(X_train, y_train)\n",
    "# \n",
    "# # Display results\n",
    "# print(\"Best parameters:\", grid.best_params_)\n",
    "# print(\"Best mse:\", -grid.best_score_)"
   ]
  },
  {
   "cell_type": "code",
   "execution_count": 11,
   "id": "194e5572",
   "metadata": {
    "ExecuteTime": {
     "end_time": "2024-12-02T00:37:55.060516Z",
     "start_time": "2024-12-02T00:37:41.816891Z"
    }
   },
   "outputs": [
    {
     "name": "stdout",
     "output_type": "stream",
     "text": [
      "Mean Squared Error: 13.980673479128617\n",
      "R^2 Score: 0.6694217975300694\n"
     ]
    }
   ],
   "source": [
    "# Best parameters: {'colsample_bytree': 0.8, 'learning_rate': 0.02, 'max_depth': 10, 'n_estimators': 600, 'subsample': 0.9}\n",
    "best_xgb = xgb.XGBRegressor(\n",
    "    objective='reg:squarederror',\n",
    "    colsample_bytree=0.8,\n",
    "    learning_rate=0.02,\n",
    "    max_depth=10,\n",
    "    n_estimators=600,\n",
    "    subsample=0.9,\n",
    "    random_state=42\n",
    ")\n",
    "best_xgb.fit(X_train, y_train)\n",
    "\n",
    "# Make predictions\n",
    "y_pred_xgb = best_xgb.predict(X_test)\n",
    "\n",
    "# Evaluate the model\n",
    "mse_xgb = mean_squared_error(y_test, y_pred_xgb)\n",
    "r2_xgb = r2_score(y_test, y_pred_xgb)\n",
    "\n",
    "print(f\"Mean Squared Error: {mse_xgb}\")\n",
    "print(f\"R^2 Score: {r2_xgb}\")"
   ]
  },
  {
   "cell_type": "markdown",
   "id": "0a1feab5",
   "metadata": {},
   "source": [
    "# Neural Network"
   ]
  },
  {
   "cell_type": "code",
   "execution_count": 12,
   "id": "64d439e2",
   "metadata": {
    "ExecuteTime": {
     "end_time": "2024-12-02T00:37:55.075723Z",
     "start_time": "2024-12-02T00:37:55.062521Z"
    }
   },
   "outputs": [],
   "source": [
    "# # Scale the data\n",
    "# scaler = StandardScaler()\n",
    "# X_train_scaled = scaler.fit_transform(X_train)\n",
    "# X_test_scaled = scaler.transform(X_test)\n",
    "# \n",
    "# # Convert data to PyTorch tensors\n",
    "# X_train_tensor = torch.tensor(X_train_scaled, dtype=torch.float32).unsqueeze(2)\n",
    "# y_train_tensor = torch.tensor(y_train.values, dtype=torch.float32)\n",
    "# X_test_tensor = torch.tensor(X_test_scaled, dtype=torch.float32).unsqueeze(2)\n",
    "# y_test_tensor = torch.tensor(y_test.values, dtype=torch.float32)\n",
    "# \n",
    "# # Create DataLoader\n",
    "# train_dataset = TensorDataset(X_train_tensor, y_train_tensor)\n",
    "# train_loader = DataLoader(train_dataset, batch_size=32, shuffle=True)\n",
    "# test_dataset = TensorDataset(X_test_tensor, y_test_tensor)\n",
    "# test_loader = DataLoader(test_dataset, batch_size=32, shuffle=True)"
   ]
  },
  {
   "cell_type": "code",
   "execution_count": 13,
   "id": "e9fd1271",
   "metadata": {
    "ExecuteTime": {
     "end_time": "2024-12-02T00:37:55.091275Z",
     "start_time": "2024-12-02T00:37:55.078733Z"
    }
   },
   "outputs": [],
   "source": [
    "# import torch\n",
    "# import torch.nn as nn\n",
    "# import torch.optim as optim\n",
    "# import numpy as np\n",
    "# from tqdm import tqdm\n",
    "# import matplotlib.pyplot as plt\n",
    "# \n",
    "# # ----------------------------\n",
    "# # Attention Layer\n",
    "# # ----------------------------\n",
    "# class AttentionLayer(nn.Module):\n",
    "#     def __init__(self, input_dim):\n",
    "#         super(AttentionLayer, self).__init__()\n",
    "#         self.attention_weights = nn.Parameter(torch.randn(input_dim))\n",
    "# \n",
    "#     def forward(self, x):\n",
    "#         # x shape: (batch_size, num_channels, sequence_length)\n",
    "#         attention_scores = torch.matmul(x.transpose(1, 2), self.attention_weights)\n",
    "#         attention_scores = torch.softmax(attention_scores, dim=-1)  # Normalize attention scores\n",
    "#         weighted_output = torch.matmul(x, attention_scores.unsqueeze(-1)).squeeze(-1)\n",
    "#         return weighted_output\n",
    "# \n",
    "# # ----------------------------\n",
    "# # Temporal Convolutional Network (TCN) with Attention\n",
    "# # ----------------------------\n",
    "# class HybridTCN(nn.Module):\n",
    "#     def __init__(self, input_size, output_size, num_channels, kernel_size, dropout):\n",
    "#         super(HybridTCN, self).__init__()\n",
    "#         self.tcn = TCN(input_size, num_channels[-1], num_channels, kernel_size, dropout)\n",
    "#         self.attention = AttentionLayer(num_channels[-1])\n",
    "#         self.fc = nn.Linear(num_channels[-1], output_size)\n",
    "# \n",
    "#     def forward(self, x):\n",
    "#         # Input shape: (batch_size, num_channels, sequence_length)\n",
    "#         tcn_out = self.tcn.network(x)  # Output of TCN\n",
    "#         attended_out = self.attention(tcn_out)  # Attention over TCN outputs\n",
    "#         output = self.fc(attended_out)  # Final fully connected layer\n",
    "#         return output\n",
    "# \n",
    "# # ----------------------------\n",
    "# # Initialize Hybrid TCN + Attention\n",
    "# # ----------------------------\n",
    "# # Initialize the model, loss function, and optimizer\n",
    "# input_size = X_train.shape[1]  # Number of input features\n",
    "# output_size = 1  # Predicting PM2.5\n",
    "# num_channels = [16, 32, 64, 128]  # Number of filters in each layer\n",
    "# kernel_size = 5\n",
    "# dropout = 0.3\n",
    "# model = HybridTCN(input_size, output_size, num_channels, kernel_size, dropout)\n",
    "# criterion = nn.MSELoss()\n",
    "# optimizer = optim.Adam(model.parameters(), lr=0.001, weight_decay=1e-4)\n",
    "# \n",
    "# # ----------------------------\n",
    "# # Training the Model\n",
    "# # ----------------------------\n",
    "# epochs = 100\n",
    "# train_loss = []\n",
    "# test_losses = []\n",
    "# stop_indicator = 0\n",
    "# \n",
    "# for epoch in range(epochs):\n",
    "#     model.train()\n",
    "#     total_loss = 0\n",
    "#     for batch_inputs, batch_targets in tqdm(train_loader, desc=f\"Epoch {epoch + 1}/{epochs}\"):\n",
    "#         optimizer.zero_grad()\n",
    "#         outputs = model(batch_inputs)\n",
    "#         loss = criterion(outputs, batch_targets.view(-1, 1))\n",
    "#         loss.backward()\n",
    "#         optimizer.step()\n",
    "#         total_loss += loss.item()\n",
    "# \n",
    "#     avg_loss = total_loss / len(train_loader)\n",
    "#     train_loss.append(avg_loss)\n",
    "#     print(f\"Epoch {epoch + 1}/{epochs}, Train Loss: {avg_loss:.4f}\")\n",
    "# \n",
    "#     # ----------------------------\n",
    "#     # Evaluating the Model\n",
    "#     # ----------------------------\n",
    "#     model.eval()\n",
    "#     with torch.no_grad():\n",
    "#         test_loss = 0\n",
    "#         for batch_inputs, batch_targets in test_loader:\n",
    "#             outputs = model(batch_inputs)\n",
    "#             loss = criterion(outputs, batch_targets.view(-1, 1))\n",
    "#             test_loss += loss.item()\n",
    "# \n",
    "#         avg_test_loss = test_loss / len(test_loader)\n",
    "#         test_losses.append(avg_test_loss)\n",
    "#         print(f\"Test Loss: {avg_test_loss:.4f}\")\n",
    "# \n",
    "#         # Early stopping logic\n",
    "#         if epoch >= 10 and avg_test_loss > min(test_losses):\n",
    "#             stop_indicator += 1\n",
    "#         else:\n",
    "#             stop_indicator = 0\n",
    "# \n",
    "#         if stop_indicator >= 10:\n",
    "#             print(\"Model plateaued. Stopping early.\")\n",
    "#             break\n",
    "# \n",
    "# # ----------------------------\n",
    "# # Plot Train vs Test Loss\n",
    "# # ----------------------------\n",
    "# plt.figure()\n",
    "# plt.plot(range(len(train_loss)), train_loss, label='Train Loss')\n",
    "# plt.plot(range(len(test_losses)), test_losses, label='Test Loss')\n",
    "# plt.title(\"Train vs Test Loss\")\n",
    "# plt.xlabel(\"Epochs\")\n",
    "# plt.ylabel(\"MSE\")\n",
    "# plt.legend()\n",
    "# plt.tight_layout()\n",
    "# plt.show()"
   ]
  },
  {
   "cell_type": "markdown",
   "id": "85204f7f",
   "metadata": {},
   "source": [
    "# KNN"
   ]
  },
  {
   "cell_type": "code",
   "execution_count": 14,
   "id": "d8c772992c05e736",
   "metadata": {
    "collapsed": false,
    "ExecuteTime": {
     "end_time": "2024-12-02T00:37:55.216815Z",
     "start_time": "2024-12-02T00:37:55.094277Z"
    }
   },
   "outputs": [],
   "source": [
    "from sklearn.model_selection import GridSearchCV\n",
    "from sklearn.neighbors import KNeighborsRegressor\n",
    "from sklearn.preprocessing import StandardScaler\n",
    "from sklearn.metrics import mean_squared_error\n",
    "import matplotlib.pyplot as plt\n",
    "\n",
    "# Scale the data\n",
    "scaler = StandardScaler()\n",
    "X_train_scaled = scaler.fit_transform(X_train)\n",
    "X_test_scaled = scaler.transform(X_test)"
   ]
  },
  {
   "cell_type": "code",
   "outputs": [],
   "source": [
    "# # Define the parameter grid for GridSearchCV\n",
    "# param_grid = {\n",
    "#     'n_neighbors': range(1, 20),  # Number of neighbors to consider\n",
    "#     'weights': ['uniform', 'distance'],  # Uniform weights or distance-based\n",
    "#     'metric': ['euclidean', 'manhattan', 'minkowski']  # Distance metrics\n",
    "# }\n",
    "# \n",
    "# # Initialize GridSearchCV\n",
    "# grid_search = GridSearchCV(\n",
    "#     estimator=KNeighborsRegressor(),\n",
    "#     param_grid=param_grid,\n",
    "#     cv=5,\n",
    "#     scoring='neg_mean_squared_error',\n",
    "#     verbose=1,\n",
    "#     n_jobs=-1\n",
    "# )\n",
    "# \n",
    "# # Fit GridSearchCV to the training data\n",
    "# grid_search.fit(X_train_scaled, y_train)\n",
    "# \n",
    "# # Get the best model and its parameters\n",
    "# best_knn = grid_search.best_estimator_\n",
    "# best_params = grid_search.best_params_\n",
    "# print(f\"Best Parameters: {best_params}\")"
   ],
   "metadata": {
    "collapsed": false,
    "ExecuteTime": {
     "end_time": "2024-12-02T00:37:55.231818Z",
     "start_time": "2024-12-02T00:37:55.219816Z"
    }
   },
   "id": "7afbbbdc0194a3a9",
   "execution_count": 15
  },
  {
   "cell_type": "code",
   "outputs": [
    {
     "data": {
      "text/plain": "KNeighborsRegressor(metric='manhattan', n_neighbors=18, weights='distance')",
      "text/html": "<style>#sk-container-id-1 {\n  /* Definition of color scheme common for light and dark mode */\n  --sklearn-color-text: black;\n  --sklearn-color-line: gray;\n  /* Definition of color scheme for unfitted estimators */\n  --sklearn-color-unfitted-level-0: #fff5e6;\n  --sklearn-color-unfitted-level-1: #f6e4d2;\n  --sklearn-color-unfitted-level-2: #ffe0b3;\n  --sklearn-color-unfitted-level-3: chocolate;\n  /* Definition of color scheme for fitted estimators */\n  --sklearn-color-fitted-level-0: #f0f8ff;\n  --sklearn-color-fitted-level-1: #d4ebff;\n  --sklearn-color-fitted-level-2: #b3dbfd;\n  --sklearn-color-fitted-level-3: cornflowerblue;\n\n  /* Specific color for light theme */\n  --sklearn-color-text-on-default-background: var(--sg-text-color, var(--theme-code-foreground, var(--jp-content-font-color1, black)));\n  --sklearn-color-background: var(--sg-background-color, var(--theme-background, var(--jp-layout-color0, white)));\n  --sklearn-color-border-box: var(--sg-text-color, var(--theme-code-foreground, var(--jp-content-font-color1, black)));\n  --sklearn-color-icon: #696969;\n\n  @media (prefers-color-scheme: dark) {\n    /* Redefinition of color scheme for dark theme */\n    --sklearn-color-text-on-default-background: var(--sg-text-color, var(--theme-code-foreground, var(--jp-content-font-color1, white)));\n    --sklearn-color-background: var(--sg-background-color, var(--theme-background, var(--jp-layout-color0, #111)));\n    --sklearn-color-border-box: var(--sg-text-color, var(--theme-code-foreground, var(--jp-content-font-color1, white)));\n    --sklearn-color-icon: #878787;\n  }\n}\n\n#sk-container-id-1 {\n  color: var(--sklearn-color-text);\n}\n\n#sk-container-id-1 pre {\n  padding: 0;\n}\n\n#sk-container-id-1 input.sk-hidden--visually {\n  border: 0;\n  clip: rect(1px 1px 1px 1px);\n  clip: rect(1px, 1px, 1px, 1px);\n  height: 1px;\n  margin: -1px;\n  overflow: hidden;\n  padding: 0;\n  position: absolute;\n  width: 1px;\n}\n\n#sk-container-id-1 div.sk-dashed-wrapped {\n  border: 1px dashed var(--sklearn-color-line);\n  margin: 0 0.4em 0.5em 0.4em;\n  box-sizing: border-box;\n  padding-bottom: 0.4em;\n  background-color: var(--sklearn-color-background);\n}\n\n#sk-container-id-1 div.sk-container {\n  /* jupyter's `normalize.less` sets `[hidden] { display: none; }`\n     but bootstrap.min.css set `[hidden] { display: none !important; }`\n     so we also need the `!important` here to be able to override the\n     default hidden behavior on the sphinx rendered scikit-learn.org.\n     See: https://github.com/scikit-learn/scikit-learn/issues/21755 */\n  display: inline-block !important;\n  position: relative;\n}\n\n#sk-container-id-1 div.sk-text-repr-fallback {\n  display: none;\n}\n\ndiv.sk-parallel-item,\ndiv.sk-serial,\ndiv.sk-item {\n  /* draw centered vertical line to link estimators */\n  background-image: linear-gradient(var(--sklearn-color-text-on-default-background), var(--sklearn-color-text-on-default-background));\n  background-size: 2px 100%;\n  background-repeat: no-repeat;\n  background-position: center center;\n}\n\n/* Parallel-specific style estimator block */\n\n#sk-container-id-1 div.sk-parallel-item::after {\n  content: \"\";\n  width: 100%;\n  border-bottom: 2px solid var(--sklearn-color-text-on-default-background);\n  flex-grow: 1;\n}\n\n#sk-container-id-1 div.sk-parallel {\n  display: flex;\n  align-items: stretch;\n  justify-content: center;\n  background-color: var(--sklearn-color-background);\n  position: relative;\n}\n\n#sk-container-id-1 div.sk-parallel-item {\n  display: flex;\n  flex-direction: column;\n}\n\n#sk-container-id-1 div.sk-parallel-item:first-child::after {\n  align-self: flex-end;\n  width: 50%;\n}\n\n#sk-container-id-1 div.sk-parallel-item:last-child::after {\n  align-self: flex-start;\n  width: 50%;\n}\n\n#sk-container-id-1 div.sk-parallel-item:only-child::after {\n  width: 0;\n}\n\n/* Serial-specific style estimator block */\n\n#sk-container-id-1 div.sk-serial {\n  display: flex;\n  flex-direction: column;\n  align-items: center;\n  background-color: var(--sklearn-color-background);\n  padding-right: 1em;\n  padding-left: 1em;\n}\n\n\n/* Toggleable style: style used for estimator/Pipeline/ColumnTransformer box that is\nclickable and can be expanded/collapsed.\n- Pipeline and ColumnTransformer use this feature and define the default style\n- Estimators will overwrite some part of the style using the `sk-estimator` class\n*/\n\n/* Pipeline and ColumnTransformer style (default) */\n\n#sk-container-id-1 div.sk-toggleable {\n  /* Default theme specific background. It is overwritten whether we have a\n  specific estimator or a Pipeline/ColumnTransformer */\n  background-color: var(--sklearn-color-background);\n}\n\n/* Toggleable label */\n#sk-container-id-1 label.sk-toggleable__label {\n  cursor: pointer;\n  display: block;\n  width: 100%;\n  margin-bottom: 0;\n  padding: 0.5em;\n  box-sizing: border-box;\n  text-align: center;\n}\n\n#sk-container-id-1 label.sk-toggleable__label-arrow:before {\n  /* Arrow on the left of the label */\n  content: \"▸\";\n  float: left;\n  margin-right: 0.25em;\n  color: var(--sklearn-color-icon);\n}\n\n#sk-container-id-1 label.sk-toggleable__label-arrow:hover:before {\n  color: var(--sklearn-color-text);\n}\n\n/* Toggleable content - dropdown */\n\n#sk-container-id-1 div.sk-toggleable__content {\n  max-height: 0;\n  max-width: 0;\n  overflow: hidden;\n  text-align: left;\n  /* unfitted */\n  background-color: var(--sklearn-color-unfitted-level-0);\n}\n\n#sk-container-id-1 div.sk-toggleable__content.fitted {\n  /* fitted */\n  background-color: var(--sklearn-color-fitted-level-0);\n}\n\n#sk-container-id-1 div.sk-toggleable__content pre {\n  margin: 0.2em;\n  border-radius: 0.25em;\n  color: var(--sklearn-color-text);\n  /* unfitted */\n  background-color: var(--sklearn-color-unfitted-level-0);\n}\n\n#sk-container-id-1 div.sk-toggleable__content.fitted pre {\n  /* unfitted */\n  background-color: var(--sklearn-color-fitted-level-0);\n}\n\n#sk-container-id-1 input.sk-toggleable__control:checked~div.sk-toggleable__content {\n  /* Expand drop-down */\n  max-height: 200px;\n  max-width: 100%;\n  overflow: auto;\n}\n\n#sk-container-id-1 input.sk-toggleable__control:checked~label.sk-toggleable__label-arrow:before {\n  content: \"▾\";\n}\n\n/* Pipeline/ColumnTransformer-specific style */\n\n#sk-container-id-1 div.sk-label input.sk-toggleable__control:checked~label.sk-toggleable__label {\n  color: var(--sklearn-color-text);\n  background-color: var(--sklearn-color-unfitted-level-2);\n}\n\n#sk-container-id-1 div.sk-label.fitted input.sk-toggleable__control:checked~label.sk-toggleable__label {\n  background-color: var(--sklearn-color-fitted-level-2);\n}\n\n/* Estimator-specific style */\n\n/* Colorize estimator box */\n#sk-container-id-1 div.sk-estimator input.sk-toggleable__control:checked~label.sk-toggleable__label {\n  /* unfitted */\n  background-color: var(--sklearn-color-unfitted-level-2);\n}\n\n#sk-container-id-1 div.sk-estimator.fitted input.sk-toggleable__control:checked~label.sk-toggleable__label {\n  /* fitted */\n  background-color: var(--sklearn-color-fitted-level-2);\n}\n\n#sk-container-id-1 div.sk-label label.sk-toggleable__label,\n#sk-container-id-1 div.sk-label label {\n  /* The background is the default theme color */\n  color: var(--sklearn-color-text-on-default-background);\n}\n\n/* On hover, darken the color of the background */\n#sk-container-id-1 div.sk-label:hover label.sk-toggleable__label {\n  color: var(--sklearn-color-text);\n  background-color: var(--sklearn-color-unfitted-level-2);\n}\n\n/* Label box, darken color on hover, fitted */\n#sk-container-id-1 div.sk-label.fitted:hover label.sk-toggleable__label.fitted {\n  color: var(--sklearn-color-text);\n  background-color: var(--sklearn-color-fitted-level-2);\n}\n\n/* Estimator label */\n\n#sk-container-id-1 div.sk-label label {\n  font-family: monospace;\n  font-weight: bold;\n  display: inline-block;\n  line-height: 1.2em;\n}\n\n#sk-container-id-1 div.sk-label-container {\n  text-align: center;\n}\n\n/* Estimator-specific */\n#sk-container-id-1 div.sk-estimator {\n  font-family: monospace;\n  border: 1px dotted var(--sklearn-color-border-box);\n  border-radius: 0.25em;\n  box-sizing: border-box;\n  margin-bottom: 0.5em;\n  /* unfitted */\n  background-color: var(--sklearn-color-unfitted-level-0);\n}\n\n#sk-container-id-1 div.sk-estimator.fitted {\n  /* fitted */\n  background-color: var(--sklearn-color-fitted-level-0);\n}\n\n/* on hover */\n#sk-container-id-1 div.sk-estimator:hover {\n  /* unfitted */\n  background-color: var(--sklearn-color-unfitted-level-2);\n}\n\n#sk-container-id-1 div.sk-estimator.fitted:hover {\n  /* fitted */\n  background-color: var(--sklearn-color-fitted-level-2);\n}\n\n/* Specification for estimator info (e.g. \"i\" and \"?\") */\n\n/* Common style for \"i\" and \"?\" */\n\n.sk-estimator-doc-link,\na:link.sk-estimator-doc-link,\na:visited.sk-estimator-doc-link {\n  float: right;\n  font-size: smaller;\n  line-height: 1em;\n  font-family: monospace;\n  background-color: var(--sklearn-color-background);\n  border-radius: 1em;\n  height: 1em;\n  width: 1em;\n  text-decoration: none !important;\n  margin-left: 1ex;\n  /* unfitted */\n  border: var(--sklearn-color-unfitted-level-1) 1pt solid;\n  color: var(--sklearn-color-unfitted-level-1);\n}\n\n.sk-estimator-doc-link.fitted,\na:link.sk-estimator-doc-link.fitted,\na:visited.sk-estimator-doc-link.fitted {\n  /* fitted */\n  border: var(--sklearn-color-fitted-level-1) 1pt solid;\n  color: var(--sklearn-color-fitted-level-1);\n}\n\n/* On hover */\ndiv.sk-estimator:hover .sk-estimator-doc-link:hover,\n.sk-estimator-doc-link:hover,\ndiv.sk-label-container:hover .sk-estimator-doc-link:hover,\n.sk-estimator-doc-link:hover {\n  /* unfitted */\n  background-color: var(--sklearn-color-unfitted-level-3);\n  color: var(--sklearn-color-background);\n  text-decoration: none;\n}\n\ndiv.sk-estimator.fitted:hover .sk-estimator-doc-link.fitted:hover,\n.sk-estimator-doc-link.fitted:hover,\ndiv.sk-label-container:hover .sk-estimator-doc-link.fitted:hover,\n.sk-estimator-doc-link.fitted:hover {\n  /* fitted */\n  background-color: var(--sklearn-color-fitted-level-3);\n  color: var(--sklearn-color-background);\n  text-decoration: none;\n}\n\n/* Span, style for the box shown on hovering the info icon */\n.sk-estimator-doc-link span {\n  display: none;\n  z-index: 9999;\n  position: relative;\n  font-weight: normal;\n  right: .2ex;\n  padding: .5ex;\n  margin: .5ex;\n  width: min-content;\n  min-width: 20ex;\n  max-width: 50ex;\n  color: var(--sklearn-color-text);\n  box-shadow: 2pt 2pt 4pt #999;\n  /* unfitted */\n  background: var(--sklearn-color-unfitted-level-0);\n  border: .5pt solid var(--sklearn-color-unfitted-level-3);\n}\n\n.sk-estimator-doc-link.fitted span {\n  /* fitted */\n  background: var(--sklearn-color-fitted-level-0);\n  border: var(--sklearn-color-fitted-level-3);\n}\n\n.sk-estimator-doc-link:hover span {\n  display: block;\n}\n\n/* \"?\"-specific style due to the `<a>` HTML tag */\n\n#sk-container-id-1 a.estimator_doc_link {\n  float: right;\n  font-size: 1rem;\n  line-height: 1em;\n  font-family: monospace;\n  background-color: var(--sklearn-color-background);\n  border-radius: 1rem;\n  height: 1rem;\n  width: 1rem;\n  text-decoration: none;\n  /* unfitted */\n  color: var(--sklearn-color-unfitted-level-1);\n  border: var(--sklearn-color-unfitted-level-1) 1pt solid;\n}\n\n#sk-container-id-1 a.estimator_doc_link.fitted {\n  /* fitted */\n  border: var(--sklearn-color-fitted-level-1) 1pt solid;\n  color: var(--sklearn-color-fitted-level-1);\n}\n\n/* On hover */\n#sk-container-id-1 a.estimator_doc_link:hover {\n  /* unfitted */\n  background-color: var(--sklearn-color-unfitted-level-3);\n  color: var(--sklearn-color-background);\n  text-decoration: none;\n}\n\n#sk-container-id-1 a.estimator_doc_link.fitted:hover {\n  /* fitted */\n  background-color: var(--sklearn-color-fitted-level-3);\n}\n</style><div id=\"sk-container-id-1\" class=\"sk-top-container\"><div class=\"sk-text-repr-fallback\"><pre>KNeighborsRegressor(metric=&#x27;manhattan&#x27;, n_neighbors=18, weights=&#x27;distance&#x27;)</pre><b>In a Jupyter environment, please rerun this cell to show the HTML representation or trust the notebook. <br />On GitHub, the HTML representation is unable to render, please try loading this page with nbviewer.org.</b></div><div class=\"sk-container\" hidden><div class=\"sk-item\"><div class=\"sk-estimator fitted sk-toggleable\"><input class=\"sk-toggleable__control sk-hidden--visually\" id=\"sk-estimator-id-1\" type=\"checkbox\" checked><label for=\"sk-estimator-id-1\" class=\"sk-toggleable__label fitted sk-toggleable__label-arrow fitted\">&nbsp;&nbsp;KNeighborsRegressor<a class=\"sk-estimator-doc-link fitted\" rel=\"noreferrer\" target=\"_blank\" href=\"https://scikit-learn.org/1.5/modules/generated/sklearn.neighbors.KNeighborsRegressor.html\">?<span>Documentation for KNeighborsRegressor</span></a><span class=\"sk-estimator-doc-link fitted\">i<span>Fitted</span></span></label><div class=\"sk-toggleable__content fitted\"><pre>KNeighborsRegressor(metric=&#x27;manhattan&#x27;, n_neighbors=18, weights=&#x27;distance&#x27;)</pre></div> </div></div></div></div>"
     },
     "execution_count": 16,
     "metadata": {},
     "output_type": "execute_result"
    }
   ],
   "source": [
    "best_knn = KNeighborsRegressor(\n",
    "    metric='manhattan',\n",
    "    n_neighbors=18,\n",
    "    weights='distance'\n",
    ")\n",
    "best_knn.fit(X_train_scaled, y_train)"
   ],
   "metadata": {
    "collapsed": false,
    "ExecuteTime": {
     "end_time": "2024-12-02T00:37:55.277358Z",
     "start_time": "2024-12-02T00:37:55.234822Z"
    }
   },
   "id": "6695a2e1b2efc44b",
   "execution_count": 16
  },
  {
   "cell_type": "code",
   "outputs": [
    {
     "name": "stdout",
     "output_type": "stream",
     "text": [
      "Best KNN Test MSE: 25.1837\n"
     ]
    },
    {
     "data": {
      "text/plain": "<Figure size 1000x600 with 1 Axes>",
      "image/png": "[encoded data removed]"
     },
     "metadata": {},
     "output_type": "display_data"
    }
   ],
   "source": [
    "# Predict on the test set using the best KNN model\n",
    "y_pred_knn = best_knn.predict(X_test_scaled)\n",
    "\n",
    "# Calculate the MSE for the best KNN model\n",
    "mse_knn = mean_squared_error(y_test, y_pred_knn)\n",
    "print(f\"Best KNN Test MSE: {mse_knn:.4f}\")\n",
    "\n",
    "# Plot the true values vs the KNN predictions\n",
    "plt.figure(figsize=(10, 6))\n",
    "plt.plot(y_test.to_numpy(), label=\"True Values\", color=\"blue\")\n",
    "plt.plot(y_pred_knn, label=\"KNN Predicted Values\", color=\"green\")\n",
    "plt.legend()\n",
    "plt.title(f\"KNN Predictions vs True Values (Best K: 18)\")\n",
    "plt.xlabel(\"Sample Index\")\n",
    "plt.ylabel(\"PM2.5\")\n",
    "plt.show()"
   ],
   "metadata": {
    "ExecuteTime": {
     "end_time": "2024-12-02T00:38:07.768111Z",
     "start_time": "2024-12-02T00:37:55.280356Z"
    }
   },
   "id": "dd975395",
   "execution_count": 17
  },
  {
   "cell_type": "markdown",
   "id": "8731bfca16a5356c",
   "metadata": {
    "collapsed": false
   },
   "source": [
    "# Interpretability"
   ]
  },
  {
   "cell_type": "code",
   "outputs": [],
   "source": [
    "import matplotlib.pyplot as plt\n",
    "import seaborn as sns\n",
    "from sklearn.inspection import PartialDependenceDisplay\n",
    "import shap\n",
    "\n",
    "models = [\n",
    "    ('Random Forest', rf_regressor),\n",
    "    ('XGBoost', best_xgb),\n",
    "    # ('tcn', model),\n",
    "    ('KNN', best_knn)\n",
    "]"
   ],
   "metadata": {
    "collapsed": false,
    "ExecuteTime": {
     "end_time": "2024-12-02T00:38:09.636450Z",
     "start_time": "2024-12-02T00:38:07.770105Z"
    }
   },
   "id": "f905aebe56b72258",
   "execution_count": 18
  },
  {
   "cell_type": "markdown",
   "id": "b3be9ab2f254a2fd",
   "metadata": {
    "collapsed": false
   },
   "source": [
    "## Residual Plot"
   ]
  },
  {
   "cell_type": "code",
   "outputs": [
    {
     "name": "stderr",
     "output_type": "stream",
     "text": [
      "C:\\Users\\Victor Nguyen\\AppData\\Local\\Programs\\Python\\Python310\\lib\\site-packages\\sklearn\\base.py:486: UserWarning: X has feature names, but KNeighborsRegressor was fitted without feature names\n",
      "  warnings.warn(\n"
     ]
    },
    {
     "ename": "TypeError",
     "evalue": "The passed model is not callable and cannot be analyzed directly with the given masker! Model: KNeighborsRegressor(metric='manhattan', n_neighbors=18, weights='distance')",
     "output_type": "error",
     "traceback": [
      "\u001B[1;31m---------------------------------------------------------------------------\u001B[0m",
      "\u001B[1;31mTypeError\u001B[0m                                 Traceback (most recent call last)",
      "Cell \u001B[1;32mIn[19], line 27\u001B[0m\n\u001B[0;32m     24\u001B[0m     plt\u001B[38;5;241m.\u001B[39mclose()\n\u001B[0;32m     26\u001B[0m \u001B[38;5;66;03m# SHAP\u001B[39;00m\n\u001B[1;32m---> 27\u001B[0m explainer \u001B[38;5;241m=\u001B[39m shap\u001B[38;5;241m.\u001B[39mExplainer(m)\n\u001B[0;32m     28\u001B[0m shap_values \u001B[38;5;241m=\u001B[39m explainer(shap_data_pts)\n\u001B[0;32m     29\u001B[0m shap\u001B[38;5;241m.\u001B[39mplots\u001B[38;5;241m.\u001B[39mwaterfall(shap_values[\u001B[38;5;241m2\u001B[39m], show\u001B[38;5;241m=\u001B[39m\u001B[38;5;28;01mFalse\u001B[39;00m)\n",
      "File \u001B[1;32m~\\AppData\\Local\\Programs\\Python\\Python310\\lib\\site-packages\\shap-0.0.0-py3.10-win-amd64.egg\\shap\\explainers\\_explainer.py:206\u001B[0m, in \u001B[0;36mExplainer.__init__\u001B[1;34m(self, model, masker, link, algorithm, output_names, feature_names, linearize_link, seed, **kwargs)\u001B[0m\n\u001B[0;32m    202\u001B[0m             algorithm \u001B[38;5;241m=\u001B[39m \u001B[38;5;124m\"\u001B[39m\u001B[38;5;124mpermutation\u001B[39m\u001B[38;5;124m\"\u001B[39m\n\u001B[0;32m    204\u001B[0m     \u001B[38;5;66;03m# if we get here then we don't know how to handle what was given to us\u001B[39;00m\n\u001B[0;32m    205\u001B[0m     \u001B[38;5;28;01melse\u001B[39;00m:\n\u001B[1;32m--> 206\u001B[0m         \u001B[38;5;28;01mraise\u001B[39;00m \u001B[38;5;167;01mTypeError\u001B[39;00m(\n\u001B[0;32m    207\u001B[0m             \u001B[38;5;124m\"\u001B[39m\u001B[38;5;124mThe passed model is not callable and cannot be analyzed directly with the given masker! Model: \u001B[39m\u001B[38;5;124m\"\u001B[39m\n\u001B[0;32m    208\u001B[0m             \u001B[38;5;241m+\u001B[39m \u001B[38;5;28mstr\u001B[39m(model)\n\u001B[0;32m    209\u001B[0m         )\n\u001B[0;32m    211\u001B[0m \u001B[38;5;66;03m# build the right subclass\u001B[39;00m\n\u001B[0;32m    212\u001B[0m \u001B[38;5;28;01mif\u001B[39;00m algorithm \u001B[38;5;241m==\u001B[39m \u001B[38;5;124m\"\u001B[39m\u001B[38;5;124mexact\u001B[39m\u001B[38;5;124m\"\u001B[39m:\n",
      "\u001B[1;31mTypeError\u001B[0m: The passed model is not callable and cannot be analyzed directly with the given masker! Model: KNeighborsRegressor(metric='manhattan', n_neighbors=18, weights='distance')"
     ]
    }
   ],
   "source": [
    "shap_data_pts = X_train.sample(n=100, random_state=42)\n",
    "\n",
    "for n, m in models:\n",
    "    n_ = n.replace(' ', '')\n",
    "    \n",
    "    # Residual plot\n",
    "    y_pred = m.predict(X_test)\n",
    "    residuals = y_test - y_pred\n",
    "    sns.scatterplot(x=y_pred, y=residuals)\n",
    "    plt.axhline(0, color='red', linestyle='--')\n",
    "    plt.xlabel(\"Predicted PM2.5\")\n",
    "    plt.ylabel(\"Residuals\")\n",
    "    plt.title(f\"Residual Plot for {n}\")\n",
    "    plt.savefig(f'./plots/residual_plot_{n_}.png', dpi=300, bbox_inches='tight')\n",
    "    plt.close()\n",
    "    \n",
    "    # PDP\n",
    "    tree_types = ['Oak', 'Elm', 'Pecan', 'Crape Myrtle', 'Ashe Juniper', 'other']\n",
    "    for ft in tree_types:\n",
    "        PartialDependenceDisplay.from_estimator(rf_regressor, X, [ft], kind='average')\n",
    "        plt.title(f'PDP for Number of {ft} Trees')\n",
    "        ft_ = ft.replace(' ', '')\n",
    "        plt.savefig(f'./plots/pdp_{ft_}_{n_}.png', dpi=300, bbox_inches='tight')\n",
    "        plt.close()\n",
    "    \n",
    "    # SHAP\n",
    "    explainer = shap.Explainer(m)\n",
    "    shap_values = explainer(shap_data_pts)\n",
    "    shap.plots.waterfall(shap_values[2], show=False)\n",
    "    plt.title(f'Example Shapley Value Waterfall Plot for {n}')\n",
    "    plt.savefig(f'./plots/shap_waterfall_{n_}.png', dpi=300, bbox_inches='tight')\n",
    "    plt.close()\n",
    "\n",
    "    shap.plots.beeswarm(shap_values, show=False)\n",
    "    plt.title(f'Shapley Value Beeswarm Plot for {n}')\n",
    "    plt.savefig(f'./plots/shap_beeswarm_{n_}.png', dpi=300, bbox_inches='tight')\n",
    "    plt.close()"
   ],
   "metadata": {
    "collapsed": false,
    "ExecuteTime": {
     "end_time": "2024-12-02T00:46:12.936893Z",
     "start_time": "2024-12-02T00:38:09.638522Z"
    }
   },
   "id": "1f7507678866c3d4",
   "execution_count": 19
  },
  {
   "cell_type": "code",
   "execution_count": null,
   "id": "19540eee41a069f3",
   "metadata": {
    "collapsed": false
   },
   "outputs": [],
   "source": []
  }
 ],
 "metadata": {
  "kernelspec": {
   "display_name": "Python 3 (ipykernel)",
   "language": "python",
   "name": "python3"
  },
  "language_info": {
   "codemirror_mode": {
    "name": "ipython",
    "version": 3
   },
   "file_extension": ".py",
   "mimetype": "text/x-python",
   "name": "python",
   "nbconvert_exporter": "python",
   "pygments_lexer": "ipython3",
   "version": "3.11.4"
  }
 },
 "nbformat": 4,
 "nbformat_minor": 5
}
