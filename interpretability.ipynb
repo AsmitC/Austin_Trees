{
 "cells": [
  {
   "cell_type": "code",
   "execution_count": 2,
   "id": "0b1c174e",
   "metadata": {},
   "outputs": [
    {
     "name": "stdout",
     "output_type": "stream",
     "text": [
      "Requirement already satisfied: pandas in ./Trees/lib/python3.11/site-packages (from -r requirements.txt (line 1)) (2.2.3)\n",
      "Requirement already satisfied: numpy in ./Trees/lib/python3.11/site-packages (from -r requirements.txt (line 2)) (2.1.3)\n",
      "Requirement already satisfied: matplotlib in ./Trees/lib/python3.11/site-packages (from -r requirements.txt (line 3)) (3.9.2)\n",
      "Requirement already satisfied: scikit-learn in ./Trees/lib/python3.11/site-packages (from -r requirements.txt (line 4)) (1.5.2)\n",
      "Requirement already satisfied: seaborn in ./Trees/lib/python3.11/site-packages (from -r requirements.txt (line 5)) (0.13.2)\n",
      "Requirement already satisfied: scipy in ./Trees/lib/python3.11/site-packages (from -r requirements.txt (line 6)) (1.14.1)\n",
      "Requirement already satisfied: statsmodels in ./Trees/lib/python3.11/site-packages (from -r requirements.txt (line 7)) (0.14.4)\n",
      "Requirement already satisfied: geopy in ./Trees/lib/python3.11/site-packages (from -r requirements.txt (line 8)) (2.4.1)\n",
      "Requirement already satisfied: shapely in ./Trees/lib/python3.11/site-packages (from -r requirements.txt (line 9)) (2.0.6)\n",
      "Requirement already satisfied: xgboost in ./Trees/lib/python3.11/site-packages (from -r requirements.txt (line 10)) (2.1.3)\n",
      "Requirement already satisfied: tqdm in ./Trees/lib/python3.11/site-packages (from -r requirements.txt (line 11)) (4.67.1)\n",
      "Requirement already satisfied: pactools in ./Trees/lib/python3.11/site-packages (from -r requirements.txt (line 12)) (0.3.1)\n",
      "Requirement already satisfied: torch in ./Trees/lib/python3.11/site-packages (from -r requirements.txt (line 13)) (2.5.1)\n",
      "Requirement already satisfied: torchvision in ./Trees/lib/python3.11/site-packages (from -r requirements.txt (line 14)) (0.20.1)\n",
      "Requirement already satisfied: pytorch-tcn in ./Trees/lib/python3.11/site-packages (from -r requirements.txt (line 15)) (1.2.1)\n",
      "Requirement already satisfied: gpytorch in ./Trees/lib/python3.11/site-packages (from -r requirements.txt (line 16)) (1.13)\n",
      "Requirement already satisfied: pyro-ppl in ./Trees/lib/python3.11/site-packages (from -r requirements.txt (line 17)) (1.9.1)\n",
      "Collecting shap (from -r requirements.txt (line 18))\n",
      "  Obtaining dependency information for shap from https://files.pythonhosted.org/packages/5f/9e/dce41d5ec9e79add65faf4381d8d4492247b29daaa6cc7d7fd0298abc1e2/shap-0.46.0-cp311-cp311-macosx_11_0_arm64.whl.metadata\n",
      "  Downloading shap-0.46.0-cp311-cp311-macosx_11_0_arm64.whl.metadata (24 kB)\n",
      "Requirement already satisfied: python-dateutil>=2.8.2 in ./Trees/lib/python3.11/site-packages (from pandas->-r requirements.txt (line 1)) (2.9.0.post0)\n",
      "Requirement already satisfied: pytz>=2020.1 in ./Trees/lib/python3.11/site-packages (from pandas->-r requirements.txt (line 1)) (2024.2)\n",
      "Requirement already satisfied: tzdata>=2022.7 in ./Trees/lib/python3.11/site-packages (from pandas->-r requirements.txt (line 1)) (2024.2)\n",
      "Requirement already satisfied: contourpy>=1.0.1 in ./Trees/lib/python3.11/site-packages (from matplotlib->-r requirements.txt (line 3)) (1.3.0)\n",
      "Requirement already satisfied: cycler>=0.10 in ./Trees/lib/python3.11/site-packages (from matplotlib->-r requirements.txt (line 3)) (0.12.1)\n",
      "Requirement already satisfied: fonttools>=4.22.0 in ./Trees/lib/python3.11/site-packages (from matplotlib->-r requirements.txt (line 3)) (4.54.1)\n",
      "Requirement already satisfied: kiwisolver>=1.3.1 in ./Trees/lib/python3.11/site-packages (from matplotlib->-r requirements.txt (line 3)) (1.4.7)\n",
      "Requirement already satisfied: packaging>=20.0 in ./Trees/lib/python3.11/site-packages (from matplotlib->-r requirements.txt (line 3)) (24.2)\n",
      "Requirement already satisfied: pillow>=8 in ./Trees/lib/python3.11/site-packages (from matplotlib->-r requirements.txt (line 3)) (11.0.0)\n",
      "Requirement already satisfied: pyparsing>=2.3.1 in ./Trees/lib/python3.11/site-packages (from matplotlib->-r requirements.txt (line 3)) (3.2.0)\n",
      "Requirement already satisfied: joblib>=1.2.0 in ./Trees/lib/python3.11/site-packages (from scikit-learn->-r requirements.txt (line 4)) (1.4.2)\n",
      "Requirement already satisfied: threadpoolctl>=3.1.0 in ./Trees/lib/python3.11/site-packages (from scikit-learn->-r requirements.txt (line 4)) (3.5.0)\n",
      "Requirement already satisfied: patsy>=0.5.6 in ./Trees/lib/python3.11/site-packages (from statsmodels->-r requirements.txt (line 7)) (0.5.6)\n",
      "Requirement already satisfied: geographiclib<3,>=1.52 in ./Trees/lib/python3.11/site-packages (from geopy->-r requirements.txt (line 8)) (2.0)\n",
      "Requirement already satisfied: mne in ./Trees/lib/python3.11/site-packages (from pactools->-r requirements.txt (line 12)) (1.8.0)\n",
      "Requirement already satisfied: h5py in ./Trees/lib/python3.11/site-packages (from pactools->-r requirements.txt (line 12)) (3.12.1)\n",
      "Requirement already satisfied: filelock in ./Trees/lib/python3.11/site-packages (from torch->-r requirements.txt (line 13)) (3.16.1)\n",
      "Requirement already satisfied: typing-extensions>=4.8.0 in ./Trees/lib/python3.11/site-packages (from torch->-r requirements.txt (line 13)) (4.12.2)\n",
      "Requirement already satisfied: networkx in ./Trees/lib/python3.11/site-packages (from torch->-r requirements.txt (line 13)) (3.4.2)\n",
      "Requirement already satisfied: jinja2 in ./Trees/lib/python3.11/site-packages (from torch->-r requirements.txt (line 13)) (3.1.4)\n",
      "Requirement already satisfied: fsspec in ./Trees/lib/python3.11/site-packages (from torch->-r requirements.txt (line 13)) (2024.10.0)\n",
      "Requirement already satisfied: sympy==1.13.1 in ./Trees/lib/python3.11/site-packages (from torch->-r requirements.txt (line 13)) (1.13.1)\n",
      "Requirement already satisfied: mpmath<1.4,>=1.1.0 in ./Trees/lib/python3.11/site-packages (from sympy==1.13.1->torch->-r requirements.txt (line 13)) (1.3.0)\n",
      "Requirement already satisfied: jaxtyping==0.2.19 in ./Trees/lib/python3.11/site-packages (from gpytorch->-r requirements.txt (line 16)) (0.2.19)\n",
      "Requirement already satisfied: linear-operator>=0.5.3 in ./Trees/lib/python3.11/site-packages (from gpytorch->-r requirements.txt (line 16)) (0.5.3)\n",
      "Requirement already satisfied: typeguard>=2.13.3 in ./Trees/lib/python3.11/site-packages (from jaxtyping==0.2.19->gpytorch->-r requirements.txt (line 16)) (4.4.1)\n",
      "Requirement already satisfied: opt-einsum>=2.3.2 in ./Trees/lib/python3.11/site-packages (from pyro-ppl->-r requirements.txt (line 17)) (3.4.0)\n",
      "Requirement already satisfied: pyro-api>=0.1.1 in ./Trees/lib/python3.11/site-packages (from pyro-ppl->-r requirements.txt (line 17)) (0.1.2)\n",
      "Collecting slicer==0.0.8 (from shap->-r requirements.txt (line 18))\n",
      "  Obtaining dependency information for slicer==0.0.8 from https://files.pythonhosted.org/packages/63/81/9ef641ff4e12cbcca30e54e72fb0951a2ba195d0cda0ba4100e532d929db/slicer-0.0.8-py3-none-any.whl.metadata\n",
      "  Downloading slicer-0.0.8-py3-none-any.whl.metadata (4.0 kB)\n",
      "Collecting numba (from shap->-r requirements.txt (line 18))\n",
      "  Obtaining dependency information for numba from https://files.pythonhosted.org/packages/9a/51/a4dc2c01ce7a850b8e56ff6d5381d047a5daea83d12bad08aa071d34b2ee/numba-0.60.0-cp311-cp311-macosx_11_0_arm64.whl.metadata\n",
      "  Downloading numba-0.60.0-cp311-cp311-macosx_11_0_arm64.whl.metadata (2.7 kB)\n",
      "Collecting cloudpickle (from shap->-r requirements.txt (line 18))\n",
      "  Obtaining dependency information for cloudpickle from https://files.pythonhosted.org/packages/48/41/e1d85ca3cab0b674e277c8c4f678cf66a91cd2cecf93df94353a606fe0db/cloudpickle-3.1.0-py3-none-any.whl.metadata\n",
      "  Downloading cloudpickle-3.1.0-py3-none-any.whl.metadata (7.0 kB)\n",
      "Requirement already satisfied: six in ./Trees/lib/python3.11/site-packages (from patsy>=0.5.6->statsmodels->-r requirements.txt (line 7)) (1.16.0)\n",
      "Requirement already satisfied: MarkupSafe>=2.0 in ./Trees/lib/python3.11/site-packages (from jinja2->torch->-r requirements.txt (line 13)) (3.0.2)\n",
      "Requirement already satisfied: decorator in ./Trees/lib/python3.11/site-packages (from mne->pactools->-r requirements.txt (line 12)) (5.1.1)\n",
      "Requirement already satisfied: lazy-loader>=0.3 in ./Trees/lib/python3.11/site-packages (from mne->pactools->-r requirements.txt (line 12)) (0.4)\n",
      "Requirement already satisfied: pooch>=1.5 in ./Trees/lib/python3.11/site-packages (from mne->pactools->-r requirements.txt (line 12)) (1.8.2)\n",
      "Collecting llvmlite<0.44,>=0.43.0dev0 (from numba->shap->-r requirements.txt (line 18))\n",
      "  Obtaining dependency information for llvmlite<0.44,>=0.43.0dev0 from https://files.pythonhosted.org/packages/ee/e1/38deed89ced4cf378c61e232265cfe933ccde56ae83c901aa68b477d14b1/llvmlite-0.43.0-cp311-cp311-macosx_11_0_arm64.whl.metadata\n",
      "  Downloading llvmlite-0.43.0-cp311-cp311-macosx_11_0_arm64.whl.metadata (4.8 kB)\n",
      "Collecting numpy (from -r requirements.txt (line 2))\n",
      "  Obtaining dependency information for numpy from https://files.pythonhosted.org/packages/c1/ca/2f384720020c7b244d22508cb7ab23d95f179fcfff33c31a6eeba8d6c512/numpy-2.0.2-cp311-cp311-macosx_14_0_arm64.whl.metadata\n",
      "  Downloading numpy-2.0.2-cp311-cp311-macosx_14_0_arm64.whl.metadata (60 kB)\n",
      "\u001b[2K     \u001b[90m━━━━━━━━━━━━━━━━━━━━━━━━━━━━━━━━━━━━━━━━\u001b[0m \u001b[32m60.9/60.9 kB\u001b[0m \u001b[31m2.7 MB/s\u001b[0m eta \u001b[36m0:00:00\u001b[0m\n",
      "\u001b[?25hRequirement already satisfied: platformdirs>=2.5.0 in ./Trees/lib/python3.11/site-packages (from pooch>=1.5->mne->pactools->-r requirements.txt (line 12)) (4.3.6)\n",
      "Requirement already satisfied: requests>=2.19.0 in ./Trees/lib/python3.11/site-packages (from pooch>=1.5->mne->pactools->-r requirements.txt (line 12)) (2.32.3)\n",
      "Requirement already satisfied: charset-normalizer<4,>=2 in ./Trees/lib/python3.11/site-packages (from requests>=2.19.0->pooch>=1.5->mne->pactools->-r requirements.txt (line 12)) (3.4.0)\n",
      "Requirement already satisfied: idna<4,>=2.5 in ./Trees/lib/python3.11/site-packages (from requests>=2.19.0->pooch>=1.5->mne->pactools->-r requirements.txt (line 12)) (3.10)\n",
      "Requirement already satisfied: urllib3<3,>=1.21.1 in ./Trees/lib/python3.11/site-packages (from requests>=2.19.0->pooch>=1.5->mne->pactools->-r requirements.txt (line 12)) (2.2.3)\n",
      "Requirement already satisfied: certifi>=2017.4.17 in ./Trees/lib/python3.11/site-packages (from requests>=2.19.0->pooch>=1.5->mne->pactools->-r requirements.txt (line 12)) (2024.8.30)\n",
      "Downloading shap-0.46.0-cp311-cp311-macosx_11_0_arm64.whl (455 kB)\n",
      "\u001b[2K   \u001b[90m━━━━━━━━━━━━━━━━━━━━━━━━━━━━━━━━━━━━━━━━\u001b[0m \u001b[32m455.8/455.8 kB\u001b[0m \u001b[31m9.4 MB/s\u001b[0m eta \u001b[36m0:00:00\u001b[0ma \u001b[36m0:00:01\u001b[0m\n",
      "\u001b[?25hDownloading slicer-0.0.8-py3-none-any.whl (15 kB)\n",
      "Downloading cloudpickle-3.1.0-py3-none-any.whl (22 kB)\n",
      "Downloading numba-0.60.0-cp311-cp311-macosx_11_0_arm64.whl (2.6 MB)\n",
      "\u001b[2K   \u001b[90m━━━━━━━━━━━━━━━━━━━━━━━━━━━━━━━━━━━━━━━━\u001b[0m \u001b[32m2.6/2.6 MB\u001b[0m \u001b[31m16.5 MB/s\u001b[0m eta \u001b[36m0:00:00\u001b[0m00:01\u001b[0m00:01\u001b[0m\n",
      "\u001b[?25hDownloading numpy-2.0.2-cp311-cp311-macosx_14_0_arm64.whl (5.3 MB)\n",
      "\u001b[2K   \u001b[90m━━━━━━━━━━━━━━━━━━━━━━━━━━━━━━━━━━━━━━━━\u001b[0m \u001b[32m5.3/5.3 MB\u001b[0m \u001b[31m11.6 MB/s\u001b[0m eta \u001b[36m0:00:00\u001b[0m00:01\u001b[0m00:01\u001b[0m\n",
      "\u001b[?25hDownloading llvmlite-0.43.0-cp311-cp311-macosx_11_0_arm64.whl (28.8 MB)\n",
      "\u001b[2K   \u001b[90m━━━━━━━━━━━━━━━━━━━━━━━━━━━━━━━━━━━━━━━━\u001b[0m \u001b[32m28.8/28.8 MB\u001b[0m \u001b[31m7.3 MB/s\u001b[0m eta \u001b[36m0:00:00\u001b[0m00:01\u001b[0m00:01\u001b[0m\n",
      "\u001b[?25hInstalling collected packages: slicer, numpy, llvmlite, cloudpickle, numba, shap\n",
      "  Attempting uninstall: numpy\n",
      "    Found existing installation: numpy 2.1.3\n",
      "    Uninstalling numpy-2.1.3:\n",
      "      Successfully uninstalled numpy-2.1.3\n",
      "Successfully installed cloudpickle-3.1.0 llvmlite-0.43.0 numba-0.60.0 numpy-2.0.2 shap-0.46.0 slicer-0.0.8\n",
      "\n",
      "\u001b[1m[\u001b[0m\u001b[34;49mnotice\u001b[0m\u001b[1;39;49m]\u001b[0m\u001b[39;49m A new release of pip is available: \u001b[0m\u001b[31;49m23.2.1\u001b[0m\u001b[39;49m -> \u001b[0m\u001b[32;49m24.3.1\u001b[0m\n",
      "\u001b[1m[\u001b[0m\u001b[34;49mnotice\u001b[0m\u001b[1;39;49m]\u001b[0m\u001b[39;49m To update, run: \u001b[0m\u001b[32;49mpip install --upgrade pip\u001b[0m\n",
      "Note: you may need to restart the kernel to use updated packages.\n"
     ]
    }
   ],
   "source": [
    "%pip install -r requirements.txt"
   ]
  },
  {
   "cell_type": "markdown",
   "id": "abeb99bb-2a60-48b4-849c-ab10d386992b",
   "metadata": {},
   "source": [
    "# Modeling"
   ]
  },
  {
   "cell_type": "markdown",
   "id": "d4f496a6-7975-47ef-8371-decd3dee6dad",
   "metadata": {},
   "source": [
    "## Import data"
   ]
  },
  {
   "cell_type": "code",
   "execution_count": 2,
   "id": "3a29eec4-238f-40bc-ad17-014f8281073c",
   "metadata": {
    "ExecuteTime": {
     "end_time": "2024-11-14T15:28:36.158787Z",
     "start_time": "2024-11-14T15:28:33.123707Z"
    }
   },
   "outputs": [
    {
     "name": "stderr",
     "output_type": "stream",
     "text": [
      "/Users/asmit/Documents/Fall24_Classes/SDS336/Austin_Trees/Trees/lib/python3.11/site-packages/tqdm/auto.py:21: TqdmWarning: IProgress not found. Please update jupyter and ipywidgets. See https://ipywidgets.readthedocs.io/en/stable/user_install.html\n",
      "  from .autonotebook import tqdm as notebook_tqdm\n"
     ]
    }
   ],
   "source": [
    "import torch\n",
    "import torch.nn as nn\n",
    "import torch.optim as optim\n",
    "from torch.utils.data import DataLoader, TensorDataset\n",
    "import gpytorch\n",
    "from gpytorch.models import ExactGP\n",
    "from gpytorch.likelihoods import GaussianLikelihood\n",
    "from pytorch_tcn import TCN\n",
    "import numpy as np\n",
    "import pandas as pd\n",
    "import matplotlib.pyplot as plt\n",
    "import xgboost as xgb\n",
    "from tqdm import tqdm\n",
    "from sklearn.preprocessing import StandardScaler\n",
    "from sklearn.ensemble import RandomForestRegressor\n",
    "from sklearn.metrics import mean_squared_error, mean_absolute_error, r2_score\n",
    "from sklearn.model_selection import train_test_split, GridSearchCV\n",
    "from datetime import datetime\n",
    "import shap"
   ]
  },
  {
   "cell_type": "code",
   "execution_count": 3,
   "id": "3f15a247-c53d-4655-b6c7-f81c97e6c9eb",
   "metadata": {
    "ExecuteTime": {
     "end_time": "2024-11-14T15:28:41.609981Z",
     "start_time": "2024-11-14T15:28:36.160796Z"
    }
   },
   "outputs": [
    {
     "name": "stdout",
     "output_type": "stream",
     "text": [
      "Shape: (121625, 25)\n"
     ]
    },
    {
     "data": {
      "text/html": [
       "<div>\n",
       "<style scoped>\n",
       "    .dataframe tbody tr th:only-of-type {\n",
       "        vertical-align: middle;\n",
       "    }\n",
       "\n",
       "    .dataframe tbody tr th {\n",
       "        vertical-align: top;\n",
       "    }\n",
       "\n",
       "    .dataframe thead th {\n",
       "        text-align: right;\n",
       "    }\n",
       "</style>\n",
       "<table border=\"1\" class=\"dataframe\">\n",
       "  <thead>\n",
       "    <tr style=\"text-align: right;\">\n",
       "      <th></th>\n",
       "      <th>time_stamp</th>\n",
       "      <th>humidity</th>\n",
       "      <th>temperature</th>\n",
       "      <th>pressure</th>\n",
       "      <th>pm2.5_alt</th>\n",
       "      <th>pm2.5_atm</th>\n",
       "      <th>sensor_index</th>\n",
       "      <th>latitude</th>\n",
       "      <th>longitude</th>\n",
       "      <th>altitude</th>\n",
       "      <th>...</th>\n",
       "      <th>other</th>\n",
       "      <th>total_diameter</th>\n",
       "      <th>canopy_coverage_percentage</th>\n",
       "      <th>PRCP</th>\n",
       "      <th>year_month</th>\n",
       "      <th>cluster</th>\n",
       "      <th>season_Fall</th>\n",
       "      <th>season_Spring</th>\n",
       "      <th>season_Summer</th>\n",
       "      <th>season_Winter</th>\n",
       "    </tr>\n",
       "  </thead>\n",
       "  <tbody>\n",
       "    <tr>\n",
       "      <th>0</th>\n",
       "      <td>2024-10-24 18:00:00+00:00</td>\n",
       "      <td>35.447</td>\n",
       "      <td>92.044</td>\n",
       "      <td>981.676</td>\n",
       "      <td>2.5</td>\n",
       "      <td>3.2195</td>\n",
       "      <td>2862</td>\n",
       "      <td>30.366156</td>\n",
       "      <td>-97.76529</td>\n",
       "      <td>899.0</td>\n",
       "      <td>...</td>\n",
       "      <td>130</td>\n",
       "      <td>22595.5</td>\n",
       "      <td>66.596351</td>\n",
       "      <td>0.0</td>\n",
       "      <td>2024-10</td>\n",
       "      <td>0</td>\n",
       "      <td>True</td>\n",
       "      <td>False</td>\n",
       "      <td>False</td>\n",
       "      <td>False</td>\n",
       "    </tr>\n",
       "    <tr>\n",
       "      <th>1</th>\n",
       "      <td>2024-10-24 06:00:00+00:00</td>\n",
       "      <td>61.950</td>\n",
       "      <td>78.405</td>\n",
       "      <td>984.603</td>\n",
       "      <td>3.6</td>\n",
       "      <td>5.6470</td>\n",
       "      <td>2862</td>\n",
       "      <td>30.366156</td>\n",
       "      <td>-97.76529</td>\n",
       "      <td>899.0</td>\n",
       "      <td>...</td>\n",
       "      <td>130</td>\n",
       "      <td>22595.5</td>\n",
       "      <td>66.596351</td>\n",
       "      <td>0.0</td>\n",
       "      <td>2024-10</td>\n",
       "      <td>0</td>\n",
       "      <td>True</td>\n",
       "      <td>False</td>\n",
       "      <td>False</td>\n",
       "      <td>False</td>\n",
       "    </tr>\n",
       "    <tr>\n",
       "      <th>2</th>\n",
       "      <td>2024-10-24 00:00:00+00:00</td>\n",
       "      <td>45.133</td>\n",
       "      <td>83.672</td>\n",
       "      <td>985.485</td>\n",
       "      <td>3.1</td>\n",
       "      <td>4.7600</td>\n",
       "      <td>2862</td>\n",
       "      <td>30.366156</td>\n",
       "      <td>-97.76529</td>\n",
       "      <td>899.0</td>\n",
       "      <td>...</td>\n",
       "      <td>130</td>\n",
       "      <td>22595.5</td>\n",
       "      <td>66.596351</td>\n",
       "      <td>0.0</td>\n",
       "      <td>2024-10</td>\n",
       "      <td>0</td>\n",
       "      <td>True</td>\n",
       "      <td>False</td>\n",
       "      <td>False</td>\n",
       "      <td>False</td>\n",
       "    </tr>\n",
       "    <tr>\n",
       "      <th>3</th>\n",
       "      <td>2024-10-23 00:00:00+00:00</td>\n",
       "      <td>48.216</td>\n",
       "      <td>83.123</td>\n",
       "      <td>986.001</td>\n",
       "      <td>2.6</td>\n",
       "      <td>3.9515</td>\n",
       "      <td>2862</td>\n",
       "      <td>30.366156</td>\n",
       "      <td>-97.76529</td>\n",
       "      <td>899.0</td>\n",
       "      <td>...</td>\n",
       "      <td>130</td>\n",
       "      <td>22595.5</td>\n",
       "      <td>66.596351</td>\n",
       "      <td>0.0</td>\n",
       "      <td>2024-10</td>\n",
       "      <td>0</td>\n",
       "      <td>True</td>\n",
       "      <td>False</td>\n",
       "      <td>False</td>\n",
       "      <td>False</td>\n",
       "    </tr>\n",
       "    <tr>\n",
       "      <th>4</th>\n",
       "      <td>2024-10-23 18:00:00+00:00</td>\n",
       "      <td>33.578</td>\n",
       "      <td>93.095</td>\n",
       "      <td>985.318</td>\n",
       "      <td>2.5</td>\n",
       "      <td>3.2565</td>\n",
       "      <td>2862</td>\n",
       "      <td>30.366156</td>\n",
       "      <td>-97.76529</td>\n",
       "      <td>899.0</td>\n",
       "      <td>...</td>\n",
       "      <td>130</td>\n",
       "      <td>22595.5</td>\n",
       "      <td>66.596351</td>\n",
       "      <td>0.0</td>\n",
       "      <td>2024-10</td>\n",
       "      <td>0</td>\n",
       "      <td>True</td>\n",
       "      <td>False</td>\n",
       "      <td>False</td>\n",
       "      <td>False</td>\n",
       "    </tr>\n",
       "  </tbody>\n",
       "</table>\n",
       "<p>5 rows × 25 columns</p>\n",
       "</div>"
      ],
      "text/plain": [
       "                  time_stamp  humidity  temperature  pressure  pm2.5_alt  \\\n",
       "0  2024-10-24 18:00:00+00:00    35.447       92.044   981.676        2.5   \n",
       "1  2024-10-24 06:00:00+00:00    61.950       78.405   984.603        3.6   \n",
       "2  2024-10-24 00:00:00+00:00    45.133       83.672   985.485        3.1   \n",
       "3  2024-10-23 00:00:00+00:00    48.216       83.123   986.001        2.6   \n",
       "4  2024-10-23 18:00:00+00:00    33.578       93.095   985.318        2.5   \n",
       "\n",
       "   pm2.5_atm  sensor_index   latitude  longitude  altitude  ...  other  \\\n",
       "0     3.2195          2862  30.366156  -97.76529     899.0  ...    130   \n",
       "1     5.6470          2862  30.366156  -97.76529     899.0  ...    130   \n",
       "2     4.7600          2862  30.366156  -97.76529     899.0  ...    130   \n",
       "3     3.9515          2862  30.366156  -97.76529     899.0  ...    130   \n",
       "4     3.2565          2862  30.366156  -97.76529     899.0  ...    130   \n",
       "\n",
       "   total_diameter  canopy_coverage_percentage  PRCP  year_month  cluster  \\\n",
       "0         22595.5                   66.596351   0.0     2024-10        0   \n",
       "1         22595.5                   66.596351   0.0     2024-10        0   \n",
       "2         22595.5                   66.596351   0.0     2024-10        0   \n",
       "3         22595.5                   66.596351   0.0     2024-10        0   \n",
       "4         22595.5                   66.596351   0.0     2024-10        0   \n",
       "\n",
       "   season_Fall  season_Spring  season_Summer season_Winter  \n",
       "0         True          False          False         False  \n",
       "1         True          False          False         False  \n",
       "2         True          False          False         False  \n",
       "3         True          False          False         False  \n",
       "4         True          False          False         False  \n",
       "\n",
       "[5 rows x 25 columns]"
      ]
     },
     "execution_count": 3,
     "metadata": {},
     "output_type": "execute_result"
    }
   ],
   "source": [
    "url = \"https://raw.githubusercontent.com/AsmitC/Austin_Trees/refs/heads/victournguyen/purpleair-pull-data/cleaned_data.csv\"\n",
    "df = pd.read_csv(url)\n",
    "print(f'Shape: {df.shape}')\n",
    "df.head()"
   ]
  },
  {
   "cell_type": "code",
   "execution_count": 4,
   "id": "1621dd68",
   "metadata": {},
   "outputs": [
    {
     "data": {
      "text/html": [
       "<div>\n",
       "<style scoped>\n",
       "    .dataframe tbody tr th:only-of-type {\n",
       "        vertical-align: middle;\n",
       "    }\n",
       "\n",
       "    .dataframe tbody tr th {\n",
       "        vertical-align: top;\n",
       "    }\n",
       "\n",
       "    .dataframe thead th {\n",
       "        text-align: right;\n",
       "    }\n",
       "</style>\n",
       "<table border=\"1\" class=\"dataframe\">\n",
       "  <thead>\n",
       "    <tr style=\"text-align: right;\">\n",
       "      <th></th>\n",
       "      <th>time_stamp</th>\n",
       "      <th>humidity</th>\n",
       "      <th>temperature</th>\n",
       "      <th>pressure</th>\n",
       "      <th>pm2.5_alt</th>\n",
       "      <th>pm2.5_atm</th>\n",
       "      <th>sensor_index</th>\n",
       "      <th>latitude</th>\n",
       "      <th>longitude</th>\n",
       "      <th>altitude</th>\n",
       "      <th>...</th>\n",
       "      <th>other</th>\n",
       "      <th>total_diameter</th>\n",
       "      <th>canopy_coverage_percentage</th>\n",
       "      <th>PRCP</th>\n",
       "      <th>year_month</th>\n",
       "      <th>cluster</th>\n",
       "      <th>season_Fall</th>\n",
       "      <th>season_Spring</th>\n",
       "      <th>season_Summer</th>\n",
       "      <th>season_Winter</th>\n",
       "    </tr>\n",
       "  </thead>\n",
       "  <tbody>\n",
       "    <tr>\n",
       "      <th>0</th>\n",
       "      <td>2024-10-24 18:00:00+00:00</td>\n",
       "      <td>35.447</td>\n",
       "      <td>92.044</td>\n",
       "      <td>981.676</td>\n",
       "      <td>2.5</td>\n",
       "      <td>3.2195</td>\n",
       "      <td>2862</td>\n",
       "      <td>30.366156</td>\n",
       "      <td>-97.76529</td>\n",
       "      <td>899.0</td>\n",
       "      <td>...</td>\n",
       "      <td>130</td>\n",
       "      <td>22595.5</td>\n",
       "      <td>66.596351</td>\n",
       "      <td>0.0</td>\n",
       "      <td>2024-10</td>\n",
       "      <td>0</td>\n",
       "      <td>1</td>\n",
       "      <td>0</td>\n",
       "      <td>0</td>\n",
       "      <td>0</td>\n",
       "    </tr>\n",
       "    <tr>\n",
       "      <th>1</th>\n",
       "      <td>2024-10-24 06:00:00+00:00</td>\n",
       "      <td>61.950</td>\n",
       "      <td>78.405</td>\n",
       "      <td>984.603</td>\n",
       "      <td>3.6</td>\n",
       "      <td>5.6470</td>\n",
       "      <td>2862</td>\n",
       "      <td>30.366156</td>\n",
       "      <td>-97.76529</td>\n",
       "      <td>899.0</td>\n",
       "      <td>...</td>\n",
       "      <td>130</td>\n",
       "      <td>22595.5</td>\n",
       "      <td>66.596351</td>\n",
       "      <td>0.0</td>\n",
       "      <td>2024-10</td>\n",
       "      <td>0</td>\n",
       "      <td>1</td>\n",
       "      <td>0</td>\n",
       "      <td>0</td>\n",
       "      <td>0</td>\n",
       "    </tr>\n",
       "    <tr>\n",
       "      <th>2</th>\n",
       "      <td>2024-10-24 00:00:00+00:00</td>\n",
       "      <td>45.133</td>\n",
       "      <td>83.672</td>\n",
       "      <td>985.485</td>\n",
       "      <td>3.1</td>\n",
       "      <td>4.7600</td>\n",
       "      <td>2862</td>\n",
       "      <td>30.366156</td>\n",
       "      <td>-97.76529</td>\n",
       "      <td>899.0</td>\n",
       "      <td>...</td>\n",
       "      <td>130</td>\n",
       "      <td>22595.5</td>\n",
       "      <td>66.596351</td>\n",
       "      <td>0.0</td>\n",
       "      <td>2024-10</td>\n",
       "      <td>0</td>\n",
       "      <td>1</td>\n",
       "      <td>0</td>\n",
       "      <td>0</td>\n",
       "      <td>0</td>\n",
       "    </tr>\n",
       "    <tr>\n",
       "      <th>3</th>\n",
       "      <td>2024-10-23 00:00:00+00:00</td>\n",
       "      <td>48.216</td>\n",
       "      <td>83.123</td>\n",
       "      <td>986.001</td>\n",
       "      <td>2.6</td>\n",
       "      <td>3.9515</td>\n",
       "      <td>2862</td>\n",
       "      <td>30.366156</td>\n",
       "      <td>-97.76529</td>\n",
       "      <td>899.0</td>\n",
       "      <td>...</td>\n",
       "      <td>130</td>\n",
       "      <td>22595.5</td>\n",
       "      <td>66.596351</td>\n",
       "      <td>0.0</td>\n",
       "      <td>2024-10</td>\n",
       "      <td>0</td>\n",
       "      <td>1</td>\n",
       "      <td>0</td>\n",
       "      <td>0</td>\n",
       "      <td>0</td>\n",
       "    </tr>\n",
       "    <tr>\n",
       "      <th>4</th>\n",
       "      <td>2024-10-23 18:00:00+00:00</td>\n",
       "      <td>33.578</td>\n",
       "      <td>93.095</td>\n",
       "      <td>985.318</td>\n",
       "      <td>2.5</td>\n",
       "      <td>3.2565</td>\n",
       "      <td>2862</td>\n",
       "      <td>30.366156</td>\n",
       "      <td>-97.76529</td>\n",
       "      <td>899.0</td>\n",
       "      <td>...</td>\n",
       "      <td>130</td>\n",
       "      <td>22595.5</td>\n",
       "      <td>66.596351</td>\n",
       "      <td>0.0</td>\n",
       "      <td>2024-10</td>\n",
       "      <td>0</td>\n",
       "      <td>1</td>\n",
       "      <td>0</td>\n",
       "      <td>0</td>\n",
       "      <td>0</td>\n",
       "    </tr>\n",
       "  </tbody>\n",
       "</table>\n",
       "<p>5 rows × 25 columns</p>\n",
       "</div>"
      ],
      "text/plain": [
       "                  time_stamp  humidity  temperature  pressure  pm2.5_alt  \\\n",
       "0  2024-10-24 18:00:00+00:00    35.447       92.044   981.676        2.5   \n",
       "1  2024-10-24 06:00:00+00:00    61.950       78.405   984.603        3.6   \n",
       "2  2024-10-24 00:00:00+00:00    45.133       83.672   985.485        3.1   \n",
       "3  2024-10-23 00:00:00+00:00    48.216       83.123   986.001        2.6   \n",
       "4  2024-10-23 18:00:00+00:00    33.578       93.095   985.318        2.5   \n",
       "\n",
       "   pm2.5_atm  sensor_index   latitude  longitude  altitude  ...  other  \\\n",
       "0     3.2195          2862  30.366156  -97.76529     899.0  ...    130   \n",
       "1     5.6470          2862  30.366156  -97.76529     899.0  ...    130   \n",
       "2     4.7600          2862  30.366156  -97.76529     899.0  ...    130   \n",
       "3     3.9515          2862  30.366156  -97.76529     899.0  ...    130   \n",
       "4     3.2565          2862  30.366156  -97.76529     899.0  ...    130   \n",
       "\n",
       "   total_diameter  canopy_coverage_percentage  PRCP  year_month  cluster  \\\n",
       "0         22595.5                   66.596351   0.0     2024-10        0   \n",
       "1         22595.5                   66.596351   0.0     2024-10        0   \n",
       "2         22595.5                   66.596351   0.0     2024-10        0   \n",
       "3         22595.5                   66.596351   0.0     2024-10        0   \n",
       "4         22595.5                   66.596351   0.0     2024-10        0   \n",
       "\n",
       "   season_Fall  season_Spring  season_Summer season_Winter  \n",
       "0            1              0              0             0  \n",
       "1            1              0              0             0  \n",
       "2            1              0              0             0  \n",
       "3            1              0              0             0  \n",
       "4            1              0              0             0  \n",
       "\n",
       "[5 rows x 25 columns]"
      ]
     },
     "execution_count": 4,
     "metadata": {},
     "output_type": "execute_result"
    }
   ],
   "source": [
    "df = df.astype({col: 'int' for col in df.select_dtypes(include='bool').columns})\n",
    "df.head()"
   ]
  },
  {
   "cell_type": "markdown",
   "id": "f3e80fcc-0ada-4e88-83d0-3574d91f99c8",
   "metadata": {},
   "source": [
    "## Preprocessing"
   ]
  },
  {
   "cell_type": "code",
   "execution_count": 5,
   "id": "31b291e4",
   "metadata": {},
   "outputs": [
    {
     "data": {
      "text/html": [
       "<div>\n",
       "<style scoped>\n",
       "    .dataframe tbody tr th:only-of-type {\n",
       "        vertical-align: middle;\n",
       "    }\n",
       "\n",
       "    .dataframe tbody tr th {\n",
       "        vertical-align: top;\n",
       "    }\n",
       "\n",
       "    .dataframe thead th {\n",
       "        text-align: right;\n",
       "    }\n",
       "</style>\n",
       "<table border=\"1\" class=\"dataframe\">\n",
       "  <thead>\n",
       "    <tr style=\"text-align: right;\">\n",
       "      <th></th>\n",
       "      <th>time_stamp</th>\n",
       "      <th>humidity</th>\n",
       "      <th>temperature</th>\n",
       "      <th>pressure</th>\n",
       "      <th>pm2.5_alt</th>\n",
       "      <th>pm2.5_atm</th>\n",
       "      <th>sensor_index</th>\n",
       "      <th>latitude</th>\n",
       "      <th>longitude</th>\n",
       "      <th>altitude</th>\n",
       "      <th>...</th>\n",
       "      <th>PRCP</th>\n",
       "      <th>year_month</th>\n",
       "      <th>cluster</th>\n",
       "      <th>season_Fall</th>\n",
       "      <th>season_Spring</th>\n",
       "      <th>season_Summer</th>\n",
       "      <th>season_Winter</th>\n",
       "      <th>hour</th>\n",
       "      <th>day_of_week</th>\n",
       "      <th>month</th>\n",
       "    </tr>\n",
       "  </thead>\n",
       "  <tbody>\n",
       "    <tr>\n",
       "      <th>0</th>\n",
       "      <td>2024-10-24 18:00:00+00:00</td>\n",
       "      <td>35.447</td>\n",
       "      <td>92.044</td>\n",
       "      <td>981.676</td>\n",
       "      <td>2.5</td>\n",
       "      <td>3.2195</td>\n",
       "      <td>2862</td>\n",
       "      <td>30.366156</td>\n",
       "      <td>-97.76529</td>\n",
       "      <td>899.0</td>\n",
       "      <td>...</td>\n",
       "      <td>0.0</td>\n",
       "      <td>2024-10</td>\n",
       "      <td>0</td>\n",
       "      <td>1</td>\n",
       "      <td>0</td>\n",
       "      <td>0</td>\n",
       "      <td>0</td>\n",
       "      <td>18</td>\n",
       "      <td>3</td>\n",
       "      <td>10</td>\n",
       "    </tr>\n",
       "    <tr>\n",
       "      <th>1</th>\n",
       "      <td>2024-10-24 06:00:00+00:00</td>\n",
       "      <td>61.950</td>\n",
       "      <td>78.405</td>\n",
       "      <td>984.603</td>\n",
       "      <td>3.6</td>\n",
       "      <td>5.6470</td>\n",
       "      <td>2862</td>\n",
       "      <td>30.366156</td>\n",
       "      <td>-97.76529</td>\n",
       "      <td>899.0</td>\n",
       "      <td>...</td>\n",
       "      <td>0.0</td>\n",
       "      <td>2024-10</td>\n",
       "      <td>0</td>\n",
       "      <td>1</td>\n",
       "      <td>0</td>\n",
       "      <td>0</td>\n",
       "      <td>0</td>\n",
       "      <td>6</td>\n",
       "      <td>3</td>\n",
       "      <td>10</td>\n",
       "    </tr>\n",
       "    <tr>\n",
       "      <th>2</th>\n",
       "      <td>2024-10-24 00:00:00+00:00</td>\n",
       "      <td>45.133</td>\n",
       "      <td>83.672</td>\n",
       "      <td>985.485</td>\n",
       "      <td>3.1</td>\n",
       "      <td>4.7600</td>\n",
       "      <td>2862</td>\n",
       "      <td>30.366156</td>\n",
       "      <td>-97.76529</td>\n",
       "      <td>899.0</td>\n",
       "      <td>...</td>\n",
       "      <td>0.0</td>\n",
       "      <td>2024-10</td>\n",
       "      <td>0</td>\n",
       "      <td>1</td>\n",
       "      <td>0</td>\n",
       "      <td>0</td>\n",
       "      <td>0</td>\n",
       "      <td>0</td>\n",
       "      <td>3</td>\n",
       "      <td>10</td>\n",
       "    </tr>\n",
       "    <tr>\n",
       "      <th>3</th>\n",
       "      <td>2024-10-23 00:00:00+00:00</td>\n",
       "      <td>48.216</td>\n",
       "      <td>83.123</td>\n",
       "      <td>986.001</td>\n",
       "      <td>2.6</td>\n",
       "      <td>3.9515</td>\n",
       "      <td>2862</td>\n",
       "      <td>30.366156</td>\n",
       "      <td>-97.76529</td>\n",
       "      <td>899.0</td>\n",
       "      <td>...</td>\n",
       "      <td>0.0</td>\n",
       "      <td>2024-10</td>\n",
       "      <td>0</td>\n",
       "      <td>1</td>\n",
       "      <td>0</td>\n",
       "      <td>0</td>\n",
       "      <td>0</td>\n",
       "      <td>0</td>\n",
       "      <td>2</td>\n",
       "      <td>10</td>\n",
       "    </tr>\n",
       "    <tr>\n",
       "      <th>4</th>\n",
       "      <td>2024-10-23 18:00:00+00:00</td>\n",
       "      <td>33.578</td>\n",
       "      <td>93.095</td>\n",
       "      <td>985.318</td>\n",
       "      <td>2.5</td>\n",
       "      <td>3.2565</td>\n",
       "      <td>2862</td>\n",
       "      <td>30.366156</td>\n",
       "      <td>-97.76529</td>\n",
       "      <td>899.0</td>\n",
       "      <td>...</td>\n",
       "      <td>0.0</td>\n",
       "      <td>2024-10</td>\n",
       "      <td>0</td>\n",
       "      <td>1</td>\n",
       "      <td>0</td>\n",
       "      <td>0</td>\n",
       "      <td>0</td>\n",
       "      <td>18</td>\n",
       "      <td>2</td>\n",
       "      <td>10</td>\n",
       "    </tr>\n",
       "  </tbody>\n",
       "</table>\n",
       "<p>5 rows × 28 columns</p>\n",
       "</div>"
      ],
      "text/plain": [
       "                 time_stamp  humidity  temperature  pressure  pm2.5_alt  \\\n",
       "0 2024-10-24 18:00:00+00:00    35.447       92.044   981.676        2.5   \n",
       "1 2024-10-24 06:00:00+00:00    61.950       78.405   984.603        3.6   \n",
       "2 2024-10-24 00:00:00+00:00    45.133       83.672   985.485        3.1   \n",
       "3 2024-10-23 00:00:00+00:00    48.216       83.123   986.001        2.6   \n",
       "4 2024-10-23 18:00:00+00:00    33.578       93.095   985.318        2.5   \n",
       "\n",
       "   pm2.5_atm  sensor_index   latitude  longitude  altitude  ...  PRCP  \\\n",
       "0     3.2195          2862  30.366156  -97.76529     899.0  ...   0.0   \n",
       "1     5.6470          2862  30.366156  -97.76529     899.0  ...   0.0   \n",
       "2     4.7600          2862  30.366156  -97.76529     899.0  ...   0.0   \n",
       "3     3.9515          2862  30.366156  -97.76529     899.0  ...   0.0   \n",
       "4     3.2565          2862  30.366156  -97.76529     899.0  ...   0.0   \n",
       "\n",
       "   year_month  cluster  season_Fall  season_Spring  season_Summer  \\\n",
       "0     2024-10        0            1              0              0   \n",
       "1     2024-10        0            1              0              0   \n",
       "2     2024-10        0            1              0              0   \n",
       "3     2024-10        0            1              0              0   \n",
       "4     2024-10        0            1              0              0   \n",
       "\n",
       "   season_Winter  hour  day_of_week month  \n",
       "0              0    18            3    10  \n",
       "1              0     6            3    10  \n",
       "2              0     0            3    10  \n",
       "3              0     0            2    10  \n",
       "4              0    18            2    10  \n",
       "\n",
       "[5 rows x 28 columns]"
      ]
     },
     "execution_count": 5,
     "metadata": {},
     "output_type": "execute_result"
    }
   ],
   "source": [
    "# Extract time features\n",
    "df['time_stamp'] = pd.to_datetime(df['time_stamp'])\n",
    "df['hour'] = df['time_stamp'].dt.hour\n",
    "df['day_of_week'] = df['time_stamp'].dt.dayofweek\n",
    "df['month'] = df['time_stamp'].dt.month\n",
    "df.head()"
   ]
  },
  {
   "cell_type": "code",
   "execution_count": 34,
   "id": "b8d69527",
   "metadata": {},
   "outputs": [
    {
     "data": {
      "text/plain": [
       "Index(['time_stamp', 'humidity', 'temperature', 'pressure', 'pm2.5_alt',\n",
       "       'pm2.5_atm', 'sensor_index', 'latitude', 'longitude', 'altitude', 'Oak',\n",
       "       'Elm', 'Pecan', 'Crape Myrtle', 'Ashe Juniper', 'other',\n",
       "       'total_diameter', 'canopy_coverage_percentage', 'PRCP', 'year_month',\n",
       "       'cluster', 'season_Fall', 'season_Spring', 'season_Summer',\n",
       "       'season_Winter', 'hour', 'day_of_week', 'month'],\n",
       "      dtype='object')"
      ]
     },
     "execution_count": 34,
     "metadata": {},
     "output_type": "execute_result"
    }
   ],
   "source": [
    "df.columns"
   ]
  },
  {
   "cell_type": "code",
   "execution_count": 6,
   "id": "b90cbc7f-23a9-4c0c-8159-d456068e6d26",
   "metadata": {
    "ExecuteTime": {
     "end_time": "2024-11-14T15:28:42.158775Z",
     "start_time": "2024-11-14T15:28:42.128921Z"
    }
   },
   "outputs": [
    {
     "name": "stdout",
     "output_type": "stream",
     "text": [
      "Lost 1.61% of data by removing NA\n"
     ]
    }
   ],
   "source": [
    "# Define features and target\n",
    "features = ['humidity', 'temperature', 'pressure','altitude', 'Oak',\n",
    "       'Elm', 'Pecan', 'Crape Myrtle', 'Ashe Juniper', 'other',\n",
    "       'total_diameter', 'season_Fall', 'season_Spring', 'season_Summer',\n",
    "       'season_Winter', 'latitude', 'longitude', 'canopy_coverage_percentage',\n",
    "       'PRCP', 'hour', 'day_of_week', 'month']\n",
    "target = 'pm2.5_alt'\n",
    "\n",
    "# Drop NA values\n",
    "before_drop = df.shape[0]\n",
    "df = df.dropna(subset=features+[target])\n",
    "after_drop = df.shape[0]\n",
    "print(f'Lost {(before_drop-after_drop)/before_drop*100:0.2f}% of data by removing NA')"
   ]
  },
  {
   "cell_type": "code",
   "execution_count": 7,
   "id": "cbeb4e036152eab1",
   "metadata": {
    "ExecuteTime": {
     "end_time": "2024-11-14T15:28:42.206067Z",
     "start_time": "2024-11-14T15:28:42.160284Z"
    },
    "collapsed": false
   },
   "outputs": [],
   "source": [
    "X = df[features]\n",
    "y = df[target]\n",
    "\n",
    "# Split df into training, val, and test sets\n",
    "X_train, X_test, y_train, y_test = train_test_split(X, y, test_size=0.2, random_state=42)"
   ]
  },
  {
   "cell_type": "markdown",
   "id": "27fca89c",
   "metadata": {},
   "source": [
    "Old:\n",
    "\n",
    "RF\n",
    "\n",
    "rf = RandomForestRegressor(\n",
    "    n_estimators=190,         # Number of trees in the forest\n",
    "    max_depth=15,             # Maximum depth of each tree\n",
    "    min_samples_split=3,      # Minimum samples required to split a node\n",
    "    min_samples_leaf=3,       # Minimum samples required at a leaf node\n",
    "    random_state=42           # Ensures reproducibility\n",
    ")\n",
    "\n",
    "Best score: 23.469028992220643\n",
    "\n",
    "XGBoost\n",
    "Best parameters: {'colsample_bytree': 0.8, 'learning_rate': 0.02, 'max_depth': 10, 'n_estimators': 600, 'subsample': 0.9}\n",
    "Best mse: 22.214858875924424\n",
    "\n",
    "TCN\n",
    "num_channels = [16, 32, 64, 128]  # Number of filters in each layer\n",
    "kernel_size = 5\n",
    "dropout = 0.3\n",
    "model = HybridTCN(input_size, output_size, num_channels, kernel_size, dropout)\n",
    "criterion = nn.MSELoss()\n",
    "optimizer = optim.Adam(model.parameters(), lr=0.001, weight_decay=1e-4)\n",
    "\n",
    "KNN\n",
    "Best Parameters: {'metric': 'manhattan', 'n_neighbors': 18, 'weights': 'distance'}\n",
    "Best KNN Test MSE: 29.4558"
   ]
  },
  {
   "cell_type": "markdown",
   "id": "53a417e5",
   "metadata": {},
   "source": [
    "# Random Forest"
   ]
  },
  {
   "cell_type": "code",
   "execution_count": 38,
   "id": "2ece2da2-d7b0-46bd-9297-e322f6e72e60",
   "metadata": {
    "ExecuteTime": {
     "end_time": "2024-11-13T05:45:56.790771Z",
     "start_time": "2024-11-13T05:44:04.997767Z"
    }
   },
   "outputs": [
    {
     "name": "stderr",
     "output_type": "stream",
     "text": [
      "/Users/asmit/Documents/Fall24_Classes/SDS336/Austin_Trees/Trees/lib/python3.11/site-packages/joblib/externals/loky/process_executor.py:752: UserWarning: A worker stopped while some jobs were given to the executor. This can be caused by a too short worker timeout or by a memory leak.\n",
      "  warnings.warn(\n",
      "/Users/asmit/Documents/Fall24_Classes/SDS336/Austin_Trees/Trees/lib/python3.11/site-packages/numpy/ma/core.py:2881: RuntimeWarning: invalid value encountered in cast\n",
      "  _data = np.array(data, dtype=dtype, copy=copy,\n"
     ]
    },
    {
     "name": "stdout",
     "output_type": "stream",
     "text": [
      "Best parameters: {'max_depth': 20, 'min_samples_leaf': 2, 'min_samples_split': 4, 'n_estimators': 250}\n",
      "Best mse: 16.04237449579302\n"
     ]
    }
   ],
   "source": [
    "param_grid = {\n",
    "    'n_estimators': [_ for _ in range(150, 251, 25)],\n",
    "    'max_depth': [_ for _ in range(10, 21)],\n",
    "    'min_samples_split': [_ for _ in range(2, 5)],\n",
    "    'min_samples_leaf': [_ for _ in range(2, 5)]\n",
    "}\n",
    "\n",
    "# min_samples_split=3, min_samples_leaf=3, n_estimators=190\n",
    "grid = GridSearchCV(RandomForestRegressor(), param_grid=param_grid,\n",
    "                    n_jobs=-1, scoring='neg_mean_squared_error')\n",
    "grid.fit(X_train, y_train)\n",
    "\n",
    "# Print best parameters and score from grid search\n",
    "print(\"Best parameters:\", grid.best_params_)\n",
    "print(\"Best mse:\", -grid.best_score_)\n",
    "\n",
    "# Get the best estimator\n",
    "rf = grid.best_estimator_"
   ]
  },
  {
   "cell_type": "code",
   "execution_count": 8,
   "id": "d22cdaab",
   "metadata": {
    "ExecuteTime": {
     "end_time": "2024-11-14T15:31:04.768916Z",
     "start_time": "2024-11-14T15:28:59.739202Z"
    }
   },
   "outputs": [
    {
     "name": "stdout",
     "output_type": "stream",
     "text": [
      "Mean Squared Error: 16.145287846800496\n",
      "Mean Absolute Error: 2.5098619588374076\n",
      "R^2 Score: 0.6182386890929961\n"
     ]
    }
   ],
   "source": [
    "rf = RandomForestRegressor(\n",
    "    n_estimators=250,         # Number of trees in the forest\n",
    "    max_depth=20,             # Maximum depth of each tree\n",
    "    min_samples_split=4,      # Minimum samples required to split a node\n",
    "    min_samples_leaf=2,       # Minimum samples required at a leaf node\n",
    "    random_state=42           # Ensures reproducibility\n",
    ")\n",
    "\n",
    "# Step 2: Fit the model\n",
    "rf.fit(X_train, y_train)\n",
    "\n",
    "# Step 3: Make predictions\n",
    "y_pred = rf.predict(X_test)\n",
    "\n",
    "# Step 4: Evaluate the model\n",
    "mse = mean_squared_error(y_test, y_pred)\n",
    "mae = mean_absolute_error(y_test, y_pred)\n",
    "r2 = r2_score(y_test, y_pred)\n",
    "\n",
    "print(f\"Mean Squared Error: {mse}\")\n",
    "print(f\"Mean Absolute Error: {mae}\")\n",
    "print(f\"R^2 Score: {r2}\")"
   ]
  },
  {
   "cell_type": "code",
   "execution_count": 23,
   "id": "a9c5f359",
   "metadata": {},
   "outputs": [
    {
     "data": {
      "image/png": "[encoded data removed]",
      "text/plain": [
       "<Figure size 1500x600 with 1 Axes>"
      ]
     },
     "metadata": {},
     "output_type": "display_data"
    }
   ],
   "source": [
    "from sklearn.tree import plot_tree\n",
    "\n",
    "plt.figure(figsize=(15, 6))\n",
    "tree_index = np.random.randint(0, 251, size=1).item()\n",
    "plot_tree(rf.estimators_[tree_index], feature_names=X_train.columns, max_depth=2)\n",
    "plt.show()"
   ]
  },
  {
   "cell_type": "markdown",
   "id": "e4e863b8",
   "metadata": {},
   "source": [
    "# XGBoost"
   ]
  },
  {
   "cell_type": "code",
   "execution_count": 46,
   "id": "eb8f67a2",
   "metadata": {},
   "outputs": [
    {
     "name": "stdout",
     "output_type": "stream",
     "text": [
      "Fitting 5 folds for each of 108 candidates, totalling 540 fits\n"
     ]
    },
    {
     "name": "stderr",
     "output_type": "stream",
     "text": [
      "/Users/asmit/Documents/Fall24_Classes/SDS336/Austin_Trees/Trees/lib/python3.11/site-packages/joblib/externals/loky/process_executor.py:752: UserWarning: A worker stopped while some jobs were given to the executor. This can be caused by a too short worker timeout or by a memory leak.\n",
      "  warnings.warn(\n"
     ]
    },
    {
     "name": "stdout",
     "output_type": "stream",
     "text": [
      "Best parameters: {'colsample_bytree': 0.9, 'learning_rate': 0.04, 'max_depth': 11, 'n_estimators': 800, 'subsample': 0.9}\n",
      "Best mse: 12.872662893439998\n"
     ]
    }
   ],
   "source": [
    "# Define the parameter grid for XGBoost\n",
    "param_grid = {\n",
    "    'max_depth': [11, 12, 13], # 12\n",
    "    'learning_rate': [0.02, 0.03, 0.04], # 0.03\n",
    "    'n_estimators': [700, 750, 800], # 600\n",
    "    'subsample': [0.85, 0.9], # 0.9\n",
    "    'colsample_bytree': [0.85, 0.9] # 0.8\n",
    "}\n",
    "\n",
    "# Initialize the XGBoost regressor\n",
    "xgb_ = xgb.XGBRegressor(objective='reg:squarederror', random_state=42)\n",
    "\n",
    "# CV\n",
    "grid = GridSearchCV(estimator=xgb_, param_grid=param_grid, \n",
    "                    scoring='neg_mean_squared_error', n_jobs=-1, cv=5, verbose=1)\n",
    "\n",
    "grid.fit(X_train, y_train)\n",
    "\n",
    "# Display results\n",
    "print(\"Best parameters:\", grid.best_params_)\n",
    "print(\"Best mse:\", -grid.best_score_)"
   ]
  },
  {
   "cell_type": "code",
   "execution_count": 11,
   "id": "194e5572",
   "metadata": {},
   "outputs": [
    {
     "name": "stdout",
     "output_type": "stream",
     "text": [
      "Mean Squared Error: 12.958447287233257\n",
      "Mean Squared Error: 2.1336655804320874\n",
      "R^2 Score: 0.6935927144418284\n"
     ]
    }
   ],
   "source": [
    "# Best parameters: {'colsample_bytree': 0.9, 'learning_rate': 0.04, 'max_depth': 11, 'n_estimators': 800, 'subsample': 0.9}\n",
    "# Best mse: 12.872662893439998\n",
    "best_params = {'colsample_bytree': 0.9, 'learning_rate': 0.04, 'max_depth': 11, 'n_estimators': 800, 'subsample': 0.9}\n",
    "best_xgb = xgb.XGBRegressor(**best_params)\n",
    "\n",
    "best_xgb.fit(X_train, y_train)\n",
    "\n",
    "# Make predictions\n",
    "y_pred_xgb = best_xgb.predict(X_test)\n",
    "\n",
    "# Evaluate the model\n",
    "mse_xgb = mean_squared_error(y_test, y_pred_xgb)\n",
    "mae_xgb = mean_absolute_error(y_test, y_pred_xgb)\n",
    "r2_xgb = r2_score(y_test, y_pred_xgb)\n",
    "\n",
    "print(f\"Mean Squared Error: {mse_xgb}\")\n",
    "print(f\"Mean Squared Error: {mae_xgb}\")\n",
    "print(f\"R^2 Score: {r2_xgb}\")"
   ]
  },
  {
   "cell_type": "code",
   "execution_count": 85,
   "id": "165317bc",
   "metadata": {},
   "outputs": [
    {
     "data": {
      "image/png": "[encoded data removed]",
      "text/plain": [
       "<Figure size 1000x600 with 1 Axes>"
      ]
     },
     "metadata": {},
     "output_type": "display_data"
    }
   ],
   "source": [
    "# Plot the predictions from XGBoost against the testing data\n",
    "plt.figure(figsize=(10, 6))\n",
    "plt.plot(y_test.values, label='Actual')\n",
    "plt.plot(y_pred_xgb, label='Predicted')\n",
    "plt.xlabel('Data Index')\n",
    "plt.ylabel('PM2.5')\n",
    "plt.title('XGBoost Predictions vs Actual')\n",
    "plt.legend()\n",
    "plt.show()\n"
   ]
  },
  {
   "cell_type": "markdown",
   "id": "0a1feab5",
   "metadata": {},
   "source": [
    "# Neural Network"
   ]
  },
  {
   "cell_type": "code",
   "execution_count": 64,
   "id": "64d439e2",
   "metadata": {},
   "outputs": [],
   "source": [
    "'''\n",
    "Old, from attention\n",
    "# Scale the data\n",
    "scaler = StandardScaler()\n",
    "X_train_scaled = scaler.fit_transform(X_train)\n",
    "X_test_scaled = scaler.transform(X_test)\n",
    "\n",
    "# Convert data to PyTorch tensors\n",
    "X_train_tensor = torch.tensor(X_train_scaled, dtype=torch.float32).unsqueeze(2)\n",
    "y_train_tensor = torch.tensor(y_train.values, dtype=torch.float32)\n",
    "X_test_tensor = torch.tensor(X_test_scaled, dtype=torch.float32).unsqueeze(2)\n",
    "y_test_tensor = torch.tensor(y_test.values, dtype=torch.float32)\n",
    "\n",
    "# Create DataLoader\n",
    "train_dataset = TensorDataset(X_train_tensor, y_train_tensor)\n",
    "train_loader = DataLoader(train_dataset, batch_size=32, shuffle=True)\n",
    "test_dataset = TensorDataset(X_test_tensor, y_test_tensor)\n",
    "test_loader = DataLoader(test_dataset, batch_size=32, shuffle=True)\n",
    "'''"
   ]
  },
  {
   "cell_type": "code",
   "execution_count": 78,
   "id": "ad9037de",
   "metadata": {},
   "outputs": [
    {
     "name": "stderr",
     "output_type": "stream",
     "text": [
      "Training TCN:   1%|          | 1/100 [02:40<4:25:13, 160.74s/it]"
     ]
    },
    {
     "name": "stdout",
     "output_type": "stream",
     "text": [
      "Epoch 1/100 | Train Loss: 31.8439 | Test Loss: 28.9218\n"
     ]
    },
    {
     "name": "stderr",
     "output_type": "stream",
     "text": [
      "Training TCN:   2%|▏         | 2/100 [05:20<4:21:26, 160.07s/it]"
     ]
    },
    {
     "name": "stdout",
     "output_type": "stream",
     "text": [
      "Epoch 2/100 | Train Loss: 28.4165 | Test Loss: 28.2275\n"
     ]
    },
    {
     "name": "stderr",
     "output_type": "stream",
     "text": [
      "Training TCN:   3%|▎         | 3/100 [08:00<4:18:48, 160.08s/it]"
     ]
    },
    {
     "name": "stdout",
     "output_type": "stream",
     "text": [
      "Epoch 3/100 | Train Loss: 26.5646 | Test Loss: 26.3812\n"
     ]
    },
    {
     "name": "stderr",
     "output_type": "stream",
     "text": [
      "Training TCN:   4%|▍         | 4/100 [10:45<4:19:19, 162.08s/it]"
     ]
    },
    {
     "name": "stdout",
     "output_type": "stream",
     "text": [
      "Epoch 4/100 | Train Loss: 25.3914 | Test Loss: 25.1808\n"
     ]
    },
    {
     "name": "stderr",
     "output_type": "stream",
     "text": [
      "Training TCN:   5%|▌         | 5/100 [13:31<4:19:01, 163.59s/it]"
     ]
    },
    {
     "name": "stdout",
     "output_type": "stream",
     "text": [
      "Epoch 5/100 | Train Loss: 24.3957 | Test Loss: 24.9169\n"
     ]
    },
    {
     "name": "stderr",
     "output_type": "stream",
     "text": [
      "Training TCN:   6%|▌         | 6/100 [16:09<4:13:07, 161.57s/it]"
     ]
    },
    {
     "name": "stdout",
     "output_type": "stream",
     "text": [
      "Epoch 6/100 | Train Loss: 23.6923 | Test Loss: 23.7647\n"
     ]
    },
    {
     "name": "stderr",
     "output_type": "stream",
     "text": [
      "Training TCN:   7%|▋         | 7/100 [18:45<4:07:50, 159.90s/it]"
     ]
    },
    {
     "name": "stdout",
     "output_type": "stream",
     "text": [
      "Epoch 7/100 | Train Loss: 22.9430 | Test Loss: 23.4000\n"
     ]
    },
    {
     "name": "stderr",
     "output_type": "stream",
     "text": [
      "Training TCN:   8%|▊         | 8/100 [21:22<4:03:21, 158.71s/it]"
     ]
    },
    {
     "name": "stdout",
     "output_type": "stream",
     "text": [
      "Epoch 8/100 | Train Loss: 22.3650 | Test Loss: 22.7303\n"
     ]
    },
    {
     "name": "stderr",
     "output_type": "stream",
     "text": [
      "Training TCN:   9%|▉         | 9/100 [24:00<4:00:32, 158.60s/it]"
     ]
    },
    {
     "name": "stdout",
     "output_type": "stream",
     "text": [
      "Epoch 9/100 | Train Loss: 21.7019 | Test Loss: 22.7406\n"
     ]
    },
    {
     "name": "stderr",
     "output_type": "stream",
     "text": [
      "Training TCN:  10%|█         | 10/100 [26:40<3:58:25, 158.95s/it]"
     ]
    },
    {
     "name": "stdout",
     "output_type": "stream",
     "text": [
      "Epoch 10/100 | Train Loss: 21.1363 | Test Loss: 22.0533\n"
     ]
    },
    {
     "name": "stderr",
     "output_type": "stream",
     "text": [
      "Training TCN:  11%|█         | 11/100 [29:27<3:59:25, 161.41s/it]"
     ]
    },
    {
     "name": "stdout",
     "output_type": "stream",
     "text": [
      "Epoch 11/100 | Train Loss: 20.0039 | Test Loss: 20.8435\n"
     ]
    },
    {
     "name": "stderr",
     "output_type": "stream",
     "text": [
      "Training TCN:  12%|█▏        | 12/100 [32:14<3:59:35, 163.35s/it]"
     ]
    },
    {
     "name": "stdout",
     "output_type": "stream",
     "text": [
      "Epoch 12/100 | Train Loss: 19.4888 | Test Loss: 20.6498\n"
     ]
    },
    {
     "name": "stderr",
     "output_type": "stream",
     "text": [
      "Training TCN:  13%|█▎        | 13/100 [35:03<3:59:13, 164.99s/it]"
     ]
    },
    {
     "name": "stdout",
     "output_type": "stream",
     "text": [
      "Epoch 13/100 | Train Loss: 19.1210 | Test Loss: 20.4788\n"
     ]
    },
    {
     "name": "stderr",
     "output_type": "stream",
     "text": [
      "Training TCN:  14%|█▍        | 14/100 [37:51<3:57:43, 165.86s/it]"
     ]
    },
    {
     "name": "stdout",
     "output_type": "stream",
     "text": [
      "Epoch 14/100 | Train Loss: 18.6996 | Test Loss: 19.8088\n"
     ]
    },
    {
     "name": "stderr",
     "output_type": "stream",
     "text": [
      "Training TCN:  15%|█▌        | 15/100 [40:38<3:55:33, 166.27s/it]"
     ]
    },
    {
     "name": "stdout",
     "output_type": "stream",
     "text": [
      "Epoch 15/100 | Train Loss: 18.4591 | Test Loss: 19.9421\n"
     ]
    },
    {
     "name": "stderr",
     "output_type": "stream",
     "text": [
      "Training TCN:  16%|█▌        | 16/100 [43:28<3:54:16, 167.34s/it]"
     ]
    },
    {
     "name": "stdout",
     "output_type": "stream",
     "text": [
      "Epoch 16/100 | Train Loss: 18.0609 | Test Loss: 19.3311\n"
     ]
    },
    {
     "name": "stderr",
     "output_type": "stream",
     "text": [
      "Training TCN:  17%|█▋        | 17/100 [46:17<3:52:07, 167.80s/it]"
     ]
    },
    {
     "name": "stdout",
     "output_type": "stream",
     "text": [
      "Epoch 17/100 | Train Loss: 17.7940 | Test Loss: 18.8125\n"
     ]
    },
    {
     "name": "stderr",
     "output_type": "stream",
     "text": [
      "Training TCN:  18%|█▊        | 18/100 [49:06<3:49:53, 168.21s/it]"
     ]
    },
    {
     "name": "stdout",
     "output_type": "stream",
     "text": [
      "Epoch 18/100 | Train Loss: 17.4588 | Test Loss: 18.7005\n"
     ]
    },
    {
     "name": "stderr",
     "output_type": "stream",
     "text": [
      "Training TCN:  19%|█▉        | 19/100 [51:51<3:45:39, 167.16s/it]"
     ]
    },
    {
     "name": "stdout",
     "output_type": "stream",
     "text": [
      "Epoch 19/100 | Train Loss: 17.2132 | Test Loss: 18.3689\n"
     ]
    },
    {
     "name": "stderr",
     "output_type": "stream",
     "text": [
      "Training TCN:  20%|██        | 20/100 [54:38<3:42:54, 167.18s/it]"
     ]
    },
    {
     "name": "stdout",
     "output_type": "stream",
     "text": [
      "Epoch 20/100 | Train Loss: 16.8932 | Test Loss: 18.2991\n"
     ]
    },
    {
     "name": "stderr",
     "output_type": "stream",
     "text": [
      "Training TCN:  21%|██        | 21/100 [57:21<3:38:16, 165.78s/it]"
     ]
    },
    {
     "name": "stdout",
     "output_type": "stream",
     "text": [
      "Epoch 21/100 | Train Loss: 15.9999 | Test Loss: 17.7216\n"
     ]
    },
    {
     "name": "stderr",
     "output_type": "stream",
     "text": [
      "Training TCN:  22%|██▏       | 22/100 [1:00:00<3:33:05, 163.91s/it]"
     ]
    },
    {
     "name": "stdout",
     "output_type": "stream",
     "text": [
      "Epoch 22/100 | Train Loss: 15.7902 | Test Loss: 17.5602\n"
     ]
    },
    {
     "name": "stderr",
     "output_type": "stream",
     "text": [
      "Training TCN:  23%|██▎       | 23/100 [1:02:38<3:27:54, 162.00s/it]"
     ]
    },
    {
     "name": "stdout",
     "output_type": "stream",
     "text": [
      "Epoch 23/100 | Train Loss: 15.6380 | Test Loss: 17.5509\n"
     ]
    },
    {
     "name": "stderr",
     "output_type": "stream",
     "text": [
      "Training TCN:  24%|██▍       | 24/100 [1:05:14<3:22:59, 160.26s/it]"
     ]
    },
    {
     "name": "stdout",
     "output_type": "stream",
     "text": [
      "Epoch 24/100 | Train Loss: 15.3826 | Test Loss: 17.3194\n"
     ]
    },
    {
     "name": "stderr",
     "output_type": "stream",
     "text": [
      "Training TCN:  25%|██▌       | 25/100 [1:07:50<3:18:45, 159.01s/it]"
     ]
    },
    {
     "name": "stdout",
     "output_type": "stream",
     "text": [
      "Epoch 25/100 | Train Loss: 15.2322 | Test Loss: 17.2238\n"
     ]
    },
    {
     "name": "stderr",
     "output_type": "stream",
     "text": [
      "Training TCN:  26%|██▌       | 26/100 [1:10:25<3:14:44, 157.90s/it]"
     ]
    },
    {
     "name": "stdout",
     "output_type": "stream",
     "text": [
      "Epoch 26/100 | Train Loss: 15.1341 | Test Loss: 16.9876\n"
     ]
    },
    {
     "name": "stderr",
     "output_type": "stream",
     "text": [
      "Training TCN:  27%|██▋       | 27/100 [1:13:01<3:11:15, 157.20s/it]"
     ]
    },
    {
     "name": "stdout",
     "output_type": "stream",
     "text": [
      "Epoch 27/100 | Train Loss: 15.0011 | Test Loss: 16.9338\n"
     ]
    },
    {
     "name": "stderr",
     "output_type": "stream",
     "text": [
      "Training TCN:  28%|██▊       | 28/100 [1:15:37<3:08:16, 156.90s/it]"
     ]
    },
    {
     "name": "stdout",
     "output_type": "stream",
     "text": [
      "Epoch 28/100 | Train Loss: 14.8149 | Test Loss: 16.9791\n"
     ]
    },
    {
     "name": "stderr",
     "output_type": "stream",
     "text": [
      "Training TCN:  29%|██▉       | 29/100 [1:18:14<3:05:35, 156.84s/it]"
     ]
    },
    {
     "name": "stdout",
     "output_type": "stream",
     "text": [
      "Epoch 29/100 | Train Loss: 14.7220 | Test Loss: 17.1756\n"
     ]
    },
    {
     "name": "stderr",
     "output_type": "stream",
     "text": [
      "Training TCN:  30%|███       | 30/100 [1:20:50<3:02:43, 156.62s/it]"
     ]
    },
    {
     "name": "stdout",
     "output_type": "stream",
     "text": [
      "Epoch 30/100 | Train Loss: 14.5173 | Test Loss: 16.7375\n"
     ]
    },
    {
     "name": "stderr",
     "output_type": "stream",
     "text": [
      "Training TCN:  31%|███       | 31/100 [1:23:28<3:00:30, 156.97s/it]"
     ]
    },
    {
     "name": "stdout",
     "output_type": "stream",
     "text": [
      "Epoch 31/100 | Train Loss: 14.0228 | Test Loss: 16.5640\n"
     ]
    },
    {
     "name": "stderr",
     "output_type": "stream",
     "text": [
      "Training TCN:  32%|███▏      | 32/100 [1:26:07<2:58:34, 157.56s/it]"
     ]
    },
    {
     "name": "stdout",
     "output_type": "stream",
     "text": [
      "Epoch 32/100 | Train Loss: 13.8754 | Test Loss: 16.5365\n"
     ]
    },
    {
     "name": "stderr",
     "output_type": "stream",
     "text": [
      "Training TCN:  33%|███▎      | 33/100 [1:28:45<2:56:18, 157.89s/it]"
     ]
    },
    {
     "name": "stdout",
     "output_type": "stream",
     "text": [
      "Epoch 33/100 | Train Loss: 13.8192 | Test Loss: 16.4678\n"
     ]
    },
    {
     "name": "stderr",
     "output_type": "stream",
     "text": [
      "Training TCN:  34%|███▍      | 34/100 [1:31:32<2:56:44, 160.67s/it]"
     ]
    },
    {
     "name": "stdout",
     "output_type": "stream",
     "text": [
      "Epoch 34/100 | Train Loss: 13.6248 | Test Loss: 16.2524\n"
     ]
    },
    {
     "name": "stderr",
     "output_type": "stream",
     "text": [
      "Training TCN:  35%|███▌      | 35/100 [1:34:11<2:53:27, 160.12s/it]"
     ]
    },
    {
     "name": "stdout",
     "output_type": "stream",
     "text": [
      "Epoch 35/100 | Train Loss: 13.6585 | Test Loss: 16.1915\n"
     ]
    },
    {
     "name": "stderr",
     "output_type": "stream",
     "text": [
      "Training TCN:  36%|███▌      | 36/100 [1:36:48<2:49:40, 159.07s/it]"
     ]
    },
    {
     "name": "stdout",
     "output_type": "stream",
     "text": [
      "Epoch 36/100 | Train Loss: 13.5178 | Test Loss: 16.1706\n"
     ]
    },
    {
     "name": "stderr",
     "output_type": "stream",
     "text": [
      "Training TCN:  37%|███▋      | 37/100 [1:39:24<2:46:07, 158.21s/it]"
     ]
    },
    {
     "name": "stdout",
     "output_type": "stream",
     "text": [
      "Epoch 37/100 | Train Loss: 13.4356 | Test Loss: 16.1479\n"
     ]
    },
    {
     "name": "stderr",
     "output_type": "stream",
     "text": [
      "Training TCN:  38%|███▊      | 38/100 [1:42:01<2:42:59, 157.73s/it]"
     ]
    },
    {
     "name": "stdout",
     "output_type": "stream",
     "text": [
      "Epoch 38/100 | Train Loss: 13.4121 | Test Loss: 16.2067\n"
     ]
    },
    {
     "name": "stderr",
     "output_type": "stream",
     "text": [
      "Training TCN:  39%|███▉      | 39/100 [1:44:37<2:39:52, 157.25s/it]"
     ]
    },
    {
     "name": "stdout",
     "output_type": "stream",
     "text": [
      "Epoch 39/100 | Train Loss: 13.2470 | Test Loss: 16.1457\n"
     ]
    },
    {
     "name": "stderr",
     "output_type": "stream",
     "text": [
      "Training TCN:  40%|████      | 40/100 [1:47:15<2:37:35, 157.59s/it]"
     ]
    },
    {
     "name": "stdout",
     "output_type": "stream",
     "text": [
      "Epoch 40/100 | Train Loss: 13.2877 | Test Loss: 16.0957\n"
     ]
    },
    {
     "name": "stderr",
     "output_type": "stream",
     "text": [
      "Training TCN:  41%|████      | 41/100 [1:49:55<2:35:30, 158.14s/it]"
     ]
    },
    {
     "name": "stdout",
     "output_type": "stream",
     "text": [
      "Epoch 41/100 | Train Loss: 12.9053 | Test Loss: 15.9518\n"
     ]
    },
    {
     "name": "stderr",
     "output_type": "stream",
     "text": [
      "Training TCN:  42%|████▏     | 42/100 [1:52:35<2:33:38, 158.95s/it]"
     ]
    },
    {
     "name": "stdout",
     "output_type": "stream",
     "text": [
      "Epoch 42/100 | Train Loss: 12.8651 | Test Loss: 15.8854\n"
     ]
    },
    {
     "name": "stderr",
     "output_type": "stream",
     "text": [
      "Training TCN:  43%|████▎     | 43/100 [1:57:52<3:15:50, 206.16s/it]"
     ]
    },
    {
     "name": "stdout",
     "output_type": "stream",
     "text": [
      "Epoch 43/100 | Train Loss: 12.8689 | Test Loss: 15.8905\n"
     ]
    },
    {
     "name": "stderr",
     "output_type": "stream",
     "text": [
      "Training TCN:  44%|████▍     | 44/100 [2:03:19<3:46:23, 242.56s/it]"
     ]
    },
    {
     "name": "stdout",
     "output_type": "stream",
     "text": [
      "Epoch 44/100 | Train Loss: 12.7362 | Test Loss: 15.8689\n"
     ]
    },
    {
     "name": "stderr",
     "output_type": "stream",
     "text": [
      "Training TCN:  45%|████▌     | 45/100 [2:08:37<4:02:54, 264.99s/it]"
     ]
    },
    {
     "name": "stdout",
     "output_type": "stream",
     "text": [
      "Epoch 45/100 | Train Loss: 12.7195 | Test Loss: 15.7540\n"
     ]
    },
    {
     "name": "stderr",
     "output_type": "stream",
     "text": [
      "Training TCN:  46%|████▌     | 46/100 [2:14:03<4:15:04, 283.42s/it]"
     ]
    },
    {
     "name": "stdout",
     "output_type": "stream",
     "text": [
      "Epoch 46/100 | Train Loss: 12.7112 | Test Loss: 15.9690\n"
     ]
    },
    {
     "name": "stderr",
     "output_type": "stream",
     "text": [
      "Training TCN:  47%|████▋     | 47/100 [2:19:18<4:18:50, 293.02s/it]"
     ]
    },
    {
     "name": "stdout",
     "output_type": "stream",
     "text": [
      "Epoch 47/100 | Train Loss: 12.6478 | Test Loss: 15.7665\n"
     ]
    },
    {
     "name": "stderr",
     "output_type": "stream",
     "text": [
      "Training TCN:  48%|████▊     | 48/100 [2:24:33<4:19:32, 299.48s/it]"
     ]
    },
    {
     "name": "stdout",
     "output_type": "stream",
     "text": [
      "Epoch 48/100 | Train Loss: 12.6293 | Test Loss: 15.6926\n"
     ]
    },
    {
     "name": "stderr",
     "output_type": "stream",
     "text": [
      "Training TCN:  49%|████▉     | 49/100 [2:29:50<4:19:02, 304.75s/it]"
     ]
    },
    {
     "name": "stdout",
     "output_type": "stream",
     "text": [
      "Epoch 49/100 | Train Loss: 12.5659 | Test Loss: 15.6642\n"
     ]
    },
    {
     "name": "stderr",
     "output_type": "stream",
     "text": [
      "Training TCN:  50%|█████     | 50/100 [2:35:03<4:15:56, 307.13s/it]"
     ]
    },
    {
     "name": "stdout",
     "output_type": "stream",
     "text": [
      "Epoch 50/100 | Train Loss: 12.5208 | Test Loss: 15.7929\n"
     ]
    },
    {
     "name": "stderr",
     "output_type": "stream",
     "text": [
      "Training TCN:  51%|█████     | 51/100 [2:40:16<4:12:26, 309.11s/it]"
     ]
    },
    {
     "name": "stdout",
     "output_type": "stream",
     "text": [
      "Epoch 51/100 | Train Loss: 12.3573 | Test Loss: 15.7140\n"
     ]
    },
    {
     "name": "stderr",
     "output_type": "stream",
     "text": [
      "Training TCN:  52%|█████▏    | 52/100 [2:45:29<4:08:12, 310.26s/it]"
     ]
    },
    {
     "name": "stdout",
     "output_type": "stream",
     "text": [
      "Epoch 52/100 | Train Loss: 12.3725 | Test Loss: 15.7028\n"
     ]
    },
    {
     "name": "stderr",
     "output_type": "stream",
     "text": [
      "Training TCN:  53%|█████▎    | 53/100 [2:50:51<4:05:44, 313.71s/it]"
     ]
    },
    {
     "name": "stdout",
     "output_type": "stream",
     "text": [
      "Epoch 53/100 | Train Loss: 12.3011 | Test Loss: 15.6366\n"
     ]
    },
    {
     "name": "stderr",
     "output_type": "stream",
     "text": [
      "Training TCN:  54%|█████▍    | 54/100 [2:56:18<4:03:29, 317.59s/it]"
     ]
    },
    {
     "name": "stdout",
     "output_type": "stream",
     "text": [
      "Epoch 54/100 | Train Loss: 12.3386 | Test Loss: 15.5926\n"
     ]
    },
    {
     "name": "stderr",
     "output_type": "stream",
     "text": [
      "Training TCN:  55%|█████▌    | 55/100 [3:01:44<4:00:10, 320.24s/it]"
     ]
    },
    {
     "name": "stdout",
     "output_type": "stream",
     "text": [
      "Epoch 55/100 | Train Loss: 12.2933 | Test Loss: 15.6111\n"
     ]
    },
    {
     "name": "stderr",
     "output_type": "stream",
     "text": [
      "Training TCN:  56%|█████▌    | 56/100 [3:07:14<3:57:01, 323.21s/it]"
     ]
    },
    {
     "name": "stdout",
     "output_type": "stream",
     "text": [
      "Epoch 56/100 | Train Loss: 12.2559 | Test Loss: 15.5647\n"
     ]
    },
    {
     "name": "stderr",
     "output_type": "stream",
     "text": [
      "Training TCN:  57%|█████▋    | 57/100 [3:12:44<3:53:02, 325.17s/it]"
     ]
    },
    {
     "name": "stdout",
     "output_type": "stream",
     "text": [
      "Epoch 57/100 | Train Loss: 12.2648 | Test Loss: 15.6448\n"
     ]
    },
    {
     "name": "stderr",
     "output_type": "stream",
     "text": [
      "Training TCN:  58%|█████▊    | 58/100 [3:18:13<3:48:28, 326.39s/it]"
     ]
    },
    {
     "name": "stdout",
     "output_type": "stream",
     "text": [
      "Epoch 58/100 | Train Loss: 12.2160 | Test Loss: 15.5782\n"
     ]
    },
    {
     "name": "stderr",
     "output_type": "stream",
     "text": [
      "Training TCN:  59%|█████▉    | 59/100 [3:23:43<3:43:37, 327.25s/it]"
     ]
    },
    {
     "name": "stdout",
     "output_type": "stream",
     "text": [
      "Epoch 59/100 | Train Loss: 12.1767 | Test Loss: 15.6071\n"
     ]
    },
    {
     "name": "stderr",
     "output_type": "stream",
     "text": [
      "Training TCN:  60%|██████    | 60/100 [3:29:12<3:38:30, 327.77s/it]"
     ]
    },
    {
     "name": "stdout",
     "output_type": "stream",
     "text": [
      "Epoch 60/100 | Train Loss: 12.1979 | Test Loss: 15.6062\n"
     ]
    },
    {
     "name": "stderr",
     "output_type": "stream",
     "text": [
      "Training TCN:  61%|██████    | 61/100 [3:34:41<3:33:16, 328.13s/it]"
     ]
    },
    {
     "name": "stdout",
     "output_type": "stream",
     "text": [
      "Epoch 61/100 | Train Loss: 12.0692 | Test Loss: 15.6500\n"
     ]
    },
    {
     "name": "stderr",
     "output_type": "stream",
     "text": [
      "Training TCN:  62%|██████▏   | 62/100 [3:40:09<3:27:52, 328.23s/it]"
     ]
    },
    {
     "name": "stdout",
     "output_type": "stream",
     "text": [
      "Epoch 62/100 | Train Loss: 12.0391 | Test Loss: 15.4968\n"
     ]
    },
    {
     "name": "stderr",
     "output_type": "stream",
     "text": [
      "Training TCN:  63%|██████▎   | 63/100 [3:45:37<3:22:24, 328.24s/it]"
     ]
    },
    {
     "name": "stdout",
     "output_type": "stream",
     "text": [
      "Epoch 63/100 | Train Loss: 12.0713 | Test Loss: 15.5326\n"
     ]
    },
    {
     "name": "stderr",
     "output_type": "stream",
     "text": [
      "Training TCN:  64%|██████▍   | 64/100 [3:51:05<3:16:54, 328.17s/it]"
     ]
    },
    {
     "name": "stdout",
     "output_type": "stream",
     "text": [
      "Epoch 64/100 | Train Loss: 12.0936 | Test Loss: 15.5026\n"
     ]
    },
    {
     "name": "stderr",
     "output_type": "stream",
     "text": [
      "Training TCN:  65%|██████▌   | 65/100 [3:56:35<3:11:37, 328.50s/it]"
     ]
    },
    {
     "name": "stdout",
     "output_type": "stream",
     "text": [
      "Epoch 65/100 | Train Loss: 12.1063 | Test Loss: 15.4888\n"
     ]
    },
    {
     "name": "stderr",
     "output_type": "stream",
     "text": [
      "Training TCN:  66%|██████▌   | 66/100 [4:02:03<3:06:10, 328.53s/it]"
     ]
    },
    {
     "name": "stdout",
     "output_type": "stream",
     "text": [
      "Epoch 66/100 | Train Loss: 12.0328 | Test Loss: 15.5093\n"
     ]
    },
    {
     "name": "stderr",
     "output_type": "stream",
     "text": [
      "Training TCN:  67%|██████▋   | 67/100 [4:07:32<3:00:47, 328.71s/it]"
     ]
    },
    {
     "name": "stdout",
     "output_type": "stream",
     "text": [
      "Epoch 67/100 | Train Loss: 12.0075 | Test Loss: 15.5243\n"
     ]
    },
    {
     "name": "stderr",
     "output_type": "stream",
     "text": [
      "Training TCN:  68%|██████▊   | 68/100 [4:13:03<2:55:36, 329.27s/it]"
     ]
    },
    {
     "name": "stdout",
     "output_type": "stream",
     "text": [
      "Epoch 68/100 | Train Loss: 12.0571 | Test Loss: 15.5297\n"
     ]
    },
    {
     "name": "stderr",
     "output_type": "stream",
     "text": [
      "Training TCN:  69%|██████▉   | 69/100 [4:18:32<2:50:02, 329.10s/it]"
     ]
    },
    {
     "name": "stdout",
     "output_type": "stream",
     "text": [
      "Epoch 69/100 | Train Loss: 12.0406 | Test Loss: 15.4964\n"
     ]
    },
    {
     "name": "stderr",
     "output_type": "stream",
     "text": [
      "Training TCN:  70%|███████   | 70/100 [4:24:00<2:44:27, 328.91s/it]"
     ]
    },
    {
     "name": "stdout",
     "output_type": "stream",
     "text": [
      "Epoch 70/100 | Train Loss: 11.9790 | Test Loss: 15.5185\n"
     ]
    },
    {
     "name": "stderr",
     "output_type": "stream",
     "text": [
      "Training TCN:  71%|███████   | 71/100 [4:29:31<2:39:16, 329.53s/it]"
     ]
    },
    {
     "name": "stdout",
     "output_type": "stream",
     "text": [
      "Epoch 71/100 | Train Loss: 11.9110 | Test Loss: 15.5142\n"
     ]
    },
    {
     "name": "stderr",
     "output_type": "stream",
     "text": [
      "Training TCN:  72%|███████▏  | 72/100 [4:35:02<2:33:55, 329.82s/it]"
     ]
    },
    {
     "name": "stdout",
     "output_type": "stream",
     "text": [
      "Epoch 72/100 | Train Loss: 11.9138 | Test Loss: 15.4616\n"
     ]
    },
    {
     "name": "stderr",
     "output_type": "stream",
     "text": [
      "Training TCN:  73%|███████▎  | 73/100 [4:40:31<2:28:22, 329.73s/it]"
     ]
    },
    {
     "name": "stdout",
     "output_type": "stream",
     "text": [
      "Epoch 73/100 | Train Loss: 11.9075 | Test Loss: 15.4750\n"
     ]
    },
    {
     "name": "stderr",
     "output_type": "stream",
     "text": [
      "Training TCN:  74%|███████▍  | 74/100 [4:46:02<2:23:03, 330.13s/it]"
     ]
    },
    {
     "name": "stdout",
     "output_type": "stream",
     "text": [
      "Epoch 74/100 | Train Loss: 11.9617 | Test Loss: 15.4897\n"
     ]
    },
    {
     "name": "stderr",
     "output_type": "stream",
     "text": [
      "Training TCN:  75%|███████▌  | 75/100 [4:51:30<2:17:15, 329.42s/it]"
     ]
    },
    {
     "name": "stdout",
     "output_type": "stream",
     "text": [
      "Epoch 75/100 | Train Loss: 11.9052 | Test Loss: 15.4821\n"
     ]
    },
    {
     "name": "stderr",
     "output_type": "stream",
     "text": [
      "Training TCN:  76%|███████▌  | 76/100 [4:57:00<2:11:49, 329.55s/it]"
     ]
    },
    {
     "name": "stdout",
     "output_type": "stream",
     "text": [
      "Epoch 76/100 | Train Loss: 11.9421 | Test Loss: 15.4511\n"
     ]
    },
    {
     "name": "stderr",
     "output_type": "stream",
     "text": [
      "Training TCN:  77%|███████▋  | 77/100 [5:02:29<2:06:18, 329.51s/it]"
     ]
    },
    {
     "name": "stdout",
     "output_type": "stream",
     "text": [
      "Epoch 77/100 | Train Loss: 11.9383 | Test Loss: 15.4600\n"
     ]
    },
    {
     "name": "stderr",
     "output_type": "stream",
     "text": [
      "Training TCN:  78%|███████▊  | 78/100 [5:07:59<2:00:50, 329.59s/it]"
     ]
    },
    {
     "name": "stdout",
     "output_type": "stream",
     "text": [
      "Epoch 78/100 | Train Loss: 11.9614 | Test Loss: 15.4775\n"
     ]
    },
    {
     "name": "stderr",
     "output_type": "stream",
     "text": [
      "Training TCN:  79%|███████▉  | 79/100 [5:13:29<1:55:21, 329.61s/it]"
     ]
    },
    {
     "name": "stdout",
     "output_type": "stream",
     "text": [
      "Epoch 79/100 | Train Loss: 11.9281 | Test Loss: 15.4897\n"
     ]
    },
    {
     "name": "stderr",
     "output_type": "stream",
     "text": [
      "Training TCN:  80%|████████  | 80/100 [5:19:00<1:50:03, 330.19s/it]"
     ]
    },
    {
     "name": "stdout",
     "output_type": "stream",
     "text": [
      "Epoch 80/100 | Train Loss: 11.9172 | Test Loss: 15.5023\n"
     ]
    },
    {
     "name": "stderr",
     "output_type": "stream",
     "text": [
      "Training TCN:  81%|████████  | 81/100 [5:24:32<1:44:41, 330.58s/it]"
     ]
    },
    {
     "name": "stdout",
     "output_type": "stream",
     "text": [
      "Epoch 81/100 | Train Loss: 11.9189 | Test Loss: 15.4554\n"
     ]
    },
    {
     "name": "stderr",
     "output_type": "stream",
     "text": [
      "Training TCN:  82%|████████▏ | 82/100 [5:30:00<1:39:00, 330.02s/it]"
     ]
    },
    {
     "name": "stdout",
     "output_type": "stream",
     "text": [
      "Epoch 82/100 | Train Loss: 11.8794 | Test Loss: 15.4482\n"
     ]
    },
    {
     "name": "stderr",
     "output_type": "stream",
     "text": [
      "Training TCN:  83%|████████▎ | 83/100 [5:35:40<1:34:19, 332.91s/it]"
     ]
    },
    {
     "name": "stdout",
     "output_type": "stream",
     "text": [
      "Epoch 83/100 | Train Loss: 11.8384 | Test Loss: 15.5933\n"
     ]
    },
    {
     "name": "stderr",
     "output_type": "stream",
     "text": [
      "Training TCN:  84%|████████▍ | 84/100 [5:41:07<1:28:20, 331.26s/it]"
     ]
    },
    {
     "name": "stdout",
     "output_type": "stream",
     "text": [
      "Epoch 84/100 | Train Loss: 11.8237 | Test Loss: 15.5161\n"
     ]
    },
    {
     "name": "stderr",
     "output_type": "stream",
     "text": [
      "Training TCN:  85%|████████▌ | 85/100 [5:46:36<1:22:35, 330.40s/it]"
     ]
    },
    {
     "name": "stdout",
     "output_type": "stream",
     "text": [
      "Epoch 85/100 | Train Loss: 11.8537 | Test Loss: 15.4512\n"
     ]
    },
    {
     "name": "stderr",
     "output_type": "stream",
     "text": [
      "Training TCN:  86%|████████▌ | 86/100 [5:52:06<1:17:05, 330.40s/it]"
     ]
    },
    {
     "name": "stdout",
     "output_type": "stream",
     "text": [
      "Epoch 86/100 | Train Loss: 11.9041 | Test Loss: 15.4346\n"
     ]
    },
    {
     "name": "stderr",
     "output_type": "stream",
     "text": [
      "Training TCN:  87%|████████▋ | 87/100 [5:57:34<1:11:23, 329.51s/it]"
     ]
    },
    {
     "name": "stdout",
     "output_type": "stream",
     "text": [
      "Epoch 87/100 | Train Loss: 11.8509 | Test Loss: 15.4088\n"
     ]
    },
    {
     "name": "stderr",
     "output_type": "stream",
     "text": [
      "Training TCN:  88%|████████▊ | 88/100 [6:03:01<1:05:46, 328.87s/it]"
     ]
    },
    {
     "name": "stdout",
     "output_type": "stream",
     "text": [
      "Epoch 88/100 | Train Loss: 11.8462 | Test Loss: 15.4893\n"
     ]
    },
    {
     "name": "stderr",
     "output_type": "stream",
     "text": [
      "Training TCN:  89%|████████▉ | 89/100 [6:08:31<1:00:22, 329.33s/it]"
     ]
    },
    {
     "name": "stdout",
     "output_type": "stream",
     "text": [
      "Epoch 89/100 | Train Loss: 11.8358 | Test Loss: 15.4353\n"
     ]
    },
    {
     "name": "stderr",
     "output_type": "stream",
     "text": [
      "Training TCN:  90%|█████████ | 90/100 [6:14:11<55:23, 332.39s/it]  "
     ]
    },
    {
     "name": "stdout",
     "output_type": "stream",
     "text": [
      "Epoch 90/100 | Train Loss: 11.8776 | Test Loss: 15.4225\n"
     ]
    },
    {
     "name": "stderr",
     "output_type": "stream",
     "text": [
      "Training TCN:  91%|█████████ | 91/100 [6:20:07<50:55, 339.54s/it]"
     ]
    },
    {
     "name": "stdout",
     "output_type": "stream",
     "text": [
      "Epoch 91/100 | Train Loss: 11.8161 | Test Loss: 15.4283\n"
     ]
    },
    {
     "name": "stderr",
     "output_type": "stream",
     "text": [
      "Training TCN:  92%|█████████▏| 92/100 [6:25:53<45:32, 341.56s/it]"
     ]
    },
    {
     "name": "stdout",
     "output_type": "stream",
     "text": [
      "Epoch 92/100 | Train Loss: 11.8513 | Test Loss: 15.4657\n"
     ]
    },
    {
     "name": "stderr",
     "output_type": "stream",
     "text": [
      "Training TCN:  93%|█████████▎| 93/100 [6:31:14<39:05, 335.12s/it]"
     ]
    },
    {
     "name": "stdout",
     "output_type": "stream",
     "text": [
      "Epoch 93/100 | Train Loss: 11.8424 | Test Loss: 15.4347\n"
     ]
    },
    {
     "name": "stderr",
     "output_type": "stream",
     "text": [
      "Training TCN:  94%|█████████▍| 94/100 [6:36:43<33:20, 333.36s/it]"
     ]
    },
    {
     "name": "stdout",
     "output_type": "stream",
     "text": [
      "Epoch 94/100 | Train Loss: 11.8363 | Test Loss: 15.4575\n"
     ]
    },
    {
     "name": "stderr",
     "output_type": "stream",
     "text": [
      "Training TCN:  95%|█████████▌| 95/100 [6:42:12<27:39, 331.99s/it]"
     ]
    },
    {
     "name": "stdout",
     "output_type": "stream",
     "text": [
      "Epoch 95/100 | Train Loss: 11.8331 | Test Loss: 15.5543\n"
     ]
    },
    {
     "name": "stderr",
     "output_type": "stream",
     "text": [
      "Training TCN:  96%|█████████▌| 96/100 [6:48:26<22:58, 344.67s/it]"
     ]
    },
    {
     "name": "stdout",
     "output_type": "stream",
     "text": [
      "Epoch 96/100 | Train Loss: 11.8130 | Test Loss: 15.4503\n"
     ]
    },
    {
     "name": "stderr",
     "output_type": "stream",
     "text": [
      "Training TCN:  96%|█████████▌| 96/100 [6:56:43<17:21, 260.45s/it]"
     ]
    },
    {
     "name": "stdout",
     "output_type": "stream",
     "text": [
      "Early stopping at epoch 97\n"
     ]
    },
    {
     "name": "stderr",
     "output_type": "stream",
     "text": [
      "\n"
     ]
    },
    {
     "data": {
      "image/png": "[encoded data removed]",
      "text/plain": [
       "<Figure size 1000x600 with 1 Axes>"
      ]
     },
     "metadata": {},
     "output_type": "display_data"
    },
    {
     "name": "stdout",
     "output_type": "stream",
     "text": [
      "Best model saved at best_tcn_model.pth with Test Loss: 15.4088\n"
     ]
    }
   ],
   "source": [
    "import torch\n",
    "import torch.nn as nn\n",
    "import torch.optim as optim\n",
    "import numpy as np\n",
    "from sklearn.preprocessing import StandardScaler\n",
    "from sklearn.metrics import mean_squared_error\n",
    "from torch.utils.data import DataLoader, TensorDataset\n",
    "from tqdm import tqdm\n",
    "import matplotlib.pyplot as plt\n",
    "\n",
    "# ----------------------------\n",
    "# Temporal Convolutional Network (TCN) Model\n",
    "# ----------------------------\n",
    "class Chomp1d(nn.Module):\n",
    "    def __init__(self, chomp_size):\n",
    "        super().__init__()\n",
    "        self.chomp_size = chomp_size\n",
    "\n",
    "    def forward(self, x):\n",
    "        return x[:, :, :-self.chomp_size]\n",
    "\n",
    "class TemporalBlock(nn.Module):\n",
    "    def __init__(self, input_dim, output_dim, kernel_size, stride, dilation, padding, dropout):\n",
    "        super().__init__()\n",
    "        self.conv1 = nn.Conv1d(input_dim, output_dim, kernel_size, stride=stride, padding=padding, dilation=dilation)\n",
    "        self.chomp1 = Chomp1d(padding)\n",
    "        self.batch_norm1 = nn.BatchNorm1d(output_dim)\n",
    "        self.relu1 = nn.ReLU()\n",
    "        self.dropout1 = nn.Dropout(dropout)\n",
    "\n",
    "        self.conv2 = nn.Conv1d(output_dim, output_dim, kernel_size, stride=stride, padding=padding, dilation=dilation)\n",
    "        self.chomp2 = Chomp1d(padding)\n",
    "        self.batch_norm2 = nn.BatchNorm1d(output_dim)\n",
    "        self.relu2 = nn.ReLU()\n",
    "        self.dropout2 = nn.Dropout(dropout)\n",
    "\n",
    "        self.net = nn.Sequential(self.conv1, self.chomp1, self.batch_norm1, self.relu1, self.dropout1,\n",
    "                                 self.conv2, self.chomp2, self.batch_norm2, self.relu2, self.dropout2)\n",
    "        self.downsample = nn.Conv1d(input_dim, output_dim, 1) if input_dim != output_dim else None\n",
    "        self.relu = nn.ReLU()\n",
    "\n",
    "    def forward(self, x):\n",
    "        out = self.net(x)\n",
    "        res = x if self.downsample is None else self.downsample(x)\n",
    "        return self.relu(out + res)\n",
    "\n",
    "class TCN(nn.Module):\n",
    "    def __init__(self, input_size, output_size, num_channels, kernel_size, dropout):\n",
    "        super().__init__()\n",
    "        layers = []\n",
    "        num_levels = len(num_channels)\n",
    "\n",
    "        for i in range(num_levels):\n",
    "            dilation = 2 ** i\n",
    "            in_channels = input_size if i == 0 else num_channels[i-1]\n",
    "            out_channels = num_channels[i]\n",
    "            layers.append(\n",
    "                TemporalBlock(in_channels, out_channels, kernel_size, stride=1, \n",
    "                              dilation=dilation, padding=(kernel_size-1) * dilation, dropout=dropout)\n",
    "            )\n",
    "        self.network = nn.Sequential(*layers)\n",
    "        self.fc = nn.Linear(num_channels[-1], output_size)\n",
    "\n",
    "    def forward(self, x):\n",
    "        out = self.network(x)\n",
    "        out = out.mean(dim=2)  # Global average pooling over the sequence\n",
    "        return self.fc(out)\n",
    "\n",
    "# ----------------------------\n",
    "# Data Preparation\n",
    "# ----------------------------\n",
    "scaler_x = StandardScaler()\n",
    "\n",
    "# Fit scalers on training data and transform both train and test data\n",
    "X_train_scaled = scaler_x.fit_transform(X_train)\n",
    "X_test_scaled = scaler_x.transform(X_test)\n",
    "\n",
    "# Convert scaled data to PyTorch tensors, keeping y values unscaled\n",
    "train_x = torch.tensor(X_train_scaled, dtype=torch.float32).unsqueeze(2)  # Add dummy sequence dimension\n",
    "train_y = torch.tensor(y_train.to_numpy(dtype=np.float32).reshape(-1, 1).flatten(), dtype=torch.float32)\n",
    "test_x = torch.tensor(X_test_scaled, dtype=torch.float32).unsqueeze(2)\n",
    "test_y = torch.tensor(y_test.to_numpy(dtype=np.float32).reshape(-1, 1).flatten(), dtype=torch.float32)\n",
    "\n",
    "# Create DataLoader for batching\n",
    "batch_size = 32\n",
    "train_loader = DataLoader(TensorDataset(train_x, train_y), batch_size=batch_size, shuffle=True)\n",
    "test_loader = DataLoader(TensorDataset(test_x, test_y), batch_size=batch_size, shuffle=False)\n",
    "\n",
    "# ----------------------------\n",
    "# Model and Training Setup\n",
    "# ----------------------------\n",
    "input_size = X_train.shape[1]\n",
    "output_size = 1  # Single target\n",
    "num_channels = [64, 128, 256]  # Keep model complexity similar\n",
    "kernel_size = 5\n",
    "dropout = 0.3  # Moderate increase in dropout\n",
    "\n",
    "model = TCN(input_size, output_size, num_channels, kernel_size, dropout)\n",
    "criterion = nn.MSELoss()  # Loss for regression\n",
    "optimizer = optim.Adam(model.parameters(), lr=0.001, weight_decay=1e-4)  # Light regularization\n",
    "scheduler = optim.lr_scheduler.StepLR(optimizer, step_size=10, gamma=0.5)\n",
    "\n",
    "# ----------------------------\n",
    "# Training with Early Stopping and Model Saving\n",
    "# ----------------------------\n",
    "epochs = 100\n",
    "patience = 10\n",
    "min_delta = 1e-4\n",
    "best_loss = float('inf')\n",
    "stop_indicator = 0\n",
    "best_model_path = \"best_tcn_model.pth\"\n",
    "\n",
    "train_losses = []\n",
    "test_losses = []\n",
    "\n",
    "for epoch in tqdm(range(epochs), desc=\"Training TCN\"):\n",
    "    model.train()\n",
    "    epoch_loss = 0.0\n",
    "    for batch_x, batch_y in train_loader:\n",
    "        optimizer.zero_grad()\n",
    "        outputs = model(batch_x)\n",
    "        loss = criterion(outputs.squeeze(), batch_y)\n",
    "        loss.backward()\n",
    "        optimizer.step()\n",
    "        epoch_loss += loss.item()\n",
    "    avg_train_loss = epoch_loss / len(train_loader)\n",
    "    train_losses.append(avg_train_loss)\n",
    "    scheduler.step()\n",
    "\n",
    "    # Evaluate on test set\n",
    "    model.eval()\n",
    "    with torch.no_grad():\n",
    "        test_loss = 0.0\n",
    "        for batch_x, batch_y in test_loader:\n",
    "            outputs = model(batch_x)\n",
    "            loss = criterion(outputs.squeeze(), batch_y)\n",
    "            test_loss += loss.item()\n",
    "        avg_test_loss = test_loss / len(test_loader)\n",
    "        test_losses.append(avg_test_loss)\n",
    "\n",
    "    # Save best model based on test loss\n",
    "    if avg_test_loss < best_loss:\n",
    "        best_loss = avg_test_loss\n",
    "        stop_indicator = 0\n",
    "        torch.save(model.state_dict(), best_model_path)  # Save best model\n",
    "    else:\n",
    "        stop_indicator += 1\n",
    "\n",
    "    if stop_indicator >= patience:\n",
    "        print(f\"Early stopping at epoch {epoch + 1}\")\n",
    "        break\n",
    "\n",
    "    print(f\"Epoch {epoch + 1}/{epochs} | Train Loss: {avg_train_loss:.4f} | Test Loss: {avg_test_loss:.4f}\")\n",
    "\n",
    "# ----------------------------\n",
    "# Save Train and Test Losses and Plot\n",
    "# ----------------------------\n",
    "plt.figure(figsize=(10, 6))\n",
    "plt.plot(range(1, len(train_losses) + 1), train_losses, label=\"Train Loss\")\n",
    "plt.plot(range(1, len(test_losses) + 1), test_losses, label=\"Test Loss\")\n",
    "plt.xlabel(\"Epochs\")\n",
    "plt.ylabel(\"Loss (MSE)\")\n",
    "plt.title(\"Train vs Test Loss\")\n",
    "plt.legend()\n",
    "plt.grid()\n",
    "plt.show()\n",
    "\n",
    "# Load the best model\n",
    "print(f\"Best model saved at {best_model_path} with Test Loss: {best_loss:.4f}\")"
   ]
  },
  {
   "cell_type": "code",
   "execution_count": 81,
   "id": "f0bf12e7",
   "metadata": {},
   "outputs": [
    {
     "name": "stderr",
     "output_type": "stream",
     "text": [
      "/var/folders/yk/4g22n5fx1m96780wglc148nh0000gn/T/ipykernel_25917/2775870044.py:2: FutureWarning: You are using `torch.load` with `weights_only=False` (the current default value), which uses the default pickle module implicitly. It is possible to construct malicious pickle data which will execute arbitrary code during unpickling (See https://github.com/pytorch/pytorch/blob/main/SECURITY.md#untrusted-models for more details). In a future release, the default value for `weights_only` will be flipped to `True`. This limits the functions that could be executed during unpickling. Arbitrary objects will no longer be allowed to be loaded via this mode unless they are explicitly allowlisted by the user via `torch.serialization.add_safe_globals`. We recommend you start setting `weights_only=True` for any use case where you don't have full control of the loaded file. Please open an issue on GitHub for any issues related to this experimental feature.\n",
      "  model.load_state_dict(torch.load(best_model_path))\n"
     ]
    },
    {
     "name": "stdout",
     "output_type": "stream",
     "text": [
      "MSE: 15.4097\n",
      "MAE: 2.5014\n",
      "R^2: 0.6356\n"
     ]
    }
   ],
   "source": [
    "# Replace tcn_model with model\n",
    "model.load_state_dict(torch.load(best_model_path))\n",
    "# Calculate predictions on the test set\n",
    "model.eval()\n",
    "\n",
    "test_predictions = []\n",
    "test_targets = []\n",
    "\n",
    "with torch.no_grad():\n",
    "    for batch_x, batch_y in test_loader:\n",
    "        outputs = model(batch_x)\n",
    "        test_predictions.extend(outputs.squeeze().tolist())\n",
    "        test_targets.extend(batch_y.tolist())\n",
    "\n",
    "# Convert lists to numpy arrays for metric calculations\n",
    "test_predictions = np.array(test_predictions)\n",
    "test_targets = np.array(test_targets)\n",
    "\n",
    "# Calculate MSE, MAE, and R^2\n",
    "mse = mean_squared_error(test_targets, test_predictions)\n",
    "mae = np.mean(np.abs(test_targets - test_predictions))\n",
    "r2 = 1 - (np.sum((test_targets - test_predictions) ** 2) / np.sum((test_targets - np.mean(test_targets)) ** 2))\n",
    "\n",
    "print(f\"MSE: {mse:.4f}\")\n",
    "print(f\"MAE: {mae:.4f}\")\n",
    "print(f\"R^2: {r2:.4f}\")"
   ]
  },
  {
   "cell_type": "code",
   "execution_count": 89,
   "id": "ade5e86b",
   "metadata": {},
   "outputs": [
    {
     "data": {
      "image/png": "[encoded data removed]",
      "text/plain": [
       "<Figure size 1000x600 with 1 Axes>"
      ]
     },
     "metadata": {},
     "output_type": "display_data"
    }
   ],
   "source": [
    "# Plot the TCN predictions vs the data\n",
    "plt.figure(figsize=(10, 6))\n",
    "plt.plot(test_targets, label=\"Actual\")\n",
    "plt.plot(test_predictions, label=\"Predicted\")\n",
    "plt.xlabel(\"Data Index\")\n",
    "plt.ylabel(\"PM2.5\")\n",
    "plt.title(\"TCN Predictions vs True Values\")\n",
    "plt.legend()\n",
    "plt.show()"
   ]
  },
  {
   "cell_type": "markdown",
   "id": "fad328ee",
   "metadata": {},
   "source": [
    "# Bayesian Neural Network"
   ]
  },
  {
   "cell_type": "code",
   "execution_count": 139,
   "id": "3db5fa4c",
   "metadata": {},
   "outputs": [
    {
     "name": "stderr",
     "output_type": "stream",
     "text": [
      "Training BNN:   1%|          | 1/100 [01:40<2:45:17, 100.18s/it]"
     ]
    },
    {
     "name": "stdout",
     "output_type": "stream",
     "text": [
      "Epoch 1/100 | Train Loss (ELBO): 51059.0900 | Test Loss (ELBO): 87.2311 | Train MSE: 88.2798 | Test MSE: 87.2311\n"
     ]
    },
    {
     "name": "stderr",
     "output_type": "stream",
     "text": [
      "Training BNN:   2%|▏         | 2/100 [03:21<2:44:53, 100.95s/it]"
     ]
    },
    {
     "name": "stdout",
     "output_type": "stream",
     "text": [
      "Epoch 2/100 | Train Loss (ELBO): 51043.0590 | Test Loss (ELBO): 121.0359 | Train MSE: 153.4687 | Test MSE: 121.0359\n"
     ]
    },
    {
     "name": "stderr",
     "output_type": "stream",
     "text": [
      "Training BNN:   3%|▎         | 3/100 [05:02<2:43:07, 100.90s/it]"
     ]
    },
    {
     "name": "stdout",
     "output_type": "stream",
     "text": [
      "Epoch 3/100 | Train Loss (ELBO): 51056.9143 | Test Loss (ELBO): 77.6630 | Train MSE: 275.8461 | Test MSE: 77.6630\n"
     ]
    },
    {
     "name": "stderr",
     "output_type": "stream",
     "text": [
      "Training BNN:   3%|▎         | 3/100 [06:08<3:18:19, 122.67s/it]\n"
     ]
    },
    {
     "ename": "KeyboardInterrupt",
     "evalue": "",
     "output_type": "error",
     "traceback": [
      "\u001b[0;31m---------------------------------------------------------------------------\u001b[0m",
      "\u001b[0;31mKeyboardInterrupt\u001b[0m                         Traceback (most recent call last)",
      "Cell \u001b[0;32mIn[139], line 117\u001b[0m\n\u001b[1;32m    114\u001b[0m \u001b[38;5;28;01mwith\u001b[39;00m torch\u001b[38;5;241m.\u001b[39mno_grad():\n\u001b[1;32m    115\u001b[0m     \u001b[38;5;66;03m# Train MSE\u001b[39;00m\n\u001b[1;32m    116\u001b[0m     predictive_train \u001b[38;5;241m=\u001b[39m pyro\u001b[38;5;241m.\u001b[39minfer\u001b[38;5;241m.\u001b[39mPredictive(model, guide\u001b[38;5;241m=\u001b[39mguide, num_samples\u001b[38;5;241m=\u001b[39m\u001b[38;5;241m1000\u001b[39m, return_sites\u001b[38;5;241m=\u001b[39m(\u001b[38;5;124m\"\u001b[39m\u001b[38;5;124mobs\u001b[39m\u001b[38;5;124m\"\u001b[39m,))\n\u001b[0;32m--> 117\u001b[0m     train_predictions \u001b[38;5;241m=\u001b[39m \u001b[43mpredictive_train\u001b[49m\u001b[43m(\u001b[49m\u001b[43mtrain_x\u001b[49m\u001b[43m)\u001b[49m\n\u001b[1;32m    118\u001b[0m     train_pred_means \u001b[38;5;241m=\u001b[39m train_predictions[\u001b[38;5;124m\"\u001b[39m\u001b[38;5;124mobs\u001b[39m\u001b[38;5;124m\"\u001b[39m]\u001b[38;5;241m.\u001b[39mmean(\u001b[38;5;241m0\u001b[39m)\n\u001b[1;32m    119\u001b[0m     train_mse \u001b[38;5;241m=\u001b[39m mean_squared_error(train_y\u001b[38;5;241m.\u001b[39mnumpy(), train_pred_means\u001b[38;5;241m.\u001b[39mnumpy())\n",
      "File \u001b[0;32m~/Documents/Fall24_Classes/SDS336/Austin_Trees/Trees/lib/python3.11/site-packages/torch/nn/modules/module.py:1736\u001b[0m, in \u001b[0;36mModule._wrapped_call_impl\u001b[0;34m(self, *args, **kwargs)\u001b[0m\n\u001b[1;32m   1734\u001b[0m     \u001b[38;5;28;01mreturn\u001b[39;00m \u001b[38;5;28mself\u001b[39m\u001b[38;5;241m.\u001b[39m_compiled_call_impl(\u001b[38;5;241m*\u001b[39margs, \u001b[38;5;241m*\u001b[39m\u001b[38;5;241m*\u001b[39mkwargs)  \u001b[38;5;66;03m# type: ignore[misc]\u001b[39;00m\n\u001b[1;32m   1735\u001b[0m \u001b[38;5;28;01melse\u001b[39;00m:\n\u001b[0;32m-> 1736\u001b[0m     \u001b[38;5;28;01mreturn\u001b[39;00m \u001b[38;5;28;43mself\u001b[39;49m\u001b[38;5;241;43m.\u001b[39;49m\u001b[43m_call_impl\u001b[49m\u001b[43m(\u001b[49m\u001b[38;5;241;43m*\u001b[39;49m\u001b[43margs\u001b[49m\u001b[43m,\u001b[49m\u001b[43m \u001b[49m\u001b[38;5;241;43m*\u001b[39;49m\u001b[38;5;241;43m*\u001b[39;49m\u001b[43mkwargs\u001b[49m\u001b[43m)\u001b[49m\n",
      "File \u001b[0;32m~/Documents/Fall24_Classes/SDS336/Austin_Trees/Trees/lib/python3.11/site-packages/torch/nn/modules/module.py:1747\u001b[0m, in \u001b[0;36mModule._call_impl\u001b[0;34m(self, *args, **kwargs)\u001b[0m\n\u001b[1;32m   1742\u001b[0m \u001b[38;5;66;03m# If we don't have any hooks, we want to skip the rest of the logic in\u001b[39;00m\n\u001b[1;32m   1743\u001b[0m \u001b[38;5;66;03m# this function, and just call forward.\u001b[39;00m\n\u001b[1;32m   1744\u001b[0m \u001b[38;5;28;01mif\u001b[39;00m \u001b[38;5;129;01mnot\u001b[39;00m (\u001b[38;5;28mself\u001b[39m\u001b[38;5;241m.\u001b[39m_backward_hooks \u001b[38;5;129;01mor\u001b[39;00m \u001b[38;5;28mself\u001b[39m\u001b[38;5;241m.\u001b[39m_backward_pre_hooks \u001b[38;5;129;01mor\u001b[39;00m \u001b[38;5;28mself\u001b[39m\u001b[38;5;241m.\u001b[39m_forward_hooks \u001b[38;5;129;01mor\u001b[39;00m \u001b[38;5;28mself\u001b[39m\u001b[38;5;241m.\u001b[39m_forward_pre_hooks\n\u001b[1;32m   1745\u001b[0m         \u001b[38;5;129;01mor\u001b[39;00m _global_backward_pre_hooks \u001b[38;5;129;01mor\u001b[39;00m _global_backward_hooks\n\u001b[1;32m   1746\u001b[0m         \u001b[38;5;129;01mor\u001b[39;00m _global_forward_hooks \u001b[38;5;129;01mor\u001b[39;00m _global_forward_pre_hooks):\n\u001b[0;32m-> 1747\u001b[0m     \u001b[38;5;28;01mreturn\u001b[39;00m \u001b[43mforward_call\u001b[49m\u001b[43m(\u001b[49m\u001b[38;5;241;43m*\u001b[39;49m\u001b[43margs\u001b[49m\u001b[43m,\u001b[49m\u001b[43m \u001b[49m\u001b[38;5;241;43m*\u001b[39;49m\u001b[38;5;241;43m*\u001b[39;49m\u001b[43mkwargs\u001b[49m\u001b[43m)\u001b[49m\n\u001b[1;32m   1749\u001b[0m result \u001b[38;5;241m=\u001b[39m \u001b[38;5;28;01mNone\u001b[39;00m\n\u001b[1;32m   1750\u001b[0m called_always_called_hooks \u001b[38;5;241m=\u001b[39m \u001b[38;5;28mset\u001b[39m()\n",
      "File \u001b[0;32m~/Documents/Fall24_Classes/SDS336/Austin_Trees/Trees/lib/python3.11/site-packages/pyro/infer/predictive.py:277\u001b[0m, in \u001b[0;36mPredictive.forward\u001b[0;34m(self, *args, **kwargs)\u001b[0m\n\u001b[1;32m    267\u001b[0m     return_sites \u001b[38;5;241m=\u001b[39m \u001b[38;5;28;01mNone\u001b[39;00m \u001b[38;5;28;01mif\u001b[39;00m \u001b[38;5;129;01mnot\u001b[39;00m return_sites \u001b[38;5;28;01melse\u001b[39;00m return_sites\n\u001b[1;32m    268\u001b[0m     posterior_samples \u001b[38;5;241m=\u001b[39m _predictive(\n\u001b[1;32m    269\u001b[0m         \u001b[38;5;28mself\u001b[39m\u001b[38;5;241m.\u001b[39mguide,\n\u001b[1;32m    270\u001b[0m         posterior_samples,\n\u001b[0;32m   (...)\u001b[0m\n\u001b[1;32m    275\u001b[0m         model_kwargs\u001b[38;5;241m=\u001b[39mkwargs,\n\u001b[1;32m    276\u001b[0m     )\u001b[38;5;241m.\u001b[39msamples\n\u001b[0;32m--> 277\u001b[0m \u001b[38;5;28;01mreturn\u001b[39;00m \u001b[43m_predictive\u001b[49m\u001b[43m(\u001b[49m\n\u001b[1;32m    278\u001b[0m \u001b[43m    \u001b[49m\u001b[38;5;28;43mself\u001b[39;49m\u001b[38;5;241;43m.\u001b[39;49m\u001b[43mmodel\u001b[49m\u001b[43m,\u001b[49m\n\u001b[1;32m    279\u001b[0m \u001b[43m    \u001b[49m\u001b[43mposterior_samples\u001b[49m\u001b[43m,\u001b[49m\n\u001b[1;32m    280\u001b[0m \u001b[43m    \u001b[49m\u001b[38;5;28;43mself\u001b[39;49m\u001b[38;5;241;43m.\u001b[39;49m\u001b[43mnum_samples\u001b[49m\u001b[43m,\u001b[49m\n\u001b[1;32m    281\u001b[0m \u001b[43m    \u001b[49m\u001b[43mreturn_sites\u001b[49m\u001b[38;5;241;43m=\u001b[39;49m\u001b[43mreturn_sites\u001b[49m\u001b[43m,\u001b[49m\n\u001b[1;32m    282\u001b[0m \u001b[43m    \u001b[49m\u001b[43mparallel\u001b[49m\u001b[38;5;241;43m=\u001b[39;49m\u001b[38;5;28;43mself\u001b[39;49m\u001b[38;5;241;43m.\u001b[39;49m\u001b[43mparallel\u001b[49m\u001b[43m,\u001b[49m\n\u001b[1;32m    283\u001b[0m \u001b[43m    \u001b[49m\u001b[43mmodel_args\u001b[49m\u001b[38;5;241;43m=\u001b[39;49m\u001b[43margs\u001b[49m\u001b[43m,\u001b[49m\n\u001b[1;32m    284\u001b[0m \u001b[43m    \u001b[49m\u001b[43mmodel_kwargs\u001b[49m\u001b[38;5;241;43m=\u001b[39;49m\u001b[43mkwargs\u001b[49m\u001b[43m,\u001b[49m\n\u001b[1;32m    285\u001b[0m \u001b[43m\u001b[49m\u001b[43m)\u001b[49m\u001b[38;5;241m.\u001b[39msamples\n",
      "File \u001b[0;32m~/Documents/Fall24_Classes/SDS336/Austin_Trees/Trees/lib/python3.11/site-packages/pyro/infer/predictive.py:132\u001b[0m, in \u001b[0;36m_predictive\u001b[0;34m(model, posterior_samples, num_samples, return_sites, parallel, model_args, model_kwargs, mask)\u001b[0m\n\u001b[1;32m    129\u001b[0m     return_site_shapes[\u001b[38;5;124m\"\u001b[39m\u001b[38;5;124m_RETURN\u001b[39m\u001b[38;5;124m\"\u001b[39m] \u001b[38;5;241m=\u001b[39m shape\n\u001b[1;32m    131\u001b[0m \u001b[38;5;28;01mif\u001b[39;00m \u001b[38;5;129;01mnot\u001b[39;00m parallel:\n\u001b[0;32m--> 132\u001b[0m     \u001b[38;5;28;01mreturn\u001b[39;00m \u001b[43m_predictive_sequential\u001b[49m\u001b[43m(\u001b[49m\n\u001b[1;32m    133\u001b[0m \u001b[43m        \u001b[49m\u001b[43mmodel\u001b[49m\u001b[43m,\u001b[49m\n\u001b[1;32m    134\u001b[0m \u001b[43m        \u001b[49m\u001b[43mposterior_samples\u001b[49m\u001b[43m,\u001b[49m\n\u001b[1;32m    135\u001b[0m \u001b[43m        \u001b[49m\u001b[43mmodel_args\u001b[49m\u001b[43m,\u001b[49m\n\u001b[1;32m    136\u001b[0m \u001b[43m        \u001b[49m\u001b[43mmodel_kwargs\u001b[49m\u001b[43m,\u001b[49m\n\u001b[1;32m    137\u001b[0m \u001b[43m        \u001b[49m\u001b[43mnum_samples\u001b[49m\u001b[43m,\u001b[49m\n\u001b[1;32m    138\u001b[0m \u001b[43m        \u001b[49m\u001b[43mreturn_site_shapes\u001b[49m\u001b[43m,\u001b[49m\n\u001b[1;32m    139\u001b[0m \u001b[43m    \u001b[49m\u001b[43m)\u001b[49m\n\u001b[1;32m    141\u001b[0m trace \u001b[38;5;241m=\u001b[39m poutine\u001b[38;5;241m.\u001b[39mtrace(\n\u001b[1;32m    142\u001b[0m     poutine\u001b[38;5;241m.\u001b[39mcondition(vectorize(model), reshaped_samples)\n\u001b[1;32m    143\u001b[0m )\u001b[38;5;241m.\u001b[39mget_trace(\u001b[38;5;241m*\u001b[39mmodel_args, \u001b[38;5;241m*\u001b[39m\u001b[38;5;241m*\u001b[39mmodel_kwargs)\n\u001b[1;32m    144\u001b[0m predictions \u001b[38;5;241m=\u001b[39m {}\n",
      "File \u001b[0;32m~/Documents/Fall24_Classes/SDS336/Austin_Trees/Trees/lib/python3.11/site-packages/pyro/infer/predictive.py:58\u001b[0m, in \u001b[0;36m_predictive_sequential\u001b[0;34m(model, posterior_samples, model_args, model_kwargs, num_samples, return_site_shapes)\u001b[0m\n\u001b[1;32m     54\u001b[0m samples \u001b[38;5;241m=\u001b[39m [\n\u001b[1;32m     55\u001b[0m     {k: v[i] \u001b[38;5;28;01mfor\u001b[39;00m k, v \u001b[38;5;129;01min\u001b[39;00m posterior_samples\u001b[38;5;241m.\u001b[39mitems()} \u001b[38;5;28;01mfor\u001b[39;00m i \u001b[38;5;129;01min\u001b[39;00m \u001b[38;5;28mrange\u001b[39m(num_samples)\n\u001b[1;32m     56\u001b[0m ]\n\u001b[1;32m     57\u001b[0m \u001b[38;5;28;01mfor\u001b[39;00m i \u001b[38;5;129;01min\u001b[39;00m \u001b[38;5;28mrange\u001b[39m(num_samples):\n\u001b[0;32m---> 58\u001b[0m     trace \u001b[38;5;241m=\u001b[39m \u001b[43mpoutine\u001b[49m\u001b[38;5;241;43m.\u001b[39;49m\u001b[43mtrace\u001b[49m\u001b[43m(\u001b[49m\u001b[43mpoutine\u001b[49m\u001b[38;5;241;43m.\u001b[39;49m\u001b[43mcondition\u001b[49m\u001b[43m(\u001b[49m\u001b[43mmodel\u001b[49m\u001b[43m,\u001b[49m\u001b[43m \u001b[49m\u001b[43msamples\u001b[49m\u001b[43m[\u001b[49m\u001b[43mi\u001b[49m\u001b[43m]\u001b[49m\u001b[43m)\u001b[49m\u001b[43m)\u001b[49m\u001b[38;5;241;43m.\u001b[39;49m\u001b[43mget_trace\u001b[49m\u001b[43m(\u001b[49m\n\u001b[1;32m     59\u001b[0m \u001b[43m        \u001b[49m\u001b[38;5;241;43m*\u001b[39;49m\u001b[43mmodel_args\u001b[49m\u001b[43m,\u001b[49m\u001b[43m \u001b[49m\u001b[38;5;241;43m*\u001b[39;49m\u001b[38;5;241;43m*\u001b[39;49m\u001b[43mmodel_kwargs\u001b[49m\n\u001b[1;32m     60\u001b[0m \u001b[43m    \u001b[49m\u001b[43m)\u001b[49m\n\u001b[1;32m     61\u001b[0m     collected_trace\u001b[38;5;241m.\u001b[39mappend(trace)\n\u001b[1;32m     62\u001b[0m     collected_samples\u001b[38;5;241m.\u001b[39mappend(\n\u001b[1;32m     63\u001b[0m         {site: trace\u001b[38;5;241m.\u001b[39mnodes[site][\u001b[38;5;124m\"\u001b[39m\u001b[38;5;124mvalue\u001b[39m\u001b[38;5;124m\"\u001b[39m] \u001b[38;5;28;01mfor\u001b[39;00m site \u001b[38;5;129;01min\u001b[39;00m return_site_shapes}\n\u001b[1;32m     64\u001b[0m     )\n",
      "File \u001b[0;32m~/Documents/Fall24_Classes/SDS336/Austin_Trees/Trees/lib/python3.11/site-packages/pyro/poutine/trace_messenger.py:216\u001b[0m, in \u001b[0;36mTraceHandler.get_trace\u001b[0;34m(self, *args, **kwargs)\u001b[0m\n\u001b[1;32m    208\u001b[0m \u001b[38;5;28;01mdef\u001b[39;00m \u001b[38;5;21mget_trace\u001b[39m(\u001b[38;5;28mself\u001b[39m, \u001b[38;5;241m*\u001b[39margs, \u001b[38;5;241m*\u001b[39m\u001b[38;5;241m*\u001b[39mkwargs) \u001b[38;5;241m-\u001b[39m\u001b[38;5;241m>\u001b[39m Trace:\n\u001b[1;32m    209\u001b[0m \u001b[38;5;250m    \u001b[39m\u001b[38;5;124;03m\"\"\"\u001b[39;00m\n\u001b[1;32m    210\u001b[0m \u001b[38;5;124;03m    :returns: data structure\u001b[39;00m\n\u001b[1;32m    211\u001b[0m \u001b[38;5;124;03m    :rtype: pyro.poutine.Trace\u001b[39;00m\n\u001b[0;32m   (...)\u001b[0m\n\u001b[1;32m    214\u001b[0m \u001b[38;5;124;03m    Calls this poutine and returns its trace instead of the function's return value.\u001b[39;00m\n\u001b[1;32m    215\u001b[0m \u001b[38;5;124;03m    \"\"\"\u001b[39;00m\n\u001b[0;32m--> 216\u001b[0m     \u001b[38;5;28;43mself\u001b[39;49m\u001b[43m(\u001b[49m\u001b[38;5;241;43m*\u001b[39;49m\u001b[43margs\u001b[49m\u001b[43m,\u001b[49m\u001b[43m \u001b[49m\u001b[38;5;241;43m*\u001b[39;49m\u001b[38;5;241;43m*\u001b[39;49m\u001b[43mkwargs\u001b[49m\u001b[43m)\u001b[49m\n\u001b[1;32m    217\u001b[0m     \u001b[38;5;28;01mreturn\u001b[39;00m \u001b[38;5;28mself\u001b[39m\u001b[38;5;241m.\u001b[39mmsngr\u001b[38;5;241m.\u001b[39mget_trace()\n",
      "File \u001b[0;32m~/Documents/Fall24_Classes/SDS336/Austin_Trees/Trees/lib/python3.11/site-packages/pyro/poutine/trace_messenger.py:191\u001b[0m, in \u001b[0;36mTraceHandler.__call__\u001b[0;34m(self, *args, **kwargs)\u001b[0m\n\u001b[1;32m    187\u001b[0m \u001b[38;5;28mself\u001b[39m\u001b[38;5;241m.\u001b[39mmsngr\u001b[38;5;241m.\u001b[39mtrace\u001b[38;5;241m.\u001b[39madd_node(\n\u001b[1;32m    188\u001b[0m     \u001b[38;5;124m\"\u001b[39m\u001b[38;5;124m_INPUT\u001b[39m\u001b[38;5;124m\"\u001b[39m, name\u001b[38;5;241m=\u001b[39m\u001b[38;5;124m\"\u001b[39m\u001b[38;5;124m_INPUT\u001b[39m\u001b[38;5;124m\"\u001b[39m, \u001b[38;5;28mtype\u001b[39m\u001b[38;5;241m=\u001b[39m\u001b[38;5;124m\"\u001b[39m\u001b[38;5;124margs\u001b[39m\u001b[38;5;124m\"\u001b[39m, args\u001b[38;5;241m=\u001b[39margs, kwargs\u001b[38;5;241m=\u001b[39mkwargs\n\u001b[1;32m    189\u001b[0m )\n\u001b[1;32m    190\u001b[0m \u001b[38;5;28;01mtry\u001b[39;00m:\n\u001b[0;32m--> 191\u001b[0m     ret \u001b[38;5;241m=\u001b[39m \u001b[38;5;28;43mself\u001b[39;49m\u001b[38;5;241;43m.\u001b[39;49m\u001b[43mfn\u001b[49m\u001b[43m(\u001b[49m\u001b[38;5;241;43m*\u001b[39;49m\u001b[43margs\u001b[49m\u001b[43m,\u001b[49m\u001b[43m \u001b[49m\u001b[38;5;241;43m*\u001b[39;49m\u001b[38;5;241;43m*\u001b[39;49m\u001b[43mkwargs\u001b[49m\u001b[43m)\u001b[49m\n\u001b[1;32m    192\u001b[0m \u001b[38;5;28;01mexcept\u001b[39;00m (\u001b[38;5;167;01mValueError\u001b[39;00m, \u001b[38;5;167;01mRuntimeError\u001b[39;00m) \u001b[38;5;28;01mas\u001b[39;00m e:\n\u001b[1;32m    193\u001b[0m     exc_type, exc_value, traceback \u001b[38;5;241m=\u001b[39m sys\u001b[38;5;241m.\u001b[39mexc_info()\n",
      "File \u001b[0;32m~/Documents/Fall24_Classes/SDS336/Austin_Trees/Trees/lib/python3.11/site-packages/pyro/poutine/messenger.py:32\u001b[0m, in \u001b[0;36m_context_wrap\u001b[0;34m(context, fn, *args, **kwargs)\u001b[0m\n\u001b[1;32m     25\u001b[0m \u001b[38;5;28;01mdef\u001b[39;00m \u001b[38;5;21m_context_wrap\u001b[39m(\n\u001b[1;32m     26\u001b[0m     context: \u001b[38;5;124m\"\u001b[39m\u001b[38;5;124mMessenger\u001b[39m\u001b[38;5;124m\"\u001b[39m,\n\u001b[1;32m     27\u001b[0m     fn: Callable,\n\u001b[1;32m     28\u001b[0m     \u001b[38;5;241m*\u001b[39margs: Any,\n\u001b[1;32m     29\u001b[0m     \u001b[38;5;241m*\u001b[39m\u001b[38;5;241m*\u001b[39mkwargs: Any,\n\u001b[1;32m     30\u001b[0m ) \u001b[38;5;241m-\u001b[39m\u001b[38;5;241m>\u001b[39m Any:\n\u001b[1;32m     31\u001b[0m     \u001b[38;5;28;01mwith\u001b[39;00m context:\n\u001b[0;32m---> 32\u001b[0m         \u001b[38;5;28;01mreturn\u001b[39;00m \u001b[43mfn\u001b[49m\u001b[43m(\u001b[49m\u001b[38;5;241;43m*\u001b[39;49m\u001b[43margs\u001b[49m\u001b[43m,\u001b[49m\u001b[43m \u001b[49m\u001b[38;5;241;43m*\u001b[39;49m\u001b[38;5;241;43m*\u001b[39;49m\u001b[43mkwargs\u001b[49m\u001b[43m)\u001b[49m\n",
      "File \u001b[0;32m~/Documents/Fall24_Classes/SDS336/Austin_Trees/Trees/lib/python3.11/site-packages/torch/utils/_contextlib.py:116\u001b[0m, in \u001b[0;36mcontext_decorator.<locals>.decorate_context\u001b[0;34m(*args, **kwargs)\u001b[0m\n\u001b[1;32m    113\u001b[0m \u001b[38;5;129m@functools\u001b[39m\u001b[38;5;241m.\u001b[39mwraps(func)\n\u001b[1;32m    114\u001b[0m \u001b[38;5;28;01mdef\u001b[39;00m \u001b[38;5;21mdecorate_context\u001b[39m(\u001b[38;5;241m*\u001b[39margs, \u001b[38;5;241m*\u001b[39m\u001b[38;5;241m*\u001b[39mkwargs):\n\u001b[1;32m    115\u001b[0m     \u001b[38;5;28;01mwith\u001b[39;00m ctx_factory():\n\u001b[0;32m--> 116\u001b[0m         \u001b[38;5;28;01mreturn\u001b[39;00m \u001b[43mfunc\u001b[49m\u001b[43m(\u001b[49m\u001b[38;5;241;43m*\u001b[39;49m\u001b[43margs\u001b[49m\u001b[43m,\u001b[49m\u001b[43m \u001b[49m\u001b[38;5;241;43m*\u001b[39;49m\u001b[38;5;241;43m*\u001b[39;49m\u001b[43mkwargs\u001b[49m\u001b[43m)\u001b[49m\n",
      "File \u001b[0;32m~/Documents/Fall24_Classes/SDS336/Austin_Trees/Trees/lib/python3.11/site-packages/pyro/poutine/messenger.py:32\u001b[0m, in \u001b[0;36m_context_wrap\u001b[0;34m(context, fn, *args, **kwargs)\u001b[0m\n\u001b[1;32m     25\u001b[0m \u001b[38;5;28;01mdef\u001b[39;00m \u001b[38;5;21m_context_wrap\u001b[39m(\n\u001b[1;32m     26\u001b[0m     context: \u001b[38;5;124m\"\u001b[39m\u001b[38;5;124mMessenger\u001b[39m\u001b[38;5;124m\"\u001b[39m,\n\u001b[1;32m     27\u001b[0m     fn: Callable,\n\u001b[1;32m     28\u001b[0m     \u001b[38;5;241m*\u001b[39margs: Any,\n\u001b[1;32m     29\u001b[0m     \u001b[38;5;241m*\u001b[39m\u001b[38;5;241m*\u001b[39mkwargs: Any,\n\u001b[1;32m     30\u001b[0m ) \u001b[38;5;241m-\u001b[39m\u001b[38;5;241m>\u001b[39m Any:\n\u001b[1;32m     31\u001b[0m     \u001b[38;5;28;01mwith\u001b[39;00m context:\n\u001b[0;32m---> 32\u001b[0m         \u001b[38;5;28;01mreturn\u001b[39;00m \u001b[43mfn\u001b[49m\u001b[43m(\u001b[49m\u001b[38;5;241;43m*\u001b[39;49m\u001b[43margs\u001b[49m\u001b[43m,\u001b[49m\u001b[43m \u001b[49m\u001b[38;5;241;43m*\u001b[39;49m\u001b[38;5;241;43m*\u001b[39;49m\u001b[43mkwargs\u001b[49m\u001b[43m)\u001b[49m\n",
      "File \u001b[0;32m~/Documents/Fall24_Classes/SDS336/Austin_Trees/Trees/lib/python3.11/site-packages/pyro/nn/module.py:520\u001b[0m, in \u001b[0;36mPyroModule.__call__\u001b[0;34m(self, *args, **kwargs)\u001b[0m\n\u001b[1;32m    518\u001b[0m \u001b[38;5;28;01mdef\u001b[39;00m \u001b[38;5;21m__call__\u001b[39m(\u001b[38;5;28mself\u001b[39m, \u001b[38;5;241m*\u001b[39margs: Any, \u001b[38;5;241m*\u001b[39m\u001b[38;5;241m*\u001b[39mkwargs: Any) \u001b[38;5;241m-\u001b[39m\u001b[38;5;241m>\u001b[39m Any:\n\u001b[1;32m    519\u001b[0m     \u001b[38;5;28;01mwith\u001b[39;00m \u001b[38;5;28mself\u001b[39m\u001b[38;5;241m.\u001b[39m_pyro_context:\n\u001b[0;32m--> 520\u001b[0m         result \u001b[38;5;241m=\u001b[39m \u001b[38;5;28;43msuper\u001b[39;49m\u001b[43m(\u001b[49m\u001b[43m)\u001b[49m\u001b[38;5;241;43m.\u001b[39;49m\u001b[38;5;21;43m__call__\u001b[39;49m\u001b[43m(\u001b[49m\u001b[38;5;241;43m*\u001b[39;49m\u001b[43margs\u001b[49m\u001b[43m,\u001b[49m\u001b[43m \u001b[49m\u001b[38;5;241;43m*\u001b[39;49m\u001b[38;5;241;43m*\u001b[39;49m\u001b[43mkwargs\u001b[49m\u001b[43m)\u001b[49m\n\u001b[1;32m    521\u001b[0m     \u001b[38;5;28;01mif\u001b[39;00m (\n\u001b[1;32m    522\u001b[0m         pyro\u001b[38;5;241m.\u001b[39msettings\u001b[38;5;241m.\u001b[39mget(\u001b[38;5;124m\"\u001b[39m\u001b[38;5;124mvalidate_poutine\u001b[39m\u001b[38;5;124m\"\u001b[39m)\n\u001b[1;32m    523\u001b[0m         \u001b[38;5;129;01mand\u001b[39;00m \u001b[38;5;129;01mnot\u001b[39;00m \u001b[38;5;28mself\u001b[39m\u001b[38;5;241m.\u001b[39m_pyro_context\u001b[38;5;241m.\u001b[39mactive\n\u001b[1;32m    524\u001b[0m         \u001b[38;5;129;01mand\u001b[39;00m _is_module_local_param_enabled()\n\u001b[1;32m    525\u001b[0m     ):\n\u001b[1;32m    526\u001b[0m         \u001b[38;5;28mself\u001b[39m\u001b[38;5;241m.\u001b[39m_check_module_local_param_usage()\n",
      "File \u001b[0;32m~/Documents/Fall24_Classes/SDS336/Austin_Trees/Trees/lib/python3.11/site-packages/torch/nn/modules/module.py:1736\u001b[0m, in \u001b[0;36mModule._wrapped_call_impl\u001b[0;34m(self, *args, **kwargs)\u001b[0m\n\u001b[1;32m   1734\u001b[0m     \u001b[38;5;28;01mreturn\u001b[39;00m \u001b[38;5;28mself\u001b[39m\u001b[38;5;241m.\u001b[39m_compiled_call_impl(\u001b[38;5;241m*\u001b[39margs, \u001b[38;5;241m*\u001b[39m\u001b[38;5;241m*\u001b[39mkwargs)  \u001b[38;5;66;03m# type: ignore[misc]\u001b[39;00m\n\u001b[1;32m   1735\u001b[0m \u001b[38;5;28;01melse\u001b[39;00m:\n\u001b[0;32m-> 1736\u001b[0m     \u001b[38;5;28;01mreturn\u001b[39;00m \u001b[38;5;28;43mself\u001b[39;49m\u001b[38;5;241;43m.\u001b[39;49m\u001b[43m_call_impl\u001b[49m\u001b[43m(\u001b[49m\u001b[38;5;241;43m*\u001b[39;49m\u001b[43margs\u001b[49m\u001b[43m,\u001b[49m\u001b[43m \u001b[49m\u001b[38;5;241;43m*\u001b[39;49m\u001b[38;5;241;43m*\u001b[39;49m\u001b[43mkwargs\u001b[49m\u001b[43m)\u001b[49m\n",
      "File \u001b[0;32m~/Documents/Fall24_Classes/SDS336/Austin_Trees/Trees/lib/python3.11/site-packages/torch/nn/modules/module.py:1747\u001b[0m, in \u001b[0;36mModule._call_impl\u001b[0;34m(self, *args, **kwargs)\u001b[0m\n\u001b[1;32m   1742\u001b[0m \u001b[38;5;66;03m# If we don't have any hooks, we want to skip the rest of the logic in\u001b[39;00m\n\u001b[1;32m   1743\u001b[0m \u001b[38;5;66;03m# this function, and just call forward.\u001b[39;00m\n\u001b[1;32m   1744\u001b[0m \u001b[38;5;28;01mif\u001b[39;00m \u001b[38;5;129;01mnot\u001b[39;00m (\u001b[38;5;28mself\u001b[39m\u001b[38;5;241m.\u001b[39m_backward_hooks \u001b[38;5;129;01mor\u001b[39;00m \u001b[38;5;28mself\u001b[39m\u001b[38;5;241m.\u001b[39m_backward_pre_hooks \u001b[38;5;129;01mor\u001b[39;00m \u001b[38;5;28mself\u001b[39m\u001b[38;5;241m.\u001b[39m_forward_hooks \u001b[38;5;129;01mor\u001b[39;00m \u001b[38;5;28mself\u001b[39m\u001b[38;5;241m.\u001b[39m_forward_pre_hooks\n\u001b[1;32m   1745\u001b[0m         \u001b[38;5;129;01mor\u001b[39;00m _global_backward_pre_hooks \u001b[38;5;129;01mor\u001b[39;00m _global_backward_hooks\n\u001b[1;32m   1746\u001b[0m         \u001b[38;5;129;01mor\u001b[39;00m _global_forward_hooks \u001b[38;5;129;01mor\u001b[39;00m _global_forward_pre_hooks):\n\u001b[0;32m-> 1747\u001b[0m     \u001b[38;5;28;01mreturn\u001b[39;00m \u001b[43mforward_call\u001b[49m\u001b[43m(\u001b[49m\u001b[38;5;241;43m*\u001b[39;49m\u001b[43margs\u001b[49m\u001b[43m,\u001b[49m\u001b[43m \u001b[49m\u001b[38;5;241;43m*\u001b[39;49m\u001b[38;5;241;43m*\u001b[39;49m\u001b[43mkwargs\u001b[49m\u001b[43m)\u001b[49m\n\u001b[1;32m   1749\u001b[0m result \u001b[38;5;241m=\u001b[39m \u001b[38;5;28;01mNone\u001b[39;00m\n\u001b[1;32m   1750\u001b[0m called_always_called_hooks \u001b[38;5;241m=\u001b[39m \u001b[38;5;28mset\u001b[39m()\n",
      "Cell \u001b[0;32mIn[139], line 39\u001b[0m, in \u001b[0;36mBayesianNN.forward\u001b[0;34m(self, x, y)\u001b[0m\n\u001b[1;32m     37\u001b[0m \u001b[38;5;28;01mdef\u001b[39;00m \u001b[38;5;21mforward\u001b[39m(\u001b[38;5;28mself\u001b[39m, x, y\u001b[38;5;241m=\u001b[39m\u001b[38;5;28;01mNone\u001b[39;00m):\n\u001b[1;32m     38\u001b[0m     x \u001b[38;5;241m=\u001b[39m torch\u001b[38;5;241m.\u001b[39mrelu(\u001b[38;5;28mself\u001b[39m\u001b[38;5;241m.\u001b[39mfc1(x))\n\u001b[0;32m---> 39\u001b[0m     x \u001b[38;5;241m=\u001b[39m torch\u001b[38;5;241m.\u001b[39mrelu(\u001b[38;5;28;43mself\u001b[39;49m\u001b[38;5;241;43m.\u001b[39;49m\u001b[43mfc2\u001b[49m\u001b[43m(\u001b[49m\u001b[43mx\u001b[49m\u001b[43m)\u001b[49m)\n\u001b[1;32m     40\u001b[0m     mean \u001b[38;5;241m=\u001b[39m \u001b[38;5;28mself\u001b[39m\u001b[38;5;241m.\u001b[39mfc3(x)\u001b[38;5;241m.\u001b[39msqueeze(\u001b[38;5;241m-\u001b[39m\u001b[38;5;241m1\u001b[39m)\n\u001b[1;32m     41\u001b[0m     sigma \u001b[38;5;241m=\u001b[39m pyro\u001b[38;5;241m.\u001b[39msample(\u001b[38;5;124m\"\u001b[39m\u001b[38;5;124msigma\u001b[39m\u001b[38;5;124m\"\u001b[39m, dist\u001b[38;5;241m.\u001b[39mHalfNormal(\u001b[38;5;241m1.0\u001b[39m))  \u001b[38;5;66;03m# More flexible noise variance\u001b[39;00m\n",
      "File \u001b[0;32m~/Documents/Fall24_Classes/SDS336/Austin_Trees/Trees/lib/python3.11/site-packages/pyro/nn/module.py:520\u001b[0m, in \u001b[0;36mPyroModule.__call__\u001b[0;34m(self, *args, **kwargs)\u001b[0m\n\u001b[1;32m    518\u001b[0m \u001b[38;5;28;01mdef\u001b[39;00m \u001b[38;5;21m__call__\u001b[39m(\u001b[38;5;28mself\u001b[39m, \u001b[38;5;241m*\u001b[39margs: Any, \u001b[38;5;241m*\u001b[39m\u001b[38;5;241m*\u001b[39mkwargs: Any) \u001b[38;5;241m-\u001b[39m\u001b[38;5;241m>\u001b[39m Any:\n\u001b[1;32m    519\u001b[0m     \u001b[38;5;28;01mwith\u001b[39;00m \u001b[38;5;28mself\u001b[39m\u001b[38;5;241m.\u001b[39m_pyro_context:\n\u001b[0;32m--> 520\u001b[0m         result \u001b[38;5;241m=\u001b[39m \u001b[38;5;28;43msuper\u001b[39;49m\u001b[43m(\u001b[49m\u001b[43m)\u001b[49m\u001b[38;5;241;43m.\u001b[39;49m\u001b[38;5;21;43m__call__\u001b[39;49m\u001b[43m(\u001b[49m\u001b[38;5;241;43m*\u001b[39;49m\u001b[43margs\u001b[49m\u001b[43m,\u001b[49m\u001b[43m \u001b[49m\u001b[38;5;241;43m*\u001b[39;49m\u001b[38;5;241;43m*\u001b[39;49m\u001b[43mkwargs\u001b[49m\u001b[43m)\u001b[49m\n\u001b[1;32m    521\u001b[0m     \u001b[38;5;28;01mif\u001b[39;00m (\n\u001b[1;32m    522\u001b[0m         pyro\u001b[38;5;241m.\u001b[39msettings\u001b[38;5;241m.\u001b[39mget(\u001b[38;5;124m\"\u001b[39m\u001b[38;5;124mvalidate_poutine\u001b[39m\u001b[38;5;124m\"\u001b[39m)\n\u001b[1;32m    523\u001b[0m         \u001b[38;5;129;01mand\u001b[39;00m \u001b[38;5;129;01mnot\u001b[39;00m \u001b[38;5;28mself\u001b[39m\u001b[38;5;241m.\u001b[39m_pyro_context\u001b[38;5;241m.\u001b[39mactive\n\u001b[1;32m    524\u001b[0m         \u001b[38;5;129;01mand\u001b[39;00m _is_module_local_param_enabled()\n\u001b[1;32m    525\u001b[0m     ):\n\u001b[1;32m    526\u001b[0m         \u001b[38;5;28mself\u001b[39m\u001b[38;5;241m.\u001b[39m_check_module_local_param_usage()\n",
      "File \u001b[0;32m~/Documents/Fall24_Classes/SDS336/Austin_Trees/Trees/lib/python3.11/site-packages/torch/nn/modules/module.py:1736\u001b[0m, in \u001b[0;36mModule._wrapped_call_impl\u001b[0;34m(self, *args, **kwargs)\u001b[0m\n\u001b[1;32m   1734\u001b[0m     \u001b[38;5;28;01mreturn\u001b[39;00m \u001b[38;5;28mself\u001b[39m\u001b[38;5;241m.\u001b[39m_compiled_call_impl(\u001b[38;5;241m*\u001b[39margs, \u001b[38;5;241m*\u001b[39m\u001b[38;5;241m*\u001b[39mkwargs)  \u001b[38;5;66;03m# type: ignore[misc]\u001b[39;00m\n\u001b[1;32m   1735\u001b[0m \u001b[38;5;28;01melse\u001b[39;00m:\n\u001b[0;32m-> 1736\u001b[0m     \u001b[38;5;28;01mreturn\u001b[39;00m \u001b[38;5;28;43mself\u001b[39;49m\u001b[38;5;241;43m.\u001b[39;49m\u001b[43m_call_impl\u001b[49m\u001b[43m(\u001b[49m\u001b[38;5;241;43m*\u001b[39;49m\u001b[43margs\u001b[49m\u001b[43m,\u001b[49m\u001b[43m \u001b[49m\u001b[38;5;241;43m*\u001b[39;49m\u001b[38;5;241;43m*\u001b[39;49m\u001b[43mkwargs\u001b[49m\u001b[43m)\u001b[49m\n",
      "File \u001b[0;32m~/Documents/Fall24_Classes/SDS336/Austin_Trees/Trees/lib/python3.11/site-packages/torch/nn/modules/module.py:1747\u001b[0m, in \u001b[0;36mModule._call_impl\u001b[0;34m(self, *args, **kwargs)\u001b[0m\n\u001b[1;32m   1742\u001b[0m \u001b[38;5;66;03m# If we don't have any hooks, we want to skip the rest of the logic in\u001b[39;00m\n\u001b[1;32m   1743\u001b[0m \u001b[38;5;66;03m# this function, and just call forward.\u001b[39;00m\n\u001b[1;32m   1744\u001b[0m \u001b[38;5;28;01mif\u001b[39;00m \u001b[38;5;129;01mnot\u001b[39;00m (\u001b[38;5;28mself\u001b[39m\u001b[38;5;241m.\u001b[39m_backward_hooks \u001b[38;5;129;01mor\u001b[39;00m \u001b[38;5;28mself\u001b[39m\u001b[38;5;241m.\u001b[39m_backward_pre_hooks \u001b[38;5;129;01mor\u001b[39;00m \u001b[38;5;28mself\u001b[39m\u001b[38;5;241m.\u001b[39m_forward_hooks \u001b[38;5;129;01mor\u001b[39;00m \u001b[38;5;28mself\u001b[39m\u001b[38;5;241m.\u001b[39m_forward_pre_hooks\n\u001b[1;32m   1745\u001b[0m         \u001b[38;5;129;01mor\u001b[39;00m _global_backward_pre_hooks \u001b[38;5;129;01mor\u001b[39;00m _global_backward_hooks\n\u001b[1;32m   1746\u001b[0m         \u001b[38;5;129;01mor\u001b[39;00m _global_forward_hooks \u001b[38;5;129;01mor\u001b[39;00m _global_forward_pre_hooks):\n\u001b[0;32m-> 1747\u001b[0m     \u001b[38;5;28;01mreturn\u001b[39;00m \u001b[43mforward_call\u001b[49m\u001b[43m(\u001b[49m\u001b[38;5;241;43m*\u001b[39;49m\u001b[43margs\u001b[49m\u001b[43m,\u001b[49m\u001b[43m \u001b[49m\u001b[38;5;241;43m*\u001b[39;49m\u001b[38;5;241;43m*\u001b[39;49m\u001b[43mkwargs\u001b[49m\u001b[43m)\u001b[49m\n\u001b[1;32m   1749\u001b[0m result \u001b[38;5;241m=\u001b[39m \u001b[38;5;28;01mNone\u001b[39;00m\n\u001b[1;32m   1750\u001b[0m called_always_called_hooks \u001b[38;5;241m=\u001b[39m \u001b[38;5;28mset\u001b[39m()\n",
      "File \u001b[0;32m~/Documents/Fall24_Classes/SDS336/Austin_Trees/Trees/lib/python3.11/site-packages/torch/nn/modules/linear.py:125\u001b[0m, in \u001b[0;36mLinear.forward\u001b[0;34m(self, input)\u001b[0m\n\u001b[1;32m    124\u001b[0m \u001b[38;5;28;01mdef\u001b[39;00m \u001b[38;5;21mforward\u001b[39m(\u001b[38;5;28mself\u001b[39m, \u001b[38;5;28minput\u001b[39m: Tensor) \u001b[38;5;241m-\u001b[39m\u001b[38;5;241m>\u001b[39m Tensor:\n\u001b[0;32m--> 125\u001b[0m     \u001b[38;5;28;01mreturn\u001b[39;00m \u001b[43mF\u001b[49m\u001b[38;5;241;43m.\u001b[39;49m\u001b[43mlinear\u001b[49m\u001b[43m(\u001b[49m\u001b[38;5;28;43minput\u001b[39;49m\u001b[43m,\u001b[49m\u001b[43m \u001b[49m\u001b[38;5;28;43mself\u001b[39;49m\u001b[38;5;241;43m.\u001b[39;49m\u001b[43mweight\u001b[49m\u001b[43m,\u001b[49m\u001b[43m \u001b[49m\u001b[38;5;28;43mself\u001b[39;49m\u001b[38;5;241;43m.\u001b[39;49m\u001b[43mbias\u001b[49m\u001b[43m)\u001b[49m\n",
      "\u001b[0;31mKeyboardInterrupt\u001b[0m: "
     ]
    }
   ],
   "source": [
    "import torch\n",
    "import torch.nn as nn\n",
    "import pyro\n",
    "import pyro.distributions as dist\n",
    "from pyro.nn import PyroModule, PyroSample\n",
    "from pyro.infer import SVI, Trace_ELBO\n",
    "from pyro.optim import Adam\n",
    "import numpy as np\n",
    "from sklearn.preprocessing import StandardScaler\n",
    "from sklearn.metrics import mean_squared_error\n",
    "from torch.utils.data import DataLoader, TensorDataset\n",
    "from tqdm import tqdm\n",
    "import matplotlib.pyplot as plt\n",
    "import warnings\n",
    "\n",
    "# Suppress UserWarnings\n",
    "warnings.filterwarnings(\"ignore\", category=UserWarning)\n",
    "\n",
    "# ----------------------------\n",
    "# Bayesian Neural Network Model with Increased Complexity\n",
    "# ----------------------------\n",
    "class BayesianNN(PyroModule):\n",
    "    def __init__(self, input_dim, hidden_dim):\n",
    "        super().__init__()\n",
    "        self.fc1 = PyroModule[nn.Linear](input_dim, hidden_dim)\n",
    "        self.fc1.weight = PyroSample(dist.Normal(0., 0.75).expand([hidden_dim, input_dim]).to_event(2))\n",
    "        self.fc1.bias = PyroSample(dist.Normal(0., 0.75).expand([hidden_dim]).to_event(1))\n",
    "\n",
    "        self.fc2 = PyroModule[nn.Linear](hidden_dim, hidden_dim)\n",
    "        self.fc2.weight = PyroSample(dist.Normal(0., 0.75).expand([hidden_dim, hidden_dim]).to_event(2))\n",
    "        self.fc2.bias = PyroSample(dist.Normal(0., 0.75).expand([hidden_dim]).to_event(1))\n",
    "\n",
    "        self.fc3 = PyroModule[nn.Linear](hidden_dim, 1)\n",
    "        self.fc3.weight = PyroSample(dist.Normal(0., 0.75).expand([1, hidden_dim]).to_event(2))\n",
    "        self.fc3.bias = PyroSample(dist.Normal(0., 0.75).expand([1]).to_event(1))\n",
    "\n",
    "    def forward(self, x, y=None):\n",
    "        x = torch.relu(self.fc1(x))\n",
    "        x = torch.relu(self.fc2(x))\n",
    "        mean = self.fc3(x).squeeze(-1)\n",
    "        sigma = pyro.sample(\"sigma\", dist.HalfNormal(1.0))  # More flexible noise variance\n",
    "        with pyro.plate(\"data\", x.shape[0]):\n",
    "            obs = pyro.sample(\"obs\", dist.Normal(mean, sigma), obs=y)\n",
    "        return mean\n",
    "\n",
    "# ----------------------------\n",
    "# Prepare Data with Feature Scaling\n",
    "# ----------------------------\n",
    "scaler_x = StandardScaler()\n",
    "\n",
    "# Fit scalers on training data and transform both train and test data\n",
    "X_train_scaled = scaler_x.fit_transform(X_train)\n",
    "X_test_scaled = scaler_x.transform(X_test)\n",
    "\n",
    "# Convert scaled data to PyTorch tensors, preserving original y values\n",
    "train_x = torch.tensor(X_train_scaled, dtype=torch.float32)\n",
    "train_y = torch.tensor(y_train.to_numpy(dtype=np.float32).reshape(-1, 1).flatten(), dtype=torch.float32)\n",
    "test_x = torch.tensor(X_test_scaled, dtype=torch.float32)\n",
    "test_y = torch.tensor(y_test.to_numpy(dtype=np.float32).reshape(-1, 1).flatten(), dtype=torch.float32)\n",
    "\n",
    "# Create DataLoader for batching\n",
    "batch_size = 16\n",
    "train_loader = DataLoader(TensorDataset(train_x, train_y), batch_size=batch_size, shuffle=True)\n",
    "\n",
    "# ----------------------------\n",
    "# Training Setup with Reduced Regularization and Scheduler\n",
    "# ----------------------------\n",
    "input_dim = train_x.shape[1]\n",
    "hidden_dim = 200  # Increased hidden dimension\n",
    "model = BayesianNN(input_dim, hidden_dim)\n",
    "\n",
    "# Define the guide\n",
    "def guide(x, y=None):\n",
    "    for name, module in model.named_modules():\n",
    "        for param_name, param in module.named_parameters(recurse=False):\n",
    "            full_name = f\"{name}.{param_name}\" if name else param_name\n",
    "            if isinstance(param, PyroSample):\n",
    "                pyro.sample(full_name, dist.Normal(\n",
    "                    loc=pyro.param(f\"{full_name}_loc\", torch.randn_like(param)),\n",
    "                    scale=pyro.param(f\"{full_name}_scale\", torch.ones_like(param), constraint=dist.constraints.positive)\n",
    "                ))\n",
    "    pyro.sample(\"sigma\", dist.Normal(\n",
    "        loc=pyro.param(\"sigma_loc\", torch.tensor(1.0)),\n",
    "        scale=pyro.param(\"sigma_scale\", torch.tensor(0.1), constraint=dist.constraints.positive)\n",
    "    ))\n",
    "\n",
    "# Define optimizer and SVI with reduced regularization (KL term)\n",
    "optimizer = Adam({\"lr\": 1e-5, \"weight_decay\": 1e-5})\n",
    "svi = SVI(model, guide, optimizer, loss=Trace_ELBO(num_particles=1, tail_adaptive_beta=0.5))  # Reduce KL weight\n",
    "\n",
    "# ----------------------------\n",
    "# Train the Model with MSE Tracking\n",
    "# ----------------------------\n",
    "epochs = 100\n",
    "train_losses = []  # ELBO train losses\n",
    "test_losses = []   # ELBO test losses\n",
    "train_mse_list = []  # Train MSE\n",
    "test_mse_list = []   # Test MSE\n",
    "\n",
    "for epoch in tqdm(range(epochs), desc=\"Training BNN\"):\n",
    "    model.train()\n",
    "    epoch_loss = 0.0\n",
    "    for batch_x, batch_y in train_loader:\n",
    "        loss = svi.step(batch_x, batch_y)\n",
    "        torch.nn.utils.clip_grad_norm_(model.parameters(), max_norm=0.5)  # Gradient clipping\n",
    "        epoch_loss += loss\n",
    "\n",
    "    # Calculate average train loss (ELBO)\n",
    "    avg_train_loss = epoch_loss / len(train_loader)\n",
    "    train_losses.append(avg_train_loss)\n",
    "\n",
    "    # Evaluate train and test losses\n",
    "    model.eval()\n",
    "    with torch.no_grad():\n",
    "        # Train MSE\n",
    "        predictive_train = pyro.infer.Predictive(model, guide=guide, num_samples=1000, return_sites=(\"obs\",))\n",
    "        train_predictions = predictive_train(train_x)\n",
    "        train_pred_means = train_predictions[\"obs\"].mean(0)\n",
    "        train_mse = mean_squared_error(train_y.numpy(), train_pred_means.numpy())\n",
    "        train_mse_list.append(train_mse)\n",
    "\n",
    "        # Test MSE\n",
    "        predictive_test = pyro.infer.Predictive(model, guide=guide, num_samples=1000, return_sites=(\"obs\",))\n",
    "        test_predictions = predictive_test(test_x)\n",
    "        test_pred_means = test_predictions[\"obs\"].mean(0)\n",
    "        test_loss = torch.mean((test_pred_means - test_y) ** 2).item()\n",
    "        test_losses.append(test_loss)\n",
    "        test_mse = mean_squared_error(test_y.numpy(), test_pred_means.numpy())\n",
    "        test_mse_list.append(test_mse)\n",
    "\n",
    "    print(\n",
    "        f\"Epoch {epoch + 1}/{epochs} | Train Loss (ELBO): {avg_train_loss:.4f} | \"\n",
    "        f\"Test Loss (ELBO): {test_loss:.4f} | Train MSE: {train_mse:.4f} | Test MSE: {test_mse:.4f}\"\n",
    "    )\n",
    "\n",
    "# ----------------------------\n",
    "# Plot Train vs Test Loss and MSE\n",
    "# ----------------------------\n",
    "plt.figure(figsize=(12, 8))\n",
    "plt.plot(range(1, epochs + 1), train_losses, label=\"Train Loss (ELBO)\")\n",
    "plt.plot(range(1, epochs + 1), test_losses, label=\"Test Loss (ELBO)\")\n",
    "plt.plot(range(1, epochs + 1), train_mse_list, label=\"Train MSE\")\n",
    "plt.plot(range(1, epochs + 1), test_mse_list, label=\"Test MSE\")\n",
    "plt.xlabel(\"Epochs\")\n",
    "plt.ylabel(\"Loss\")\n",
    "plt.title(\"Train vs Test Loss and MSE Over Epochs\")\n",
    "plt.legend()\n",
    "plt.grid()\n",
    "plt.show()"
   ]
  },
  {
   "cell_type": "code",
   "execution_count": 53,
   "id": "20ed8fd3",
   "metadata": {},
   "outputs": [
    {
     "name": "stdout",
     "output_type": "stream",
     "text": [
      "BNN Test MSE: 47.7514\n"
     ]
    }
   ],
   "source": [
    "mse_bnn = mean_squared_error(y_test, pred_means_original)\n",
    "print(f\"BNN Test MSE: {mse_bnn:.4f}\")"
   ]
  },
  {
   "cell_type": "markdown",
   "id": "85204f7f",
   "metadata": {},
   "source": [
    "# KNN"
   ]
  },
  {
   "cell_type": "code",
   "execution_count": 75,
   "id": "dd975395",
   "metadata": {},
   "outputs": [
    {
     "name": "stdout",
     "output_type": "stream",
     "text": [
      "Best KNN Test MSE: 25.0324\n",
      "Best KNN Test MAE: 3.2441\n",
      "Best KNN r^2 score: 0.4081\n"
     ]
    },
    {
     "data": {
      "image/png": "[encoded data removed]",
      "text/plain": [
       "<Figure size 1000x600 with 1 Axes>"
      ]
     },
     "metadata": {},
     "output_type": "display_data"
    }
   ],
   "source": [
    "from sklearn.model_selection import GridSearchCV\n",
    "from sklearn.neighbors import KNeighborsRegressor\n",
    "from sklearn.preprocessing import StandardScaler\n",
    "from sklearn.metrics import mean_squared_error\n",
    "import matplotlib.pyplot as plt\n",
    "\n",
    "# Scale the data\n",
    "scaler = StandardScaler()\n",
    "X_train_scaled = scaler.fit_transform(X_train)\n",
    "X_test_scaled = scaler.transform(X_test)\n",
    "\n",
    "# Define the parameter grid for GridSearchCV\n",
    "param_grid = {\n",
    "    'n_neighbors': range(8, 20),  # Number of neighbors to consider\n",
    "    'weights': ['uniform', 'distance'],  # Uniform weights or distance-based\n",
    "    'metric': ['euclidean', 'manhattan', 'minkowski']  # Distance metrics\n",
    "}\n",
    "\n",
    "# Initialize GridSearchCV\n",
    "grid_search = GridSearchCV(\n",
    "    estimator=KNeighborsRegressor(),\n",
    "    param_grid=param_grid,\n",
    "    cv=5,\n",
    "    scoring='neg_mean_squared_error',\n",
    "    verbose=1,\n",
    "    n_jobs=-1\n",
    ")\n",
    "\n",
    "# Fit GridSearchCV to the training data\n",
    "grid_search.fit(X_train_scaled, y_train)\n",
    "\n",
    "# Get the best model and its parameters\n",
    "best_knn = grid_search.best_estimator_\n",
    "best_params = grid_search.best_params_\n",
    "print(f\"Best Parameters: {best_params}\")\n",
    "\n",
    "# Predict on the test set using the best KNN model\n",
    "y_pred_knn = best_knn.predict(X_test_scaled)\n",
    "\n",
    "# Calculate the MSE for the best KNN model\n",
    "mse_knn = mean_squared_error(y_test, y_pred_knn)\n",
    "mae_knn = mean_absolute_error(y_test, y_pred_knn)\n",
    "r2_knn = r2_score(y_test, y_pred_knn)\n",
    "print(f\"Best KNN Test MSE: {mse_knn:.4f}\")\n",
    "print(f\"Best KNN Test MAE: {mae_knn:.4f}\")\n",
    "print(f\"Best KNN r^2 score: {r2_knn:.4f}\")\n",
    "\n",
    "# Plot the true values vs the KNN predictions\n",
    "plt.figure(figsize=(10, 6))\n",
    "plt.plot(y_test.to_numpy(), label=\"True Values\", color=\"blue\")\n",
    "plt.plot(y_pred_knn, label=\"KNN Predicted Values\", color=\"green\")\n",
    "plt.legend()\n",
    "plt.title(f\"KNN Predictions vs True Values (Best K: {best_params['n_neighbors']})\")\n",
    "plt.xlabel(\"Sample Index\")\n",
    "plt.ylabel(\"PM2.5\")\n",
    "plt.show()"
   ]
  },
  {
   "cell_type": "markdown",
   "id": "8731bfca16a5356c",
   "metadata": {
    "collapsed": false
   },
   "source": [
    "# Interpretability"
   ]
  },
  {
   "cell_type": "code",
   "execution_count": 9,
   "id": "b7b22afb2a8e9aad",
   "metadata": {
    "ExecuteTime": {
     "end_time": "2024-11-14T15:31:05.521049Z",
     "start_time": "2024-11-14T15:31:04.770924Z"
    },
    "collapsed": false
   },
   "outputs": [
    {
     "data": {
      "text/plain": [
       "<contextlib.ExitStack at 0x23baba09120>"
      ]
     },
     "execution_count": 9,
     "metadata": {},
     "output_type": "execute_result"
    }
   ],
   "source": [
    "import matplotlib.pyplot as plt\n",
    "\n",
    "plt.ioff()"
   ]
  },
  {
   "cell_type": "markdown",
   "id": "b3be9ab2f254a2fd",
   "metadata": {
    "collapsed": false
   },
   "source": [
    "## Residual Plot"
   ]
  },
  {
   "cell_type": "code",
   "execution_count": 15,
   "id": "87ba985b7a1e3b2e",
   "metadata": {
    "ExecuteTime": {
     "end_time": "2024-11-14T15:45:04.171885Z",
     "start_time": "2024-11-14T15:45:02.982842Z"
    },
    "collapsed": false
   },
   "outputs": [
    {
     "data": {
      "image/png": "[encoded data removed]",
      "text/plain": [
       "<Figure size 640x480 with 1 Axes>"
      ]
     },
     "metadata": {},
     "output_type": "display_data"
    }
   ],
   "source": [
    "import seaborn as sns\n",
    "\n",
    "y_pred = rf.predict(X_test)\n",
    "residuals = y_test - y_pred\n",
    "sns.scatterplot(x=y_pred, y=residuals)\n",
    "plt.axhline(0, color='red', linestyle='--')\n",
    "plt.xlabel(\"Predicted PM2.5\")\n",
    "plt.ylabel(\"Residuals\")\n",
    "plt.title(\"Residual Plot\")\n",
    "plt.savefig('residual_plot.png', dpi=300, bbox_inches='tight')\n",
    "plt.show()"
   ]
  },
  {
   "cell_type": "markdown",
   "id": "44b0f71171b5f0b1",
   "metadata": {
    "collapsed": false
   },
   "source": [
    "## PDP"
   ]
  },
  {
   "cell_type": "code",
   "execution_count": 13,
   "id": "9a934651f848a598",
   "metadata": {
    "ExecuteTime": {
     "end_time": "2024-11-14T05:39:07.644306Z",
     "start_time": "2024-11-14T05:38:58.393599Z"
    },
    "collapsed": false
   },
   "outputs": [
    {
     "data": {
      "image/png": "[encoded data removed]",
      "text/plain": [
       "<Figure size 640x480 with 2 Axes>"
      ]
     },
     "metadata": {},
     "output_type": "display_data"
    }
   ],
   "source": [
    "from sklearn.inspection import partial_dependence\n",
    "from sklearn.inspection import PartialDependenceDisplay\n",
    "\n",
    "# features_PDP = ['humidity']\n",
    "features_PDP = [('humidity', 'Pecan')]\n",
    "\n",
    "PartialDependenceDisplay.from_estimator(rf_regressor, X, features_PDP, kind='average')\n",
    "plt.title('PDP for Humidity and Number of Pecan Trees')\n",
    "plt.show()"
   ]
  },
  {
   "cell_type": "code",
   "execution_count": 32,
   "id": "9d7b7ce53d79e196",
   "metadata": {
    "ExecuteTime": {
     "end_time": "2024-11-14T06:45:53.668908Z",
     "start_time": "2024-11-14T06:45:40.388592Z"
    },
    "collapsed": false
   },
   "outputs": [],
   "source": [
    "for f in features:\n",
    "    PartialDependenceDisplay.from_estimator(rf_regressor, X, [f], kind='average')\n",
    "    name = f.lower().replace(' ', '_')\n",
    "    title_case = f.replace('_', ' ').replace('PRCP', 'Precipitation').title()\n",
    "    plt.title(f'PDP for {title_case}')\n",
    "    plt.xlabel(title_case)\n",
    "    plt.savefig(f'./plots/pdp_{name}', dpi=300, bbox_inches='tight')\n",
    "    plt.close()"
   ]
  },
  {
   "cell_type": "markdown",
   "id": "e9b60dc82573b855",
   "metadata": {
    "collapsed": false
   },
   "source": [
    "## ICE"
   ]
  },
  {
   "cell_type": "code",
   "execution_count": 13,
   "id": "8c402032556ffdba",
   "metadata": {
    "ExecuteTime": {
     "end_time": "2024-11-13T04:22:58.832716Z",
     "start_time": "2024-11-13T04:18:36.465109Z"
    },
    "collapsed": false
   },
   "outputs": [
    {
     "data": {
      "image/png": "[encoded data removed]",
      "text/plain": [
       "<Figure size 640x480 with 2 Axes>"
      ]
     },
     "metadata": {},
     "output_type": "display_data"
    }
   ],
   "source": [
    "# Takes a long time to run\n",
    "PartialDependenceDisplay.from_estimator(rf_regressor, X, features_PDP, kind='both')\n",
    "plt.title('ICE plot')\n",
    "plt.show()"
   ]
  },
  {
   "cell_type": "markdown",
   "id": "c61681f73ee62710",
   "metadata": {
    "collapsed": false
   },
   "source": [
    "## ALE"
   ]
  },
  {
   "cell_type": "code",
   "execution_count": null,
   "id": "f4ff8f12f2e6c91c",
   "metadata": {
    "collapsed": false,
    "is_executing": true
   },
   "outputs": [],
   "source": [
    "from PyALE import ale\n",
    "\n",
    "ale_eff = ale(X=X, model=rf_regressor, feature=features_PDP, grid_size=50, include_CI=False)\n",
    "plt.title('ALE plot')\n",
    "plt.show()"
   ]
  },
  {
   "cell_type": "markdown",
   "id": "82fe6d24f92fd28a",
   "metadata": {
    "collapsed": false
   },
   "source": [
    "## SHAP"
   ]
  },
  {
   "cell_type": "code",
   "execution_count": 21,
   "id": "b13a9e4092ac9619",
   "metadata": {
    "ExecuteTime": {
     "end_time": "2024-11-14T06:39:08.836040Z",
     "start_time": "2024-11-14T06:08:07.138540Z"
    },
    "collapsed": false
   },
   "outputs": [],
   "source": [
    "import shap\n",
    "\n",
    "explainer = shap.TreeExplainer(rf_regressor)\n",
    "shap_values = explainer(X_train.sample(n=5000, random_state=42))"
   ]
  },
  {
   "cell_type": "code",
   "execution_count": 4,
   "id": "ea7fee6a",
   "metadata": {},
   "outputs": [],
   "source": [
    "import shap\n",
    "\n",
    "explainer = shap.TreeExplainer(best_xgb)\n",
    "shap_values = explainer(X_train.sample(n=5000, random_state=42))\n",
    "plt.figure()\n",
    "shap.plots.waterfall(shap_values[2], show=False)\n",
    "plt.title('Shapley Value Waterfall Plot')\n",
    "plt.savefig('./plots/shap_waterfall_xgb.png', dpi=300, bbox_inches='tight')\n",
    "plt.show()"
   ]
  },
  {
   "cell_type": "code",
   "execution_count": 28,
   "id": "dd5d44c5e5120168",
   "metadata": {
    "ExecuteTime": {
     "end_time": "2024-11-14T06:41:18.815947Z",
     "start_time": "2024-11-14T06:41:17.582553Z"
    },
    "collapsed": false
   },
   "outputs": [],
   "source": [
    "plt.figure()\n",
    "shap.plots.waterfall(shap_values[2], show=False)\n",
    "plt.title('Shapley Value Waterfall Plot')\n",
    "plt.savefig('./plots/shap_waterfall.png', dpi=300, bbox_inches='tight')\n",
    "plt.show()"
   ]
  },
  {
   "cell_type": "code",
   "execution_count": 29,
   "id": "90580231fce9c8c4",
   "metadata": {
    "ExecuteTime": {
     "end_time": "2024-11-14T06:41:23.151567Z",
     "start_time": "2024-11-14T06:41:21.646596Z"
    },
    "collapsed": false
   },
   "outputs": [],
   "source": [
    "plt.figure()\n",
    "shap.plots.beeswarm(shap_values, show=False)\n",
    "plt.title('Shapley Value Beeswarm Plot')\n",
    "plt.savefig('./plots/shap_beeswarm.png', dpi=300, bbox_inches='tight')\n",
    "plt.show()"
   ]
  },
  {
   "cell_type": "code",
   "execution_count": null,
   "id": "19540eee41a069f3",
   "metadata": {
    "collapsed": false
   },
   "outputs": [],
   "source": []
  }
 ],
 "metadata": {
  "kernelspec": {
   "display_name": "Python 3 (ipykernel)",
   "language": "python",
   "name": "python3"
  },
  "language_info": {
   "codemirror_mode": {
    "name": "ipython",
    "version": 3
   },
   "file_extension": ".py",
   "mimetype": "text/x-python",
   "name": "python",
   "nbconvert_exporter": "python",
   "pygments_lexer": "ipython3",
   "version": "3.11.4"
  }
 },
 "nbformat": 4,
 "nbformat_minor": 5
}
