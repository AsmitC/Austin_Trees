{
 "cells": [
  {
   "cell_type": "code",
   "execution_count": 2,
   "id": "0b1c174e",
   "metadata": {},
   "outputs": [
    {
     "name": "stdout",
     "output_type": "stream",
     "text": [
      "Requirement already satisfied: pandas in ./Trees/lib/python3.11/site-packages (from -r requirements.txt (line 1)) (2.2.3)\n",
      "Requirement already satisfied: numpy in ./Trees/lib/python3.11/site-packages (from -r requirements.txt (line 2)) (2.1.3)\n",
      "Requirement already satisfied: matplotlib in ./Trees/lib/python3.11/site-packages (from -r requirements.txt (line 3)) (3.9.2)\n",
      "Requirement already satisfied: scikit-learn in ./Trees/lib/python3.11/site-packages (from -r requirements.txt (line 4)) (1.5.2)\n",
      "Requirement already satisfied: seaborn in ./Trees/lib/python3.11/site-packages (from -r requirements.txt (line 5)) (0.13.2)\n",
      "Requirement already satisfied: scipy in ./Trees/lib/python3.11/site-packages (from -r requirements.txt (line 6)) (1.14.1)\n",
      "Requirement already satisfied: statsmodels in ./Trees/lib/python3.11/site-packages (from -r requirements.txt (line 7)) (0.14.4)\n",
      "Requirement already satisfied: geopy in ./Trees/lib/python3.11/site-packages (from -r requirements.txt (line 8)) (2.4.1)\n",
      "Requirement already satisfied: shapely in ./Trees/lib/python3.11/site-packages (from -r requirements.txt (line 9)) (2.0.6)\n",
      "Requirement already satisfied: xgboost in ./Trees/lib/python3.11/site-packages (from -r requirements.txt (line 10)) (2.1.3)\n",
      "Requirement already satisfied: tqdm in ./Trees/lib/python3.11/site-packages (from -r requirements.txt (line 11)) (4.67.1)\n",
      "Requirement already satisfied: pactools in ./Trees/lib/python3.11/site-packages (from -r requirements.txt (line 12)) (0.3.1)\n",
      "Requirement already satisfied: torch in ./Trees/lib/python3.11/site-packages (from -r requirements.txt (line 13)) (2.5.1)\n",
      "Requirement already satisfied: torchvision in ./Trees/lib/python3.11/site-packages (from -r requirements.txt (line 14)) (0.20.1)\n",
      "Collecting pytorch-tcn (from -r requirements.txt (line 15))\n",
      "  Obtaining dependency information for pytorch-tcn from https://files.pythonhosted.org/packages/4f/84/85f4d0fa4c3678ecfae6d9bc86a8815727a47a7e7444284be79741d5b405/pytorch_tcn-1.2.1-py3-none-any.whl.metadata\n",
      "  Using cached pytorch_tcn-1.2.1-py3-none-any.whl.metadata (17 kB)\n",
      "Requirement already satisfied: python-dateutil>=2.8.2 in ./Trees/lib/python3.11/site-packages (from pandas->-r requirements.txt (line 1)) (2.9.0.post0)\n",
      "Requirement already satisfied: pytz>=2020.1 in ./Trees/lib/python3.11/site-packages (from pandas->-r requirements.txt (line 1)) (2024.2)\n",
      "Requirement already satisfied: tzdata>=2022.7 in ./Trees/lib/python3.11/site-packages (from pandas->-r requirements.txt (line 1)) (2024.2)\n",
      "Requirement already satisfied: contourpy>=1.0.1 in ./Trees/lib/python3.11/site-packages (from matplotlib->-r requirements.txt (line 3)) (1.3.0)\n",
      "Requirement already satisfied: cycler>=0.10 in ./Trees/lib/python3.11/site-packages (from matplotlib->-r requirements.txt (line 3)) (0.12.1)\n",
      "Requirement already satisfied: fonttools>=4.22.0 in ./Trees/lib/python3.11/site-packages (from matplotlib->-r requirements.txt (line 3)) (4.54.1)\n",
      "Requirement already satisfied: kiwisolver>=1.3.1 in ./Trees/lib/python3.11/site-packages (from matplotlib->-r requirements.txt (line 3)) (1.4.7)\n",
      "Requirement already satisfied: packaging>=20.0 in ./Trees/lib/python3.11/site-packages (from matplotlib->-r requirements.txt (line 3)) (24.2)\n",
      "Requirement already satisfied: pillow>=8 in ./Trees/lib/python3.11/site-packages (from matplotlib->-r requirements.txt (line 3)) (11.0.0)\n",
      "Requirement already satisfied: pyparsing>=2.3.1 in ./Trees/lib/python3.11/site-packages (from matplotlib->-r requirements.txt (line 3)) (3.2.0)\n",
      "Requirement already satisfied: joblib>=1.2.0 in ./Trees/lib/python3.11/site-packages (from scikit-learn->-r requirements.txt (line 4)) (1.4.2)\n",
      "Requirement already satisfied: threadpoolctl>=3.1.0 in ./Trees/lib/python3.11/site-packages (from scikit-learn->-r requirements.txt (line 4)) (3.5.0)\n",
      "Requirement already satisfied: patsy>=0.5.6 in ./Trees/lib/python3.11/site-packages (from statsmodels->-r requirements.txt (line 7)) (0.5.6)\n",
      "Requirement already satisfied: geographiclib<3,>=1.52 in ./Trees/lib/python3.11/site-packages (from geopy->-r requirements.txt (line 8)) (2.0)\n",
      "Requirement already satisfied: mne in ./Trees/lib/python3.11/site-packages (from pactools->-r requirements.txt (line 12)) (1.8.0)\n",
      "Requirement already satisfied: h5py in ./Trees/lib/python3.11/site-packages (from pactools->-r requirements.txt (line 12)) (3.12.1)\n",
      "Requirement already satisfied: filelock in ./Trees/lib/python3.11/site-packages (from torch->-r requirements.txt (line 13)) (3.16.1)\n",
      "Requirement already satisfied: typing-extensions>=4.8.0 in ./Trees/lib/python3.11/site-packages (from torch->-r requirements.txt (line 13)) (4.12.2)\n",
      "Requirement already satisfied: networkx in ./Trees/lib/python3.11/site-packages (from torch->-r requirements.txt (line 13)) (3.4.2)\n",
      "Requirement already satisfied: jinja2 in ./Trees/lib/python3.11/site-packages (from torch->-r requirements.txt (line 13)) (3.1.4)\n",
      "Requirement already satisfied: fsspec in ./Trees/lib/python3.11/site-packages (from torch->-r requirements.txt (line 13)) (2024.10.0)\n",
      "Requirement already satisfied: sympy==1.13.1 in ./Trees/lib/python3.11/site-packages (from torch->-r requirements.txt (line 13)) (1.13.1)\n",
      "Requirement already satisfied: mpmath<1.4,>=1.1.0 in ./Trees/lib/python3.11/site-packages (from sympy==1.13.1->torch->-r requirements.txt (line 13)) (1.3.0)\n",
      "Requirement already satisfied: six in ./Trees/lib/python3.11/site-packages (from patsy>=0.5.6->statsmodels->-r requirements.txt (line 7)) (1.16.0)\n",
      "Requirement already satisfied: MarkupSafe>=2.0 in ./Trees/lib/python3.11/site-packages (from jinja2->torch->-r requirements.txt (line 13)) (3.0.2)\n",
      "Requirement already satisfied: decorator in ./Trees/lib/python3.11/site-packages (from mne->pactools->-r requirements.txt (line 12)) (5.1.1)\n",
      "Requirement already satisfied: lazy-loader>=0.3 in ./Trees/lib/python3.11/site-packages (from mne->pactools->-r requirements.txt (line 12)) (0.4)\n",
      "Requirement already satisfied: pooch>=1.5 in ./Trees/lib/python3.11/site-packages (from mne->pactools->-r requirements.txt (line 12)) (1.8.2)\n",
      "Requirement already satisfied: platformdirs>=2.5.0 in ./Trees/lib/python3.11/site-packages (from pooch>=1.5->mne->pactools->-r requirements.txt (line 12)) (4.3.6)\n",
      "Requirement already satisfied: requests>=2.19.0 in ./Trees/lib/python3.11/site-packages (from pooch>=1.5->mne->pactools->-r requirements.txt (line 12)) (2.32.3)\n",
      "Requirement already satisfied: charset-normalizer<4,>=2 in ./Trees/lib/python3.11/site-packages (from requests>=2.19.0->pooch>=1.5->mne->pactools->-r requirements.txt (line 12)) (3.4.0)\n",
      "Requirement already satisfied: idna<4,>=2.5 in ./Trees/lib/python3.11/site-packages (from requests>=2.19.0->pooch>=1.5->mne->pactools->-r requirements.txt (line 12)) (3.10)\n",
      "Requirement already satisfied: urllib3<3,>=1.21.1 in ./Trees/lib/python3.11/site-packages (from requests>=2.19.0->pooch>=1.5->mne->pactools->-r requirements.txt (line 12)) (2.2.3)\n",
      "Requirement already satisfied: certifi>=2017.4.17 in ./Trees/lib/python3.11/site-packages (from requests>=2.19.0->pooch>=1.5->mne->pactools->-r requirements.txt (line 12)) (2024.8.30)\n",
      "Using cached pytorch_tcn-1.2.1-py3-none-any.whl (14 kB)\n",
      "Installing collected packages: pytorch-tcn\n",
      "Successfully installed pytorch-tcn-1.2.1\n",
      "\n",
      "\u001b[1m[\u001b[0m\u001b[34;49mnotice\u001b[0m\u001b[1;39;49m]\u001b[0m\u001b[39;49m A new release of pip is available: \u001b[0m\u001b[31;49m23.2.1\u001b[0m\u001b[39;49m -> \u001b[0m\u001b[32;49m24.3.1\u001b[0m\n",
      "\u001b[1m[\u001b[0m\u001b[34;49mnotice\u001b[0m\u001b[1;39;49m]\u001b[0m\u001b[39;49m To update, run: \u001b[0m\u001b[32;49mpip install --upgrade pip\u001b[0m\n",
      "Note: you may need to restart the kernel to use updated packages.\n"
     ]
    }
   ],
   "source": [
    "%pip install -r requirements.txt"
   ]
  },
  {
   "cell_type": "markdown",
   "id": "abeb99bb-2a60-48b4-849c-ab10d386992b",
   "metadata": {},
   "source": [
    "# Modeling"
   ]
  },
  {
   "cell_type": "markdown",
   "id": "d4f496a6-7975-47ef-8371-decd3dee6dad",
   "metadata": {},
   "source": [
    "## Import data"
   ]
  },
  {
   "cell_type": "code",
   "execution_count": 21,
   "id": "3a29eec4-238f-40bc-ad17-014f8281073c",
   "metadata": {
    "ExecuteTime": {
     "end_time": "2024-11-14T15:28:36.158787Z",
     "start_time": "2024-11-14T15:28:33.123707Z"
    }
   },
   "outputs": [],
   "source": [
    "import torch\n",
    "import torch.nn as nn\n",
    "import torch.optim as optim\n",
    "from torch.utils.data import DataLoader, TensorDataset\n",
    "from pytorch_tcn import TCN\n",
    "import numpy as np\n",
    "import pandas as pd\n",
    "import matplotlib.pyplot as plt\n",
    "import xgboost as xgb\n",
    "from tqdm import tqdm\n",
    "from sklearn.preprocessing import StandardScaler\n",
    "from sklearn.ensemble import RandomForestRegressor\n",
    "from sklearn.metrics import mean_squared_error, r2_score\n",
    "from sklearn.model_selection import train_test_split, GridSearchCV"
   ]
  },
  {
   "cell_type": "code",
   "execution_count": 5,
   "id": "3f15a247-c53d-4655-b6c7-f81c97e6c9eb",
   "metadata": {
    "ExecuteTime": {
     "end_time": "2024-11-14T15:28:41.609981Z",
     "start_time": "2024-11-14T15:28:36.160796Z"
    }
   },
   "outputs": [
    {
     "name": "stdout",
     "output_type": "stream",
     "text": [
      "Shape: (139802, 19)\n"
     ]
    },
    {
     "data": {
      "text/html": [
       "<div>\n",
       "<style scoped>\n",
       "    .dataframe tbody tr th:only-of-type {\n",
       "        vertical-align: middle;\n",
       "    }\n",
       "\n",
       "    .dataframe tbody tr th {\n",
       "        vertical-align: top;\n",
       "    }\n",
       "\n",
       "    .dataframe thead th {\n",
       "        text-align: right;\n",
       "    }\n",
       "</style>\n",
       "<table border=\"1\" class=\"dataframe\">\n",
       "  <thead>\n",
       "    <tr style=\"text-align: right;\">\n",
       "      <th></th>\n",
       "      <th>time_stamp</th>\n",
       "      <th>humidity</th>\n",
       "      <th>temperature</th>\n",
       "      <th>pressure</th>\n",
       "      <th>pm2.5_alt</th>\n",
       "      <th>pm2.5_atm</th>\n",
       "      <th>sensor_index</th>\n",
       "      <th>latitude</th>\n",
       "      <th>longitude</th>\n",
       "      <th>altitude</th>\n",
       "      <th>Oak</th>\n",
       "      <th>Elm</th>\n",
       "      <th>Pecan</th>\n",
       "      <th>Crape Myrtle</th>\n",
       "      <th>Ashe Juniper</th>\n",
       "      <th>other</th>\n",
       "      <th>total_diameter</th>\n",
       "      <th>canopy_coverage_percentage</th>\n",
       "      <th>PRCP</th>\n",
       "    </tr>\n",
       "  </thead>\n",
       "  <tbody>\n",
       "    <tr>\n",
       "      <th>0</th>\n",
       "      <td>2024-10-24T18:00:00Z</td>\n",
       "      <td>35.447</td>\n",
       "      <td>92.044</td>\n",
       "      <td>981.676</td>\n",
       "      <td>2.5</td>\n",
       "      <td>3.2195</td>\n",
       "      <td>2862</td>\n",
       "      <td>30.366156</td>\n",
       "      <td>-97.76529</td>\n",
       "      <td>899.0</td>\n",
       "      <td>1192</td>\n",
       "      <td>426</td>\n",
       "      <td>2</td>\n",
       "      <td>49</td>\n",
       "      <td>10</td>\n",
       "      <td>130</td>\n",
       "      <td>22595.5</td>\n",
       "      <td>66.596351</td>\n",
       "      <td>0.0</td>\n",
       "    </tr>\n",
       "    <tr>\n",
       "      <th>1</th>\n",
       "      <td>2024-10-24T06:00:00Z</td>\n",
       "      <td>61.950</td>\n",
       "      <td>78.405</td>\n",
       "      <td>984.603</td>\n",
       "      <td>3.6</td>\n",
       "      <td>5.6470</td>\n",
       "      <td>2862</td>\n",
       "      <td>30.366156</td>\n",
       "      <td>-97.76529</td>\n",
       "      <td>899.0</td>\n",
       "      <td>1192</td>\n",
       "      <td>426</td>\n",
       "      <td>2</td>\n",
       "      <td>49</td>\n",
       "      <td>10</td>\n",
       "      <td>130</td>\n",
       "      <td>22595.5</td>\n",
       "      <td>66.596351</td>\n",
       "      <td>0.0</td>\n",
       "    </tr>\n",
       "    <tr>\n",
       "      <th>2</th>\n",
       "      <td>2024-10-24T00:00:00Z</td>\n",
       "      <td>45.133</td>\n",
       "      <td>83.672</td>\n",
       "      <td>985.485</td>\n",
       "      <td>3.1</td>\n",
       "      <td>4.7600</td>\n",
       "      <td>2862</td>\n",
       "      <td>30.366156</td>\n",
       "      <td>-97.76529</td>\n",
       "      <td>899.0</td>\n",
       "      <td>1192</td>\n",
       "      <td>426</td>\n",
       "      <td>2</td>\n",
       "      <td>49</td>\n",
       "      <td>10</td>\n",
       "      <td>130</td>\n",
       "      <td>22595.5</td>\n",
       "      <td>66.596351</td>\n",
       "      <td>0.0</td>\n",
       "    </tr>\n",
       "    <tr>\n",
       "      <th>3</th>\n",
       "      <td>2024-10-23T00:00:00Z</td>\n",
       "      <td>48.216</td>\n",
       "      <td>83.123</td>\n",
       "      <td>986.001</td>\n",
       "      <td>2.6</td>\n",
       "      <td>3.9515</td>\n",
       "      <td>2862</td>\n",
       "      <td>30.366156</td>\n",
       "      <td>-97.76529</td>\n",
       "      <td>899.0</td>\n",
       "      <td>1192</td>\n",
       "      <td>426</td>\n",
       "      <td>2</td>\n",
       "      <td>49</td>\n",
       "      <td>10</td>\n",
       "      <td>130</td>\n",
       "      <td>22595.5</td>\n",
       "      <td>66.596351</td>\n",
       "      <td>0.0</td>\n",
       "    </tr>\n",
       "    <tr>\n",
       "      <th>4</th>\n",
       "      <td>2024-10-23T18:00:00Z</td>\n",
       "      <td>33.578</td>\n",
       "      <td>93.095</td>\n",
       "      <td>985.318</td>\n",
       "      <td>2.5</td>\n",
       "      <td>3.2565</td>\n",
       "      <td>2862</td>\n",
       "      <td>30.366156</td>\n",
       "      <td>-97.76529</td>\n",
       "      <td>899.0</td>\n",
       "      <td>1192</td>\n",
       "      <td>426</td>\n",
       "      <td>2</td>\n",
       "      <td>49</td>\n",
       "      <td>10</td>\n",
       "      <td>130</td>\n",
       "      <td>22595.5</td>\n",
       "      <td>66.596351</td>\n",
       "      <td>0.0</td>\n",
       "    </tr>\n",
       "  </tbody>\n",
       "</table>\n",
       "</div>"
      ],
      "text/plain": [
       "             time_stamp  humidity  temperature  pressure  pm2.5_alt  \\\n",
       "0  2024-10-24T18:00:00Z    35.447       92.044   981.676        2.5   \n",
       "1  2024-10-24T06:00:00Z    61.950       78.405   984.603        3.6   \n",
       "2  2024-10-24T00:00:00Z    45.133       83.672   985.485        3.1   \n",
       "3  2024-10-23T00:00:00Z    48.216       83.123   986.001        2.6   \n",
       "4  2024-10-23T18:00:00Z    33.578       93.095   985.318        2.5   \n",
       "\n",
       "   pm2.5_atm  sensor_index   latitude  longitude  altitude   Oak  Elm  Pecan  \\\n",
       "0     3.2195          2862  30.366156  -97.76529     899.0  1192  426      2   \n",
       "1     5.6470          2862  30.366156  -97.76529     899.0  1192  426      2   \n",
       "2     4.7600          2862  30.366156  -97.76529     899.0  1192  426      2   \n",
       "3     3.9515          2862  30.366156  -97.76529     899.0  1192  426      2   \n",
       "4     3.2565          2862  30.366156  -97.76529     899.0  1192  426      2   \n",
       "\n",
       "   Crape Myrtle  Ashe Juniper  other  total_diameter  \\\n",
       "0            49            10    130         22595.5   \n",
       "1            49            10    130         22595.5   \n",
       "2            49            10    130         22595.5   \n",
       "3            49            10    130         22595.5   \n",
       "4            49            10    130         22595.5   \n",
       "\n",
       "   canopy_coverage_percentage  PRCP  \n",
       "0                   66.596351   0.0  \n",
       "1                   66.596351   0.0  \n",
       "2                   66.596351   0.0  \n",
       "3                   66.596351   0.0  \n",
       "4                   66.596351   0.0  "
      ]
     },
     "execution_count": 5,
     "metadata": {},
     "output_type": "execute_result"
    }
   ],
   "source": [
    "url = \"https://raw.githubusercontent.com/AsmitC/Austin_Trees/refs/heads/victournguyen/purpleair-pull-data/full_data_final.csv\"\n",
    "df = pd.read_csv(url)\n",
    "print(f'Shape: {df.shape}')\n",
    "df.head()"
   ]
  },
  {
   "cell_type": "markdown",
   "id": "f3e80fcc-0ada-4e88-83d0-3574d91f99c8",
   "metadata": {},
   "source": [
    "## Make season variable"
   ]
  },
  {
   "cell_type": "code",
   "execution_count": 6,
   "id": "5dbb1272-8c5a-44ea-b324-328c8db24f6c",
   "metadata": {
    "ExecuteTime": {
     "end_time": "2024-11-14T15:28:42.034411Z",
     "start_time": "2024-11-14T15:28:41.610972Z"
    }
   },
   "outputs": [
    {
     "data": {
      "text/html": [
       "<div>\n",
       "<style scoped>\n",
       "    .dataframe tbody tr th:only-of-type {\n",
       "        vertical-align: middle;\n",
       "    }\n",
       "\n",
       "    .dataframe tbody tr th {\n",
       "        vertical-align: top;\n",
       "    }\n",
       "\n",
       "    .dataframe thead th {\n",
       "        text-align: right;\n",
       "    }\n",
       "</style>\n",
       "<table border=\"1\" class=\"dataframe\">\n",
       "  <thead>\n",
       "    <tr style=\"text-align: right;\">\n",
       "      <th></th>\n",
       "      <th>time_stamp</th>\n",
       "      <th>season</th>\n",
       "    </tr>\n",
       "  </thead>\n",
       "  <tbody>\n",
       "    <tr>\n",
       "      <th>0</th>\n",
       "      <td>2024-10-24 18:00:00+00:00</td>\n",
       "      <td>Fall</td>\n",
       "    </tr>\n",
       "    <tr>\n",
       "      <th>1</th>\n",
       "      <td>2024-10-24 06:00:00+00:00</td>\n",
       "      <td>Fall</td>\n",
       "    </tr>\n",
       "    <tr>\n",
       "      <th>2</th>\n",
       "      <td>2024-10-24 00:00:00+00:00</td>\n",
       "      <td>Fall</td>\n",
       "    </tr>\n",
       "    <tr>\n",
       "      <th>3</th>\n",
       "      <td>2024-10-23 00:00:00+00:00</td>\n",
       "      <td>Fall</td>\n",
       "    </tr>\n",
       "    <tr>\n",
       "      <th>4</th>\n",
       "      <td>2024-10-23 18:00:00+00:00</td>\n",
       "      <td>Fall</td>\n",
       "    </tr>\n",
       "  </tbody>\n",
       "</table>\n",
       "</div>"
      ],
      "text/plain": [
       "                 time_stamp season\n",
       "0 2024-10-24 18:00:00+00:00   Fall\n",
       "1 2024-10-24 06:00:00+00:00   Fall\n",
       "2 2024-10-24 00:00:00+00:00   Fall\n",
       "3 2024-10-23 00:00:00+00:00   Fall\n",
       "4 2024-10-23 18:00:00+00:00   Fall"
      ]
     },
     "execution_count": 6,
     "metadata": {},
     "output_type": "execute_result"
    }
   ],
   "source": [
    "# Ensure 'time_stamp' column is datetime type\n",
    "df['time_stamp'] = pd.to_datetime(df['time_stamp'])\n",
    "\n",
    "# Define a function to assign seasons based on specific start dates\n",
    "def get_accurate_season(date):\n",
    "    if pd.isna(date):\n",
    "        return np.nan  # Return NaN if date is missing (NaT)\n",
    "    \n",
    "    month = date.month\n",
    "    day = date.day\n",
    "    \n",
    "    if (month == 12 and day >= 21) or month in [1, 2] or (month == 3 and day < 20):\n",
    "        return 'Winter'\n",
    "    elif (month == 3 and day >= 20) or month in [4, 5] or (month == 6 and day < 21):\n",
    "        return 'Spring'\n",
    "    elif (month == 6 and day >= 21) or month in [7, 8] or (month == 9 and day < 22):\n",
    "        return 'Summer'\n",
    "    else:\n",
    "        return 'Fall'\n",
    "\n",
    "# Apply the function to create a new 'season' column\n",
    "df['season'] = df['time_stamp'].apply(get_accurate_season)\n",
    "\n",
    "# Display the first few rows\n",
    "df[['time_stamp', 'season']].head()"
   ]
  },
  {
   "cell_type": "markdown",
   "id": "77bb8b17-8387-4015-a226-8681e416b6d7",
   "metadata": {},
   "source": [
    "### Encode Season Variable"
   ]
  },
  {
   "cell_type": "code",
   "execution_count": 7,
   "id": "40766bf9-9689-4865-9c2f-1b341a1119c4",
   "metadata": {
    "ExecuteTime": {
     "end_time": "2024-11-14T15:28:42.111902Z",
     "start_time": "2024-11-14T15:28:42.036403Z"
    }
   },
   "outputs": [
    {
     "name": "stdout",
     "output_type": "stream",
     "text": [
      "Loset 0.07% of data by removing NA\n"
     ]
    },
    {
     "data": {
      "text/html": [
       "<div>\n",
       "<style scoped>\n",
       "    .dataframe tbody tr th:only-of-type {\n",
       "        vertical-align: middle;\n",
       "    }\n",
       "\n",
       "    .dataframe tbody tr th {\n",
       "        vertical-align: top;\n",
       "    }\n",
       "\n",
       "    .dataframe thead th {\n",
       "        text-align: right;\n",
       "    }\n",
       "</style>\n",
       "<table border=\"1\" class=\"dataframe\">\n",
       "  <thead>\n",
       "    <tr style=\"text-align: right;\">\n",
       "      <th></th>\n",
       "      <th>time_stamp</th>\n",
       "      <th>humidity</th>\n",
       "      <th>temperature</th>\n",
       "      <th>pressure</th>\n",
       "      <th>pm2.5_alt</th>\n",
       "      <th>pm2.5_atm</th>\n",
       "      <th>sensor_index</th>\n",
       "      <th>latitude</th>\n",
       "      <th>longitude</th>\n",
       "      <th>altitude</th>\n",
       "      <th>...</th>\n",
       "      <th>Crape Myrtle</th>\n",
       "      <th>Ashe Juniper</th>\n",
       "      <th>other</th>\n",
       "      <th>total_diameter</th>\n",
       "      <th>canopy_coverage_percentage</th>\n",
       "      <th>PRCP</th>\n",
       "      <th>season_Fall</th>\n",
       "      <th>season_Spring</th>\n",
       "      <th>season_Summer</th>\n",
       "      <th>season_Winter</th>\n",
       "    </tr>\n",
       "  </thead>\n",
       "  <tbody>\n",
       "    <tr>\n",
       "      <th>0</th>\n",
       "      <td>2024-10-24 18:00:00+00:00</td>\n",
       "      <td>35.447</td>\n",
       "      <td>92.044</td>\n",
       "      <td>981.676</td>\n",
       "      <td>2.5</td>\n",
       "      <td>3.2195</td>\n",
       "      <td>2862</td>\n",
       "      <td>30.366156</td>\n",
       "      <td>-97.76529</td>\n",
       "      <td>899.0</td>\n",
       "      <td>...</td>\n",
       "      <td>49</td>\n",
       "      <td>10</td>\n",
       "      <td>130</td>\n",
       "      <td>22595.5</td>\n",
       "      <td>66.596351</td>\n",
       "      <td>0.0</td>\n",
       "      <td>True</td>\n",
       "      <td>False</td>\n",
       "      <td>False</td>\n",
       "      <td>False</td>\n",
       "    </tr>\n",
       "    <tr>\n",
       "      <th>1</th>\n",
       "      <td>2024-10-24 06:00:00+00:00</td>\n",
       "      <td>61.950</td>\n",
       "      <td>78.405</td>\n",
       "      <td>984.603</td>\n",
       "      <td>3.6</td>\n",
       "      <td>5.6470</td>\n",
       "      <td>2862</td>\n",
       "      <td>30.366156</td>\n",
       "      <td>-97.76529</td>\n",
       "      <td>899.0</td>\n",
       "      <td>...</td>\n",
       "      <td>49</td>\n",
       "      <td>10</td>\n",
       "      <td>130</td>\n",
       "      <td>22595.5</td>\n",
       "      <td>66.596351</td>\n",
       "      <td>0.0</td>\n",
       "      <td>True</td>\n",
       "      <td>False</td>\n",
       "      <td>False</td>\n",
       "      <td>False</td>\n",
       "    </tr>\n",
       "    <tr>\n",
       "      <th>2</th>\n",
       "      <td>2024-10-24 00:00:00+00:00</td>\n",
       "      <td>45.133</td>\n",
       "      <td>83.672</td>\n",
       "      <td>985.485</td>\n",
       "      <td>3.1</td>\n",
       "      <td>4.7600</td>\n",
       "      <td>2862</td>\n",
       "      <td>30.366156</td>\n",
       "      <td>-97.76529</td>\n",
       "      <td>899.0</td>\n",
       "      <td>...</td>\n",
       "      <td>49</td>\n",
       "      <td>10</td>\n",
       "      <td>130</td>\n",
       "      <td>22595.5</td>\n",
       "      <td>66.596351</td>\n",
       "      <td>0.0</td>\n",
       "      <td>True</td>\n",
       "      <td>False</td>\n",
       "      <td>False</td>\n",
       "      <td>False</td>\n",
       "    </tr>\n",
       "    <tr>\n",
       "      <th>3</th>\n",
       "      <td>2024-10-23 00:00:00+00:00</td>\n",
       "      <td>48.216</td>\n",
       "      <td>83.123</td>\n",
       "      <td>986.001</td>\n",
       "      <td>2.6</td>\n",
       "      <td>3.9515</td>\n",
       "      <td>2862</td>\n",
       "      <td>30.366156</td>\n",
       "      <td>-97.76529</td>\n",
       "      <td>899.0</td>\n",
       "      <td>...</td>\n",
       "      <td>49</td>\n",
       "      <td>10</td>\n",
       "      <td>130</td>\n",
       "      <td>22595.5</td>\n",
       "      <td>66.596351</td>\n",
       "      <td>0.0</td>\n",
       "      <td>True</td>\n",
       "      <td>False</td>\n",
       "      <td>False</td>\n",
       "      <td>False</td>\n",
       "    </tr>\n",
       "    <tr>\n",
       "      <th>4</th>\n",
       "      <td>2024-10-23 18:00:00+00:00</td>\n",
       "      <td>33.578</td>\n",
       "      <td>93.095</td>\n",
       "      <td>985.318</td>\n",
       "      <td>2.5</td>\n",
       "      <td>3.2565</td>\n",
       "      <td>2862</td>\n",
       "      <td>30.366156</td>\n",
       "      <td>-97.76529</td>\n",
       "      <td>899.0</td>\n",
       "      <td>...</td>\n",
       "      <td>49</td>\n",
       "      <td>10</td>\n",
       "      <td>130</td>\n",
       "      <td>22595.5</td>\n",
       "      <td>66.596351</td>\n",
       "      <td>0.0</td>\n",
       "      <td>True</td>\n",
       "      <td>False</td>\n",
       "      <td>False</td>\n",
       "      <td>False</td>\n",
       "    </tr>\n",
       "  </tbody>\n",
       "</table>\n",
       "<p>5 rows × 23 columns</p>\n",
       "</div>"
      ],
      "text/plain": [
       "                 time_stamp  humidity  temperature  pressure  pm2.5_alt  \\\n",
       "0 2024-10-24 18:00:00+00:00    35.447       92.044   981.676        2.5   \n",
       "1 2024-10-24 06:00:00+00:00    61.950       78.405   984.603        3.6   \n",
       "2 2024-10-24 00:00:00+00:00    45.133       83.672   985.485        3.1   \n",
       "3 2024-10-23 00:00:00+00:00    48.216       83.123   986.001        2.6   \n",
       "4 2024-10-23 18:00:00+00:00    33.578       93.095   985.318        2.5   \n",
       "\n",
       "   pm2.5_atm  sensor_index   latitude  longitude  altitude  ...  Crape Myrtle  \\\n",
       "0     3.2195          2862  30.366156  -97.76529     899.0  ...            49   \n",
       "1     5.6470          2862  30.366156  -97.76529     899.0  ...            49   \n",
       "2     4.7600          2862  30.366156  -97.76529     899.0  ...            49   \n",
       "3     3.9515          2862  30.366156  -97.76529     899.0  ...            49   \n",
       "4     3.2565          2862  30.366156  -97.76529     899.0  ...            49   \n",
       "\n",
       "   Ashe Juniper  other  total_diameter  canopy_coverage_percentage  PRCP  \\\n",
       "0            10    130         22595.5                   66.596351   0.0   \n",
       "1            10    130         22595.5                   66.596351   0.0   \n",
       "2            10    130         22595.5                   66.596351   0.0   \n",
       "3            10    130         22595.5                   66.596351   0.0   \n",
       "4            10    130         22595.5                   66.596351   0.0   \n",
       "\n",
       "   season_Fall  season_Spring  season_Summer  season_Winter  \n",
       "0         True          False          False          False  \n",
       "1         True          False          False          False  \n",
       "2         True          False          False          False  \n",
       "3         True          False          False          False  \n",
       "4         True          False          False          False  \n",
       "\n",
       "[5 rows x 23 columns]"
      ]
     },
     "execution_count": 7,
     "metadata": {},
     "output_type": "execute_result"
    }
   ],
   "source": [
    "before_drop = df.shape[0]\n",
    "df = df.dropna(subset=['season'])\n",
    "after_drop = df.shape[0]\n",
    "print(f'Loset {(before_drop-after_drop)/before_drop*100:0.2f}% of data by removing NA')\n",
    "\n",
    "# One-hot encode the 'season' column\n",
    "df = pd.get_dummies(df, columns=['season'], prefix='season')\n",
    "\n",
    "# Display the first few rows\n",
    "df.head()"
   ]
  },
  {
   "cell_type": "markdown",
   "id": "8dc3f751-f1a9-4227-a480-7c7ac8909cc3",
   "metadata": {},
   "source": [
    "## Random Forest"
   ]
  },
  {
   "cell_type": "code",
   "execution_count": 5,
   "id": "3edf569e-cbc2-498d-a181-26fda72c1144",
   "metadata": {
    "ExecuteTime": {
     "end_time": "2024-11-14T15:28:42.127416Z",
     "start_time": "2024-11-14T15:28:42.113903Z"
    }
   },
   "outputs": [
    {
     "data": {
      "text/plain": [
       "Index(['time_stamp', 'humidity', 'temperature', 'pressure', 'pm2.5_alt',\n",
       "       'pm2.5_atm', 'sensor_index', 'latitude', 'longitude', 'altitude', 'Oak',\n",
       "       'Elm', 'Pecan', 'Crape Myrtle', 'Ashe Juniper', 'other',\n",
       "       'total_diameter', 'canopy_coverage_percentage', 'PRCP', 'season_Fall',\n",
       "       'season_Spring', 'season_Summer', 'season_Winter'],\n",
       "      dtype='object')"
      ]
     },
     "execution_count": 5,
     "metadata": {},
     "output_type": "execute_result"
    }
   ],
   "source": [
    "df.columns"
   ]
  },
  {
   "cell_type": "code",
   "execution_count": 8,
   "id": "b90cbc7f-23a9-4c0c-8159-d456068e6d26",
   "metadata": {
    "ExecuteTime": {
     "end_time": "2024-11-14T15:28:42.158775Z",
     "start_time": "2024-11-14T15:28:42.128921Z"
    }
   },
   "outputs": [
    {
     "name": "stdout",
     "output_type": "stream",
     "text": [
      "Lose 3.81% of data by removing NA\n"
     ]
    }
   ],
   "source": [
    "# Define features and target\n",
    "features = ['humidity', 'temperature', 'pressure','altitude', 'Oak',\n",
    "       'Elm', 'Pecan', 'Crape Myrtle', 'Ashe Juniper', 'other',\n",
    "       'total_diameter', 'season_Fall', 'season_Spring', 'season_Summer',\n",
    "       'season_Winter', 'latitude', 'longitude', 'canopy_coverage_percentage', 'PRCP']\n",
    "target = 'pm2.5_alt'\n",
    "\n",
    "# Drop NA values\n",
    "before_drop = df.shape[0]\n",
    "df = df.dropna(subset=features+[target])\n",
    "after_drop = df.shape[0]\n",
    "print(f'Lose {(before_drop-after_drop)/before_drop*100:0.2f}% of data by removing NA')"
   ]
  },
  {
   "cell_type": "code",
   "execution_count": 9,
   "id": "cbeb4e036152eab1",
   "metadata": {
    "ExecuteTime": {
     "end_time": "2024-11-14T15:28:42.206067Z",
     "start_time": "2024-11-14T15:28:42.160284Z"
    },
    "collapsed": false
   },
   "outputs": [],
   "source": [
    "X = df[features]\n",
    "y = df[target]\n",
    "\n",
    "# Split df into training, val, and test sets\n",
    "X_train, X_test, y_train, y_test = train_test_split(X, y, test_size=0.2, random_state=42)"
   ]
  },
  {
   "cell_type": "code",
   "execution_count": 55,
   "id": "2ece2da2-d7b0-46bd-9297-e322f6e72e60",
   "metadata": {
    "ExecuteTime": {
     "end_time": "2024-11-13T05:45:56.790771Z",
     "start_time": "2024-11-13T05:44:04.997767Z"
    }
   },
   "outputs": [
    {
     "name": "stdout",
     "output_type": "stream",
     "text": [
      "Best parameters: {'max_depth': 18}\n",
      "Best score: 23.469028992220643\n"
     ]
    }
   ],
   "source": [
    "param_grid = {\n",
    "    'max_depth': [15, 16, 17, 18]\n",
    "}\n",
    "\n",
    "grid = GridSearchCV(RandomForestRegressor(min_samples_split=3, min_samples_leaf=3, n_estimators=190),\n",
    "                    param_grid=param_grid, n_jobs=-1, scoring='neg_mean_squared_error')\n",
    "grid.fit(X_train, y_train)\n",
    "\n",
    "# Print best parameters and score from grid search\n",
    "print(\"Best parameters:\", grid.best_params_)\n",
    "print(\"Best mse:\", -grid.best_score_)\n",
    "\n",
    "# Get the best estimator\n",
    "rf = grid.best_estimator_"
   ]
  },
  {
   "cell_type": "code",
   "execution_count": 12,
   "id": "d22cdaab",
   "metadata": {
    "ExecuteTime": {
     "end_time": "2024-11-14T15:31:04.768916Z",
     "start_time": "2024-11-14T15:28:59.739202Z"
    }
   },
   "outputs": [
    {
     "name": "stdout",
     "output_type": "stream",
     "text": [
      "Mean Squared Error: 26.783545894543757\n",
      "R^2 Score: 0.43962840193733854\n"
     ]
    }
   ],
   "source": [
    "\n",
    "rf_regressor = RandomForestRegressor(\n",
    "    n_estimators=190,         # Number of trees in the forest\n",
    "    max_depth=15,             # Maximum depth of each tree\n",
    "    min_samples_split=3,      # Minimum samples required to split a node\n",
    "    min_samples_leaf=3,       # Minimum samples required at a leaf node\n",
    "    random_state=42           # Ensures reproducibility\n",
    ")\n",
    "\n",
    "# Step 2: Fit the model\n",
    "rf_regressor.fit(X_train, y_train)\n",
    "\n",
    "# Step 3: Make predictions\n",
    "y_pred = rf_regressor.predict(X_test)\n",
    "\n",
    "\n",
    "# Step 4: Evaluate the model\n",
    "mse = mean_squared_error(y_test, y_pred)\n",
    "r2 = r2_score(y_test, y_pred)\n",
    "\n",
    "print(f\"Mean Squared Error: {mse}\")\n",
    "print(f\"R^2 Score: {r2}\")"
   ]
  },
  {
   "cell_type": "markdown",
   "id": "e4e863b8",
   "metadata": {},
   "source": [
    "# XGBoost"
   ]
  },
  {
   "cell_type": "code",
   "execution_count": 28,
   "id": "eb8f67a2",
   "metadata": {},
   "outputs": [
    {
     "name": "stdout",
     "output_type": "stream",
     "text": [
      "Fitting 5 folds for each of 162 candidates, totalling 810 fits\n"
     ]
    },
    {
     "name": "stderr",
     "output_type": "stream",
     "text": [
      "/Users/asmit/Documents/Fall24_Classes/SDS336/Austin_Trees/Trees/lib/python3.11/site-packages/joblib/externals/loky/process_executor.py:752: UserWarning: A worker stopped while some jobs were given to the executor. This can be caused by a too short worker timeout or by a memory leak.\n",
      "  warnings.warn(\n"
     ]
    },
    {
     "name": "stdout",
     "output_type": "stream",
     "text": [
      "Best parameters: {'colsample_bytree': 0.8, 'learning_rate': 0.02, 'max_depth': 10, 'n_estimators': 600, 'subsample': 0.9}\n",
      "Best mse: 22.214858875924424\n"
     ]
    }
   ],
   "source": [
    "# Define the parameter grid for XGBoost\n",
    "param_grid = {\n",
    "    'max_depth': [10, 11, 12], # 10\n",
    "    'learning_rate': [0.01, 0.02, 0.03], # 0.02\n",
    "    'n_estimators': [600, 700], # 600\n",
    "    'subsample': [0.8, 0.85, 0.9], # 0.9\n",
    "    'colsample_bytree': [0.8, 0.85, 0.9] # 0.8\n",
    "}\n",
    "\n",
    "# Initialize the XGBoost regressor\n",
    "xgb_ = xgb.XGBRegressor(objective='reg:squarederror', random_state=42)\n",
    "\n",
    "# CV\n",
    "grid = GridSearchCV(estimator=xgb_, param_grid=param_grid, \n",
    "                    scoring='neg_mean_squared_error', n_jobs=-1, cv=5, verbose=1)\n",
    "\n",
    "grid.fit(X_train, y_train)\n",
    "\n",
    "# Display results\n",
    "print(\"Best parameters:\", grid.best_params_)\n",
    "print(\"Best mse:\", -grid.best_score_)"
   ]
  },
  {
   "cell_type": "code",
   "execution_count": 30,
   "id": "194e5572",
   "metadata": {},
   "outputs": [
    {
     "name": "stdout",
     "output_type": "stream",
     "text": [
      "Mean Squared Error: 25.094898347781854\n",
      "R^2 Score: 0.4749586800143848\n"
     ]
    }
   ],
   "source": [
    "# Best parameters: {'colsample_bytree': 0.8, 'learning_rate': 0.02, 'max_depth': 10, 'n_estimators': 600, 'subsample': 0.9}\n",
    "best_xgb = grid.best_estimator_\n",
    "\n",
    "# Make predictions\n",
    "y_pred_xgb = best_xgb.predict(X_test)\n",
    "\n",
    "# Evaluate the model\n",
    "mse_xgb = mean_squared_error(y_test, y_pred_xgb)\n",
    "r2_xgb = r2_score(y_test, y_pred_xgb)\n",
    "\n",
    "print(f\"Mean Squared Error: {mse_xgb}\")\n",
    "print(f\"R^2 Score: {r2_xgb}\")"
   ]
  },
  {
   "cell_type": "markdown",
   "id": "0a1feab5",
   "metadata": {},
   "source": [
    "# Neural Network"
   ]
  },
  {
   "cell_type": "code",
   "execution_count": 31,
   "id": "64d439e2",
   "metadata": {},
   "outputs": [],
   "source": [
    "# Scale the data\n",
    "scaler = StandardScaler()\n",
    "X_train_scaled = scaler.fit_transform(X_train)\n",
    "X_test_scaled = scaler.transform(X_test)\n",
    "\n",
    "# Convert data to PyTorch tensors\n",
    "X_train_tensor = torch.tensor(X_train_scaled, dtype=torch.float32).unsqueeze(2)\n",
    "y_train_tensor = torch.tensor(y_train.values, dtype=torch.float32)\n",
    "X_test_tensor = torch.tensor(X_test_scaled, dtype=torch.float32).unsqueeze(2)\n",
    "y_test_tensor = torch.tensor(y_test.values, dtype=torch.float32)\n",
    "\n",
    "# Create DataLoader\n",
    "train_dataset = TensorDataset(X_train_tensor, y_train_tensor)\n",
    "train_loader = DataLoader(train_dataset, batch_size=32, shuffle=True)\n",
    "test_dataset = TensorDataset(X_test_tensor, y_test_tensor)\n",
    "test_loader = DataLoader(test_dataset, batch_size=32, shuffle=True)"
   ]
  },
  {
   "cell_type": "code",
   "execution_count": 43,
   "id": "e9fd1271",
   "metadata": {},
   "outputs": [
    {
     "name": "stderr",
     "output_type": "stream",
     "text": [
      "Epoch 1/100:   0%|          | 0/3360 [00:00<?, ?it/s]"
     ]
    },
    {
     "name": "stderr",
     "output_type": "stream",
     "text": [
      "Epoch 1/100: 100%|██████████| 3360/3360 [01:37<00:00, 34.30it/s]\n"
     ]
    },
    {
     "name": "stdout",
     "output_type": "stream",
     "text": [
      "Epoch 1/100, Train Loss: 35.6445\n",
      "Test Loss: 35.1846\n"
     ]
    },
    {
     "name": "stderr",
     "output_type": "stream",
     "text": [
      "Epoch 2/100: 100%|██████████| 3360/3360 [01:38<00:00, 34.22it/s]\n"
     ]
    },
    {
     "name": "stdout",
     "output_type": "stream",
     "text": [
      "Epoch 2/100, Train Loss: 31.7648\n",
      "Test Loss: 34.7463\n"
     ]
    },
    {
     "name": "stderr",
     "output_type": "stream",
     "text": [
      "Epoch 3/100: 100%|██████████| 3360/3360 [01:37<00:00, 34.37it/s]\n"
     ]
    },
    {
     "name": "stdout",
     "output_type": "stream",
     "text": [
      "Epoch 3/100, Train Loss: 30.9960\n",
      "Test Loss: 33.3173\n"
     ]
    },
    {
     "name": "stderr",
     "output_type": "stream",
     "text": [
      "Epoch 4/100: 100%|██████████| 3360/3360 [01:39<00:00, 33.84it/s]\n"
     ]
    },
    {
     "name": "stdout",
     "output_type": "stream",
     "text": [
      "Epoch 4/100, Train Loss: 30.3364\n",
      "Test Loss: 33.0524\n"
     ]
    },
    {
     "name": "stderr",
     "output_type": "stream",
     "text": [
      "Epoch 5/100: 100%|██████████| 3360/3360 [04:29<00:00, 12.45it/s]  \n"
     ]
    },
    {
     "name": "stdout",
     "output_type": "stream",
     "text": [
      "Epoch 5/100, Train Loss: 30.0449\n",
      "Test Loss: 32.5064\n"
     ]
    },
    {
     "name": "stderr",
     "output_type": "stream",
     "text": [
      "Epoch 6/100: 100%|██████████| 3360/3360 [17:53<00:00,  3.13it/s]   \n"
     ]
    },
    {
     "name": "stdout",
     "output_type": "stream",
     "text": [
      "Epoch 6/100, Train Loss: 29.6095\n",
      "Test Loss: 32.0460\n"
     ]
    },
    {
     "name": "stderr",
     "output_type": "stream",
     "text": [
      "Epoch 7/100: 100%|██████████| 3360/3360 [09:06<00:00,  6.15it/s]    \n"
     ]
    },
    {
     "name": "stdout",
     "output_type": "stream",
     "text": [
      "Epoch 7/100, Train Loss: 29.4124\n",
      "Test Loss: 32.0599\n"
     ]
    },
    {
     "name": "stderr",
     "output_type": "stream",
     "text": [
      "Epoch 8/100: 100%|██████████| 3360/3360 [02:23<00:00, 23.37it/s]\n"
     ]
    },
    {
     "name": "stdout",
     "output_type": "stream",
     "text": [
      "Epoch 8/100, Train Loss: 29.0829\n",
      "Test Loss: 32.2501\n"
     ]
    },
    {
     "name": "stderr",
     "output_type": "stream",
     "text": [
      "Epoch 9/100: 100%|██████████| 3360/3360 [03:18<00:00, 16.94it/s] \n"
     ]
    },
    {
     "name": "stdout",
     "output_type": "stream",
     "text": [
      "Epoch 9/100, Train Loss: 28.8957\n",
      "Test Loss: 31.8053\n"
     ]
    },
    {
     "name": "stderr",
     "output_type": "stream",
     "text": [
      "Epoch 10/100: 100%|██████████| 3360/3360 [01:35<00:00, 35.35it/s]\n"
     ]
    },
    {
     "name": "stdout",
     "output_type": "stream",
     "text": [
      "Epoch 10/100, Train Loss: 28.7504\n",
      "Test Loss: 31.9789\n"
     ]
    },
    {
     "name": "stderr",
     "output_type": "stream",
     "text": [
      "Epoch 11/100: 100%|██████████| 3360/3360 [01:30<00:00, 37.19it/s]\n"
     ]
    },
    {
     "name": "stdout",
     "output_type": "stream",
     "text": [
      "Epoch 11/100, Train Loss: 28.5178\n",
      "Test Loss: 32.7481\n"
     ]
    },
    {
     "name": "stderr",
     "output_type": "stream",
     "text": [
      "Epoch 12/100: 100%|██████████| 3360/3360 [01:30<00:00, 37.03it/s]\n"
     ]
    },
    {
     "name": "stdout",
     "output_type": "stream",
     "text": [
      "Epoch 12/100, Train Loss: 28.3303\n",
      "Test Loss: 31.1746\n"
     ]
    },
    {
     "name": "stderr",
     "output_type": "stream",
     "text": [
      "Epoch 13/100: 100%|██████████| 3360/3360 [01:32<00:00, 36.45it/s]\n"
     ]
    },
    {
     "name": "stdout",
     "output_type": "stream",
     "text": [
      "Epoch 13/100, Train Loss: 28.1957\n",
      "Test Loss: 32.1658\n"
     ]
    },
    {
     "name": "stderr",
     "output_type": "stream",
     "text": [
      "Epoch 14/100: 100%|██████████| 3360/3360 [01:42<00:00, 32.71it/s]\n"
     ]
    },
    {
     "name": "stdout",
     "output_type": "stream",
     "text": [
      "Epoch 14/100, Train Loss: 28.0471\n",
      "Test Loss: 31.8865\n"
     ]
    },
    {
     "name": "stderr",
     "output_type": "stream",
     "text": [
      "Epoch 15/100: 100%|██████████| 3360/3360 [01:45<00:00, 31.72it/s]\n"
     ]
    },
    {
     "name": "stdout",
     "output_type": "stream",
     "text": [
      "Epoch 15/100, Train Loss: 27.8366\n",
      "Test Loss: 30.7690\n"
     ]
    },
    {
     "name": "stderr",
     "output_type": "stream",
     "text": [
      "Epoch 16/100: 100%|██████████| 3360/3360 [01:35<00:00, 35.34it/s]\n"
     ]
    },
    {
     "name": "stdout",
     "output_type": "stream",
     "text": [
      "Epoch 16/100, Train Loss: 27.6884\n",
      "Test Loss: 30.6821\n"
     ]
    },
    {
     "name": "stderr",
     "output_type": "stream",
     "text": [
      "Epoch 17/100: 100%|██████████| 3360/3360 [01:37<00:00, 34.57it/s]\n"
     ]
    },
    {
     "name": "stdout",
     "output_type": "stream",
     "text": [
      "Epoch 17/100, Train Loss: 27.4884\n",
      "Test Loss: 31.4461\n"
     ]
    },
    {
     "name": "stderr",
     "output_type": "stream",
     "text": [
      "Epoch 18/100: 100%|██████████| 3360/3360 [01:35<00:00, 35.22it/s]\n"
     ]
    },
    {
     "name": "stdout",
     "output_type": "stream",
     "text": [
      "Epoch 18/100, Train Loss: 27.3646\n",
      "Test Loss: 30.7816\n"
     ]
    },
    {
     "name": "stderr",
     "output_type": "stream",
     "text": [
      "Epoch 19/100: 100%|██████████| 3360/3360 [01:35<00:00, 35.23it/s]\n"
     ]
    },
    {
     "name": "stdout",
     "output_type": "stream",
     "text": [
      "Epoch 19/100, Train Loss: 27.2223\n",
      "Test Loss: 31.4651\n"
     ]
    },
    {
     "name": "stderr",
     "output_type": "stream",
     "text": [
      "Epoch 20/100: 100%|██████████| 3360/3360 [01:35<00:00, 35.27it/s]\n"
     ]
    },
    {
     "name": "stdout",
     "output_type": "stream",
     "text": [
      "Epoch 20/100, Train Loss: 27.0641\n",
      "Test Loss: 30.3185\n"
     ]
    },
    {
     "name": "stderr",
     "output_type": "stream",
     "text": [
      "Epoch 21/100: 100%|██████████| 3360/3360 [01:34<00:00, 35.44it/s]\n"
     ]
    },
    {
     "name": "stdout",
     "output_type": "stream",
     "text": [
      "Epoch 21/100, Train Loss: 26.9243\n",
      "Test Loss: 30.4374\n"
     ]
    },
    {
     "name": "stderr",
     "output_type": "stream",
     "text": [
      "Epoch 22/100: 100%|██████████| 3360/3360 [01:37<00:00, 34.61it/s]\n"
     ]
    },
    {
     "name": "stdout",
     "output_type": "stream",
     "text": [
      "Epoch 22/100, Train Loss: 26.8887\n",
      "Test Loss: 30.7473\n"
     ]
    },
    {
     "name": "stderr",
     "output_type": "stream",
     "text": [
      "Epoch 23/100: 100%|██████████| 3360/3360 [01:42<00:00, 32.90it/s]\n"
     ]
    },
    {
     "name": "stdout",
     "output_type": "stream",
     "text": [
      "Epoch 23/100, Train Loss: 26.7799\n",
      "Test Loss: 31.7041\n"
     ]
    },
    {
     "name": "stderr",
     "output_type": "stream",
     "text": [
      "Epoch 24/100: 100%|██████████| 3360/3360 [01:41<00:00, 33.17it/s]\n"
     ]
    },
    {
     "name": "stdout",
     "output_type": "stream",
     "text": [
      "Epoch 24/100, Train Loss: 26.6530\n",
      "Test Loss: 29.7381\n"
     ]
    },
    {
     "name": "stderr",
     "output_type": "stream",
     "text": [
      "Epoch 25/100: 100%|██████████| 3360/3360 [01:37<00:00, 34.56it/s]\n"
     ]
    },
    {
     "name": "stdout",
     "output_type": "stream",
     "text": [
      "Epoch 25/100, Train Loss: 26.4938\n",
      "Test Loss: 32.7014\n"
     ]
    },
    {
     "name": "stderr",
     "output_type": "stream",
     "text": [
      "Epoch 26/100: 100%|██████████| 3360/3360 [01:34<00:00, 35.71it/s]\n"
     ]
    },
    {
     "name": "stdout",
     "output_type": "stream",
     "text": [
      "Epoch 26/100, Train Loss: 26.4809\n",
      "Test Loss: 30.1747\n"
     ]
    },
    {
     "name": "stderr",
     "output_type": "stream",
     "text": [
      "Epoch 27/100: 100%|██████████| 3360/3360 [01:34<00:00, 35.42it/s]\n"
     ]
    },
    {
     "name": "stdout",
     "output_type": "stream",
     "text": [
      "Epoch 27/100, Train Loss: 26.4034\n",
      "Test Loss: 29.4371\n"
     ]
    },
    {
     "name": "stderr",
     "output_type": "stream",
     "text": [
      "Epoch 28/100: 100%|██████████| 3360/3360 [01:36<00:00, 34.88it/s]\n"
     ]
    },
    {
     "name": "stdout",
     "output_type": "stream",
     "text": [
      "Epoch 28/100, Train Loss: 26.2932\n",
      "Test Loss: 30.0322\n"
     ]
    },
    {
     "name": "stderr",
     "output_type": "stream",
     "text": [
      "Epoch 29/100: 100%|██████████| 3360/3360 [01:35<00:00, 35.28it/s]\n"
     ]
    },
    {
     "name": "stdout",
     "output_type": "stream",
     "text": [
      "Epoch 29/100, Train Loss: 26.2508\n",
      "Test Loss: 30.1136\n"
     ]
    },
    {
     "name": "stderr",
     "output_type": "stream",
     "text": [
      "Epoch 30/100: 100%|██████████| 3360/3360 [01:35<00:00, 35.17it/s]\n"
     ]
    },
    {
     "name": "stdout",
     "output_type": "stream",
     "text": [
      "Epoch 30/100, Train Loss: 26.2720\n"
     ]
    }
   ],
   "source": [
    "import torch\n",
    "import torch.nn as nn\n",
    "import torch.optim as optim\n",
    "import numpy as np\n",
    "from tqdm import tqdm\n",
    "import matplotlib.pyplot as plt\n",
    "\n",
    "# ----------------------------\n",
    "# Attention Layer\n",
    "# ----------------------------\n",
    "class AttentionLayer(nn.Module):\n",
    "    def __init__(self, input_dim):\n",
    "        super(AttentionLayer, self).__init__()\n",
    "        self.attention_weights = nn.Parameter(torch.randn(input_dim))\n",
    "\n",
    "    def forward(self, x):\n",
    "        # x shape: (batch_size, num_channels, sequence_length)\n",
    "        attention_scores = torch.matmul(x.transpose(1, 2), self.attention_weights)\n",
    "        attention_scores = torch.softmax(attention_scores, dim=-1)  # Normalize attention scores\n",
    "        weighted_output = torch.matmul(x, attention_scores.unsqueeze(-1)).squeeze(-1)\n",
    "        return weighted_output\n",
    "\n",
    "# ----------------------------\n",
    "# Temporal Convolutional Network (TCN) with Attention\n",
    "# ----------------------------\n",
    "class HybridTCN(nn.Module):\n",
    "    def __init__(self, input_size, output_size, num_channels, kernel_size, dropout):\n",
    "        super(HybridTCN, self).__init__()\n",
    "        self.tcn = TCN(input_size, num_channels[-1], num_channels, kernel_size, dropout)\n",
    "        self.attention = AttentionLayer(num_channels[-1])\n",
    "        self.fc = nn.Linear(num_channels[-1], output_size)\n",
    "\n",
    "    def forward(self, x):\n",
    "        # Input shape: (batch_size, num_channels, sequence_length)\n",
    "        tcn_out = self.tcn.network(x)  # Output of TCN\n",
    "        attended_out = self.attention(tcn_out)  # Attention over TCN outputs\n",
    "        output = self.fc(attended_out)  # Final fully connected layer\n",
    "        return output\n",
    "\n",
    "# ----------------------------\n",
    "# Initialize Hybrid TCN + Attention\n",
    "# ----------------------------\n",
    "# Initialize the model, loss function, and optimizer\n",
    "input_size = X_train.shape[1]  # Number of input features\n",
    "output_size = 1  # Predicting PM2.5\n",
    "num_channels = [16, 32, 64, 128]  # Number of filters in each layer\n",
    "kernel_size = 5\n",
    "dropout = 0.3\n",
    "model = HybridTCN(input_size, output_size, num_channels, kernel_size, dropout)\n",
    "criterion = nn.MSELoss()\n",
    "optimizer = optim.Adam(model.parameters(), lr=0.001, weight_decay=1e-4)\n",
    "\n",
    "# ----------------------------\n",
    "# Training the Model\n",
    "# ----------------------------\n",
    "epochs = 100\n",
    "train_loss = []\n",
    "test_losses = []\n",
    "stop_indicator = 0\n",
    "\n",
    "for epoch in range(epochs):\n",
    "    model.train()\n",
    "    total_loss = 0\n",
    "    for batch_inputs, batch_targets in tqdm(train_loader, desc=f\"Epoch {epoch + 1}/{epochs}\"):\n",
    "        optimizer.zero_grad()\n",
    "        outputs = model(batch_inputs)\n",
    "        loss = criterion(outputs, batch_targets.view(-1, 1))\n",
    "        loss.backward()\n",
    "        optimizer.step()\n",
    "        total_loss += loss.item()\n",
    "\n",
    "    avg_loss = total_loss / len(train_loader)\n",
    "    train_loss.append(avg_loss)\n",
    "    print(f\"Epoch {epoch + 1}/{epochs}, Train Loss: {avg_loss:.4f}\")\n",
    "\n",
    "    # ----------------------------\n",
    "    # Evaluating the Model\n",
    "    # ----------------------------\n",
    "    model.eval()\n",
    "    with torch.no_grad():\n",
    "        test_loss = 0\n",
    "        for batch_inputs, batch_targets in test_loader:\n",
    "            outputs = model(batch_inputs)\n",
    "            loss = criterion(outputs, batch_targets.view(-1, 1))\n",
    "            test_loss += loss.item()\n",
    "\n",
    "        avg_test_loss = test_loss / len(test_loader)\n",
    "        test_losses.append(avg_test_loss)\n",
    "        print(f\"Test Loss: {avg_test_loss:.4f}\")\n",
    "\n",
    "        # Early stopping logic\n",
    "        if epoch >= 10 and avg_test_loss > min(test_losses):\n",
    "            stop_indicator += 1\n",
    "        else:\n",
    "            stop_indicator = 0\n",
    "\n",
    "        if stop_indicator >= 10:\n",
    "            print(\"Model plateaued. Stopping early.\")\n",
    "            break\n",
    "\n",
    "# ----------------------------\n",
    "# Plot Train vs Test Loss\n",
    "# ----------------------------\n",
    "plt.figure()\n",
    "plt.plot(range(len(train_loss)), train_loss, label='Train Loss')\n",
    "plt.plot(range(len(test_losses)), test_losses, label='Test Loss')\n",
    "plt.title(\"Train vs Test Loss\")\n",
    "plt.xlabel(\"Epochs\")\n",
    "plt.ylabel(\"MSE\")\n",
    "plt.legend()\n",
    "plt.tight_layout()\n",
    "plt.show()"
   ]
  },
  {
   "cell_type": "markdown",
   "id": "8731bfca16a5356c",
   "metadata": {
    "collapsed": false
   },
   "source": [
    "# Interpretability"
   ]
  },
  {
   "cell_type": "code",
   "execution_count": 9,
   "id": "b7b22afb2a8e9aad",
   "metadata": {
    "ExecuteTime": {
     "end_time": "2024-11-14T15:31:05.521049Z",
     "start_time": "2024-11-14T15:31:04.770924Z"
    },
    "collapsed": false
   },
   "outputs": [
    {
     "data": {
      "text/plain": [
       "<contextlib.ExitStack at 0x23baba09120>"
      ]
     },
     "execution_count": 9,
     "metadata": {},
     "output_type": "execute_result"
    }
   ],
   "source": [
    "import matplotlib.pyplot as plt\n",
    "\n",
    "plt.ioff()"
   ]
  },
  {
   "cell_type": "markdown",
   "id": "b3be9ab2f254a2fd",
   "metadata": {
    "collapsed": false
   },
   "source": [
    "## Residual Plot"
   ]
  },
  {
   "cell_type": "code",
   "execution_count": 15,
   "id": "87ba985b7a1e3b2e",
   "metadata": {
    "ExecuteTime": {
     "end_time": "2024-11-14T15:45:04.171885Z",
     "start_time": "2024-11-14T15:45:02.982842Z"
    },
    "collapsed": false
   },
   "outputs": [
    {
     "data": {
      "image/png": "[encoded data removed]",
      "text/plain": [
       "<Figure size 640x480 with 1 Axes>"
      ]
     },
     "metadata": {},
     "output_type": "display_data"
    }
   ],
   "source": [
    "import seaborn as sns\n",
    "\n",
    "y_pred = rf_regressor.predict(X_test)\n",
    "residuals = y_test - y_pred\n",
    "sns.scatterplot(x=y_pred, y=residuals)\n",
    "plt.axhline(0, color='red', linestyle='--')\n",
    "plt.xlabel(\"Predicted PM2.5\")\n",
    "plt.ylabel(\"Residuals\")\n",
    "plt.title(\"Residual Plot\")\n",
    "plt.savefig('residual_plot.png', dpi=300, bbox_inches='tight')\n",
    "plt.show()"
   ]
  },
  {
   "cell_type": "markdown",
   "id": "44b0f71171b5f0b1",
   "metadata": {
    "collapsed": false
   },
   "source": [
    "## PDP"
   ]
  },
  {
   "cell_type": "code",
   "execution_count": 13,
   "id": "9a934651f848a598",
   "metadata": {
    "ExecuteTime": {
     "end_time": "2024-11-14T05:39:07.644306Z",
     "start_time": "2024-11-14T05:38:58.393599Z"
    },
    "collapsed": false
   },
   "outputs": [
    {
     "data": {
      "image/png": "[encoded data removed]",
      "text/plain": [
       "<Figure size 640x480 with 2 Axes>"
      ]
     },
     "metadata": {},
     "output_type": "display_data"
    }
   ],
   "source": [
    "from sklearn.inspection import partial_dependence\n",
    "from sklearn.inspection import PartialDependenceDisplay\n",
    "\n",
    "# features_PDP = ['humidity']\n",
    "features_PDP = [('humidity', 'Pecan')]\n",
    "\n",
    "PartialDependenceDisplay.from_estimator(rf_regressor, X, features_PDP, kind='average')\n",
    "plt.title('PDP for Humidity and Number of Pecan Trees')\n",
    "plt.show()"
   ]
  },
  {
   "cell_type": "code",
   "execution_count": 32,
   "id": "9d7b7ce53d79e196",
   "metadata": {
    "ExecuteTime": {
     "end_time": "2024-11-14T06:45:53.668908Z",
     "start_time": "2024-11-14T06:45:40.388592Z"
    },
    "collapsed": false
   },
   "outputs": [],
   "source": [
    "for f in features:\n",
    "    PartialDependenceDisplay.from_estimator(rf_regressor, X, [f], kind='average')\n",
    "    name = f.lower().replace(' ', '_')\n",
    "    title_case = f.replace('_', ' ').replace('PRCP', 'Precipitation').title()\n",
    "    plt.title(f'PDP for {title_case}')\n",
    "    plt.xlabel(title_case)\n",
    "    plt.savefig(f'./plots/pdp_{name}', dpi=300, bbox_inches='tight')\n",
    "    plt.close()"
   ]
  },
  {
   "cell_type": "markdown",
   "id": "e9b60dc82573b855",
   "metadata": {
    "collapsed": false
   },
   "source": [
    "## ICE"
   ]
  },
  {
   "cell_type": "code",
   "execution_count": 13,
   "id": "8c402032556ffdba",
   "metadata": {
    "ExecuteTime": {
     "end_time": "2024-11-13T04:22:58.832716Z",
     "start_time": "2024-11-13T04:18:36.465109Z"
    },
    "collapsed": false
   },
   "outputs": [
    {
     "data": {
      "image/png": "[encoded data removed]",
      "text/plain": [
       "<Figure size 640x480 with 2 Axes>"
      ]
     },
     "metadata": {},
     "output_type": "display_data"
    }
   ],
   "source": [
    "# Takes a long time to run\n",
    "PartialDependenceDisplay.from_estimator(rf_regressor, X, features_PDP, kind='both')\n",
    "plt.title('ICE plot')\n",
    "plt.show()"
   ]
  },
  {
   "cell_type": "markdown",
   "id": "c61681f73ee62710",
   "metadata": {
    "collapsed": false
   },
   "source": [
    "## ALE"
   ]
  },
  {
   "cell_type": "code",
   "execution_count": null,
   "id": "f4ff8f12f2e6c91c",
   "metadata": {
    "collapsed": false,
    "is_executing": true
   },
   "outputs": [],
   "source": [
    "from PyALE import ale\n",
    "\n",
    "ale_eff = ale(X=X, model=rf_regressor, feature=features_PDP, grid_size=50, include_CI=False)\n",
    "plt.title('ALE plot')\n",
    "plt.show()"
   ]
  },
  {
   "cell_type": "markdown",
   "id": "82fe6d24f92fd28a",
   "metadata": {
    "collapsed": false
   },
   "source": [
    "## SHAP"
   ]
  },
  {
   "cell_type": "code",
   "execution_count": 21,
   "id": "b13a9e4092ac9619",
   "metadata": {
    "ExecuteTime": {
     "end_time": "2024-11-14T06:39:08.836040Z",
     "start_time": "2024-11-14T06:08:07.138540Z"
    },
    "collapsed": false
   },
   "outputs": [],
   "source": [
    "import shap\n",
    "\n",
    "explainer = shap.TreeExplainer(rf_regressor)\n",
    "shap_values = explainer(X_train.sample(n=5000, random_state=42))"
   ]
  },
  {
   "cell_type": "code",
   "execution_count": 28,
   "id": "dd5d44c5e5120168",
   "metadata": {
    "ExecuteTime": {
     "end_time": "2024-11-14T06:41:18.815947Z",
     "start_time": "2024-11-14T06:41:17.582553Z"
    },
    "collapsed": false
   },
   "outputs": [],
   "source": [
    "plt.figure()\n",
    "shap.plots.waterfall(shap_values[2], show=False)\n",
    "plt.title('Shapley Value Waterfall Plot')\n",
    "plt.savefig('./plots/shap_waterfall.png', dpi=300, bbox_inches='tight')\n",
    "plt.show()"
   ]
  },
  {
   "cell_type": "code",
   "execution_count": 29,
   "id": "90580231fce9c8c4",
   "metadata": {
    "ExecuteTime": {
     "end_time": "2024-11-14T06:41:23.151567Z",
     "start_time": "2024-11-14T06:41:21.646596Z"
    },
    "collapsed": false
   },
   "outputs": [],
   "source": [
    "plt.figure()\n",
    "shap.plots.beeswarm(shap_values, show=False)\n",
    "plt.title('Shapley Value Beeswarm Plot')\n",
    "plt.savefig('./plots/shap_beeswarm.png', dpi=300, bbox_inches='tight')\n",
    "plt.show()"
   ]
  },
  {
   "cell_type": "code",
   "execution_count": null,
   "id": "19540eee41a069f3",
   "metadata": {
    "collapsed": false
   },
   "outputs": [],
   "source": []
  }
 ],
 "metadata": {
  "kernelspec": {
   "display_name": "Python 3 (ipykernel)",
   "language": "python",
   "name": "python3"
  },
  "language_info": {
   "codemirror_mode": {
    "name": "ipython",
    "version": 3
   },
   "file_extension": ".py",
   "mimetype": "text/x-python",
   "name": "python",
   "nbconvert_exporter": "python",
   "pygments_lexer": "ipython3",
   "version": "3.11.4"
  }
 },
 "nbformat": 4,
 "nbformat_minor": 5
}
