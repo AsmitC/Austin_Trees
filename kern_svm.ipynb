{
 "cells": [
  {
   "cell_type": "code",
   "execution_count": 2,
   "metadata": {},
   "outputs": [],
   "source": [
    "import pandas as pd\n",
    "import numpy as np\n",
    "from sklearn.model_selection import train_test_split\n",
    "from sklearn.svm import SVC\n",
    "from sklearn.metrics import accuracy_score"
   ]
  },
  {
   "cell_type": "markdown",
   "metadata": {},
   "source": [
    "Basic SVM Framework: Uses radial basis function (could also try sigmoid but that requires a lot more tuning)\n",
    "\n",
    "- Redid train and test splits by cluster proportion\n",
    "- Tuned for c and gamma values"
   ]
  },
  {
   "cell_type": "code",
   "execution_count": 4,
   "metadata": {},
   "outputs": [
    {
     "name": "stdout",
     "output_type": "stream",
     "text": [
      "Best params for SVM (RBF): {'C': 1, 'gamma': 0.001}\n",
      "Training Accuracy for SVM (RBF): 90.82%\n",
      "Validation Accuracy for SVM (RBF): 75.12%\n",
      "Test Accuracy for SVM (RBF): 74.63%\n"
     ]
    }
   ],
   "source": [
    "from sklearn.svm import SVC\n",
    "from sklearn.model_selection import StratifiedKFold, train_test_split, GridSearchCV\n",
    "from sklearn.metrics import accuracy_score\n",
    "import numpy as np\n",
    "import pandas as pd\n",
    "\n",
    "# Load data\n",
    "data = pd.read_csv('modeling_data.csv')\n",
    "X = data[['Total.SqFt', 'Category_encoded', 'Year.Built', 'kWh.sqft', 'lat', 'long', 'cluster']].copy()\n",
    "X['Building.Age'] = 2024 - X['Year.Built']\n",
    "X.drop(columns=['Year.Built'], inplace=True)\n",
    "X = X.to_numpy()\n",
    "y = data['BestTreeSpecies_encoded'].to_numpy()\n",
    "\n",
    "# Data splitting\n",
    "X_train, X_, y_train, y_ = train_test_split(X, y, test_size=0.3, stratify=y, random_state=42)\n",
    "X_val, X_test, y_val, y_test = train_test_split(X_, y_, test_size=0.5, stratify=y_, random_state=42)\n",
    "\n",
    "# Use stratified K-fold due to imbalance\n",
    "K = 3\n",
    "skf = StratifiedKFold(n_splits=K, shuffle=True, random_state=42)\n",
    "\n",
    "# SVM parameter grid\n",
    "param_grid = {\n",
    "    'C': [0.1, 1, 10, 100],\n",
    "    'gamma': [0.001, 0.01, 0.1, 1]\n",
    "}\n",
    "\n",
    "# Initialize SVM with RBF kernel\n",
    "svm_rbf = SVC(kernel='rbf', decision_function_shape='ovr', random_state=42)\n",
    "\n",
    "# Grid search\n",
    "grid_search_svm = GridSearchCV(svm_rbf, param_grid, cv=skf, scoring='accuracy')\n",
    "grid_search_svm.fit(X_train, y_train)\n",
    "print(f'Best params for SVM (RBF): {grid_search_svm.best_params_}')\n",
    "\n",
    "# Best model\n",
    "best_svm_rbf = grid_search_svm.best_estimator_\n",
    "\n",
    "# Evaluate on training, validation, and test sets\n",
    "accuracy_train = accuracy_score(y_train, best_svm_rbf.predict(X_train))\n",
    "accuracy_val = accuracy_score(y_val, best_svm_rbf.predict(X_val))\n",
    "accuracy_test = accuracy_score(y_test, best_svm_rbf.predict(X_test))\n",
    "\n",
    "print(f\"Training Accuracy for SVM (RBF): {accuracy_train * 100:.2f}%\")\n",
    "print(f\"Validation Accuracy for SVM (RBF): {accuracy_val * 100:.2f}%\")\n",
    "print(f\"Test Accuracy for SVM (RBF): {accuracy_test * 100:.2f}%\")\n"
   ]
  }
 ],
 "metadata": {
  "kernelspec": {
   "display_name": "venv",
   "language": "python",
   "name": "python3"
  },
  "language_info": {
   "codemirror_mode": {
    "name": "ipython",
    "version": 3
   },
   "file_extension": ".py",
   "mimetype": "text/x-python",
   "name": "python",
   "nbconvert_exporter": "python",
   "pygments_lexer": "ipython3",
   "version": "3.11.1"
  }
 },
 "nbformat": 4,
 "nbformat_minor": 2
}
